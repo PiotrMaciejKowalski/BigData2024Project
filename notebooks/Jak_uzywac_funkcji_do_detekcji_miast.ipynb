{
  "cells": [
    {
      "cell_type": "markdown",
      "metadata": {
        "id": "1AOX_UIJ-Lht"
      },
      "source": [
        "Dokument ma na celu wytłumaczenie na przykładzie w jaki sposób korzystać z funkcji ***add_city*** służącej do detekcji miast."
      ]
    },
    {
      "cell_type": "markdown",
      "metadata": {
        "id": "9ZRYrAgI-KkN"
      },
      "source": [
        "# Opis funkcji"
      ]
    },
    {
      "cell_type": "markdown",
      "metadata": {
        "id": "RWkKix6b-RNE"
      },
      "source": [
        "Funkcja ***add_city*** zwraca sparkowy DataFrame, w którym zostają dodane kolumny według przyznanych flag w parametrach funkcji.\n",
        "Jednym z parametrów funkcji jest *path*, jest to ścieżka do pliku .csv z lokalizacjami. Domyślnie ustawiona na plik w wspólnym katalogu projektu. \\\n",
        "Parametry:  \\\n",
        "***add_city_flag*** - Dodanie kolumny *City_flag* do DataFramu z wartościami logicznymi określającymi, czy dana lokalizacja odpowiada miastu, zgodnie z wczytanym plikiem. \\\n",
        "***add_city_name*** - Dodanie kolumny *City* do DataFramu z nazwą miasta. \\\n",
        "***add_state*** - Dodanie kolumny *State* do DataFramu z nazwą stanu. \\\n",
        "***add_country*** - Dodanie kolumny *Country* do DataFramu z nazwą kraju. \\\n",
        "Jeżeli brak informacji w wczytanym pliku z lokalizacjami, to wstawiana jest wartość NULL."
      ]
    },
    {
      "cell_type": "markdown",
      "metadata": {
        "id": "Ln_aY0CZ_A8N"
      },
      "source": [
        "# Przykład użycia"
      ]
    },
    {
      "cell_type": "markdown",
      "metadata": {
        "id": "l3tDwhkVIlC_"
      },
      "source": [
        "Przed użyciem funkcji konieczne jest utworzenie środowiska w sparku oraz połączenie z dyskiem google."
      ]
    },
    {
      "cell_type": "markdown",
      "metadata": {
        "id": "1NGtkrPR_KE8"
      },
      "source": [
        "## 1. Wczytanie danych w sparku"
      ]
    },
    {
      "cell_type": "markdown",
      "metadata": {
        "id": "Vt6L5ospI1A_"
      },
      "source": [
        "Utworzenie środowiska pyspark do obliczeń:"
      ]
    },
    {
      "cell_type": "code",
      "execution_count": 1,
      "metadata": {
        "id": "efQlo6myI0p3"
      },
      "outputs": [],
      "source": [
        "!apt-get install openjdk-8-jdk-headless -qq > /dev/null\n",
        "!wget -q dlcdn.apache.org/spark/spark-3.5.0/spark-3.5.0-bin-hadoop3.tgz\n",
        "!tar xf spark-3.5.0-bin-hadoop3.tgz\n",
        "!pip install -q findspark\n",
        "\n",
        "import os\n",
        "os.environ[\"JAVA_HOME\"] = \"/usr/lib/jvm/java-8-openjdk-amd64\"\n",
        "os.environ[\"SPARK_HOME\"] = \"/content/spark-3.5.0-bin-hadoop3\"\n",
        "\n",
        "import findspark\n",
        "findspark.init()"
      ]
    },
    {
      "cell_type": "code",
      "execution_count": 2,
      "metadata": {
        "id": "b0ONkfMq_JqV"
      },
      "outputs": [],
      "source": [
        "import pandas as pd\n",
        "from pyspark.sql import SparkSession\n",
        "from pyspark.sql.types import IntegerType, FloatType, StringType, StructType\n",
        "\n",
        "from google.colab import drive"
      ]
    },
    {
      "cell_type": "markdown",
      "metadata": {
        "id": "2W8Vl6OVI5Sn"
      },
      "source": [
        "Utowrzenie sesji:"
      ]
    },
    {
      "cell_type": "code",
      "execution_count": 3,
      "metadata": {
        "id": "8F1aknAcI4yY"
      },
      "outputs": [],
      "source": [
        "spark = SparkSession.builder\\\n",
        "        .master(\"local\")\\\n",
        "        .appName(\"Colab\")\\\n",
        "        .config('spark.ui.port', '4050')\\\n",
        "        .getOrCreate()"
      ]
    },
    {
      "cell_type": "markdown",
      "metadata": {
        "id": "tFB-jhGoI9Lx"
      },
      "source": [
        "Połączenie z dyskiem:"
      ]
    },
    {
      "cell_type": "code",
      "execution_count": 4,
      "metadata": {
        "colab": {
          "base_uri": "https://localhost:8080/"
        },
        "id": "z-mbq-Rb_F8U",
        "outputId": "fbe1db8b-71ea-4c3e-9a04-23695582d50c"
      },
      "outputs": [
        {
          "name": "stdout",
          "output_type": "stream",
          "text": [
            "Drive already mounted at /content/drive; to attempt to forcibly remount, call drive.mount(\"/content/drive\", force_remount=True).\n"
          ]
        }
      ],
      "source": [
        "drive.mount('/content/drive')"
      ]
    },
    {
      "cell_type": "markdown",
      "metadata": {
        "id": "zYw4vulVJEpv"
      },
      "source": [
        "Wczytanie danych NASA znajdujących się na dysku w sparku:"
      ]
    },
    {
      "cell_type": "code",
      "execution_count": 5,
      "metadata": {
        "id": "aiYlr0GjJCC2"
      },
      "outputs": [],
      "source": [
        "# Wczytanie zbioru sampled w celu pobrania nazw kolumn\n",
        "sampled = pd.read_csv('/content/drive/MyDrive/BigMess/NASA/sampled_NASA_200k.csv')\n",
        "\n",
        "# Utworzenie schematu określającego typ zmiennych\n",
        "schemat = StructType()\n",
        "for i in sampled.columns:\n",
        "  if i == \"Date\":\n",
        "    schemat = schemat.add(i, StringType(), True)\n",
        "  else:\n",
        "    schemat = schemat.add(i, FloatType(), True)"
      ]
    },
    {
      "cell_type": "code",
      "execution_count": 6,
      "metadata": {
        "colab": {
          "base_uri": "https://localhost:8080/"
        },
        "id": "6RcAN4TrJHrX",
        "outputId": "049eb80e-6424-491a-ae34-a0a923cf64ca"
      },
      "outputs": [
        {
          "name": "stdout",
          "output_type": "stream",
          "text": [
            "+---------+-------+------+---------+---------+---------+---------+---------+---------+----------+---+-----+-----+---------+---+----------+---+---------+---------+---+---------+--------+------------+-------------+--------------+---------------+------------+-------------+--------------+---------------+-------------+-------------+----------+------------+-------------+--------------+---------------+---------------+---------------+---------+----------+---------+----------+-------+------------+-----------+------------+----------+----------+----------+----------+---------+------------+---------+----------+----------+\n",
            "|      lon|    lat|  Date|   SWdown|   LWdown|    SWnet|    LWnet|      Qle|       Qh|        Qg| Qf|Snowf|Rainf|     Evap| Qs|       Qsb|Qsm| AvgSurfT|   Albedo|SWE|SnowDepth|SnowFrac|SoilT_0_10cm|SoilT_10_40cm|SoilT_40_100cm|SoilT_100_200cm|SoilM_0_10cm|SoilM_10_40cm|SoilM_40_100cm|SoilM_100_200cm|SoilM_0_100cm|SoilM_0_200cm| RootMoist|SMLiq_0_10cm|SMLiq_10_40cm|SMLiq_40_100cm|SMLiq_100_200cm|SMAvail_0_100cm|SMAvail_0_200cm|  PotEvap|    ECanop|     TVeg|     ESoil|SubSnow|    CanopInt|      ACond|       CCond|       RCS|       RCT|       RCQ|     RCSOL|    RSmin|      RSMacr|      LAI|      GVEG|Streamflow|\n",
            "+---------+-------+------+---------+---------+---------+---------+---------+---------+----------+---+-----+-----+---------+---+----------+---+---------+---------+---+---------+--------+------------+-------------+--------------+---------------+------------+-------------+--------------+---------------+-------------+-------------+----------+------------+-------------+--------------+---------------+---------------+---------------+---------+----------+---------+----------+-------+------------+-----------+------------+----------+----------+----------+----------+---------+------------+---------+----------+----------+\n",
            "|-112.0625|25.0625|200001|204.96333| 312.3388|142.34848|-79.38684|4.0884414|60.853363|-1.0944891|0.0|  0.0|  0.0|   4.3807|0.0|       0.0|0.0| 288.0707| 41.47715|0.0|      0.0|     0.0|   288.16504|    288.54617|     289.00714|      289.58118|    12.89713|    40.709217|      80.87555|      108.76931|    134.48306|    243.25247|  243.2525|   12.897395|     40.70972|      80.87607|      108.76945|      14.985342|      27.705273|139.13737| 1.0491934| 5.008604| 3.3424733|    0.0| 0.013812637|0.020544387|0.0018493001|0.29177997|0.92080206| 0.9198521|0.16886948|     70.0|  0.02467066|3.3421633|0.19712792|      NULL|\n",
            "|-111.9375|25.0625|200001|202.94218|306.12143|  140.832|-82.56643| 4.357929|56.398518|-1.5567192|0.0|  0.0|  0.0|4.6673994|0.0|       0.0|0.0|287.39276|41.509407|0.0|      0.0|     0.0|   287.54395|    288.12088|      288.8017|       289.7478|   11.615492|     40.14989|     78.334175|       90.67495|    130.09966|    220.77449| 220.77466|   11.615603|     40.15009|      78.33402|       90.67476|       11.97606|      25.147991|162.25638| 0.7321236| 4.863981| 2.4353497|    0.0| 0.009291933| 0.01856994|0.0013284235|0.29177707| 0.8985194|0.89268667| 0.1348082|     70.0| 0.016704414|3.2925992|0.19860405|      NULL|\n",
            "|-111.8125|25.0625|200001|203.27449| 303.2381|141.06544|-87.69759|5.4638424| 51.09166|-1.9299734|0.0|  0.0|  0.0|5.8487973|0.0|       0.0|0.0| 287.6554|41.505375|0.0|      0.0|     0.0|   287.84473|    288.59302|     289.55984|       291.0862|    9.950655|    33.016888|     60.982506|      161.94794|    103.95008|    265.89853| 103.95005|    9.950759|    33.017178|     60.982143|      161.94843|      10.250145|      30.286282|121.55404|0.26465052|5.9029574| 0.8350811|    0.0|0.0031448924|0.009581985|0.0015826927|0.28187105| 0.8914246| 0.9112068|0.11508878|     35.0| 0.007892415| 2.272067|0.17118543|      NULL|\n",
            "|-111.6875|25.0625|200001|204.13232|301.05048|141.65108|-89.49369|6.0123606| 49.63968|-2.0993278|0.0|  0.0|  0.0|6.4366016|0.0|       0.0|0.0| 287.5386|41.501343|0.0|      0.0|     0.0|   287.75275|    288.58203|     289.61142|      291.25577|    9.597857|    33.778393|     62.656994|      163.44402|    106.03301|    269.47733|106.032845|    9.597921|    33.778442|      62.65654|      163.44409|      10.808873|      30.691833|127.63407|0.22688179|6.3983865|0.70120984|    0.0|0.0025833342|0.009341394|0.0016092625|0.28229982| 0.8899329|  0.887931|0.12143098|     35.0|0.0064906063| 2.272067|0.17118543|      NULL|\n",
            "|-111.5625|25.0625|200001|205.44482| 299.2597|142.54315|-89.47336| 3.222715|53.475708| -2.327957|0.0|  0.0|  0.0|3.4506986|0.0|0.14880137|0.0| 287.2394|41.509407|0.0|      0.0|     0.0|   287.46533|    288.33078|      289.2371|       290.5583|    9.848745|     49.15142|    102.429855|      187.07886|    161.43011|    348.50867| 161.43001|    9.848877|    49.151302|     102.43015|      187.07864|      25.649096|      39.697018|179.37668|0.22432795|3.3587356| 1.1965054|    0.0| 0.002467338|0.014541673|9.7257685E-4| 0.2501108|0.88808286| 0.8399929| 0.2850619|225.00002|0.0077566737| 4.485856| 0.1429876|      NULL|\n",
            "+---------+-------+------+---------+---------+---------+---------+---------+---------+----------+---+-----+-----+---------+---+----------+---+---------+---------+---+---------+--------+------------+-------------+--------------+---------------+------------+-------------+--------------+---------------+-------------+-------------+----------+------------+-------------+--------------+---------------+---------------+---------------+---------+----------+---------+----------+-------+------------+-----------+------------+----------+----------+----------+----------+---------+------------+---------+----------+----------+\n",
            "only showing top 5 rows\n",
            "\n"
          ]
        }
      ],
      "source": [
        "nasa = spark.read.format('csv').option(\"header\", True).schema(schemat).load('/content/drive/MyDrive/BigMess/NASA/NASA.csv')\n",
        "nasa.show(5)"
      ]
    },
    {
      "cell_type": "markdown",
      "metadata": {
        "id": "-t4yvSWtJKOv"
      },
      "source": [
        "## 2. Użycie funkcji"
      ]
    },
    {
      "cell_type": "markdown",
      "metadata": {
        "id": "gXZijMVNgfrF"
      },
      "source": [
        "W tym przykładzie funkcja zostanie zaimportowana z katalogu na dysku. Jednak po dodaniu pliku do głównej gałęzi na GitHubie będzie można ją pobierać\n",
        "stamtąd bezpośrednio."
      ]
    },
    {
      "cell_type": "code",
      "execution_count": 7,
      "metadata": {
        "id": "JbKIXj8-8nvc"
      },
      "outputs": [],
      "source": [
        "import sys\n",
        "sys.path.insert(0,\"/content/drive/MyDrive/Colab Notebooks/Analiza BIG DATA/Sprint 1\")"
      ]
    },
    {
      "cell_type": "code",
      "execution_count": 8,
      "metadata": {
        "id": "TuQz3XIH8o7U"
      },
      "outputs": [],
      "source": [
        "import city_detector"
      ]
    },
    {
      "cell_type": "markdown",
      "metadata": {
        "id": "qr_gLkq1XBuD"
      },
      "source": [
        "Dodamy wszystkie możliwe kolumny."
      ]
    },
    {
      "cell_type": "code",
      "execution_count": 9,
      "metadata": {
        "id": "aIecZ1NhXPfG"
      },
      "outputs": [],
      "source": [
        "nasa=city_detector.add_city(nasa, add_city_name=True,add_state=True, add_country=True)"
      ]
    },
    {
      "cell_type": "code",
      "execution_count": 10,
      "metadata": {
        "colab": {
          "base_uri": "https://localhost:8080/"
        },
        "id": "gjfDyRrChfl-",
        "outputId": "463bdc3d-86df-42a2-ad4c-ebbc1d44eab5"
      },
      "outputs": [
        {
          "data": {
            "text/plain": [
              "DataFrame[lon: float, lat: float, Date: string, SWdown: float, LWdown: float, SWnet: float, LWnet: float, Qle: float, Qh: float, Qg: float, Qf: float, Snowf: float, Rainf: float, Evap: float, Qs: float, Qsb: float, Qsm: float, AvgSurfT: float, Albedo: float, SWE: float, SnowDepth: float, SnowFrac: float, SoilT_0_10cm: float, SoilT_10_40cm: float, SoilT_40_100cm: float, SoilT_100_200cm: float, SoilM_0_10cm: float, SoilM_10_40cm: float, SoilM_40_100cm: float, SoilM_100_200cm: float, SoilM_0_100cm: float, SoilM_0_200cm: float, RootMoist: float, SMLiq_0_10cm: float, SMLiq_10_40cm: float, SMLiq_40_100cm: float, SMLiq_100_200cm: float, SMAvail_0_100cm: float, SMAvail_0_200cm: float, PotEvap: float, ECanop: float, TVeg: float, ESoil: float, SubSnow: float, CanopInt: float, ACond: float, CCond: float, RCS: float, RCT: float, RCQ: float, RCSOL: float, RSmin: float, RSMacr: float, LAI: float, GVEG: float, Streamflow: float, City_flag: boolean, City: string, State: string, Country: string]"
            ]
          },
          "execution_count": 10,
          "metadata": {},
          "output_type": "execute_result"
        }
      ],
      "source": [
        "nasa"
      ]
    },
    {
      "cell_type": "markdown",
      "metadata": {
        "id": "eoLH-LiMhi8X"
      },
      "source": [
        "W obiekcie nasa widzimy dodanie nowych kolumn."
      ]
    },
    {
      "cell_type": "code",
      "execution_count": 11,
      "metadata": {
        "colab": {
          "base_uri": "https://localhost:8080/"
        },
        "id": "H12qGdhKlTLl",
        "outputId": "ad0feb42-b1e0-42d5-932f-1e172531907c"
      },
      "outputs": [
        {
          "name": "stdout",
          "output_type": "stream",
          "text": [
            "+---------+-------+------+---------+---------+---------+---------+---------+---------+----------+---+-----+-----+---------+---+---+---+---------+---------+---+---------+--------+------------+-------------+--------------+---------------+------------+-------------+--------------+---------------+-------------+-------------+----------+------------+-------------+--------------+---------------+---------------+---------------+---------+----------+---------+----------+-------+------------+-----------+------------+----------+----------+----------+----------+-----+------------+---------+----------+----------+---------+-------------------+-------------------+-------+\n",
            "|      lon|    lat|  Date|   SWdown|   LWdown|    SWnet|    LWnet|      Qle|       Qh|        Qg| Qf|Snowf|Rainf|     Evap| Qs|Qsb|Qsm| AvgSurfT|   Albedo|SWE|SnowDepth|SnowFrac|SoilT_0_10cm|SoilT_10_40cm|SoilT_40_100cm|SoilT_100_200cm|SoilM_0_10cm|SoilM_10_40cm|SoilM_40_100cm|SoilM_100_200cm|SoilM_0_100cm|SoilM_0_200cm| RootMoist|SMLiq_0_10cm|SMLiq_10_40cm|SMLiq_40_100cm|SMLiq_100_200cm|SMAvail_0_100cm|SMAvail_0_200cm|  PotEvap|    ECanop|     TVeg|     ESoil|SubSnow|    CanopInt|      ACond|       CCond|       RCS|       RCT|       RCQ|     RCSOL|RSmin|      RSMacr|      LAI|      GVEG|Streamflow|City_flag|               City|              State|Country|\n",
            "+---------+-------+------+---------+---------+---------+---------+---------+---------+----------+---+-----+-----+---------+---+---+---+---------+---------+---+---------+--------+------------+-------------+--------------+---------------+------------+-------------+--------------+---------------+-------------+-------------+----------+------------+-------------+--------------+---------------+---------------+---------------+---------+----------+---------+----------+-------+------------+-----------+------------+----------+----------+----------+----------+-----+------------+---------+----------+----------+---------+-------------------+-------------------+-------+\n",
            "|-111.9375|25.0625|200001|202.94218|306.12143|  140.832|-82.56643| 4.357929|56.398518|-1.5567192|0.0|  0.0|  0.0|4.6673994|0.0|0.0|0.0|287.39276|41.509407|0.0|      0.0|     0.0|   287.54395|    288.12088|      288.8017|       289.7478|   11.615492|     40.14989|     78.334175|       90.67495|    130.09966|    220.77449| 220.77466|   11.615603|     40.15009|      78.33402|       90.67476|       11.97606|      25.147991|162.25638| 0.7321236| 4.863981| 2.4353497|    0.0| 0.009291933| 0.01856994|0.0013284235|0.29177707| 0.8985194|0.89268667| 0.1348082| 70.0| 0.016704414|3.2925992|0.19860405|      NULL|    false|               NULL|Baja California Sur| México|\n",
            "|-111.6875|25.0625|200001|204.13232|301.05048|141.65108|-89.49369|6.0123606| 49.63968|-2.0993278|0.0|  0.0|  0.0|6.4366016|0.0|0.0|0.0| 287.5386|41.501343|0.0|      0.0|     0.0|   287.75275|    288.58203|     289.61142|      291.25577|    9.597857|    33.778393|     62.656994|      163.44402|    106.03301|    269.47733|106.032845|    9.597921|    33.778442|      62.65654|      163.44409|      10.808873|      30.691833|127.63407|0.22688179|6.3983865|0.70120984|    0.0|0.0025833342|0.009341394|0.0016092625|0.28229982| 0.8899329|  0.887931|0.12143098| 35.0|0.0064906063| 2.272067|0.17118543|      NULL|     true|Ciudad Constitución|Baja California Sur| México|\n",
            "|-112.0625|25.0625|200001|204.96333| 312.3388|142.34848|-79.38684|4.0884414|60.853363|-1.0944891|0.0|  0.0|  0.0|   4.3807|0.0|0.0|0.0| 288.0707| 41.47715|0.0|      0.0|     0.0|   288.16504|    288.54617|     289.00714|      289.58118|    12.89713|    40.709217|      80.87555|      108.76931|    134.48306|    243.25247|  243.2525|   12.897395|     40.70972|      80.87607|      108.76945|      14.985342|      27.705273|139.13737| 1.0491934| 5.008604| 3.3424733|    0.0| 0.013812637|0.020544387|0.0018493001|0.29177997|0.92080206| 0.9198521|0.16886948| 70.0|  0.02467066|3.3421633|0.19712792|      NULL|    false|               NULL|Baja California Sur| México|\n",
            "|-111.8125|25.0625|200001|203.27449| 303.2381|141.06544|-87.69759|5.4638424| 51.09166|-1.9299734|0.0|  0.0|  0.0|5.8487973|0.0|0.0|0.0| 287.6554|41.505375|0.0|      0.0|     0.0|   287.84473|    288.59302|     289.55984|       291.0862|    9.950655|    33.016888|     60.982506|      161.94794|    103.95008|    265.89853| 103.95005|    9.950759|    33.017178|     60.982143|      161.94843|      10.250145|      30.286282|121.55404|0.26465052|5.9029574| 0.8350811|    0.0|0.0031448924|0.009581985|0.0015826927|0.28187105| 0.8914246| 0.9112068|0.11508878| 35.0| 0.007892415| 2.272067|0.17118543|      NULL|     true|Ciudad Constitución|Baja California Sur| México|\n",
            "+---------+-------+------+---------+---------+---------+---------+---------+---------+----------+---+-----+-----+---------+---+---+---+---------+---------+---+---------+--------+------------+-------------+--------------+---------------+------------+-------------+--------------+---------------+-------------+-------------+----------+------------+-------------+--------------+---------------+---------------+---------------+---------+----------+---------+----------+-------+------------+-----------+------------+----------+----------+----------+----------+-----+------------+---------+----------+----------+---------+-------------------+-------------------+-------+\n",
            "only showing top 4 rows\n",
            "\n"
          ]
        }
      ],
      "source": [
        "nasa.show(4)"
      ]
    },
    {
      "cell_type": "markdown",
      "metadata": {
        "id": "L08UWr6KrWR6"
      },
      "source": [
        "Przykładowe wyniki."
      ]
    },
    {
      "cell_type": "code",
      "execution_count": 12,
      "metadata": {
        "colab": {
          "base_uri": "https://localhost:8080/",
          "height": 363
        },
        "id": "EXWsYbpDj8Un",
        "outputId": "a384768a-73a5-4e17-e665-6ecacf9362f5"
      },
      "outputs": [
        {
          "data": {
            "text/html": [
              "\n",
              "  <div id=\"df-d8ed80ab-4563-4bb3-be8b-e699a74ef126\" class=\"colab-df-container\">\n",
              "    <div>\n",
              "<style scoped>\n",
              "    .dataframe tbody tr th:only-of-type {\n",
              "        vertical-align: middle;\n",
              "    }\n",
              "\n",
              "    .dataframe tbody tr th {\n",
              "        vertical-align: top;\n",
              "    }\n",
              "\n",
              "    .dataframe thead th {\n",
              "        text-align: right;\n",
              "    }\n",
              "</style>\n",
              "<table border=\"1\" class=\"dataframe\">\n",
              "  <thead>\n",
              "    <tr style=\"text-align: right;\">\n",
              "      <th></th>\n",
              "      <th>lon</th>\n",
              "      <th>lat</th>\n",
              "      <th>City_flag</th>\n",
              "      <th>City</th>\n",
              "      <th>City_flag</th>\n",
              "      <th>State</th>\n",
              "      <th>Country</th>\n",
              "    </tr>\n",
              "  </thead>\n",
              "  <tbody>\n",
              "    <tr>\n",
              "      <th>0</th>\n",
              "      <td>-97.9375</td>\n",
              "      <td>25.5625</td>\n",
              "      <td>False</td>\n",
              "      <td>None</td>\n",
              "      <td>False</td>\n",
              "      <td>Tamaulipas</td>\n",
              "      <td>México</td>\n",
              "    </tr>\n",
              "    <tr>\n",
              "      <th>1</th>\n",
              "      <td>-108.6875</td>\n",
              "      <td>25.6875</td>\n",
              "      <td>False</td>\n",
              "      <td>None</td>\n",
              "      <td>False</td>\n",
              "      <td>Sinaloa</td>\n",
              "      <td>México</td>\n",
              "    </tr>\n",
              "    <tr>\n",
              "      <th>2</th>\n",
              "      <td>-99.4375</td>\n",
              "      <td>25.6875</td>\n",
              "      <td>False</td>\n",
              "      <td>None</td>\n",
              "      <td>False</td>\n",
              "      <td>Nuevo León</td>\n",
              "      <td>México</td>\n",
              "    </tr>\n",
              "    <tr>\n",
              "      <th>3</th>\n",
              "      <td>-98.3125</td>\n",
              "      <td>25.9375</td>\n",
              "      <td>False</td>\n",
              "      <td>None</td>\n",
              "      <td>False</td>\n",
              "      <td>Tamaulipas</td>\n",
              "      <td>México</td>\n",
              "    </tr>\n",
              "    <tr>\n",
              "      <th>4</th>\n",
              "      <td>-98.0625</td>\n",
              "      <td>25.9375</td>\n",
              "      <td>False</td>\n",
              "      <td>None</td>\n",
              "      <td>False</td>\n",
              "      <td>Tamaulipas</td>\n",
              "      <td>México</td>\n",
              "    </tr>\n",
              "    <tr>\n",
              "      <th>5</th>\n",
              "      <td>-100.0625</td>\n",
              "      <td>26.1875</td>\n",
              "      <td>False</td>\n",
              "      <td>None</td>\n",
              "      <td>False</td>\n",
              "      <td>Nuevo León</td>\n",
              "      <td>México</td>\n",
              "    </tr>\n",
              "    <tr>\n",
              "      <th>6</th>\n",
              "      <td>-100.6875</td>\n",
              "      <td>26.4375</td>\n",
              "      <td>False</td>\n",
              "      <td>None</td>\n",
              "      <td>False</td>\n",
              "      <td>Nuevo León</td>\n",
              "      <td>México</td>\n",
              "    </tr>\n",
              "    <tr>\n",
              "      <th>7</th>\n",
              "      <td>-100.1875</td>\n",
              "      <td>26.6875</td>\n",
              "      <td>False</td>\n",
              "      <td>None</td>\n",
              "      <td>False</td>\n",
              "      <td>Nuevo León</td>\n",
              "      <td>México</td>\n",
              "    </tr>\n",
              "    <tr>\n",
              "      <th>8</th>\n",
              "      <td>-109.0625</td>\n",
              "      <td>26.8125</td>\n",
              "      <td>False</td>\n",
              "      <td>None</td>\n",
              "      <td>False</td>\n",
              "      <td>Sonora</td>\n",
              "      <td>México</td>\n",
              "    </tr>\n",
              "    <tr>\n",
              "      <th>9</th>\n",
              "      <td>-99.4375</td>\n",
              "      <td>27.1875</td>\n",
              "      <td>False</td>\n",
              "      <td>None</td>\n",
              "      <td>False</td>\n",
              "      <td>Tamaulipas</td>\n",
              "      <td>México</td>\n",
              "    </tr>\n",
              "  </tbody>\n",
              "</table>\n",
              "</div>\n",
              "    <div class=\"colab-df-buttons\">\n",
              "\n",
              "  <div class=\"colab-df-container\">\n",
              "    <button class=\"colab-df-convert\" onclick=\"convertToInteractive('df-d8ed80ab-4563-4bb3-be8b-e699a74ef126')\"\n",
              "            title=\"Convert this dataframe to an interactive table.\"\n",
              "            style=\"display:none;\">\n",
              "\n",
              "  <svg xmlns=\"http://www.w3.org/2000/svg\" height=\"24px\" viewBox=\"0 -960 960 960\">\n",
              "    <path d=\"M120-120v-720h720v720H120Zm60-500h600v-160H180v160Zm220 220h160v-160H400v160Zm0 220h160v-160H400v160ZM180-400h160v-160H180v160Zm440 0h160v-160H620v160ZM180-180h160v-160H180v160Zm440 0h160v-160H620v160Z\"/>\n",
              "  </svg>\n",
              "    </button>\n",
              "\n",
              "  <style>\n",
              "    .colab-df-container {\n",
              "      display:flex;\n",
              "      gap: 12px;\n",
              "    }\n",
              "\n",
              "    .colab-df-convert {\n",
              "      background-color: #E8F0FE;\n",
              "      border: none;\n",
              "      border-radius: 50%;\n",
              "      cursor: pointer;\n",
              "      display: none;\n",
              "      fill: #1967D2;\n",
              "      height: 32px;\n",
              "      padding: 0 0 0 0;\n",
              "      width: 32px;\n",
              "    }\n",
              "\n",
              "    .colab-df-convert:hover {\n",
              "      background-color: #E2EBFA;\n",
              "      box-shadow: 0px 1px 2px rgba(60, 64, 67, 0.3), 0px 1px 3px 1px rgba(60, 64, 67, 0.15);\n",
              "      fill: #174EA6;\n",
              "    }\n",
              "\n",
              "    .colab-df-buttons div {\n",
              "      margin-bottom: 4px;\n",
              "    }\n",
              "\n",
              "    [theme=dark] .colab-df-convert {\n",
              "      background-color: #3B4455;\n",
              "      fill: #D2E3FC;\n",
              "    }\n",
              "\n",
              "    [theme=dark] .colab-df-convert:hover {\n",
              "      background-color: #434B5C;\n",
              "      box-shadow: 0px 1px 3px 1px rgba(0, 0, 0, 0.15);\n",
              "      filter: drop-shadow(0px 1px 2px rgba(0, 0, 0, 0.3));\n",
              "      fill: #FFFFFF;\n",
              "    }\n",
              "  </style>\n",
              "\n",
              "    <script>\n",
              "      const buttonEl =\n",
              "        document.querySelector('#df-d8ed80ab-4563-4bb3-be8b-e699a74ef126 button.colab-df-convert');\n",
              "      buttonEl.style.display =\n",
              "        google.colab.kernel.accessAllowed ? 'block' : 'none';\n",
              "\n",
              "      async function convertToInteractive(key) {\n",
              "        const element = document.querySelector('#df-d8ed80ab-4563-4bb3-be8b-e699a74ef126');\n",
              "        const dataTable =\n",
              "          await google.colab.kernel.invokeFunction('convertToInteractive',\n",
              "                                                    [key], {});\n",
              "        if (!dataTable) return;\n",
              "\n",
              "        const docLinkHtml = 'Like what you see? Visit the ' +\n",
              "          '<a target=\"_blank\" href=https://colab.research.google.com/notebooks/data_table.ipynb>data table notebook</a>'\n",
              "          + ' to learn more about interactive tables.';\n",
              "        element.innerHTML = '';\n",
              "        dataTable['output_type'] = 'display_data';\n",
              "        await google.colab.output.renderOutput(dataTable, element);\n",
              "        const docLink = document.createElement('div');\n",
              "        docLink.innerHTML = docLinkHtml;\n",
              "        element.appendChild(docLink);\n",
              "      }\n",
              "    </script>\n",
              "  </div>\n",
              "\n",
              "\n",
              "<div id=\"df-c96b1792-4fc9-4882-ad3b-ccc1ed4dbf44\">\n",
              "  <button class=\"colab-df-quickchart\" onclick=\"quickchart('df-c96b1792-4fc9-4882-ad3b-ccc1ed4dbf44')\"\n",
              "            title=\"Suggest charts\"\n",
              "            style=\"display:none;\">\n",
              "\n",
              "<svg xmlns=\"http://www.w3.org/2000/svg\" height=\"24px\"viewBox=\"0 0 24 24\"\n",
              "     width=\"24px\">\n",
              "    <g>\n",
              "        <path d=\"M19 3H5c-1.1 0-2 .9-2 2v14c0 1.1.9 2 2 2h14c1.1 0 2-.9 2-2V5c0-1.1-.9-2-2-2zM9 17H7v-7h2v7zm4 0h-2V7h2v10zm4 0h-2v-4h2v4z\"/>\n",
              "    </g>\n",
              "</svg>\n",
              "  </button>\n",
              "\n",
              "<style>\n",
              "  .colab-df-quickchart {\n",
              "      --bg-color: #E8F0FE;\n",
              "      --fill-color: #1967D2;\n",
              "      --hover-bg-color: #E2EBFA;\n",
              "      --hover-fill-color: #174EA6;\n",
              "      --disabled-fill-color: #AAA;\n",
              "      --disabled-bg-color: #DDD;\n",
              "  }\n",
              "\n",
              "  [theme=dark] .colab-df-quickchart {\n",
              "      --bg-color: #3B4455;\n",
              "      --fill-color: #D2E3FC;\n",
              "      --hover-bg-color: #434B5C;\n",
              "      --hover-fill-color: #FFFFFF;\n",
              "      --disabled-bg-color: #3B4455;\n",
              "      --disabled-fill-color: #666;\n",
              "  }\n",
              "\n",
              "  .colab-df-quickchart {\n",
              "    background-color: var(--bg-color);\n",
              "    border: none;\n",
              "    border-radius: 50%;\n",
              "    cursor: pointer;\n",
              "    display: none;\n",
              "    fill: var(--fill-color);\n",
              "    height: 32px;\n",
              "    padding: 0;\n",
              "    width: 32px;\n",
              "  }\n",
              "\n",
              "  .colab-df-quickchart:hover {\n",
              "    background-color: var(--hover-bg-color);\n",
              "    box-shadow: 0 1px 2px rgba(60, 64, 67, 0.3), 0 1px 3px 1px rgba(60, 64, 67, 0.15);\n",
              "    fill: var(--button-hover-fill-color);\n",
              "  }\n",
              "\n",
              "  .colab-df-quickchart-complete:disabled,\n",
              "  .colab-df-quickchart-complete:disabled:hover {\n",
              "    background-color: var(--disabled-bg-color);\n",
              "    fill: var(--disabled-fill-color);\n",
              "    box-shadow: none;\n",
              "  }\n",
              "\n",
              "  .colab-df-spinner {\n",
              "    border: 2px solid var(--fill-color);\n",
              "    border-color: transparent;\n",
              "    border-bottom-color: var(--fill-color);\n",
              "    animation:\n",
              "      spin 1s steps(1) infinite;\n",
              "  }\n",
              "\n",
              "  @keyframes spin {\n",
              "    0% {\n",
              "      border-color: transparent;\n",
              "      border-bottom-color: var(--fill-color);\n",
              "      border-left-color: var(--fill-color);\n",
              "    }\n",
              "    20% {\n",
              "      border-color: transparent;\n",
              "      border-left-color: var(--fill-color);\n",
              "      border-top-color: var(--fill-color);\n",
              "    }\n",
              "    30% {\n",
              "      border-color: transparent;\n",
              "      border-left-color: var(--fill-color);\n",
              "      border-top-color: var(--fill-color);\n",
              "      border-right-color: var(--fill-color);\n",
              "    }\n",
              "    40% {\n",
              "      border-color: transparent;\n",
              "      border-right-color: var(--fill-color);\n",
              "      border-top-color: var(--fill-color);\n",
              "    }\n",
              "    60% {\n",
              "      border-color: transparent;\n",
              "      border-right-color: var(--fill-color);\n",
              "    }\n",
              "    80% {\n",
              "      border-color: transparent;\n",
              "      border-right-color: var(--fill-color);\n",
              "      border-bottom-color: var(--fill-color);\n",
              "    }\n",
              "    90% {\n",
              "      border-color: transparent;\n",
              "      border-bottom-color: var(--fill-color);\n",
              "    }\n",
              "  }\n",
              "</style>\n",
              "\n",
              "  <script>\n",
              "    async function quickchart(key) {\n",
              "      const quickchartButtonEl =\n",
              "        document.querySelector('#' + key + ' button');\n",
              "      quickchartButtonEl.disabled = true;  // To prevent multiple clicks.\n",
              "      quickchartButtonEl.classList.add('colab-df-spinner');\n",
              "      try {\n",
              "        const charts = await google.colab.kernel.invokeFunction(\n",
              "            'suggestCharts', [key], {});\n",
              "      } catch (error) {\n",
              "        console.error('Error during call to suggestCharts:', error);\n",
              "      }\n",
              "      quickchartButtonEl.classList.remove('colab-df-spinner');\n",
              "      quickchartButtonEl.classList.add('colab-df-quickchart-complete');\n",
              "    }\n",
              "    (() => {\n",
              "      let quickchartButtonEl =\n",
              "        document.querySelector('#df-c96b1792-4fc9-4882-ad3b-ccc1ed4dbf44 button');\n",
              "      quickchartButtonEl.style.display =\n",
              "        google.colab.kernel.accessAllowed ? 'block' : 'none';\n",
              "    })();\n",
              "  </script>\n",
              "</div>\n",
              "    </div>\n",
              "  </div>\n"
            ],
            "text/plain": [
              "        lon      lat  City_flag  City  City_flag       State Country\n",
              "0  -97.9375  25.5625      False  None      False  Tamaulipas  México\n",
              "1 -108.6875  25.6875      False  None      False     Sinaloa  México\n",
              "2  -99.4375  25.6875      False  None      False  Nuevo León  México\n",
              "3  -98.3125  25.9375      False  None      False  Tamaulipas  México\n",
              "4  -98.0625  25.9375      False  None      False  Tamaulipas  México\n",
              "5 -100.0625  26.1875      False  None      False  Nuevo León  México\n",
              "6 -100.6875  26.4375      False  None      False  Nuevo León  México\n",
              "7 -100.1875  26.6875      False  None      False  Nuevo León  México\n",
              "8 -109.0625  26.8125      False  None      False      Sonora  México\n",
              "9  -99.4375  27.1875      False  None      False  Tamaulipas  México"
            ]
          },
          "execution_count": 12,
          "metadata": {},
          "output_type": "execute_result"
        }
      ],
      "source": [
        "nasa.select('lon','lat','City_flag','City','City_flag','State','Country').limit(10).toPandas()"
      ]
    },
    {
      "cell_type": "code",
      "execution_count": 13,
      "metadata": {
        "colab": {
          "base_uri": "https://localhost:8080/",
          "height": 363
        },
        "id": "YG1PRHU1p3Of",
        "outputId": "83a8404b-df29-4dde-e04d-69121e59e080"
      },
      "outputs": [
        {
          "data": {
            "text/html": [
              "\n",
              "  <div id=\"df-12ff214f-eb15-436b-a66f-e759a1fa496a\" class=\"colab-df-container\">\n",
              "    <div>\n",
              "<style scoped>\n",
              "    .dataframe tbody tr th:only-of-type {\n",
              "        vertical-align: middle;\n",
              "    }\n",
              "\n",
              "    .dataframe tbody tr th {\n",
              "        vertical-align: top;\n",
              "    }\n",
              "\n",
              "    .dataframe thead th {\n",
              "        text-align: right;\n",
              "    }\n",
              "</style>\n",
              "<table border=\"1\" class=\"dataframe\">\n",
              "  <thead>\n",
              "    <tr style=\"text-align: right;\">\n",
              "      <th></th>\n",
              "      <th>lon</th>\n",
              "      <th>lat</th>\n",
              "      <th>City_flag</th>\n",
              "      <th>City</th>\n",
              "      <th>City_flag</th>\n",
              "      <th>State</th>\n",
              "      <th>Country</th>\n",
              "    </tr>\n",
              "  </thead>\n",
              "  <tbody>\n",
              "    <tr>\n",
              "      <th>0</th>\n",
              "      <td>-87.5625</td>\n",
              "      <td>33.1875</td>\n",
              "      <td>True</td>\n",
              "      <td>Tuscaloosa</td>\n",
              "      <td>True</td>\n",
              "      <td>Alabama</td>\n",
              "      <td>United States</td>\n",
              "    </tr>\n",
              "    <tr>\n",
              "      <th>1</th>\n",
              "      <td>-112.1875</td>\n",
              "      <td>33.6875</td>\n",
              "      <td>True</td>\n",
              "      <td>Glendale</td>\n",
              "      <td>True</td>\n",
              "      <td>Arizona</td>\n",
              "      <td>United States</td>\n",
              "    </tr>\n",
              "    <tr>\n",
              "      <th>2</th>\n",
              "      <td>-78.5625</td>\n",
              "      <td>35.8125</td>\n",
              "      <td>True</td>\n",
              "      <td>Raleigh</td>\n",
              "      <td>True</td>\n",
              "      <td>North Carolina</td>\n",
              "      <td>United States</td>\n",
              "    </tr>\n",
              "    <tr>\n",
              "      <th>3</th>\n",
              "      <td>-87.6875</td>\n",
              "      <td>37.1875</td>\n",
              "      <td>True</td>\n",
              "      <td>Dawson Springs</td>\n",
              "      <td>True</td>\n",
              "      <td>Kentucky</td>\n",
              "      <td>United States</td>\n",
              "    </tr>\n",
              "    <tr>\n",
              "      <th>4</th>\n",
              "      <td>-85.8125</td>\n",
              "      <td>38.0625</td>\n",
              "      <td>True</td>\n",
              "      <td>Louisville</td>\n",
              "      <td>True</td>\n",
              "      <td>Kentucky</td>\n",
              "      <td>United States</td>\n",
              "    </tr>\n",
              "    <tr>\n",
              "      <th>5</th>\n",
              "      <td>-78.9375</td>\n",
              "      <td>40.0625</td>\n",
              "      <td>True</td>\n",
              "      <td>Stonycreek Township</td>\n",
              "      <td>True</td>\n",
              "      <td>Pennsylvania</td>\n",
              "      <td>United States</td>\n",
              "    </tr>\n",
              "    <tr>\n",
              "      <th>6</th>\n",
              "      <td>-75.3125</td>\n",
              "      <td>40.0625</td>\n",
              "      <td>True</td>\n",
              "      <td>Lower Merion Township</td>\n",
              "      <td>True</td>\n",
              "      <td>Pennsylvania</td>\n",
              "      <td>United States</td>\n",
              "    </tr>\n",
              "    <tr>\n",
              "      <th>7</th>\n",
              "      <td>-77.9375</td>\n",
              "      <td>40.4375</td>\n",
              "      <td>True</td>\n",
              "      <td>Henderson Township</td>\n",
              "      <td>True</td>\n",
              "      <td>Pennsylvania</td>\n",
              "      <td>United States</td>\n",
              "    </tr>\n",
              "    <tr>\n",
              "      <th>8</th>\n",
              "      <td>-78.4375</td>\n",
              "      <td>40.8125</td>\n",
              "      <td>True</td>\n",
              "      <td>Bigler Township</td>\n",
              "      <td>True</td>\n",
              "      <td>Pennsylvania</td>\n",
              "      <td>United States</td>\n",
              "    </tr>\n",
              "    <tr>\n",
              "      <th>9</th>\n",
              "      <td>-78.8125</td>\n",
              "      <td>41.1875</td>\n",
              "      <td>True</td>\n",
              "      <td>Washington Township</td>\n",
              "      <td>True</td>\n",
              "      <td>Pennsylvania</td>\n",
              "      <td>United States</td>\n",
              "    </tr>\n",
              "  </tbody>\n",
              "</table>\n",
              "</div>\n",
              "    <div class=\"colab-df-buttons\">\n",
              "\n",
              "  <div class=\"colab-df-container\">\n",
              "    <button class=\"colab-df-convert\" onclick=\"convertToInteractive('df-12ff214f-eb15-436b-a66f-e759a1fa496a')\"\n",
              "            title=\"Convert this dataframe to an interactive table.\"\n",
              "            style=\"display:none;\">\n",
              "\n",
              "  <svg xmlns=\"http://www.w3.org/2000/svg\" height=\"24px\" viewBox=\"0 -960 960 960\">\n",
              "    <path d=\"M120-120v-720h720v720H120Zm60-500h600v-160H180v160Zm220 220h160v-160H400v160Zm0 220h160v-160H400v160ZM180-400h160v-160H180v160Zm440 0h160v-160H620v160ZM180-180h160v-160H180v160Zm440 0h160v-160H620v160Z\"/>\n",
              "  </svg>\n",
              "    </button>\n",
              "\n",
              "  <style>\n",
              "    .colab-df-container {\n",
              "      display:flex;\n",
              "      gap: 12px;\n",
              "    }\n",
              "\n",
              "    .colab-df-convert {\n",
              "      background-color: #E8F0FE;\n",
              "      border: none;\n",
              "      border-radius: 50%;\n",
              "      cursor: pointer;\n",
              "      display: none;\n",
              "      fill: #1967D2;\n",
              "      height: 32px;\n",
              "      padding: 0 0 0 0;\n",
              "      width: 32px;\n",
              "    }\n",
              "\n",
              "    .colab-df-convert:hover {\n",
              "      background-color: #E2EBFA;\n",
              "      box-shadow: 0px 1px 2px rgba(60, 64, 67, 0.3), 0px 1px 3px 1px rgba(60, 64, 67, 0.15);\n",
              "      fill: #174EA6;\n",
              "    }\n",
              "\n",
              "    .colab-df-buttons div {\n",
              "      margin-bottom: 4px;\n",
              "    }\n",
              "\n",
              "    [theme=dark] .colab-df-convert {\n",
              "      background-color: #3B4455;\n",
              "      fill: #D2E3FC;\n",
              "    }\n",
              "\n",
              "    [theme=dark] .colab-df-convert:hover {\n",
              "      background-color: #434B5C;\n",
              "      box-shadow: 0px 1px 3px 1px rgba(0, 0, 0, 0.15);\n",
              "      filter: drop-shadow(0px 1px 2px rgba(0, 0, 0, 0.3));\n",
              "      fill: #FFFFFF;\n",
              "    }\n",
              "  </style>\n",
              "\n",
              "    <script>\n",
              "      const buttonEl =\n",
              "        document.querySelector('#df-12ff214f-eb15-436b-a66f-e759a1fa496a button.colab-df-convert');\n",
              "      buttonEl.style.display =\n",
              "        google.colab.kernel.accessAllowed ? 'block' : 'none';\n",
              "\n",
              "      async function convertToInteractive(key) {\n",
              "        const element = document.querySelector('#df-12ff214f-eb15-436b-a66f-e759a1fa496a');\n",
              "        const dataTable =\n",
              "          await google.colab.kernel.invokeFunction('convertToInteractive',\n",
              "                                                    [key], {});\n",
              "        if (!dataTable) return;\n",
              "\n",
              "        const docLinkHtml = 'Like what you see? Visit the ' +\n",
              "          '<a target=\"_blank\" href=https://colab.research.google.com/notebooks/data_table.ipynb>data table notebook</a>'\n",
              "          + ' to learn more about interactive tables.';\n",
              "        element.innerHTML = '';\n",
              "        dataTable['output_type'] = 'display_data';\n",
              "        await google.colab.output.renderOutput(dataTable, element);\n",
              "        const docLink = document.createElement('div');\n",
              "        docLink.innerHTML = docLinkHtml;\n",
              "        element.appendChild(docLink);\n",
              "      }\n",
              "    </script>\n",
              "  </div>\n",
              "\n",
              "\n",
              "<div id=\"df-95168239-777d-4940-af60-76ef5f1557b0\">\n",
              "  <button class=\"colab-df-quickchart\" onclick=\"quickchart('df-95168239-777d-4940-af60-76ef5f1557b0')\"\n",
              "            title=\"Suggest charts\"\n",
              "            style=\"display:none;\">\n",
              "\n",
              "<svg xmlns=\"http://www.w3.org/2000/svg\" height=\"24px\"viewBox=\"0 0 24 24\"\n",
              "     width=\"24px\">\n",
              "    <g>\n",
              "        <path d=\"M19 3H5c-1.1 0-2 .9-2 2v14c0 1.1.9 2 2 2h14c1.1 0 2-.9 2-2V5c0-1.1-.9-2-2-2zM9 17H7v-7h2v7zm4 0h-2V7h2v10zm4 0h-2v-4h2v4z\"/>\n",
              "    </g>\n",
              "</svg>\n",
              "  </button>\n",
              "\n",
              "<style>\n",
              "  .colab-df-quickchart {\n",
              "      --bg-color: #E8F0FE;\n",
              "      --fill-color: #1967D2;\n",
              "      --hover-bg-color: #E2EBFA;\n",
              "      --hover-fill-color: #174EA6;\n",
              "      --disabled-fill-color: #AAA;\n",
              "      --disabled-bg-color: #DDD;\n",
              "  }\n",
              "\n",
              "  [theme=dark] .colab-df-quickchart {\n",
              "      --bg-color: #3B4455;\n",
              "      --fill-color: #D2E3FC;\n",
              "      --hover-bg-color: #434B5C;\n",
              "      --hover-fill-color: #FFFFFF;\n",
              "      --disabled-bg-color: #3B4455;\n",
              "      --disabled-fill-color: #666;\n",
              "  }\n",
              "\n",
              "  .colab-df-quickchart {\n",
              "    background-color: var(--bg-color);\n",
              "    border: none;\n",
              "    border-radius: 50%;\n",
              "    cursor: pointer;\n",
              "    display: none;\n",
              "    fill: var(--fill-color);\n",
              "    height: 32px;\n",
              "    padding: 0;\n",
              "    width: 32px;\n",
              "  }\n",
              "\n",
              "  .colab-df-quickchart:hover {\n",
              "    background-color: var(--hover-bg-color);\n",
              "    box-shadow: 0 1px 2px rgba(60, 64, 67, 0.3), 0 1px 3px 1px rgba(60, 64, 67, 0.15);\n",
              "    fill: var(--button-hover-fill-color);\n",
              "  }\n",
              "\n",
              "  .colab-df-quickchart-complete:disabled,\n",
              "  .colab-df-quickchart-complete:disabled:hover {\n",
              "    background-color: var(--disabled-bg-color);\n",
              "    fill: var(--disabled-fill-color);\n",
              "    box-shadow: none;\n",
              "  }\n",
              "\n",
              "  .colab-df-spinner {\n",
              "    border: 2px solid var(--fill-color);\n",
              "    border-color: transparent;\n",
              "    border-bottom-color: var(--fill-color);\n",
              "    animation:\n",
              "      spin 1s steps(1) infinite;\n",
              "  }\n",
              "\n",
              "  @keyframes spin {\n",
              "    0% {\n",
              "      border-color: transparent;\n",
              "      border-bottom-color: var(--fill-color);\n",
              "      border-left-color: var(--fill-color);\n",
              "    }\n",
              "    20% {\n",
              "      border-color: transparent;\n",
              "      border-left-color: var(--fill-color);\n",
              "      border-top-color: var(--fill-color);\n",
              "    }\n",
              "    30% {\n",
              "      border-color: transparent;\n",
              "      border-left-color: var(--fill-color);\n",
              "      border-top-color: var(--fill-color);\n",
              "      border-right-color: var(--fill-color);\n",
              "    }\n",
              "    40% {\n",
              "      border-color: transparent;\n",
              "      border-right-color: var(--fill-color);\n",
              "      border-top-color: var(--fill-color);\n",
              "    }\n",
              "    60% {\n",
              "      border-color: transparent;\n",
              "      border-right-color: var(--fill-color);\n",
              "    }\n",
              "    80% {\n",
              "      border-color: transparent;\n",
              "      border-right-color: var(--fill-color);\n",
              "      border-bottom-color: var(--fill-color);\n",
              "    }\n",
              "    90% {\n",
              "      border-color: transparent;\n",
              "      border-bottom-color: var(--fill-color);\n",
              "    }\n",
              "  }\n",
              "</style>\n",
              "\n",
              "  <script>\n",
              "    async function quickchart(key) {\n",
              "      const quickchartButtonEl =\n",
              "        document.querySelector('#' + key + ' button');\n",
              "      quickchartButtonEl.disabled = true;  // To prevent multiple clicks.\n",
              "      quickchartButtonEl.classList.add('colab-df-spinner');\n",
              "      try {\n",
              "        const charts = await google.colab.kernel.invokeFunction(\n",
              "            'suggestCharts', [key], {});\n",
              "      } catch (error) {\n",
              "        console.error('Error during call to suggestCharts:', error);\n",
              "      }\n",
              "      quickchartButtonEl.classList.remove('colab-df-spinner');\n",
              "      quickchartButtonEl.classList.add('colab-df-quickchart-complete');\n",
              "    }\n",
              "    (() => {\n",
              "      let quickchartButtonEl =\n",
              "        document.querySelector('#df-95168239-777d-4940-af60-76ef5f1557b0 button');\n",
              "      quickchartButtonEl.style.display =\n",
              "        google.colab.kernel.accessAllowed ? 'block' : 'none';\n",
              "    })();\n",
              "  </script>\n",
              "</div>\n",
              "    </div>\n",
              "  </div>\n"
            ],
            "text/plain": [
              "        lon      lat  City_flag                   City  City_flag  \\\n",
              "0  -87.5625  33.1875       True             Tuscaloosa       True   \n",
              "1 -112.1875  33.6875       True               Glendale       True   \n",
              "2  -78.5625  35.8125       True                Raleigh       True   \n",
              "3  -87.6875  37.1875       True         Dawson Springs       True   \n",
              "4  -85.8125  38.0625       True             Louisville       True   \n",
              "5  -78.9375  40.0625       True    Stonycreek Township       True   \n",
              "6  -75.3125  40.0625       True  Lower Merion Township       True   \n",
              "7  -77.9375  40.4375       True     Henderson Township       True   \n",
              "8  -78.4375  40.8125       True        Bigler Township       True   \n",
              "9  -78.8125  41.1875       True    Washington Township       True   \n",
              "\n",
              "            State        Country  \n",
              "0         Alabama  United States  \n",
              "1         Arizona  United States  \n",
              "2  North Carolina  United States  \n",
              "3        Kentucky  United States  \n",
              "4        Kentucky  United States  \n",
              "5    Pennsylvania  United States  \n",
              "6    Pennsylvania  United States  \n",
              "7    Pennsylvania  United States  \n",
              "8    Pennsylvania  United States  \n",
              "9    Pennsylvania  United States  "
            ]
          },
          "execution_count": 13,
          "metadata": {},
          "output_type": "execute_result"
        }
      ],
      "source": [
        "nasa.select('lon','lat','City_flag','City','City_flag','State','Country').filter(nasa.City_flag==True).limit(10).toPandas()"
      ]
    },
    {
      "cell_type": "code",
      "execution_count": null,
      "metadata": {},
      "outputs": [],
      "source": []
    }
  ],
  "metadata": {
    "colab": {
      "provenance": []
    },
    "kernelspec": {
      "display_name": "Python 3",
      "name": "python3"
    },
    "language_info": {
      "name": "python"
    }
  },
  "nbformat": 4,
  "nbformat_minor": 0
}
