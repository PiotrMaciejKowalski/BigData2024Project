{
 "cells": [
  {
   "cell_type": "code",
   "execution_count": null,
   "metadata": {
    "id": "5tW9ZtrHIU5e"
   },
   "outputs": [],
   "source": [
    "pip install folium"
   ]
  },
  {
   "cell_type": "code",
   "execution_count": null,
   "metadata": {
    "id": "CF7WOw7qIU5l"
   },
   "outputs": [],
   "source": [
    "pip install plotly-express"
   ]
  },
  {
   "cell_type": "code",
   "execution_count": null,
   "metadata": {
    "id": "dRqBp_lzIU5m"
   },
   "outputs": [],
   "source": [
    "import pandas as pd\n",
    "import requests\n",
    "import folium\n",
    "from folium.plugins import HeatMap, MiniMap\n",
    "import numpy as np\n",
    "import branca.colormap as cm\n",
    "import plotly.express as px"
   ]
  },
  {
   "cell_type": "markdown",
   "metadata": {
    "id": "BJ5S6XUMIU5o"
   },
   "source": [
    "Wczytajmy utworzony wcześniej podzbiór danych:"
   ]
  },
  {
   "cell_type": "code",
   "execution_count": null,
   "metadata": {
    "id": "m9lMA0zSIU5s"
   },
   "outputs": [],
   "source": [
    "df = pd.read_csv('nasa_dec22_loc.csv')"
   ]
  },
  {
   "cell_type": "markdown",
   "metadata": {
    "id": "SbwTpg3oIU5t"
   },
   "source": [
    "# Folium"
   ]
  },
  {
   "cell_type": "markdown",
   "metadata": {
    "id": "3LnNxfCrIU5u"
   },
   "source": [
    "## Interaktywne mapy z wykorzystaniem OpenStreetMap"
   ]
  },
  {
   "cell_type": "markdown",
   "metadata": {
    "id": "YQh0AzD7IU5w"
   },
   "source": [
    "User guide odnośnie korzystania z biblioteki Folium i poszczególnych parametrów używanych w wizualizacjach: https://python-visualization.github.io/folium/latest/user_guide.html"
   ]
  },
  {
   "cell_type": "markdown",
   "metadata": {
    "id": "PvF0itCWIU5x"
   },
   "source": [
    "### Heatmap"
   ]
  },
  {
   "cell_type": "markdown",
   "metadata": {
    "id": "858k6YknIU5x"
   },
   "source": [
    "Zastosowanie gotowej funkcji HeatMap.\n",
    "W tym oraz kolejnych przykładach pobierana jest lista zawierająca zmienne dotyczące każdego z punktów, gdzie pierwsze dwie określają lokalizację, a trzecia wybrany parametr, w tym wypadku Rainf."
   ]
  },
  {
   "cell_type": "code",
   "execution_count": null,
   "metadata": {
    "id": "qY-6haMjIU5y",
    "outputId": "94e4457e-881f-4ec8-d5c7-1e2282eccba0",
    "scrolled": false
   },
   "outputs": [],
   "source": [
    "# lokalizacja, która wyświetlana jest domyślnie po utworzeniu mapy\n",
    "heatmap_Rainf = folium.Map(location = [38.27312, -98.5821872], zoom_start = 4)\n",
    "\n",
    "MiniMap(toggle_display=True).add_to(heatmap_Rainf) # dodanie minimapy\n",
    "\n",
    "heatmap_Rainf_param = HeatMap(list(zip(df.lat.values, df.lon.values, df.Rainf.values)),\n",
    "                              min_opacity=0.3,\n",
    "                              radius=20,\n",
    "                              blur=15\n",
    "                             )\n",
    "\n",
    "heatmap_Rainf.add_child(heatmap_Rainf_param)"
   ]
  },
  {
   "cell_type": "markdown",
   "metadata": {
    "id": "DlMylQDtIU50"
   },
   "source": [
    "W tym wypadku, prawdopodobnie ze względu na dużą liczbę punktów naniesionych na mapę, finalny efekt nie jest do końca satysfakcjonujący, zwłaszcza przy przybliżaniu."
   ]
  },
  {
   "cell_type": "markdown",
   "metadata": {
    "id": "Ei-VMV6IIU50"
   },
   "source": [
    "### Circle"
   ]
  },
  {
   "cell_type": "markdown",
   "metadata": {
    "id": "O9j-z_4RIU51"
   },
   "source": [
    "Zastosowanie funkcji Circle.\n",
    "W pierwszym przypadku punkty będą kolorowane określonymi barwami, w zależności od tego czy ich wartości wpadają w dany przedział. W przykładzie przedziały zdefiniujemy przez podzielenie całego zakresu wartości kwartylami. Do określenia gamy kolorystycznej stosujemy funkcję StepColormap. W przypadku pominięcia parametru index zakres wartości dla każdego koloru zostanie utworzony automatycznie przez podzielenie całego przedziału na równe części."
   ]
  },
  {
   "cell_type": "code",
   "execution_count": null,
   "metadata": {
    "id": "6wDfcQFYIU51",
    "outputId": "c73a398d-0f8b-40e6-beb2-2349c759374e",
    "scrolled": false
   },
   "outputs": [],
   "source": [
    "min_val = min(df.Rainf.values)\n",
    "q1 = np.quantile(df.Rainf.values, 0.25)\n",
    "q2 = np.quantile(df.Rainf.values, 0.5)\n",
    "q3 = np.quantile(df.Rainf.values, 0.75)\n",
    "max_val = max(df.Rainf.values)\n",
    "\n",
    "step_colormap = cm.StepColormap([\"green\", \"yellow\", \"orange\", \"red\"],\n",
    "                                vmin=min_val, vmax=max_val,\n",
    "                                index=[min_val, q1, q2, q3, max_val])\n",
    "\n",
    "# lokalizacja, która wyświetlana jest domyślnie po utworzeniu mapy\n",
    "dotted_map_Rainf_step = folium.Map(location = [38.27312, -98.5821872], zoom_start = 4)\n",
    "\n",
    "# umieszczenie odpowiednio pokolorowanych punktów na mapie\n",
    "for loc, val in list(zip(zip(df.lat.values, df.lon.values), df.Rainf.values)):\n",
    "    folium.Circle(\n",
    "        location=loc,\n",
    "        radius=8,\n",
    "        fill=True,\n",
    "        color=step_colormap(val),\n",
    "#         popup=f'Location: {loc}, Rainfall: {val:.2f}' # określenie informacji wyświetlanej po kliknięciu na punkt\n",
    "    ).add_to(dotted_map_Rainf_step)\n",
    "\n",
    "MiniMap(toggle_display=True).add_to(dotted_map_Rainf_step) # dodanie minimapy\n",
    "\n",
    "dotted_map_Rainf_step"
   ]
  },
  {
   "cell_type": "markdown",
   "metadata": {
    "id": "Ro1sMxOTIU52"
   },
   "source": [
    "Teraz do określenia gamy kolorystycznej użyjemy funkcji LinearColormap, żeby zastosować płynniejsze przejścia między kolorami."
   ]
  },
  {
   "cell_type": "code",
   "execution_count": null,
   "metadata": {
    "id": "1OhWVwwbIU52",
    "outputId": "59997526-74bf-4c92-faa8-3e4f1ef7e787",
    "scrolled": true
   },
   "outputs": [],
   "source": [
    "colormap = cm.LinearColormap(colors=['green', 'yellow', 'orange', 'red'], vmin=min(df.Rainf.values), vmax=max(df.Rainf.values))\n",
    "\n",
    "# lokalizacja, która wyświetlana jest domyślnie po utworzeniu mapy\n",
    "dotted_map_Rainf_smooth = folium.Map(location=[38.27312, -98.5821872], zoom_start=4)\n",
    "\n",
    "for loc, temp in list(zip(zip(df.lat.values, df.lon.values), df.Rainf.values)):\n",
    "    folium.Circle(\n",
    "        location=loc,\n",
    "        radius=8,\n",
    "        fill=True,\n",
    "        color=colormap(temp),\n",
    "        fill_opacity=0.2,\n",
    "#         popup=f'Location: {loc}, Rainfall: {val:.2f}' # określenie informacji wyświetlanej przy najechaniu na punkt\n",
    "    ).add_to(dotted_map_Rainf_smooth)\n",
    "\n",
    "MiniMap(toggle_display=True).add_to(dotted_map_Rainf_smooth) # dodanie minimapy\n",
    "\n",
    "dotted_map_Rainf_smooth.add_child(colormap) # dodanie legendy"
   ]
  },
  {
   "cell_type": "markdown",
   "metadata": {
    "id": "hm5AOnEzIvhV"
   },
   "source": [
    "Każdą z utworzonych map możemy zapisać do pliku html:"
   ]
  },
  {
   "cell_type": "code",
   "execution_count": null,
   "metadata": {
    "id": "V5R_BpGcIU53"
   },
   "outputs": [],
   "source": [
    "heatmap_Rainf.save('heatmap_Rainf.html')\n",
    "dotted_map_Rainf_step.save('dotted_map_Rainf_step.html')\n",
    "dotted_map_Rainf_smooth.save('dotted_map_Rainf_smooth.html')"
   ]
  }
 ],
 "metadata": {
  "colab": {
   "provenance": []
  },
  "kernelspec": {
   "display_name": "Python 3",
   "language": "python",
   "name": "python3"
  },
  "language_info": {
   "codemirror_mode": {
    "name": "ipython",
    "version": 3
   },
   "file_extension": ".py",
   "mimetype": "text/x-python",
   "name": "python",
   "nbconvert_exporter": "python",
   "pygments_lexer": "ipython3",
   "version": "3.7.6"
  }
 },
 "nbformat": 4,
 "nbformat_minor": 1
}
