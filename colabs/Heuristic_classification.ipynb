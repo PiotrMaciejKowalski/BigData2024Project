{
  "cells": [
    {
      "cell_type": "markdown",
      "metadata": {
        "colab_type": "text",
        "id": "view-in-github"
      },
      "source": [
        "<a href=\"https://colab.research.google.com/github/PiotrMaciejKowalski/BigData2024Project/blob/refactoring-sprint2/colabs/Heuristic_classification.ipynb\" target=\"_parent\"><img src=\"https://colab.research.google.com/assets/colab-badge.svg\" alt=\"Open In Colab\"/></a>"
      ]
    },
    {
      "cell_type": "code",
      "execution_count": 1,
      "metadata": {
        "colab": {
          "base_uri": "https://localhost:8080/"
        },
        "id": "Bk2am424HeZd",
        "outputId": "276e9be7-a87d-44cd-da6a-f6e6d1577a0f"
      },
      "outputs": [
        {
          "name": "stdout",
          "output_type": "stream",
          "text": [
            "Mounted at /content/drive\n"
          ]
        }
      ],
      "source": [
        "from google.colab import drive\n",
        "drive.mount('/content/drive')"
      ]
    },
    {
      "cell_type": "code",
      "execution_count": 2,
      "metadata": {
        "colab": {
          "base_uri": "https://localhost:8080/"
        },
        "id": "RXF6XvkoHofG",
        "outputId": "71768a62-9f9a-4f76-e7e3-5aaee7823873"
      },
      "outputs": [
        {
          "name": "stdout",
          "output_type": "stream",
          "text": [
            "Cloning into 'BigData2024Project'...\n",
            "remote: Enumerating objects: 1348, done.\u001b[K\n",
            "remote: Counting objects: 100% (694/694), done.\u001b[K\n",
            "remote: Compressing objects: 100% (371/371), done.\u001b[K\n",
            "remote: Total 1348 (delta 454), reused 480 (delta 314), pack-reused 654\u001b[K\n",
            "Receiving objects: 100% (1348/1348), 54.39 MiB | 18.03 MiB/s, done.\n",
            "Resolving deltas: 100% (717/717), done.\n",
            "/content/BigData2024Project\n",
            "Branch 'refactoring-sprint2' set up to track remote branch 'refactoring-sprint2' from 'origin'.\n",
            "Switched to a new branch 'refactoring-sprint2'\n",
            "/content\n"
          ]
        }
      ],
      "source": [
        "!git clone https://github.com/PiotrMaciejKowalski/BigData2024Project.git\n",
        "%cd BigData2024Project\n",
        "!git checkout refactoring-sprint2\n",
        "%cd .."
      ]
    },
    {
      "cell_type": "code",
      "execution_count": 3,
      "metadata": {
        "colab": {
          "base_uri": "https://localhost:8080/"
        },
        "id": "R-befAeAIB0J",
        "outputId": "d4d8cf78-fb7c-4d35-a7a3-37f614a73c10"
      },
      "outputs": [
        {
          "name": "stdout",
          "output_type": "stream",
          "text": [
            "/content/BigData2024Project\n",
            "Already up to date.\n",
            "/content\n"
          ]
        }
      ],
      "source": [
        "%cd BigData2024Project\n",
        "!git pull\n",
        "%cd .."
      ]
    },
    {
      "cell_type": "code",
      "execution_count": 4,
      "metadata": {
        "colab": {
          "base_uri": "https://localhost:8080/"
        },
        "id": "l__PU0XWIKis",
        "outputId": "50424938-220c-4d65-bbc8-ae469e374997"
      },
      "outputs": [
        {
          "name": "stdout",
          "output_type": "stream",
          "text": [
            "/content/BigData2024Project\n",
            "On branch refactoring-sprint2\n",
            "Your branch is up to date with 'origin/refactoring-sprint2'.\n",
            "\n",
            "nothing to commit, working tree clean\n",
            "/content\n"
          ]
        }
      ],
      "source": [
        "%cd BigData2024Project\n",
        "!git status\n",
        "%cd .."
      ]
    },
    {
      "cell_type": "code",
      "execution_count": 5,
      "metadata": {
        "colab": {
          "base_uri": "https://localhost:8080/"
        },
        "id": "WYvJeLGGHrrH",
        "outputId": "5f645abf-04ca-48d8-f692-62d85dbe50c6"
      },
      "outputs": [
        {
          "name": "stdout",
          "output_type": "stream",
          "text": [
            "Collecting poetry\n",
            "  Downloading poetry-1.7.1-py3-none-any.whl (235 kB)\n",
            "\u001b[?25l     \u001b[90m━━━━━━━━━━━━━━━━━━━━━━━━━━━━━━━━━━━━━━━━\u001b[0m \u001b[32m0.0/236.0 kB\u001b[0m \u001b[31m?\u001b[0m eta \u001b[36m-:--:--\u001b[0m\r\u001b[2K     \u001b[91m━━━━━━━━━━━━━━━\u001b[0m\u001b[91m╸\u001b[0m\u001b[90m━━━━━━━━━━━━━━━━━━━━━━━━\u001b[0m \u001b[32m92.2/236.0 kB\u001b[0m \u001b[31m2.5 MB/s\u001b[0m eta \u001b[36m0:00:01\u001b[0m\r\u001b[2K     \u001b[90m━━━━━━━━━━━━━━━━━━━━━━━━━━━━━━━━━━━━━━━━\u001b[0m \u001b[32m236.0/236.0 kB\u001b[0m \u001b[31m4.0 MB/s\u001b[0m eta \u001b[36m0:00:00\u001b[0m\n",
            "\u001b[?25hRequirement already satisfied: build<2.0.0,>=1.0.3 in /usr/local/lib/python3.10/dist-packages (from poetry) (1.0.3)\n",
            "Requirement already satisfied: cachecontrol[filecache]<0.14.0,>=0.13.0 in /usr/local/lib/python3.10/dist-packages (from poetry) (0.13.1)\n",
            "Collecting cleo<3.0.0,>=2.1.0 (from poetry)\n",
            "  Downloading cleo-2.1.0-py3-none-any.whl (78 kB)\n",
            "\u001b[2K     \u001b[90m━━━━━━━━━━━━━━━━━━━━━━━━━━━━━━━━━━━━━━━━\u001b[0m \u001b[32m78.7/78.7 kB\u001b[0m \u001b[31m5.2 MB/s\u001b[0m eta \u001b[36m0:00:00\u001b[0m\n",
            "\u001b[?25hCollecting crashtest<0.5.0,>=0.4.1 (from poetry)\n",
            "  Downloading crashtest-0.4.1-py3-none-any.whl (7.6 kB)\n",
            "Collecting dulwich<0.22.0,>=0.21.2 (from poetry)\n",
            "  Downloading dulwich-0.21.7-cp310-cp310-manylinux_2_17_x86_64.manylinux2014_x86_64.whl (514 kB)\n",
            "\u001b[2K     \u001b[90m━━━━━━━━━━━━━━━━━━━━━━━━━━━━━━━━━━━━━━━━\u001b[0m \u001b[32m514.7/514.7 kB\u001b[0m \u001b[31m8.5 MB/s\u001b[0m eta \u001b[36m0:00:00\u001b[0m\n",
            "\u001b[?25hRequirement already satisfied: fastjsonschema<3.0.0,>=2.18.0 in /usr/local/lib/python3.10/dist-packages (from poetry) (2.19.0)\n",
            "Collecting installer<0.8.0,>=0.7.0 (from poetry)\n",
            "  Downloading installer-0.7.0-py3-none-any.whl (453 kB)\n",
            "\u001b[2K     \u001b[90m━━━━━━━━━━━━━━━━━━━━━━━━━━━━━━━━━━━━━━━━\u001b[0m \u001b[32m453.8/453.8 kB\u001b[0m \u001b[31m11.2 MB/s\u001b[0m eta \u001b[36m0:00:00\u001b[0m\n",
            "\u001b[?25hCollecting keyring<25.0.0,>=24.0.0 (from poetry)\n",
            "  Downloading keyring-24.3.0-py3-none-any.whl (38 kB)\n",
            "Requirement already satisfied: packaging>=20.5 in /usr/local/lib/python3.10/dist-packages (from poetry) (23.2)\n",
            "Requirement already satisfied: pexpect<5.0.0,>=4.7.0 in /usr/local/lib/python3.10/dist-packages (from poetry) (4.9.0)\n",
            "Collecting pkginfo<2.0.0,>=1.9.4 (from poetry)\n",
            "  Downloading pkginfo-1.9.6-py3-none-any.whl (30 kB)\n",
            "Collecting platformdirs<4.0.0,>=3.0.0 (from poetry)\n",
            "  Downloading platformdirs-3.11.0-py3-none-any.whl (17 kB)\n",
            "Collecting poetry-core==1.8.1 (from poetry)\n",
            "  Downloading poetry_core-1.8.1-py3-none-any.whl (306 kB)\n",
            "\u001b[2K     \u001b[90m━━━━━━━━━━━━━━━━━━━━━━━━━━━━━━━━━━━━━━━━\u001b[0m \u001b[32m306.6/306.6 kB\u001b[0m \u001b[31m14.1 MB/s\u001b[0m eta \u001b[36m0:00:00\u001b[0m\n",
            "\u001b[?25hCollecting poetry-plugin-export<2.0.0,>=1.6.0 (from poetry)\n",
            "  Downloading poetry_plugin_export-1.6.0-py3-none-any.whl (10 kB)\n",
            "Requirement already satisfied: pyproject-hooks<2.0.0,>=1.0.0 in /usr/local/lib/python3.10/dist-packages (from poetry) (1.0.0)\n",
            "Requirement already satisfied: requests<3.0,>=2.26 in /usr/local/lib/python3.10/dist-packages (from poetry) (2.31.0)\n",
            "Collecting requests-toolbelt<2,>=0.9.1 (from poetry)\n",
            "  Downloading requests_toolbelt-1.0.0-py2.py3-none-any.whl (54 kB)\n",
            "\u001b[2K     \u001b[90m━━━━━━━━━━━━━━━━━━━━━━━━━━━━━━━━━━━━━━━━\u001b[0m \u001b[32m54.5/54.5 kB\u001b[0m \u001b[31m7.9 MB/s\u001b[0m eta \u001b[36m0:00:00\u001b[0m\n",
            "\u001b[?25hCollecting shellingham<2.0,>=1.5 (from poetry)\n",
            "  Downloading shellingham-1.5.4-py2.py3-none-any.whl (9.8 kB)\n",
            "Requirement already satisfied: tomli<3.0.0,>=2.0.1 in /usr/local/lib/python3.10/dist-packages (from poetry) (2.0.1)\n",
            "Collecting tomlkit<1.0.0,>=0.11.4 (from poetry)\n",
            "  Downloading tomlkit-0.12.3-py3-none-any.whl (37 kB)\n",
            "Collecting trove-classifiers>=2022.5.19 (from poetry)\n",
            "  Downloading trove_classifiers-2023.11.29-py3-none-any.whl (13 kB)\n",
            "Collecting virtualenv<21.0.0,>=20.23.0 (from poetry)\n",
            "  Downloading virtualenv-20.25.0-py3-none-any.whl (3.8 MB)\n",
            "\u001b[2K     \u001b[90m━━━━━━━━━━━━━━━━━━━━━━━━━━━━━━━━━━━━━━━━\u001b[0m \u001b[32m3.8/3.8 MB\u001b[0m \u001b[31m21.5 MB/s\u001b[0m eta \u001b[36m0:00:00\u001b[0m\n",
            "\u001b[?25hRequirement already satisfied: msgpack>=0.5.2 in /usr/local/lib/python3.10/dist-packages (from cachecontrol[filecache]<0.14.0,>=0.13.0->poetry) (1.0.7)\n",
            "Requirement already satisfied: filelock>=3.8.0 in /usr/local/lib/python3.10/dist-packages (from cachecontrol[filecache]<0.14.0,>=0.13.0->poetry) (3.13.1)\n",
            "Collecting rapidfuzz<4.0.0,>=3.0.0 (from cleo<3.0.0,>=2.1.0->poetry)\n",
            "  Downloading rapidfuzz-3.6.1-cp310-cp310-manylinux_2_17_x86_64.manylinux2014_x86_64.whl (3.4 MB)\n",
            "\u001b[2K     \u001b[90m━━━━━━━━━━━━━━━━━━━━━━━━━━━━━━━━━━━━━━━━\u001b[0m \u001b[32m3.4/3.4 MB\u001b[0m \u001b[31m36.3 MB/s\u001b[0m eta \u001b[36m0:00:00\u001b[0m\n",
            "\u001b[?25hRequirement already satisfied: urllib3>=1.25 in /usr/local/lib/python3.10/dist-packages (from dulwich<0.22.0,>=0.21.2->poetry) (2.0.7)\n",
            "Collecting jaraco.classes (from keyring<25.0.0,>=24.0.0->poetry)\n",
            "  Downloading jaraco.classes-3.3.0-py3-none-any.whl (5.9 kB)\n",
            "Requirement already satisfied: importlib-metadata>=4.11.4 in /usr/local/lib/python3.10/dist-packages (from keyring<25.0.0,>=24.0.0->poetry) (7.0.0)\n",
            "Requirement already satisfied: SecretStorage>=3.2 in /usr/lib/python3/dist-packages (from keyring<25.0.0,>=24.0.0->poetry) (3.3.1)\n",
            "Requirement already satisfied: jeepney>=0.4.2 in /usr/lib/python3/dist-packages (from keyring<25.0.0,>=24.0.0->poetry) (0.7.1)\n",
            "Requirement already satisfied: ptyprocess>=0.5 in /usr/local/lib/python3.10/dist-packages (from pexpect<5.0.0,>=4.7.0->poetry) (0.7.0)\n",
            "Requirement already satisfied: charset-normalizer<4,>=2 in /usr/local/lib/python3.10/dist-packages (from requests<3.0,>=2.26->poetry) (3.3.2)\n",
            "Requirement already satisfied: idna<4,>=2.5 in /usr/local/lib/python3.10/dist-packages (from requests<3.0,>=2.26->poetry) (3.6)\n",
            "Requirement already satisfied: certifi>=2017.4.17 in /usr/local/lib/python3.10/dist-packages (from requests<3.0,>=2.26->poetry) (2023.11.17)\n",
            "Collecting distlib<1,>=0.3.7 (from virtualenv<21.0.0,>=20.23.0->poetry)\n",
            "  Downloading distlib-0.3.8-py2.py3-none-any.whl (468 kB)\n",
            "\u001b[2K     \u001b[90m━━━━━━━━━━━━━━━━━━━━━━━━━━━━━━━━━━━━━━━━\u001b[0m \u001b[32m468.9/468.9 kB\u001b[0m \u001b[31m36.4 MB/s\u001b[0m eta \u001b[36m0:00:00\u001b[0m\n",
            "\u001b[?25hRequirement already satisfied: zipp>=0.5 in /usr/local/lib/python3.10/dist-packages (from importlib-metadata>=4.11.4->keyring<25.0.0,>=24.0.0->poetry) (3.17.0)\n",
            "Requirement already satisfied: more-itertools in /usr/local/lib/python3.10/dist-packages (from jaraco.classes->keyring<25.0.0,>=24.0.0->poetry) (10.1.0)\n",
            "Installing collected packages: trove-classifiers, distlib, tomlkit, shellingham, rapidfuzz, poetry-core, platformdirs, pkginfo, jaraco.classes, installer, dulwich, crashtest, virtualenv, requests-toolbelt, keyring, cleo, poetry-plugin-export, poetry\n",
            "  Attempting uninstall: platformdirs\n",
            "    Found existing installation: platformdirs 4.1.0\n",
            "    Uninstalling platformdirs-4.1.0:\n",
            "      Successfully uninstalled platformdirs-4.1.0\n",
            "  Attempting uninstall: keyring\n",
            "    Found existing installation: keyring 23.5.0\n",
            "    Uninstalling keyring-23.5.0:\n",
            "      Successfully uninstalled keyring-23.5.0\n",
            "Successfully installed cleo-2.1.0 crashtest-0.4.1 distlib-0.3.8 dulwich-0.21.7 installer-0.7.0 jaraco.classes-3.3.0 keyring-24.3.0 pkginfo-1.9.6 platformdirs-3.11.0 poetry-1.7.1 poetry-core-1.8.1 poetry-plugin-export-1.6.0 rapidfuzz-3.6.1 requests-toolbelt-1.0.0 shellingham-1.5.4 tomlkit-0.12.3 trove-classifiers-2023.11.29 virtualenv-20.25.0\n"
          ]
        }
      ],
      "source": [
        "!chmod 755 /content/BigData2024Project/src/setup.sh\n",
        "!/content/BigData2024Project/src/setup.sh"
      ]
    },
    {
      "cell_type": "code",
      "execution_count": 6,
      "metadata": {
        "id": "aKRXMdybHt4s"
      },
      "outputs": [],
      "source": [
        "import sys\n",
        "sys.path.append('/content/BigData2024Project/src')"
      ]
    },
    {
      "cell_type": "code",
      "execution_count": 7,
      "metadata": {
        "id": "KEp2jxDZHvUm"
      },
      "outputs": [],
      "source": [
        "from start_spark import initialize_spark\n",
        "initialize_spark()"
      ]
    },
    {
      "cell_type": "code",
      "execution_count": 16,
      "metadata": {
        "id": "5oZfIn_SHx0b"
      },
      "outputs": [],
      "source": [
        "from pyspark.sql import SparkSession\n",
        "from big_mess.heuristic_classifier import heuristic_classify\n",
        "from big_mess.loaders import preprocessed_loader, save_to_csv"
      ]
    },
    {
      "cell_type": "code",
      "execution_count": 9,
      "metadata": {
        "id": "5AlVfc6OIswx"
      },
      "outputs": [],
      "source": [
        "spark = SparkSession.builder\\\n",
        "        .master(\"local\")\\\n",
        "        .appName(\"Colab\")\\\n",
        "        .config('spark.ui.port', '4050')\\\n",
        "        .getOrCreate()"
      ]
    },
    {
      "cell_type": "code",
      "execution_count": 10,
      "metadata": {
        "id": "gtREiq97IYCt"
      },
      "outputs": [],
      "source": [
        "data=preprocessed_loader(spark,'/content/drive/MyDrive/BigMess/NASA/NASA_month_preprocessed.csv')"
      ]
    },
    {
      "cell_type": "code",
      "execution_count": 11,
      "metadata": {
        "colab": {
          "base_uri": "https://localhost:8080/"
        },
        "id": "BVa7TfemIzW6",
        "outputId": "16125fbf-5f3e-4378-ad44-eb23511b6d5e"
      },
      "outputs": [
        {
          "name": "stdout",
          "output_type": "stream",
          "text": [
            "+---------+-------+------+--------+--------+--------+-------------+---------+--------+---------+---------------+--------------+----+-----+\n",
            "|      lon|    lat| Rainf|    Evap|AvgSurfT|  Albedo|SoilT_10_40cm|     GVEG| PotEvap|RootMoist|SoilM_100_200cm|SoilT_40_100cm|Year|Month|\n",
            "+---------+-------+------+--------+--------+--------+-------------+---------+--------+---------+---------------+--------------+----+-----+\n",
            "|-112.0625|25.0625|1.1386|11.99051|288.2954|41.47715|     289.6995|0.1971279|137.6446| 398.8725|       208.2797|          NULL|2023|    1|\n",
            "|-111.9375|25.0625| 1.159|11.40101|287.4547|41.50941|     289.5214| 0.198604|152.8735| 375.6453|       192.4112|          NULL|2023|    1|\n",
            "|-111.8125|25.0625| 1.179|11.10241|287.6041|41.50537|      289.974|0.1711854|109.3242| 183.8275|       211.5441|          NULL|2023|    1|\n",
            "|-111.6875|25.0625|1.2057|11.20511|287.3168|41.50134|     289.8952|0.1711854|113.2493| 182.3848|       209.8121|          NULL|2023|    1|\n",
            "|-111.5625|25.0625|1.3994|5.355399|286.9062|41.50941|      289.506|0.1429876|161.2215| 204.0871|        231.844|          NULL|2023|    1|\n",
            "+---------+-------+------+--------+--------+--------+-------------+---------+--------+---------+---------------+--------------+----+-----+\n",
            "only showing top 5 rows\n",
            "\n"
          ]
        }
      ],
      "source": [
        "data.show(5)"
      ]
    },
    {
      "cell_type": "code",
      "execution_count": 14,
      "metadata": {
        "colab": {
          "base_uri": "https://localhost:8080/"
        },
        "id": "6xME6qhJI4Eh",
        "outputId": "611dda45-273f-4090-e8c1-1c19affa2223"
      },
      "outputs": [
        {
          "name": "stdout",
          "output_type": "stream",
          "text": [
            "+---------+-------+---------+--------+--------+--------+-------------+---------+--------+---------+---------------+--------------+----+-----+---------------+--------------+--------------+------------------+----------------+------------------------+--------+\n",
            "|      lon|    lat|    Rainf|    Evap|AvgSurfT|  Albedo|SoilT_10_40cm|     GVEG| PotEvap|RootMoist|SoilM_100_200cm|SoilT_40_100cm|Year|Month|Rainf_condition|Evap_condition|GVEG_condition|AvgSurfT_condition|Albedo_condition|conditions_fullfiled_sum|Pustynia|\n",
            "+---------+-------+---------+--------+--------+--------+-------------+---------+--------+---------+---------------+--------------+----+-----+---------------+--------------+--------------+------------------+----------------+------------------------+--------+\n",
            "|-112.0625|25.0625|   1.1386|11.99051|288.2954|41.47715|     289.6995|0.1971279|137.6446| 398.8725|       208.2797|          NULL|2023|    1|              1|             1|             1|                 0|               1|                       4|       1|\n",
            "|-111.9375|25.0625|    1.159|11.40101|287.4547|41.50941|     289.5214| 0.198604|152.8735| 375.6453|       192.4112|          NULL|2023|    1|              1|             1|             1|                 0|               1|                       4|       1|\n",
            "|-111.8125|25.0625|    1.179|11.10241|287.6041|41.50537|      289.974|0.1711854|109.3242| 183.8275|       211.5441|          NULL|2023|    1|              1|             1|             1|                 0|               1|                       4|       1|\n",
            "|-111.6875|25.0625|   1.2057|11.20511|287.3168|41.50134|     289.8952|0.1711854|113.2493| 182.3848|       209.8121|          NULL|2023|    1|              1|             1|             1|                 0|               1|                       4|       1|\n",
            "|-111.5625|25.0625|   1.3994|5.355399|286.9062|41.50941|      289.506|0.1429876|161.2215| 204.0871|        231.844|          NULL|2023|    1|              1|             1|             1|                 0|               1|                       4|       1|\n",
            "|-111.4375|25.0625|   0.8996|  4.9681|286.7178|41.51344|     289.2865|0.1297585|163.4695| 202.1711|       230.1258|          NULL|2023|    1|              1|             1|             1|                 0|               1|                       4|       1|\n",
            "|-111.3125|25.0625|   0.8955|7.637102|286.0275|41.51882|     288.5198|0.1319655|179.6817| 356.9712|       180.4236|          NULL|2023|    1|              1|             1|             1|                 0|               1|                       4|       1|\n",
            "|-111.1875|25.0625|   0.8923|7.827907|285.4264|41.52151|     287.9152|0.1393529|178.7225| 350.5096|       175.8517|          NULL|2023|    1|              1|             1|             1|                 0|               1|                       4|       1|\n",
            "|-111.0625|25.0625|   0.9232|7.256195|284.9253|41.52016|     286.7863|0.1193539|179.9106|  393.382|       205.0986|          NULL|2023|    1|              1|             1|             1|                 0|               1|                       4|       1|\n",
            "|-110.9375|25.0625|0.9683999|6.045998|284.7117|41.45968|     285.7591|0.1193539|168.0211| 378.4525|       202.1551|          NULL|2023|    1|              1|             1|             1|                 0|               1|                       4|       1|\n",
            "|-107.9375|25.0625|   2.1056|27.15132|288.5553|27.66398|     291.4174|0.4231338|231.0243| 360.9033|       189.3136|          NULL|2023|    1|              1|             1|             0|                 0|               1|                       3|       1|\n",
            "|-107.8125|25.0625|   1.0892|  25.819|288.1696|26.78763|      291.183|0.4592872| 238.765| 329.6839|       171.7956|          NULL|2023|    1|              1|             1|             0|                 0|               1|                       3|       1|\n",
            "|-107.6875|25.0625|   0.4992|24.38891|288.5614|25.93145|      291.416|0.4841233|244.3852| 305.5965|       157.4008|          NULL|2023|    1|              1|             1|             0|                 0|               0|                       2|       0|\n",
            "|-107.5625|25.0625|   0.3956|21.64668|287.3094|24.99597|     290.2372|0.5036721|237.6166| 235.7349|       106.6828|          NULL|2023|    1|              1|             1|             0|                 0|               0|                       2|       0|\n",
            "|-107.4375|25.0625|    0.437|21.50309|287.7214|24.11962|     290.4908|0.5224055|239.5221| 227.2288|       102.1112|          NULL|2023|    1|              1|             1|             0|                 0|               0|                       2|       0|\n",
            "|-107.3125|25.0625|   0.4166|20.22198|287.7907|23.23656|     290.2794|0.5605538|239.9794| 289.9852|       107.5342|          NULL|2023|    1|              1|             1|             0|                 0|               0|                       2|       0|\n",
            "|-107.1875|25.0625|   0.1872|22.08932| 286.914| 22.1922|     289.3267|0.5946766|240.5036| 298.1964|       118.0622|          NULL|2023|    1|              1|             1|             0|                 0|               0|                       2|       0|\n",
            "|-107.0625|25.0625|    0.249|22.42838|285.2987|20.92339|     287.6922|0.6249209| 233.884| 306.8212|       123.7678|          NULL|2023|    1|              1|             1|             0|                 0|               0|                       2|       0|\n",
            "|-106.9375|25.0625|   0.4224| 21.0241|286.4065|20.73387|     288.2961|0.6249209|239.4225| 294.8727|       110.2794|          NULL|2023|    1|              1|             1|             0|                 0|               0|                       2|       0|\n",
            "|-106.8125|25.0625|   0.6202|19.89951|285.2909|20.75941|     287.0866| 0.630486|235.2631| 298.5257|       109.4712|          NULL|2023|    1|              1|             1|             0|                 0|               0|                       2|       0|\n",
            "+---------+-------+---------+--------+--------+--------+-------------+---------+--------+---------+---------------+--------------+----+-----+---------------+--------------+--------------+------------------+----------------+------------------------+--------+\n",
            "only showing top 20 rows\n",
            "\n"
          ]
        }
      ],
      "source": [
        "result = heuristic_classify(data)\n",
        "result.show(20)"
      ]
    },
    {
      "cell_type": "code",
      "execution_count": 17,
      "metadata": {
        "id": "OpCCeFjcJEwa"
      },
      "outputs": [],
      "source": [
        "save_to_csv(result.drop(\"Rainf_condition\",\"Evap_condition\",\"GVEG_condition\",\"AvgSurfT_condition\",\"Albedo_condition\",\"conditions_fullfiled_sum\"), '/content/drive/MyDrive/BigMess/NASA/NASA_heuristic.csv')"
      ]
    }
  ],
  "metadata": {
    "colab": {
      "authorship_tag": "ABX9TyNilPszzKstjRh2rshluTvs",
      "include_colab_link": true,
      "provenance": []
    },
    "kernelspec": {
      "display_name": "Python 3",
      "name": "python3"
    },
    "language_info": {
      "name": "python"
    }
  },
  "nbformat": 4,
  "nbformat_minor": 0
}
