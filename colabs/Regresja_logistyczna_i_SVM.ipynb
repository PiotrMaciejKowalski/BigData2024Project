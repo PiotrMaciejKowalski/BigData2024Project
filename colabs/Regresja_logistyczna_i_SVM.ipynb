{
  "cells": [
    {
      "cell_type": "code",
      "execution_count": null,
      "metadata": {
        "id": "UZnFrg3nGKzS"
      },
      "outputs": [],
      "source": [
        "!apt-get install openjdk-8-jdk-headless -qq > /dev/null\n",
        "!wget -q dlcdn.apache.org/spark/spark-3.5.0/spark-3.5.0-bin-hadoop3.tgz\n",
        "!tar xf spark-3.5.0-bin-hadoop3.tgz\n",
        "!pip install -q findspark"
      ]
    },
    {
      "cell_type": "code",
      "execution_count": null,
      "metadata": {
        "id": "Pk14nIONJtwN"
      },
      "outputs": [],
      "source": [
        "!pip install datashader\n",
        "\n",
        "\n",
        "!pip install holoviews hvplot colorcet\n",
        "\n",
        "\n",
        "!pip install geoviews"
      ]
    },
    {
      "cell_type": "code",
      "execution_count": null,
      "metadata": {
        "id": "9L-EVtSLGPmO"
      },
      "outputs": [],
      "source": [
        "import os\n",
        "os.environ[\"JAVA_HOME\"] = \"/usr/lib/jvm/java-8-openjdk-amd64\"\n",
        "os.environ[\"SPARK_HOME\"] = \"/content/spark-3.5.0-bin-hadoop3\"\n",
        "\n",
        "import findspark\n",
        "findspark.init()"
      ]
    },
    {
      "cell_type": "code",
      "execution_count": null,
      "metadata": {
        "id": "t7JOVOsePOOH"
      },
      "outputs": [],
      "source": [
        "!git clone https://github.com/PiotrMaciejKowalski/BigData2024Project.git\n",
        "%cd BigData2024Project"
      ]
    },
    {
      "cell_type": "code",
      "execution_count": null,
      "metadata": {
        "id": "IhGNAw5mPWLQ"
      },
      "outputs": [],
      "source": [
        "!chmod 755 /content/BigData2024Project/src/setup.sh\n",
        "!/content/BigData2024Project/src/setup.sh"
      ]
    },
    {
      "cell_type": "code",
      "execution_count": null,
      "metadata": {
        "id": "P0yrfHXunNg9"
      },
      "outputs": [],
      "source": [
        "from pyspark.sql import SparkSession\n",
        "spark = SparkSession.builder\\\n",
        "        .master(\"local\")\\\n",
        "        .appName(\"Colab\")\\\n",
        "        .config('spark.ui.port', '4050')\\\n",
        "        .getOrCreate()"
      ]
    },
    {
      "cell_type": "code",
      "execution_count": null,
      "metadata": {
        "id": "5S8FJzsaPnh4"
      },
      "outputs": [],
      "source": [
        "import sys\n",
        "sys.path.append('/content/BigData2024Project/src')"
      ]
    },
    {
      "cell_type": "code",
      "execution_count": null,
      "metadata": {
        "id": "Q4BnmXDIJl2T"
      },
      "outputs": [],
      "source": [
        "from typing import List, Tuple, Optional\n",
        "import copy\n",
        "import math\n",
        "import random\n",
        "import numpy as np\n",
        "import matplotlib as mpl\n",
        "import pandas as pd\n",
        "from scipy import stats\n",
        "import seaborn as sns\n",
        "import statsmodels.stats.multicomp\n",
        "import statsmodels.api as sm\n",
        "from statsmodels.formula.api import ols\n",
        "from statsmodels.stats.anova import anova_lm\n",
        "from statistics import mean\n",
        "import matplotlib.pyplot as plt\n",
        "from sklearn import preprocessing\n",
        "from sklearn.metrics import accuracy_score, precision_score, jaccard_score, recall_score\n",
        "from sklearn.metrics import roc_auc_score, precision_recall_curve, auc\n",
        "from sklearn.linear_model import LogisticRegression\n",
        "from sklearn.svm import LinearSVC, SVC\n",
        "from sklearn.base import RegressorMixin\n",
        "import datashader as ds\n",
        "import datashader.transfer_functions as tf\n",
        "import colorcet as cc\n",
        "import holoviews as hv\n",
        "import hvplot.pandas\n",
        "from holoviews.operation.datashader import datashade\n",
        "import geoviews as gv\n",
        "import geoviews.tile_sources as gts\n",
        "from holoviews import opts\n",
        "from IPython.display import IFrame\n",
        "from IPython.core.display import display\n",
        "from bokeh.plotting import show, output_notebook\n",
        "\n",
        "from big_mess.loaders import default_loader, preprocessed_loader, load_anotated, save_to_csv"
      ]
    },
    {
      "cell_type": "code",
      "execution_count": null,
      "metadata": {
        "id": "NPKkX8HqG9RP"
      },
      "outputs": [],
      "source": [
        "from google.colab import drive\n",
        "drive.mount('/content/drive')"
      ]
    },
    {
      "cell_type": "markdown",
      "metadata": {
        "id": "R8uOgUa-jqS_"
      },
      "source": [
        "##**Wczytanie danych**"
      ]
    },
    {
      "cell_type": "code",
      "execution_count": null,
      "metadata": {
        "id": "BBmdFndH08la"
      },
      "outputs": [],
      "source": [
        "%%time\n",
        "nasa_full = default_loader(spark)"
      ]
    },
    {
      "cell_type": "code",
      "execution_count": null,
      "metadata": {
        "id": "bIVwUployw-O"
      },
      "outputs": [],
      "source": [
        "nasa_full.createOrReplaceTempView(\"nasa_full\")"
      ]
    },
    {
      "cell_type": "markdown",
      "metadata": {
        "id": "943h8YmTj14N"
      },
      "source": [
        "**Wybieramy do testów miesiące ciepłe (maj, lipiec, sierpień) i dwa miesiące zimowe (grudzień, styczeń) - w oparciu o analizy wyników modelu drzewa decyzyjnego, który gdy trenowany na danych z tych miesięcy, radził sobie najlepiej**"
      ]
    },
    {
      "cell_type": "code",
      "execution_count": null,
      "metadata": {
        "id": "kYGXAsa_eZUx"
      },
      "outputs": [],
      "source": [
        "#May_2019_DF = load_anotated(spark, year=2019, month=5, ).toPandas()\n",
        "#May_2021_DF = load_anotated(spark, year=2021, month=5).toPandas()"
      ]
    },
    {
      "cell_type": "code",
      "execution_count": null,
      "metadata": {
        "id": "T_QSDyxNeV7b"
      },
      "outputs": [],
      "source": [
        "#July_2019_DF = load_anotated(spark, year=2019, month=7).toPandas()\n",
        "#July_2021_DF = load_anotated(spark, year=2021, month=7).toPandas()"
      ]
    },
    {
      "cell_type": "code",
      "execution_count": null,
      "metadata": {
        "id": "oA_z8IMeeIUW"
      },
      "outputs": [],
      "source": [
        "#August_2019_DF = load_anotated(spark, year=2019, month=8).toPandas()\n",
        "#August_2021_DF = load_anotated(spark, year=2021, month=8).toPandas()"
      ]
    },
    {
      "cell_type": "code",
      "execution_count": null,
      "metadata": {
        "id": "BQE3NMHheDVG"
      },
      "outputs": [],
      "source": [
        "#December_2019_DF = load_anotated(spark, year=2019, month=12,).toPandas()\n",
        "#December_2021_DF = load_anotated(spark, year=2021, month=12).toPandas()"
      ]
    },
    {
      "cell_type": "code",
      "execution_count": null,
      "metadata": {
        "id": "yD9HUhiCd9ym"
      },
      "outputs": [],
      "source": [
        "#January_2019_DF = load_anotated(spark, year=2019, month=1).toPandas()\n",
        "#January_2021_DF = load_anotated(spark, year=2021, month=1).toPandas()"
      ]
    },
    {
      "cell_type": "markdown",
      "metadata": {
        "id": "m2TbXn5zcUUk"
      },
      "source": [
        "(Wszystkie te zrzuty do Pandasa zajmują sumarycznie ok. 50 minut. Poniżej trochę szybsza metoda, zajmuje 20 minut:)"
      ]
    },
    {
      "cell_type": "code",
      "execution_count": null,
      "metadata": {
        "id": "yeUhWn5gO20B"
      },
      "outputs": [],
      "source": [
        "nasa_anotated = load_anotated(spark)\n",
        "nasa_anotated.createOrReplaceTempView(\"nasa_anotated\")\n",
        "\n",
        "anotated_coordinates= spark.sql('''SELECT lon, lat, pustynia from nasa_anotated''')\n",
        "anotated_coordinates.show(5)\n",
        "\n",
        "nasa_full_2019 = spark.sql('''SELECT * from nasa_full where Year=2019''')\n",
        "nasa_full_2019.show(5)\n",
        "nasa_full_2021 = spark.sql('''SELECT * from nasa_full where Year=2021''')\n",
        "nasa_full_2019.show(5)\n",
        "\n",
        "nasa_2019_an = nasa_full_2019.join(anotated_coordinates, on=['lon', 'lat'], how='inner').toPandas()\n",
        "nasa_2021_an = nasa_full_2021.join(anotated_coordinates, on=['lon', 'lat'], how='inner').toPandas()"
      ]
    },
    {
      "cell_type": "code",
      "execution_count": null,
      "metadata": {
        "id": "PFMslwL1Zgif"
      },
      "outputs": [],
      "source": [
        "January_2019_DF = pd.DataFrame(data = nasa_2019_an[nasa_2019_an['Month']==1])\n",
        "January_2019_DF.reset_index(inplace=True, drop=True)\n",
        "\n",
        "January_2021_DF = pd.DataFrame(data = nasa_2021_an[nasa_2021_an['Month']==1])\n",
        "January_2021_DF.reset_index(inplace=True, drop=True)\n",
        "\n",
        "May_2019_DF = pd.DataFrame(data = nasa_2019_an[nasa_2019_an['Month']==5])\n",
        "May_2019_DF.reset_index(inplace=True, drop=True)\n",
        "\n",
        "May_2021_DF = pd.DataFrame(data = nasa_2021_an[nasa_2021_an['Month']==5])\n",
        "May_2021_DF.reset_index(inplace=True, drop=True)\n",
        "\n",
        "July_2019_DF = pd.DataFrame(data = nasa_2019_an[nasa_2019_an['Month']==7])\n",
        "July_2019_DF.reset_index(inplace=True, drop=True)\n",
        "\n",
        "July_2021_DF = pd.DataFrame(data = nasa_2021_an[nasa_2021_an['Month']==7])\n",
        "July_2021_DF.reset_index(inplace=True, drop=True)\n",
        "\n",
        "August_2019_DF = pd.DataFrame(data = nasa_2019_an[nasa_2019_an['Month']==8])\n",
        "August_2019_DF.reset_index(inplace=True, drop=True)\n",
        "\n",
        "August_2021_DF = pd.DataFrame(data = nasa_2021_an[nasa_2021_an['Month']==8])\n",
        "August_2021_DF.reset_index(inplace=True, drop=True)\n",
        "\n",
        "December_2019_DF = pd.DataFrame(data = nasa_2019_an[nasa_2019_an['Month']==12])\n",
        "December_2019_DF.reset_index(inplace=True, drop=True)\n",
        "\n",
        "December_2021_DF = pd.DataFrame(data = nasa_2021_an[nasa_2021_an['Month']==12])\n",
        "December_2021_DF.reset_index(inplace=True, drop=True)"
      ]
    },
    {
      "cell_type": "code",
      "execution_count": null,
      "metadata": {
        "id": "7egjJdakxR8q"
      },
      "outputs": [],
      "source": [
        "#Funkcja do generowania podzialu na foldy do crosswalidacji blokowej (spatial block crossvalidation)\n",
        "#kod ze sprintu 1 musiałam zaadaptowac pod Pandasa\n",
        "\n",
        "\n",
        "def get_grid(grid_cell_size: float, min_lat: float, max_lat: float,\n",
        "             min_lon: float, max_lon: float) -> Tuple[List[float], List[float]] :\n",
        " ''' grid_cell_size - the grid cell size (the length of the side of\n",
        "                         a square) in degrees '''\n",
        "\n",
        " area = (max_lat-min_lat)*(max_lon-min_lon)\n",
        " cells_num = area//(grid_cell_size*grid_cell_size)\n",
        " actual_grid_size = math.sqrt(area/cells_num)\n",
        "\n",
        " xx=np.arange(min_lon, max_lon, step = actual_grid_size)\n",
        " yy=np.arange(min_lat, max_lat, step = actual_grid_size)\n",
        "\n",
        " return(xx, yy)\n",
        "\n",
        "def block_partition(df: pd.DataFrame, block_size: float, min_lat: float,\n",
        "                    max_lat: float, min_lon: float, max_lon: float) -> pd.DataFrame :\n",
        "  ''' block_size: approximate size of a block '''\n",
        "\n",
        "  blocked_df = copy.deepcopy(df)\n",
        "  block_number = np.zeros(len(df))\n",
        "  xx, yy = get_grid(block_size, min_lat, max_lat, min_lon, max_lon)\n",
        "\n",
        "  block_count = 0\n",
        "  for y in range(len(yy)-1):\n",
        "    for x in range(len(xx)-1):\n",
        "      block = df[(xx[x]<=df['lon']) & (df['lon'] <= xx[x+1]) & ( yy[y]<= df['lat']) & (df['lat'] <= yy[y+1])]\n",
        "      if len(block)>0:    #checking if block is non-empty\n",
        "         block_number[list(block.index)] = block_count\n",
        "         block_count+=1\n",
        "\n",
        "  blocked_df['block'] = block_number\n",
        "  return blocked_df\n",
        "\n",
        "\n",
        "def Kfolds(df: pd.DataFrame, k : int, random_state: Optional[int]) -> List[pd.DataFrame]:\n",
        "  ''' k - number of folds '''\n",
        "\n",
        "  blocks_num = int(df['block'].max())\n",
        "  blocks_list = [i for i in range(blocks_num+1)]\n",
        "  n = (blocks_num+1)//k\n",
        "  reminder = len(blocks)%k\n",
        "  folds=[]\n",
        "\n",
        "  for i in range(k):\n",
        "      fold = []\n",
        "      for j in range(n):\n",
        "          if random_state:\n",
        "             random.seed(random_state)\n",
        "          r = random.randint(0, len(blocks_list)-1)\n",
        "          fold.append(blocks_list[r])\n",
        "          blocks_list.remove(blocks_list[r])\n",
        "      folds.append(fold)\n",
        "\n",
        "  if reminder!=0:\n",
        "     for b in blocks_list:\n",
        "        if random_state:\n",
        "           random.seed(random_state)\n",
        "        n_fol = random.randint(0, k-1)\n",
        "        folds[n_fol].append(b)\n",
        "        blocks_list.remove(b)\n",
        "\n",
        "  foldsDF_list = []\n",
        "  folds_data = [df[df['block'].isin(fold)] for fold in folds]\n",
        "  foldsDF_list = [pd.DataFrame(data=fold_data) for fold_data in folds_data]\n",
        "  foldsDF_list = [foldDF.drop(columns=['block']) for foldDF in foldsDF_list]\n",
        "\n",
        "  return(foldsDF_list)"
      ]
    },
    {
      "cell_type": "code",
      "execution_count": null,
      "metadata": {
        "id": "8EDhryzRBPhX"
      },
      "outputs": [],
      "source": [
        " min_lat = 25.0625\n",
        " max_lat = 52.9375\n",
        " min_lon = -124.9375\n",
        " max_lon = -67.0625\n",
        "\n",
        "blocks = block_partition(July_2019_DF, 2.5, min_lat, max_lat, min_lon, max_lon)\n",
        "folds = Kfolds(blocks, 6, random_state=3)"
      ]
    },
    {
      "cell_type": "code",
      "execution_count": null,
      "metadata": {
        "id": "848-McxL_86B"
      },
      "outputs": [],
      "source": [
        "for f in folds:\n",
        "  print(len(f))\n",
        "  print(len(f[f['pustynia']==1]))          #dla random_state=3 otrzymujemy podział z rozsadna iloscia pustyn w kazdym foldzie"
      ]
    },
    {
      "cell_type": "markdown",
      "metadata": {
        "id": "r54hsgEtR0Ni"
      },
      "source": [
        "##**Selekcja cech**"
      ]
    },
    {
      "cell_type": "markdown",
      "metadata": {
        "id": "FPOxOUh3aQAy"
      },
      "source": [
        "### **Analiza wariancji ANOVA**"
      ]
    },
    {
      "cell_type": "code",
      "execution_count": null,
      "metadata": {
        "id": "9xJbd5rGFnWy"
      },
      "outputs": [],
      "source": [
        "def test_for_residuals_normality(df: pd.DataFrame, column_name:str):\n",
        "\n",
        "  r1 = df[df['pustynia']==1][column_name] - df[df['pustynia']==1][column_name].mean()\n",
        "  r2 = df[df['pustynia']==0][column_name] - df[df['pustynia']==0][column_name].mean()\n",
        "  x = list(r1) + list(r2)\n",
        "  shapiro = stats.shapiro(x)\n",
        "  print(shapiro)\n",
        "  sm.qqplot(np.array(x), line='s')\n",
        "\n",
        "def OLS_report_and_ANOVA(df: pd.DataFrame, group_column_name: str, feature_column_name: str) -> None:\n",
        "\n",
        "  groups = pd.DataFrame({ group_column_name: df[group_column_name],\n",
        "                         feature_column_name: df[feature_column_name]})\n",
        "  model = sm.OLS(groups[feature_column_name], groups[group_column_name]).fit()\n",
        "  print(model.summary())\n",
        "\n",
        "  groups2 = pd.DataFrame({ 'group': df[group_column_name], 'feature': df[feature_column_name]})\n",
        "  model2 = ols(formula=\"feature~group\", data=groups2).fit()   #anova_lm requires formula.api.ols instead of api.OLS\n",
        "  anova = sm.stats.anova_lm(model2, typ=2)\n",
        "  print(' ')\n",
        "  print('ANOVA results:')\n",
        "  print (anova)\n",
        "\n",
        "\n",
        "def plot_density(df: pd.DataFrame, group_column_name: str, feature_column_name: str, random_state: Optional[int]=13) -> None:\n",
        "\n",
        "  df_groups = pd.DataFrame({'Desert': df[df[group_column_name]==1][feature_column_name],\n",
        "                 'Non-desert': df[df[group_column_name]==0][feature_column_name]})\n",
        "  random.seed(random_state)\n",
        "  desert_sample = random.sample(list(df_groups['Desert'].dropna()), 50)\n",
        "  random.seed(random_state)\n",
        "  nondesert_sample = random.sample(list(df_groups['Non-desert'].dropna()), 50)\n",
        "\n",
        "  samples = pd.DataFrame({'Desert': desert_sample, 'Non-desert': nondesert_sample})\n",
        "  samples.plot.density()\n",
        "\n",
        "\n",
        "def perform_Kruskal_Wallis(df: pd.DataFrame, group_column_name:str, feature_column_name: str, random_state: Optional[int] =13) -> None:\n",
        "\n",
        "  df_groups = pd.DataFrame({'Desert': df[summer_data[group_column_name]==1][feature_column_name],\n",
        "                 'Non-desert': df[summer_data[group_column_name]==0][feature_column_name]})\n",
        "  random.seed(random_state)\n",
        "  desert_sample = random.sample(list(df_groups['Desert'].dropna()), 100)\n",
        "  random.seed(random_state)\n",
        "  nondes_sample = random.sample(list(df_groups['Non-desert'].dropna()), 100)\n",
        "\n",
        "  print(stats.kruskal(desert_sample, nondes_sample))"
      ]
    },
    {
      "cell_type": "markdown",
      "metadata": {
        "id": "IyCK8NczTcQ0"
      },
      "source": [
        "* **DANE LETNIE (lipiec):**"
      ]
    },
    {
      "cell_type": "code",
      "execution_count": null,
      "metadata": {
        "id": "xxPppproTmF3"
      },
      "outputs": [],
      "source": [
        "summer_data = July_2021_DF.drop(columns=['Month', 'Year'])\n",
        "summer_data['P/PET'] = summer_data['Rainf']/summer_data['PotEvap']\n",
        "summer_data.columns"
      ]
    },
    {
      "cell_type": "markdown",
      "metadata": {
        "id": "wk4Yff_WhySt"
      },
      "source": [
        "**1) 'Rainf'**"
      ]
    },
    {
      "cell_type": "code",
      "execution_count": null,
      "metadata": {
        "id": "5CwBo7VidAlI"
      },
      "outputs": [],
      "source": [
        "test_for_residuals_normality(summer_data, 'Rainf')"
      ]
    },
    {
      "cell_type": "code",
      "source": [
        "plot_density(summer_data, 'pustynia', 'Rainf', random_state=13)"
      ],
      "metadata": {
        "id": "sFCM3nnsXGYL"
      },
      "execution_count": null,
      "outputs": []
    },
    {
      "cell_type": "code",
      "execution_count": null,
      "metadata": {
        "id": "V0AuYUBMsiYX"
      },
      "outputs": [],
      "source": [
        "OLS_report_and_ANOVA(summer_data, 'pustynia', 'Rainf')"
      ]
    },
    {
      "cell_type": "code",
      "execution_count": null,
      "metadata": {
        "id": "Z9uyHCHNNxpw"
      },
      "outputs": [],
      "source": [
        "perform_Kruskal_Wallis(summer_data, 'pustynia', 'Rainf', 13)"
      ]
    },
    {
      "cell_type": "markdown",
      "metadata": {
        "id": "sAr2dSSitkkn"
      },
      "source": [
        "**2) 'Evap'**"
      ]
    },
    {
      "cell_type": "code",
      "execution_count": null,
      "metadata": {
        "id": "Mss91xJ1dMvE"
      },
      "outputs": [],
      "source": [
        "test_for_residuals_normality(summer_data, 'Evap')"
      ]
    },
    {
      "cell_type": "code",
      "source": [
        "plot_density(summer_data, 'pustynia', 'Evap', random_state=13)"
      ],
      "metadata": {
        "id": "JPmnKN_MXQRa"
      },
      "execution_count": null,
      "outputs": []
    },
    {
      "cell_type": "code",
      "execution_count": null,
      "metadata": {
        "id": "fUI0q-Gsttdz"
      },
      "outputs": [],
      "source": [
        "OLS_report_and_ANOVA(summer_data, 'pustynia', 'Evap')"
      ]
    },
    {
      "cell_type": "code",
      "execution_count": null,
      "metadata": {
        "id": "UdhDrVpAQ51q"
      },
      "outputs": [],
      "source": [
        "perform_Kruskal_Wallis(summer_data, 'pustynia', 'Evap', 13)"
      ]
    },
    {
      "cell_type": "markdown",
      "metadata": {
        "id": "iyT-kpKd2V4D"
      },
      "source": [
        "**3) 'AvgSurfT'**\n"
      ]
    },
    {
      "cell_type": "code",
      "execution_count": null,
      "metadata": {
        "id": "9LsnxclmdTkT"
      },
      "outputs": [],
      "source": [
        "test_for_residuals_normality(summer_data, 'AvgSurfT')"
      ]
    },
    {
      "cell_type": "code",
      "source": [
        "plot_density(summer_data, 'pustynia', 'AvgSurfT', random_state=13)"
      ],
      "metadata": {
        "id": "uYpjfKsTXYf1"
      },
      "execution_count": null,
      "outputs": []
    },
    {
      "cell_type": "code",
      "execution_count": null,
      "metadata": {
        "id": "FUp6y4eT2ZgA"
      },
      "outputs": [],
      "source": [
        "OLS_report_and_ANOVA(summer_data, 'pustynia', 'AvgSurfT')"
      ]
    },
    {
      "cell_type": "code",
      "execution_count": null,
      "metadata": {
        "id": "W2-w_zuPRGUZ"
      },
      "outputs": [],
      "source": [
        "perform_Kruskal_Wallis(summer_data, 'pustynia', 'AvgSurfT', 13)"
      ]
    },
    {
      "cell_type": "markdown",
      "metadata": {
        "id": "XjHk7tij3MHA"
      },
      "source": [
        "**4) 'Albedo'**"
      ]
    },
    {
      "cell_type": "code",
      "execution_count": null,
      "metadata": {
        "id": "tJeOz-j9dwQq"
      },
      "outputs": [],
      "source": [
        "test_for_residuals_normality(summer_data, 'Albedo')"
      ]
    },
    {
      "cell_type": "code",
      "source": [
        "plot_density(summer_data, 'pustynia', 'Albedo', random_state=13)"
      ],
      "metadata": {
        "id": "Ea2tAawvXvJq"
      },
      "execution_count": null,
      "outputs": []
    },
    {
      "cell_type": "code",
      "execution_count": null,
      "metadata": {
        "id": "aEE1T6rf3S-e"
      },
      "outputs": [],
      "source": [
        "OLS_report_and_ANOVA(summer_data, 'pustynia', 'Albedo')"
      ]
    },
    {
      "cell_type": "code",
      "execution_count": null,
      "metadata": {
        "id": "ZQTQ00GGRRoj"
      },
      "outputs": [],
      "source": [
        "perform_Kruskal_Wallis(summer_data, 'pustynia', 'Albedo', 13)"
      ]
    },
    {
      "cell_type": "markdown",
      "metadata": {
        "id": "iIqEmLYJ3sFO"
      },
      "source": [
        "**5) 'SoilT_40_100cm'**"
      ]
    },
    {
      "cell_type": "code",
      "execution_count": null,
      "metadata": {
        "id": "1Kj6w7OTdzrz"
      },
      "outputs": [],
      "source": [
        "test_for_residuals_normality(summer_data, 'SoilT_40_100cm')"
      ]
    },
    {
      "cell_type": "code",
      "source": [
        "plot_density(summer_data, 'pustynia', 'SoilT_40_100cm')"
      ],
      "metadata": {
        "id": "gCIBZWKJYXF_"
      },
      "execution_count": null,
      "outputs": []
    },
    {
      "cell_type": "code",
      "execution_count": null,
      "metadata": {
        "id": "rmWRh3dr3wVE"
      },
      "outputs": [],
      "source": [
        "OLS_report_and_ANOVA(summer_data, 'pustynia', 'SoilT_40_100cm')"
      ]
    },
    {
      "cell_type": "code",
      "execution_count": null,
      "metadata": {
        "id": "6cdN9jR0RZ4R"
      },
      "outputs": [],
      "source": [
        "perform_Kruskal_Wallis(summer_data, 'pustynia', 'SoilT_40_100cm', 13)"
      ]
    },
    {
      "cell_type": "markdown",
      "metadata": {
        "id": "VxUP_9unt-9P"
      },
      "source": [
        "**6) 'GVEG'**"
      ]
    },
    {
      "cell_type": "code",
      "execution_count": null,
      "metadata": {
        "id": "dXDs_yANeq_J"
      },
      "outputs": [],
      "source": [
        "test_for_residuals_normality(summer_data, 'GVEG')"
      ]
    },
    {
      "cell_type": "code",
      "source": [
        "plot_density(summer_data, 'pustynia', 'GVEG', random_state=13)"
      ],
      "metadata": {
        "id": "zraWorpeZo-L"
      },
      "execution_count": null,
      "outputs": []
    },
    {
      "cell_type": "code",
      "execution_count": null,
      "metadata": {
        "id": "u6cg2DmquHND"
      },
      "outputs": [],
      "source": [
        "OLS_report_and_ANOVA(summer_data, 'pustynia', 'GVEG')"
      ]
    },
    {
      "cell_type": "code",
      "execution_count": null,
      "metadata": {
        "id": "HshH_ikeRo7c"
      },
      "outputs": [],
      "source": [
        "perform_Kruskal_Wallis(summer_data, 'pustynia', 'GVEG', 13)"
      ]
    },
    {
      "cell_type": "markdown",
      "metadata": {
        "id": "vPE4HkUZ5KEq"
      },
      "source": [
        "**7) 'PotEvap'**"
      ]
    },
    {
      "cell_type": "code",
      "execution_count": null,
      "metadata": {
        "id": "clfMBr08e2dQ"
      },
      "outputs": [],
      "source": [
        "test_for_residuals_normality(summer_data, 'PotEvap')"
      ]
    },
    {
      "cell_type": "code",
      "source": [
        "plot_density(summer_data, 'pustynia', 'PotEvap', random_state=13)"
      ],
      "metadata": {
        "id": "kw-9rB-LfC5h"
      },
      "execution_count": null,
      "outputs": []
    },
    {
      "cell_type": "code",
      "execution_count": null,
      "metadata": {
        "id": "B_z1Kbcn2MKF"
      },
      "outputs": [],
      "source": [
        "OLS_report_and_ANOVA(summer_data, 'pustynia', 'PotEvap')"
      ]
    },
    {
      "cell_type": "code",
      "execution_count": null,
      "metadata": {
        "id": "nfop1Y6TRz9f"
      },
      "outputs": [],
      "source": [
        "perform_Kruskal_Wallis(summer_data, 'pustynia', 'PotEvap', 13)"
      ]
    },
    {
      "cell_type": "markdown",
      "metadata": {
        "id": "o_b29ED17ChN"
      },
      "source": [
        "**8) 'RootMoist'**"
      ]
    },
    {
      "cell_type": "code",
      "execution_count": null,
      "metadata": {
        "id": "sJ7r-4Vre5ug"
      },
      "outputs": [],
      "source": [
        "test_for_residuals_normality(summer_data, 'RootMoist')"
      ]
    },
    {
      "cell_type": "code",
      "source": [
        "plot_density(summer_data, 'pustynia', 'RootMoist', random_state=13)"
      ],
      "metadata": {
        "id": "bFxP9VO6glKR"
      },
      "execution_count": null,
      "outputs": []
    },
    {
      "cell_type": "code",
      "execution_count": null,
      "metadata": {
        "id": "eTxtaWZm7HMX"
      },
      "outputs": [],
      "source": [
        "OLS_report_and_ANOVA(summer_data, 'pustynia', 'RootMoist')"
      ]
    },
    {
      "cell_type": "code",
      "execution_count": null,
      "metadata": {
        "id": "J_RGoWX6R__v"
      },
      "outputs": [],
      "source": [
        "perform_Kruskal_Wallis(summer_data, 'pustynia','RootMoist', 13)"
      ]
    },
    {
      "cell_type": "markdown",
      "metadata": {
        "id": "Bu22UKLi8y6q"
      },
      "source": [
        "**9) 'SoilM_100_200cm'**"
      ]
    },
    {
      "cell_type": "code",
      "execution_count": null,
      "metadata": {
        "id": "vQM6Ra-OfGjs"
      },
      "outputs": [],
      "source": [
        "test_for_residuals_normality(summer_data, 'SoilM_100_200cm')"
      ]
    },
    {
      "cell_type": "code",
      "source": [
        "plot_density(summer_data, 'pustynia', 'SoilM_100_200cm', random_state=13)"
      ],
      "metadata": {
        "id": "CsHjQodbhn-n"
      },
      "execution_count": null,
      "outputs": []
    },
    {
      "cell_type": "code",
      "execution_count": null,
      "metadata": {
        "id": "ESdYEFOO83rW"
      },
      "outputs": [],
      "source": [
        "OLS_report_and_ANOVA(summer_data, 'pustynia', 'SoilM_100_200cm')"
      ]
    },
    {
      "cell_type": "code",
      "execution_count": null,
      "metadata": {
        "id": "nAKNhTMvSOar"
      },
      "outputs": [],
      "source": [
        "perform_Kruskal_Wallis(summer_data, 'pustynia', 'SoilM_100_200cm', 13)"
      ]
    },
    {
      "cell_type": "markdown",
      "source": [
        "**10) Nowa proponowana zmienna: 'Rainf'/'PotEvap'**"
      ],
      "metadata": {
        "id": "KwljpyqZYQdf"
      }
    },
    {
      "cell_type": "code",
      "source": [
        "test_for_residuals_normality(summer_data, 'P/PET')"
      ],
      "metadata": {
        "id": "B0Gg6uRkYl2u"
      },
      "execution_count": null,
      "outputs": []
    },
    {
      "cell_type": "code",
      "source": [
        "plot_density(summer_data, 'pustynia', 'P/PET', random_state=13)"
      ],
      "metadata": {
        "id": "7Yc3Yja6iFuj"
      },
      "execution_count": null,
      "outputs": []
    },
    {
      "cell_type": "code",
      "source": [
        "OLS_report_and_ANOVA(summer_data, 'pustynia', 'P/PET')"
      ],
      "metadata": {
        "id": "TMjbYcAiYuhd"
      },
      "execution_count": null,
      "outputs": []
    },
    {
      "cell_type": "code",
      "source": [
        "perform_Kruskal_Wallis(summer_data, 'pustynia', 'P/PET', 13)"
      ],
      "metadata": {
        "id": "ee6VhsQnY9OM"
      },
      "execution_count": null,
      "outputs": []
    },
    {
      "cell_type": "markdown",
      "metadata": {
        "id": "9DcgBZSv-CBZ"
      },
      "source": [
        "* **DANE ZIMOWE (grudzień):**"
      ]
    },
    {
      "cell_type": "code",
      "execution_count": null,
      "metadata": {
        "id": "cG1NjOMU-PGi"
      },
      "outputs": [],
      "source": [
        "winter_data = December_2021_DF.drop(columns=['Month', 'Year'])"
      ]
    },
    {
      "cell_type": "markdown",
      "metadata": {
        "id": "kqWuqqm_fYQ9"
      },
      "source": [
        "**1) 'Rainf'**"
      ]
    },
    {
      "cell_type": "code",
      "execution_count": null,
      "metadata": {
        "id": "QR6CWWmVQpB-"
      },
      "outputs": [],
      "source": [
        "test_for_residuals_normality(winter_data, 'Rainf')"
      ]
    },
    {
      "cell_type": "code",
      "source": [
        "plot_density(winter_data, 'pustynia', 'Rainf', random_state=13)"
      ],
      "metadata": {
        "id": "z2bCebytnY2H"
      },
      "execution_count": null,
      "outputs": []
    },
    {
      "cell_type": "code",
      "execution_count": null,
      "metadata": {
        "id": "ZfzR-y7V-jW1"
      },
      "outputs": [],
      "source": [
        "OLS_report_and_ANOVA(winter_data, 'pustynia', 'Rainf')"
      ]
    },
    {
      "cell_type": "code",
      "execution_count": null,
      "metadata": {
        "id": "2T8AktGeSjMT"
      },
      "outputs": [],
      "source": [
        "perform_Kruskal_Wallis(winter_data, 'pustynia', 'Rainf', 13)"
      ]
    },
    {
      "cell_type": "markdown",
      "metadata": {
        "id": "segzaQK3ffCO"
      },
      "source": [
        "**2) 'Evap'**"
      ]
    },
    {
      "cell_type": "code",
      "execution_count": null,
      "metadata": {
        "id": "spMiU9OxfmPD"
      },
      "outputs": [],
      "source": [
        "test_for_residuals_normality(winter_data, 'Evap')"
      ]
    },
    {
      "cell_type": "code",
      "source": [
        "plot_density(winter_data, 'pustynia', 'Evap', random_state=13)"
      ],
      "metadata": {
        "id": "MdCJOuCCoHmX"
      },
      "execution_count": null,
      "outputs": []
    },
    {
      "cell_type": "code",
      "execution_count": null,
      "metadata": {
        "id": "gRusg2Cw-sLh"
      },
      "outputs": [],
      "source": [
        "OLS_report_and_ANOVA(winter_data, 'pustynia','Evap')"
      ]
    },
    {
      "cell_type": "code",
      "execution_count": null,
      "metadata": {
        "id": "qXfRc17QTl1c"
      },
      "outputs": [],
      "source": [
        "perform_Kruskal_Wallis(winter_data, 'pustynia','Evap', 13)"
      ]
    },
    {
      "cell_type": "markdown",
      "metadata": {
        "id": "ma-UrYIafv8U"
      },
      "source": [
        "**3) 'AvgSurfT'**"
      ]
    },
    {
      "cell_type": "code",
      "execution_count": null,
      "metadata": {
        "id": "2QOp-30jf_Td"
      },
      "outputs": [],
      "source": [
        "test_for_residuals_normality(winter_data, 'AvgSurfT')"
      ]
    },
    {
      "cell_type": "code",
      "source": [
        "plot_density(winter_data, 'pustynia', 'AvgSurfT', random_state=13)"
      ],
      "metadata": {
        "id": "JRPHBPl7qQSS"
      },
      "execution_count": null,
      "outputs": []
    },
    {
      "cell_type": "code",
      "execution_count": null,
      "metadata": {
        "id": "scQnm9ra-6CK"
      },
      "outputs": [],
      "source": [
        "OLS_report_and_ANOVA(winter_data, 'pustynia', 'AvgSurfT')"
      ]
    },
    {
      "cell_type": "code",
      "execution_count": null,
      "metadata": {
        "id": "ZAvCQdirUMNd"
      },
      "outputs": [],
      "source": [
        "perform_Kruskal_Wallis(winter_data, 'pustynia', 'AvgSurfT', 13)"
      ]
    },
    {
      "cell_type": "markdown",
      "metadata": {
        "id": "VzBOcNH2gEu_"
      },
      "source": [
        "**4) 'Albedo'**"
      ]
    },
    {
      "cell_type": "code",
      "execution_count": null,
      "metadata": {
        "id": "7_RWfewugN-1"
      },
      "outputs": [],
      "source": [
        "test_for_residuals_normality(winter_data, 'Albedo')"
      ]
    },
    {
      "cell_type": "code",
      "source": [
        "plot_density(winter_data, 'pustynia', 'Albedo')"
      ],
      "metadata": {
        "id": "0O8OIxXxsaxG"
      },
      "execution_count": null,
      "outputs": []
    },
    {
      "cell_type": "code",
      "source": [
        "OLS_report_and_ANOVA(winter_data, 'pustynia', 'Albedo')"
      ],
      "metadata": {
        "id": "OUp_uTBbsjn0"
      },
      "execution_count": null,
      "outputs": []
    },
    {
      "cell_type": "code",
      "execution_count": null,
      "metadata": {
        "id": "7JSqlowvUZ4N"
      },
      "outputs": [],
      "source": [
        "perform_Kruskal_Wallis(winter_data, 'pustynia', 'Albedo', 13)"
      ]
    },
    {
      "cell_type": "markdown",
      "metadata": {
        "id": "yv-LfmP3gX4_"
      },
      "source": [
        "**5) 'SoilT_40_100cm'**"
      ]
    },
    {
      "cell_type": "code",
      "execution_count": null,
      "metadata": {
        "id": "cqMKg81tggiH"
      },
      "outputs": [],
      "source": [
        "test_for_residuals_normality(winter_data, 'SoilT_40_100cm')"
      ]
    },
    {
      "cell_type": "code",
      "source": [
        "plot_density(winter_data, 'pustynia', 'SoilT_40_100cm', random_state=13)"
      ],
      "metadata": {
        "id": "EqM1v-i7tUcn"
      },
      "execution_count": null,
      "outputs": []
    },
    {
      "cell_type": "code",
      "execution_count": null,
      "metadata": {
        "id": "ADgbgbZB_Q9j"
      },
      "outputs": [],
      "source": [
        "OLS_report_and_ANOVA(winter_data, 'pustynia', 'SoilT_40_100cm')"
      ]
    },
    {
      "cell_type": "code",
      "execution_count": null,
      "metadata": {
        "id": "3Fdyh7rwZIai"
      },
      "outputs": [],
      "source": [
        "perform_Kruskal_Wallis(winter_data, 'pustynia', 'SoilT_40_100cm', 13)"
      ]
    },
    {
      "cell_type": "markdown",
      "metadata": {
        "id": "Guzo0QWUg3JB"
      },
      "source": [
        "**6) 'GVEG'**"
      ]
    },
    {
      "cell_type": "code",
      "execution_count": null,
      "metadata": {
        "id": "1NMmfHz1g6O8"
      },
      "outputs": [],
      "source": [
        "test_for_residuals_normality(winter_data, 'GVEG')"
      ]
    },
    {
      "cell_type": "code",
      "source": [
        "plot_density(winter_data, 'pustynia', 'GVEG', random_state=13)"
      ],
      "metadata": {
        "id": "TrNHSJAjt0bo"
      },
      "execution_count": null,
      "outputs": []
    },
    {
      "cell_type": "code",
      "execution_count": null,
      "metadata": {
        "id": "ECFuHtwzATav"
      },
      "outputs": [],
      "source": [
        "OLS_report_and_ANOVA(winter_data, 'pustynia', 'GVEG')"
      ]
    },
    {
      "cell_type": "code",
      "execution_count": null,
      "metadata": {
        "id": "mBfJKxZfZUf_"
      },
      "outputs": [],
      "source": [
        "perform_Kruskal_Wallis(winter_data, 'pustynia', 'GVEG', 13)"
      ]
    },
    {
      "cell_type": "markdown",
      "metadata": {
        "id": "j6kby9klhE5V"
      },
      "source": [
        "**7) 'PotEvap'**"
      ]
    },
    {
      "cell_type": "code",
      "execution_count": null,
      "metadata": {
        "id": "BQ2Y114vhJsk"
      },
      "outputs": [],
      "source": [
        "test_for_residuals_normality(winter_data, 'PotEvap')"
      ]
    },
    {
      "cell_type": "code",
      "source": [
        "plot_density(winter_data, 'pustynia', 'PotEvap', random_state=13)"
      ],
      "metadata": {
        "id": "iCyPprbquuQT"
      },
      "execution_count": null,
      "outputs": []
    },
    {
      "cell_type": "code",
      "execution_count": null,
      "metadata": {
        "id": "hsF3zlSIhNXB"
      },
      "outputs": [],
      "source": [
        "OLS_report_and_ANOVA(winter_data, 'pustynia', 'PotEvap')"
      ]
    },
    {
      "cell_type": "code",
      "source": [
        "perform_Kruskal_Wallis(winter_data, 'pustynia', 'PotEvap', 13)"
      ],
      "metadata": {
        "id": "7tA8-q2aKx-H"
      },
      "execution_count": null,
      "outputs": []
    },
    {
      "cell_type": "markdown",
      "metadata": {
        "id": "FhBPMq2MhSn2"
      },
      "source": [
        "**8) 'RootMoist'**"
      ]
    },
    {
      "cell_type": "code",
      "execution_count": null,
      "metadata": {
        "id": "rvXRJlrchcgG"
      },
      "outputs": [],
      "source": [
        "test_for_residuals_normality(winter_data, 'RootMoist')"
      ]
    },
    {
      "cell_type": "code",
      "source": [
        "plot_density(winter_data, 'pustynia', 'RootMoist', random_state=13)"
      ],
      "metadata": {
        "id": "xq_lB0zav46V"
      },
      "execution_count": null,
      "outputs": []
    },
    {
      "cell_type": "code",
      "execution_count": null,
      "metadata": {
        "id": "JvtEZ_PyhhmL"
      },
      "outputs": [],
      "source": [
        "OLS_report_and_ANOVA(winter_data, 'pustynia', 'RootMoist')"
      ]
    },
    {
      "cell_type": "code",
      "execution_count": null,
      "metadata": {
        "id": "P_EpAuuaZzza"
      },
      "outputs": [],
      "source": [
        "perform_Kruskal_Wallis(winter_data, 'pustynia', 'RootMoist', 13)"
      ]
    },
    {
      "cell_type": "markdown",
      "metadata": {
        "id": "cNguYFJ1h9Zc"
      },
      "source": [
        "**9) 'SoilM_100_200cm'**"
      ]
    },
    {
      "cell_type": "code",
      "execution_count": null,
      "metadata": {
        "id": "HwvbVPtSiHH9"
      },
      "outputs": [],
      "source": [
        "test_for_residuals_normality(winter_data, 'SoilM_100_200cm')"
      ]
    },
    {
      "cell_type": "code",
      "source": [
        "plot_density(winter_data, 'pustynia', 'SoilM_100_200cm', random_state=13)"
      ],
      "metadata": {
        "id": "2wmg7aYE3ykQ"
      },
      "execution_count": null,
      "outputs": []
    },
    {
      "cell_type": "code",
      "execution_count": null,
      "metadata": {
        "id": "jl-64v_AigDf"
      },
      "outputs": [],
      "source": [
        "OLS_report_and_ANOVA(winter_data, 'pustynia', 'SoilM_100_200cm')"
      ]
    },
    {
      "cell_type": "code",
      "execution_count": null,
      "metadata": {
        "id": "WOte5UD0aD2F"
      },
      "outputs": [],
      "source": [
        "perform_Kruskal_Wallis(winter_data, 'pustynia', 'SoilM_100_200cm', 13)"
      ]
    },
    {
      "cell_type": "markdown",
      "metadata": {
        "id": "Swfx9XDlZptO"
      },
      "source": [
        "###**Analiza korelacji**"
      ]
    },
    {
      "cell_type": "markdown",
      "metadata": {
        "id": "johjCmISbFkD"
      },
      "source": [
        "* **DANE LETNIE (lipiec):**"
      ]
    },
    {
      "cell_type": "code",
      "execution_count": null,
      "metadata": {
        "id": "_Nwbwojjzr7R"
      },
      "outputs": [],
      "source": [
        "full_summer_data = spark.sql('''SELECT * from nasa_full WHERE Month = 7 AND (Year = 2021 OR Year = 2019)''').toPandas()\n",
        "full_summer_data = full_summer_data.drop(columns=['Month', 'Year', 'lon', 'lat'])"
      ]
    },
    {
      "cell_type": "code",
      "execution_count": null,
      "metadata": {
        "id": "jbdBSCC4czhO"
      },
      "outputs": [],
      "source": [
        "corr = full_summer_data.corr(method = \"pearson\")\n",
        "cmap = sns.diverging_palette(250, 323, 80, 60, center='dark', as_cmap=True)\n",
        "sns.heatmap(corr, vmax =1, vmin=-0.3, cmap = cmap, square = True, linewidths = 0.2, annot=True)"
      ]
    },
    {
      "cell_type": "code",
      "execution_count": null,
      "metadata": {
        "id": "MC0QlfN7dOKy"
      },
      "outputs": [],
      "source": [
        "sns.pairplot(data=full_summer_data, diag_kind='kde')"
      ]
    },
    {
      "cell_type": "markdown",
      "metadata": {
        "id": "ggsb3IhSdyAV"
      },
      "source": [
        "* **DANE ZIMOWE (grudzień):**"
      ]
    },
    {
      "cell_type": "code",
      "execution_count": null,
      "metadata": {
        "id": "lQipVS_TeMtw"
      },
      "outputs": [],
      "source": [
        "full_winter_data = spark.sql('''SELECT * from nasa_full WHERE Month = 12 AND (Year = 2021 OR Year = 2019)''').toPandas()\n",
        "full_winter_data = full_winter_data.drop(columns=['Month', 'Year', 'lon', 'lat'])"
      ]
    },
    {
      "cell_type": "code",
      "execution_count": null,
      "metadata": {
        "id": "aMFIiAmxeS_b"
      },
      "outputs": [],
      "source": [
        "corr = full_winter_data.corr(method = \"pearson\")\n",
        "cmap = sns.diverging_palette(250, 323, 80, 60, center='dark', as_cmap=True)\n",
        "sns.heatmap(corr, vmax =1, vmin=-0.3, cmap = cmap, square = True, linewidths = 0.2, annot=True)"
      ]
    },
    {
      "cell_type": "code",
      "execution_count": null,
      "metadata": {
        "id": "GnnIt9HreYFb"
      },
      "outputs": [],
      "source": [
        "sns.pairplot(data=full_winter_data, diag_kind='kde')"
      ]
    },
    {
      "cell_type": "markdown",
      "metadata": {
        "id": "6cSAOLySLTb8"
      },
      "source": [
        "**Wnioski**:\n",
        "* zarówno dla danych letnich jak i zimowych występuje silna korelacja liniowa pomiędzy zmienną **AvgSurfT** i **SoilT_40_100cm** (współczynnik korelacji Pearsona równy **0.91** w przypadku danych letnich i **0.92** w przypadku danych zimowych + patrz wykres)\n",
        "* Zmienna **AvgSurfT** jest **ZIMĄ** dość mocno skorelowana z **PotEvap** (wsp. Pearsona = **0.83**)\n",
        "* Zmienna **SoilT_40_100cm** jest **ZIMĄ** dość mocno skorelowana z **PotEvap** (wsp. Pearsona = **0.88**)\n",
        "\n",
        "* Testy ANOVA i Kruskala-Wallisa dają w niektórych przypadkach niestabilne wyniki (dla różnych wartości seedów otrzymujemy p_value< 0.05, a czasem powyżej 0.05 dla niektórych analizowanych zmiennych - np. dla Albedo dla danych zimowych), w dodatku nie są spełnione założenia testu ANOVA - rezyduły (residuals) nie mają rozkładu normalnego (wedle testu Shapiro-Wilka) - dlatego wykonano dodatkowo test Kruskala-Wallisa.\n",
        "\n",
        "* Pomimo wyżej wymienionych ograniczeń związanych z interpretowaniem wyników testów wydaje się zasadnym wyciągnięcie wniosku o braku istnienia statystycznie istotnej różnicy pomiędzy grupami dla parametru **Rainf** w sezonie **zimowym**."
      ]
    },
    {
      "cell_type": "markdown",
      "metadata": {
        "id": "TSgniUj9hkj0"
      },
      "source": [
        "# **REGRESJA LOGISTYCZNA**"
      ]
    },
    {
      "cell_type": "code",
      "execution_count": null,
      "metadata": {
        "id": "rDmUfm8VE5-Z"
      },
      "outputs": [],
      "source": [
        "def Kfolds_crossvalidation( model: RegressorMixin, folds: np.ndarray, folds_labels: List[List[int]]) -> dict:\n",
        "\n",
        " validation_accuracy = []\n",
        " validation_recall = []\n",
        " validation_precision = []\n",
        " validation_ROCAUC = []\n",
        " validation_jaccard = []\n",
        "\n",
        " k=len(folds)\n",
        " for i in range(k):\n",
        "       X_test = folds[i]\n",
        "       y_test = folds_labels[i]\n",
        "       train_folds = [fold for fold in folds if fold.tolist() != folds[i].tolist()]\n",
        "       train_labels = [labels for labels in folds_labels if labels != folds_labels[i]]\n",
        "       X_train = np.concatenate(train_folds)\n",
        "       y_train = np.concatenate(train_labels)\n",
        "       trained_model = model.fit(X_train, y_train)\n",
        "       y_pred = trained_model.predict(X_test)\n",
        "       validation_accuracy.append(accuracy_score(y_test, y_pred))\n",
        "       validation_recall.append(recall_score(y_test, y_pred))\n",
        "       validation_precision.append(precision_score(y_test, y_pred, zero_division=0))\n",
        "       validation_ROCAUC.append(roc_auc_score(y_test, y_pred))\n",
        "       validation_jaccard.append(jaccard_score(y_test, y_pred))\n",
        "\n",
        "       results = {'accuracy': mean(validation_accuracy),\n",
        "                 'recall': mean(validation_recall),\n",
        "                 'precision': mean(validation_precision),\n",
        "                  'ROC-AUC': mean(validation_ROCAUC),\n",
        "                  'jaccard_score': mean(validation_jaccard)}\n",
        "\n",
        " return results"
      ]
    },
    {
      "cell_type": "code",
      "execution_count": null,
      "metadata": {
        "id": "uzt-8g5Yj8r4"
      },
      "outputs": [],
      "source": [
        "def data_standarization(df: pd.DataFrame) -> np.ndarray:\n",
        "    ''' the function performs data standarization\n",
        "        on data stored in given pandas DataFrame '''\n",
        "\n",
        "    scaler = preprocessing.StandardScaler()\n",
        "    standarized = scaler.fit_transform(df)\n",
        "\n",
        "    return standarized"
      ]
    },
    {
      "cell_type": "code",
      "source": [
        "def GridSearchCV_LogisticRegression(folds: np.ndarray, folds_labels: List[List[int]], param_grid: dict) -> pd.DataFrame:\n",
        "  all_res = dict({'penalty': [], 'solver': [], 'class_weight': [], 'C': [], 'accuracy': [], 'recall': [],\n",
        "                      'precision': [], 'ROC-AUC': [], 'jaccard_score': []})\n",
        "\n",
        "  for penalty in param_grid['penalty']:\n",
        "    for weight in param_grid['class_weight']:\n",
        "      for solver in param_grid['solver']:\n",
        "         for c in param_grid['C']:\n",
        "            model = LogisticRegression(penalty=penalty, class_weight = weight, solver=solver, C=c, max_iter=10000)\n",
        "            results = {'penalty': penalty, 'solver': solver, 'class_weight': str(weight), 'C': c}\n",
        "            crossval_results = Kfolds_crossvalidation(model, folds, folds_labels)\n",
        "            results.update(crossval_results)\n",
        "            results_sorted = dict({key : results[key] for key in all_res.keys()})\n",
        "            all_res = {key: all_res[key] + [results_sorted[key]] for key in all_res}\n",
        "\n",
        "  cross_results = pd.DataFrame(data=all_res)\n",
        "  return cross_results"
      ],
      "metadata": {
        "id": "3E0xAF466-xp"
      },
      "execution_count": null,
      "outputs": []
    },
    {
      "cell_type": "markdown",
      "metadata": {
        "id": "zVBXedgboLSM"
      },
      "source": [
        "\n",
        "\"Our work has shown that regularization is effective at minimizing accuracy differences between feature scaling schema such that the choice of scaling isn’t as critical as a non-regularized model. Despite the bias control effect of regularization, the predictive performance results indicate that standardization is a fit and normalization is a misfit for logistic regression.\"\n",
        "(https://towardsdatascience.com/logistic-regression-and-the-feature-scaling-ensemble-e78a56fc6c1)\n",
        "\n",
        "Zgodnie z powyższą konkluzją zastosujemy standaryzację danych."
      ]
    },
    {
      "cell_type": "markdown",
      "metadata": {
        "id": "xvftGjfuhqT0"
      },
      "source": [
        " ## **Modele na danych LETNICH**"
      ]
    },
    {
      "cell_type": "markdown",
      "metadata": {
        "id": "MTdllYWuhxTt"
      },
      "source": [
        "### **Model I:**"
      ]
    },
    {
      "cell_type": "markdown",
      "metadata": {
        "id": "ZJ6mNRfXiorq"
      },
      "source": [
        " **cechy**:\n",
        "* 'Rainf'\n",
        "* 'Evap'\n",
        "* 'AvgSurfT'\n",
        "* 'Albedo'\n",
        "* 'GVEG'\n",
        "* 'PotEvap'\n",
        "* 'RootMoist'\n",
        "* 'SoilM_100_200cm'   \n",
        "  usuwamy **'SoilT_40_100cm'**\n",
        "\n",
        "\n",
        "\n"
      ]
    },
    {
      "cell_type": "markdown",
      "metadata": {
        "id": "8XSp-iBJFcTX"
      },
      "source": [
        "**Dane z lipca**"
      ]
    },
    {
      "cell_type": "code",
      "execution_count": null,
      "metadata": {
        "id": "NPchAtUtFqe_"
      },
      "outputs": [],
      "source": [
        "#Splitting into folds\n",
        "blocks = block_partition(July_2019_DF, 2.5, min_lat, max_lat, min_lon, max_lon)\n",
        "folds_July_2019 = Kfolds(blocks, 6, random_state=3)\n",
        "folds_07_2019_labels = [list(fold['pustynia']) for fold in folds_July_2019]"
      ]
    },
    {
      "cell_type": "code",
      "execution_count": null,
      "metadata": {
        "id": "0vPGZD30GLOI"
      },
      "outputs": [],
      "source": [
        "#Data standarization\n",
        "folds_July_2019 = [fold.drop(columns=['lon', 'lat', 'Year', 'Month','pustynia','SoilT_40_100cm'])\n",
        "                   for fold in folds_July_2019]\n",
        "folds_07_2019_stand = [data_standarization(fold) for fold in folds_July_2019]"
      ]
    },
    {
      "cell_type": "code",
      "execution_count": null,
      "metadata": {
        "id": "UgedCkMrNI_H"
      },
      "outputs": [],
      "source": [
        "param_grid = {'penalty': ['l2'],\n",
        "              'class_weight': [None, 'balanced', {1:2, 0:1}, {1:1.5, 0:1}],\n",
        "              'solver': ['sag', 'saga', 'newton-cholesky', 'lbfgs'],\n",
        "              'C':[200, 100, 20, 10, 1.5, 1, 0.8, 0.5] }\n",
        "\n",
        "param_grid2 = {'penalty': ['l1'],\n",
        "              'class_weight': [None, 'balanced', {1:2, 0:1}, {1:1.5, 0:1}],\n",
        "              'solver': ['liblinear', 'saga'],\n",
        "              'C':[200, 100, 20, 10, 1.5, 1, 0.8, 0.5] }"
      ]
    },
    {
      "cell_type": "code",
      "execution_count": null,
      "metadata": {
        "id": "xa4XnWnPaeDc"
      },
      "outputs": [],
      "source": [
        "results = GridSearchCV_LogisticRegression(folds_07_2019_stand, folds_07_2019_labels, param_grid)"
      ]
    },
    {
      "cell_type": "code",
      "source": [
        "results2 = GridSearchCV_LogisticRegression(folds_07_2019_stand, folds_07_2019_labels, param_grid2)"
      ],
      "metadata": {
        "id": "mp0nRNM3EBlk"
      },
      "execution_count": null,
      "outputs": []
    },
    {
      "cell_type": "code",
      "source": [
        "all_results = pd.concat([results, results2], ignore_index=True)\n",
        "all_results.sort_values(by=['precision','jaccard_score'], ascending=False).head(25)"
      ],
      "metadata": {
        "id": "ApUXFNE-mWEt"
      },
      "execution_count": null,
      "outputs": []
    },
    {
      "cell_type": "markdown",
      "metadata": {
        "id": "nI6YBuQg8m_M"
      },
      "source": [
        "**Dane z sierpnia**"
      ]
    },
    {
      "cell_type": "code",
      "execution_count": null,
      "metadata": {
        "id": "-2fKyuJz8xWW"
      },
      "outputs": [],
      "source": [
        "#Splitting into folds\n",
        "blocks = block_partition(August_2019_DF, 2.5, min_lat, max_lat, min_lon, max_lon)\n",
        "folds_August_2019 = Kfolds(blocks, 6, random_state=3)\n",
        "folds_08_2019_labels = [list(fold['pustynia']) for fold in folds_August_2019]"
      ]
    },
    {
      "cell_type": "code",
      "execution_count": null,
      "metadata": {
        "id": "p3Gzy77Z9OtQ"
      },
      "outputs": [],
      "source": [
        "#Data standarization\n",
        "folds_August_2019 = [fold.drop(columns=['lon', 'lat', 'Year', 'Month','pustynia','SoilT_40_100cm'])\n",
        "                   for fold in folds_August_2019]\n",
        "folds_08_2019_stand = [data_standarization(fold) for fold in folds_August_2019]"
      ]
    },
    {
      "cell_type": "code",
      "source": [
        "results = GridSearchCV_LogisticRegression(folds_08_2019_stand, folds_08_2019_labels, param_grid)\n",
        "results2 = GridSearchCV_LogisticRegression(folds_08_2019_stand, folds_08_2019_labels, param_grid2)"
      ],
      "metadata": {
        "id": "Z7Gz7yoaFeI6"
      },
      "execution_count": null,
      "outputs": []
    },
    {
      "cell_type": "code",
      "source": [
        "allresults= pd.concat([results, results2], ignore_index=True)"
      ],
      "metadata": {
        "id": "7A0tP8ngDE1s"
      },
      "execution_count": null,
      "outputs": []
    },
    {
      "cell_type": "code",
      "source": [
        "allresults.sort_values(by=['accuracy','jaccard_score'], ascending=False)"
      ],
      "metadata": {
        "id": "mRPrz8JMjB5f"
      },
      "execution_count": null,
      "outputs": []
    },
    {
      "cell_type": "code",
      "source": [
        "allresults.sort_values(by='precision', ascending=False)"
      ],
      "metadata": {
        "id": "k9O66Vn1FlJI"
      },
      "execution_count": null,
      "outputs": []
    },
    {
      "cell_type": "markdown",
      "metadata": {
        "id": "_KVwJ0_w-Lb6"
      },
      "source": [
        "**Dane z maja**"
      ]
    },
    {
      "cell_type": "code",
      "execution_count": null,
      "metadata": {
        "id": "bcMfgyvI-OQU"
      },
      "outputs": [],
      "source": [
        "#Splitting into folds\n",
        "blocks = block_partition(May_2019_DF, 2.5, min_lat, max_lat, min_lon, max_lon)\n",
        "folds_May_2019 = Kfolds(blocks, 6, random_state=3)\n",
        "folds_05_2019_labels = [list(fold['pustynia']) for fold in folds_May_2019]"
      ]
    },
    {
      "cell_type": "code",
      "execution_count": null,
      "metadata": {
        "id": "cqj_eAh7-p7-"
      },
      "outputs": [],
      "source": [
        "#Data standarization\n",
        "folds_May_2019 = [fold.drop(columns=['lon', 'lat', 'Year', 'Month','pustynia','SoilT_40_100cm'])\n",
        "                   for fold in folds_May_2019]\n",
        "folds_05_2019_stand = [data_standarization(fold) for fold in folds_May_2019]"
      ]
    },
    {
      "cell_type": "code",
      "execution_count": null,
      "metadata": {
        "id": "iZh72Xmo_Jik"
      },
      "outputs": [],
      "source": [
        "results = GridSearchCV_LogisticRegression(folds_05_2019_stand, folds_05_2019_labels, param_grid)"
      ]
    },
    {
      "cell_type": "code",
      "source": [
        "results2 = GridSearchCV_LogisticRegression(folds_05_2019_stand, folds_05_2019_labels, param_grid2)"
      ],
      "metadata": {
        "id": "tgDC0QGed4_T"
      },
      "execution_count": null,
      "outputs": []
    },
    {
      "cell_type": "code",
      "source": [
        "all_results = pd.concat([results, results2], ignore_index=True)"
      ],
      "metadata": {
        "id": "2gDRxpa5d9lu"
      },
      "execution_count": null,
      "outputs": []
    },
    {
      "cell_type": "code",
      "source": [
        "all_results.sort_values(by=['precision', 'jaccard_score'], ascending=False)"
      ],
      "metadata": {
        "id": "tfmb8ZmvldUf"
      },
      "execution_count": null,
      "outputs": []
    },
    {
      "cell_type": "markdown",
      "metadata": {
        "id": "qK1lidBPf3Rr"
      },
      "source": [
        "## **Model II:**\n"
      ]
    },
    {
      "cell_type": "markdown",
      "metadata": {
        "id": "VEt_veKZgyG7"
      },
      "source": [
        "**cechy** z Modelu I plus nowa cecha: Rainf/PotEvap (inspirowana aridity index)\n",
        "\n",
        "**cechy**:\n",
        "* 'Rainf'\n",
        "* 'Evap'\n",
        "* 'AvgSurf'\n",
        "* 'Albedo'\n",
        "* 'GVEG'\n",
        "* 'RootMoist'\n",
        "* 'SoilM_100_200cm'\n",
        "* **'Rainf'/'PotEvap'**"
      ]
    },
    {
      "cell_type": "markdown",
      "metadata": {
        "id": "ZyVV1ygZhNi_"
      },
      "source": [
        "**Dane z lipca**"
      ]
    },
    {
      "cell_type": "code",
      "execution_count": null,
      "metadata": {
        "id": "ANXG-lV7hPuT"
      },
      "outputs": [],
      "source": [
        "July_2019_DF2 = copy.deepcopy(July_2019_DF)\n",
        "July_2019_DF2['Rainf/PotEvap'] = (July_2019_DF2['Rainf']/July_2019_DF2['PotEvap'])\n",
        "#Splitting into folds\n",
        "blocks = block_partition(July_2019_DF2, 2.5, min_lat, max_lat, min_lon, max_lon)\n",
        "folds_July_2019 = Kfolds(blocks, 6, random_state=3)\n",
        "folds_07_2019_labels = [list(fold['pustynia']) for fold in folds_July_2019]"
      ]
    },
    {
      "cell_type": "code",
      "execution_count": null,
      "metadata": {
        "id": "BOzLVyxrhxI2"
      },
      "outputs": [],
      "source": [
        "#Data standarization\n",
        "folds_July_2019 = [ fold.drop(columns=['lon', 'lat', 'Year', 'Month','pustynia','SoilT_40_100cm', 'PotEvap'])\n",
        "                   for fold in folds_July_2019]\n",
        "folds_07_2019_stand2 = [data_standarization(fold) for fold in folds_July_2019]"
      ]
    },
    {
      "cell_type": "code",
      "execution_count": null,
      "metadata": {
        "id": "PfcTEGT8z_3z"
      },
      "outputs": [],
      "source": [
        "results = GridSearchCV_LogisticRegression(folds_07_2019_stand2, folds_07_2019_labels, param_grid)"
      ]
    },
    {
      "cell_type": "code",
      "execution_count": null,
      "metadata": {
        "id": "WEThdTWa06aR"
      },
      "outputs": [],
      "source": [
        "results2 = GridSearchCV_LogisticRegression(folds_07_2019_stand2, folds_07_2019_labels, param_grid2)"
      ]
    },
    {
      "cell_type": "code",
      "source": [
        "all_results = pd.concat([results, results2], ignore_index=True)\n",
        "all_results.sort_values(by=['precision','recall'], ascending=False)"
      ],
      "metadata": {
        "id": "AAP6QZn-q1XD"
      },
      "execution_count": null,
      "outputs": []
    },
    {
      "cell_type": "markdown",
      "metadata": {
        "id": "KHrche6WCoZv"
      },
      "source": [
        "**Dane z maja**"
      ]
    },
    {
      "cell_type": "code",
      "execution_count": null,
      "metadata": {
        "id": "BBlpMjH2Crqv"
      },
      "outputs": [],
      "source": [
        "May_2019_DF2 = copy.deepcopy(May_2019_DF)\n",
        "May_2019_DF2['Rainf/PotEvap'] = (May_2019_DF2['Rainf']/May_2019_DF2['PotEvap'])\n",
        "#Splitting into folds\n",
        "blocks = block_partition(May_2019_DF2, 2.5, min_lat, max_lat, min_lon, max_lon)\n",
        "folds_May_2019 = Kfolds(blocks, 6, random_state=3)\n",
        "folds_05_2019_labels = [list(fold['pustynia']) for fold in folds_May_2019]\n",
        "\n",
        "#Data standarization\n",
        "folds_May_2019 = [fold.drop(columns=['lon', 'lat', 'Year', 'Month','pustynia','AvgSurfT'])\n",
        "                   for fold in folds_May_2019]\n",
        "folds_05_2019_stand2 = [data_standarization(fold) for fold in folds_May_2019]"
      ]
    },
    {
      "cell_type": "code",
      "execution_count": null,
      "metadata": {
        "id": "XTAeziVODY6r"
      },
      "outputs": [],
      "source": [
        "results = GridSearchCV_LogisticRegression(folds_05_2019_stand2, folds_05_2019_labels, param_grid)"
      ]
    },
    {
      "cell_type": "code",
      "execution_count": null,
      "metadata": {
        "id": "OIwdtSxcDuY1"
      },
      "outputs": [],
      "source": [
        "results2 = GridSearchCV_LogisticRegression(folds_05_2019_stand2, folds_05_2019_labels, param_grid2)"
      ]
    },
    {
      "cell_type": "code",
      "source": [
        "all_results = pd.concat([results, results2], ignore_index=True)\n",
        "all_results.sort_values(by=['precision','recall'], ascending=False)"
      ],
      "metadata": {
        "id": "KwxJ-vxgekjl"
      },
      "execution_count": null,
      "outputs": []
    },
    {
      "cell_type": "markdown",
      "metadata": {
        "id": "sEp6KkGwPQ1w"
      },
      "source": [
        "**Dane z sierpnia**"
      ]
    },
    {
      "cell_type": "code",
      "execution_count": null,
      "metadata": {
        "id": "XG5T36MaPT9s"
      },
      "outputs": [],
      "source": [
        "August_2019_DF2 = copy.deepcopy(August_2019_DF)\n",
        "August_2019_DF2['Rainf/PotEvap'] = (August_2019_DF2['Rainf']/August_2019_DF2['PotEvap'])\n",
        "#Splitting into folds\n",
        "blocks = block_partition(August_2019_DF2, 2.5, min_lat, max_lat, min_lon, max_lon)\n",
        "folds_August_2019 = Kfolds(blocks, 6, random_state=3)\n",
        "folds_08_2019_labels = [list(fold['pustynia']) for fold in folds_August_2019]\n",
        "\n",
        "#Data standarization\n",
        "folds_August_2019 = [fold.drop(columns=['lon', 'lat', 'Year', 'Month','pustynia','AvgSurfT'])\n",
        "                   for fold in folds_August_2019]\n",
        "folds_08_2019_stand2 = [data_standarization(fold) for fold in folds_August_2019]"
      ]
    },
    {
      "cell_type": "code",
      "source": [
        "results = GridSearchCV_LogisticRegression(folds_08_2019_stand2, folds_08_2019_labels, param_grid)"
      ],
      "metadata": {
        "id": "ETAOGnOofXT2"
      },
      "execution_count": null,
      "outputs": []
    },
    {
      "cell_type": "code",
      "source": [
        "results2 = GridSearchCV_LogisticRegression(folds_08_2019_stand2, folds_08_2019_labels, param_grid2)"
      ],
      "metadata": {
        "id": "VDo8FPzDfb9I"
      },
      "execution_count": null,
      "outputs": []
    },
    {
      "cell_type": "code",
      "source": [
        "all_results = pd.concat([results, results2], ignore_index=True)\n",
        "all_results.sort_values(by=['precision','recall'], ascending=False)"
      ],
      "metadata": {
        "id": "x08WB7KEhg-B"
      },
      "execution_count": null,
      "outputs": []
    },
    {
      "cell_type": "markdown",
      "metadata": {
        "id": "a3FUarZChjCv"
      },
      "source": [
        "### **Model III**"
      ]
    },
    {
      "cell_type": "markdown",
      "metadata": {
        "id": "X0WaJkXFhvu5"
      },
      "source": [
        "**cechy**:\n",
        "* 'Rainf'\n",
        "* 'GVEG'\n",
        "* 'Evap'\n",
        "* 'PotEvap'\n",
        "* 'Rainf'/'PotEvap'"
      ]
    },
    {
      "cell_type": "markdown",
      "metadata": {
        "id": "XZCM6_G2iffv"
      },
      "source": [
        "**Dane z lipca**"
      ]
    },
    {
      "cell_type": "code",
      "execution_count": null,
      "metadata": {
        "id": "s56GuWExawfw"
      },
      "outputs": [],
      "source": [
        "#Splitting into folds\n",
        "blocks = block_partition(July_2019_DF2, 2.5, min_lat, max_lat, min_lon, max_lon)\n",
        "folds_July_2019 = Kfolds(blocks, 6, random_state=3)\n",
        "folds_07_2019_labels = [list(fold['pustynia']) for fold in folds_July_2019]\n",
        "\n",
        "#Data standarization\n",
        "folds_July_2019 = [fold.drop(columns=['lon', 'lat', 'Year', 'Month','pustynia','SoilT_40_100cm', 'Albedo', 'AvgSurfT', 'RootMoist', 'SoilM_100_200cm'])\n",
        "                   for fold in folds_July_2019]\n",
        "folds_07_2019_stand3 = [data_standarization(fold) for fold in folds_July_2019]\n"
      ]
    },
    {
      "cell_type": "code",
      "source": [
        "results = GridSearchCV_LogisticRegression(folds_07_2019_stand3, folds_07_2019_labels, param_grid)"
      ],
      "metadata": {
        "id": "pba2h1NOhuRa"
      },
      "execution_count": null,
      "outputs": []
    },
    {
      "cell_type": "code",
      "source": [
        "results2 = GridSearchCV_LogisticRegression(folds_07_2019_stand3, folds_07_2019_labels, param_grid2)"
      ],
      "metadata": {
        "id": "dY2Dliukhxo-"
      },
      "execution_count": null,
      "outputs": []
    },
    {
      "cell_type": "code",
      "execution_count": null,
      "metadata": {
        "id": "2_4saK8imS6S"
      },
      "outputs": [],
      "source": [
        "all_results = pd.concat([results, results2], ignore_index=True)\n",
        "all_results.sort_values(by=['precision','recall'], ascending=False)"
      ]
    },
    {
      "cell_type": "markdown",
      "metadata": {
        "id": "TbBT2bcDikNl"
      },
      "source": [
        "**Dane z maja**"
      ]
    },
    {
      "cell_type": "code",
      "execution_count": null,
      "metadata": {
        "id": "gGU5Db6VmCuW"
      },
      "outputs": [],
      "source": [
        "#Splitting into folds\n",
        "blocks = block_partition(May_2019_DF2, 2.5, min_lat, max_lat, min_lon, max_lon)\n",
        "folds_May_2019 = Kfolds(blocks, 6, random_state=3)\n",
        "folds_05_2019_labels = [list(fold['pustynia']) for fold in folds_May_2019]\n",
        "\n",
        "#Data standarization\n",
        "folds_May_2019 = [fold.drop(columns=['lon', 'lat', 'Year', 'Month','pustynia','SoilT_40_100cm', 'Albedo', 'AvgSurfT', 'RootMoist', 'SoilM_100_200cm'])\n",
        "                   for fold in folds_May_2019]\n",
        "folds_05_2019_stand3 = [data_standarization(fold) for fold in folds_May_2019]"
      ]
    },
    {
      "cell_type": "code",
      "source": [
        "results = GridSearchCV_LogisticRegression(folds_05_2019_stand3, folds_05_2019_labels, param_grid)"
      ],
      "metadata": {
        "id": "qMczxP3xlnTl"
      },
      "execution_count": null,
      "outputs": []
    },
    {
      "cell_type": "code",
      "source": [
        "results2 = GridSearchCV_LogisticRegression(folds_05_2019_stand3, folds_05_2019_labels, param_grid2)"
      ],
      "metadata": {
        "id": "CdCEHvaqlw-u"
      },
      "execution_count": null,
      "outputs": []
    },
    {
      "cell_type": "code",
      "execution_count": null,
      "metadata": {
        "id": "XqbNS1tOmjXn"
      },
      "outputs": [],
      "source": [
        "all_results = pd.concat([results, results2], ignore_index=True)\n",
        "all_results.sort_values(by=['precision','recall'], ascending=False)"
      ]
    },
    {
      "cell_type": "markdown",
      "source": [
        "**Dane z sierpnia**"
      ],
      "metadata": {
        "id": "76omfkdhm70Q"
      }
    },
    {
      "cell_type": "code",
      "source": [
        "#Splitting into folds\n",
        "blocks = block_partition(August_2019_DF2, 2.5, min_lat, max_lat, min_lon, max_lon)\n",
        "folds_August_2019 = Kfolds(blocks, 6, random_state=3)\n",
        "folds_08_2019_labels = [list(fold['pustynia']) for fold in folds_August_2019]\n",
        "\n",
        "#Data standarization\n",
        "folds_August_2019 = [fold.drop(columns=['lon', 'lat', 'Year', 'Month','pustynia','SoilT_40_100cm', 'Albedo', 'AvgSurfT', 'RootMoist', 'SoilM_100_200cm'])\n",
        "                   for fold in folds_August_2019]\n",
        "folds_08_2019_stand3 = [data_standarization(fold) for fold in folds_August_2019]"
      ],
      "metadata": {
        "id": "h23mYEEomVJO"
      },
      "execution_count": null,
      "outputs": []
    },
    {
      "cell_type": "code",
      "source": [
        "results = GridSearchCV_LogisticRegression(folds_08_2019_stand3, folds_08_2019_labels, param_grid)"
      ],
      "metadata": {
        "id": "4Uqc6NyZmmDl"
      },
      "execution_count": null,
      "outputs": []
    },
    {
      "cell_type": "code",
      "source": [
        "results = GridSearchCV_LogisticRegression(folds_08_2019_stand3, folds_08_2019_labels, param_grid2)"
      ],
      "metadata": {
        "id": "MQe7O7JTmoi2"
      },
      "execution_count": null,
      "outputs": []
    },
    {
      "cell_type": "code",
      "source": [
        "all_results = pd.concat([results, results2], ignore_index=True)\n",
        "all_results.sort_values(by=['precision','recall'], ascending=False)"
      ],
      "metadata": {
        "id": "wnw-u_lumt0b"
      },
      "execution_count": null,
      "outputs": []
    },
    {
      "cell_type": "markdown",
      "metadata": {
        "id": "Ev2Fr0eOFJ2e"
      },
      "source": [
        "## **Modele na danych ZIMOWYCH**"
      ]
    },
    {
      "cell_type": "markdown",
      "metadata": {
        "id": "IKVLiTJaFP3y"
      },
      "source": [
        "###**Model I**"
      ]
    },
    {
      "cell_type": "markdown",
      "metadata": {
        "id": "2F-QYB13FTX9"
      },
      "source": [
        " **cechy**:\n",
        "* 'Rainf'\n",
        "* 'Evap'\n",
        "* 'AvgSurfT'\n",
        "* 'Albedo'\n",
        "* 'GVEG'\n",
        "* 'PotEvap'\n",
        "* 'RootMoist'\n",
        "* 'SoilM_100_200cm'   \n",
        "  usuwamy **'SoilT_40_100cm'**\n"
      ]
    },
    {
      "cell_type": "markdown",
      "metadata": {
        "id": "2KtmE601HSJi"
      },
      "source": [
        "**Dane z grudnia**"
      ]
    },
    {
      "cell_type": "code",
      "execution_count": null,
      "metadata": {
        "id": "6Of7Rgk7GRaV"
      },
      "outputs": [],
      "source": [
        "#Splitting into folds\n",
        "blocks = block_partition(December_2019_DF, 2.5, min_lat, max_lat, min_lon, max_lon)\n",
        "folds_December_2019 = Kfolds(blocks, 6, random_state=3)\n",
        "folds_12_2019_labels = [list(fold['pustynia']) for fold in folds_December_2019]\n",
        "\n",
        "#Data standarization\n",
        "folds_December_2019 = [fold.drop(columns=['lon', 'lat', 'Year', 'Month','pustynia','SoilT_40_100cm'])\n",
        "                   for fold in folds_December_2019]\n",
        "folds_12_2019_stand = [data_standarization(fold) for fold in folds_December_2019]"
      ]
    },
    {
      "cell_type": "code",
      "execution_count": null,
      "metadata": {
        "id": "dsyEV86LG3UY"
      },
      "outputs": [],
      "source": [
        "results = GridSearchCV_LogisticRegression(folds_12_2019_stand, folds_12_2019_labels, param_grid)"
      ]
    },
    {
      "cell_type": "code",
      "source": [
        "results2 = GridSearchCV_LogisticRegression(folds_12_2019_stand, folds_12_2019_labels, param_grid2)"
      ],
      "metadata": {
        "id": "j85SKIgvoN9D"
      },
      "execution_count": null,
      "outputs": []
    },
    {
      "cell_type": "code",
      "execution_count": null,
      "metadata": {
        "id": "Uh1Z1kCvG6xZ"
      },
      "outputs": [],
      "source": [
        "all_results = pd.concat([results, results2], ignore_index=True)\n",
        "all_results.sort_values(by=['precision','recall'], ascending=False)"
      ]
    },
    {
      "cell_type": "markdown",
      "metadata": {
        "id": "_wInc_koHXbW"
      },
      "source": [
        "**Dane ze stycznia**"
      ]
    },
    {
      "cell_type": "code",
      "execution_count": null,
      "metadata": {
        "id": "y_rLDoGRHbUO"
      },
      "outputs": [],
      "source": [
        "#Splitting into folds\n",
        "blocks = block_partition(January_2019_DF, 2.5, min_lat, max_lat, min_lon, max_lon)\n",
        "folds_January_2019 = Kfolds(blocks, 6, random_state=3)\n",
        "folds_01_2019_labels = [list(fold['pustynia']) for fold in folds_January_2019]\n",
        "\n",
        "#Data standarization\n",
        "folds_January_2019 = [fold.drop(columns=['lon', 'lat', 'Year', 'Month','pustynia','SoilT_40_100cm'])\n",
        "                   for fold in folds_January_2019]\n",
        "folds_01_2019_stand = [data_standarization(fold) for fold in folds_January_2019]"
      ]
    },
    {
      "cell_type": "code",
      "execution_count": null,
      "metadata": {
        "id": "nAa4uRKfIIlH"
      },
      "outputs": [],
      "source": [
        "results = GridSearchCV_LogisticRegression(folds_01_2019_stand, folds_01_2019_labels, param_grid)"
      ]
    },
    {
      "cell_type": "code",
      "source": [
        "results2 = GridSearchCV_LogisticRegression(folds_01_2019_stand, folds_01_2019_labels, param_grid2)"
      ],
      "metadata": {
        "id": "jCXy_gLMotYj"
      },
      "execution_count": null,
      "outputs": []
    },
    {
      "cell_type": "code",
      "source": [
        "all_results = pd.concat([results, results2], ignore_index=True)\n",
        "all_results.sort_values(by=['precision','recall'], ascending=False)"
      ],
      "metadata": {
        "id": "f4n8jtfvpPIs"
      },
      "execution_count": null,
      "outputs": []
    },
    {
      "cell_type": "markdown",
      "metadata": {
        "id": "GzfQFiMeI3LH"
      },
      "source": [
        "### **Model II**"
      ]
    },
    {
      "cell_type": "markdown",
      "metadata": {
        "id": "b8q5N2ndJPkD"
      },
      "source": [
        " **cechy**:\n",
        "* 'Rainf'\n",
        "* 'Evap'\n",
        "* 'AvgSurfT'\n",
        "* 'Albedo'\n",
        "* 'GVEG'\n",
        "* 'RootMoist'\n",
        "* 'SoilM_100_200cm'   \n",
        "  usuwamy **'SoilT_40_100cm'** oraz **'PotEvap'**\n"
      ]
    },
    {
      "cell_type": "markdown",
      "metadata": {
        "id": "tXTGx0LCLNUH"
      },
      "source": [
        "**Dane z grudnia**"
      ]
    },
    {
      "cell_type": "code",
      "execution_count": null,
      "metadata": {
        "id": "9qN-wC0dJgcx"
      },
      "outputs": [],
      "source": [
        "#Splitting into folds\n",
        "blocks = block_partition(December_2019_DF, 2.5, min_lat, max_lat, min_lon, max_lon)\n",
        "folds_December_2019 = Kfolds(blocks, 6, random_state=3)\n",
        "folds_12_2019_labels = [list(fold['pustynia']) for fold in folds_December_2019]\n",
        "\n",
        "#Data standarization\n",
        "folds_December_2019 = [fold.drop(columns=['lon', 'lat', 'Year', 'Month','pustynia','SoilT_40_100cm', 'PotEvap'])\n",
        "                   for fold in folds_December_2019]\n",
        "folds_12_2019_stand2 = [data_standarization(fold) for fold in folds_December_2019]"
      ]
    },
    {
      "cell_type": "code",
      "execution_count": null,
      "metadata": {
        "id": "wX18pXMZJwXe"
      },
      "outputs": [],
      "source": [
        "results = GridSearchCV_LogisticRegression(folds_12_2019_stand2, folds_12_2019_labels, param_grid)\n",
        "results2 = GridSearchCV_LogisticRegression(folds_12_2019_stand2, folds_12_2019_labels, param_grid2)"
      ]
    },
    {
      "cell_type": "code",
      "execution_count": null,
      "metadata": {
        "id": "c71XFJoyKCa9"
      },
      "outputs": [],
      "source": [
        "all_results = pd.concat([results, results2], ignore_index=True)\n",
        "all_results.sort_values(by=['precision','recall'], ascending=False)"
      ]
    },
    {
      "cell_type": "markdown",
      "metadata": {
        "id": "vyTsusJALmq6"
      },
      "source": [
        "###**Model III**"
      ]
    },
    {
      "cell_type": "markdown",
      "metadata": {
        "id": "HdmRUWluLtoY"
      },
      "source": [
        " **cechy**:  \n",
        "* 'Evap'\n",
        "* 'AvgSurfT'\n",
        "* 'Albedo'\n",
        "* 'GVEG'\n",
        "* 'RootMoist'\n",
        "* 'SoilM_100_200cm'   \n",
        "  usuwamy **'SoilT_40_100cm'** oraz **'PotEvap'** oraz **'Rainf'**"
      ]
    },
    {
      "cell_type": "markdown",
      "metadata": {
        "id": "vj_LWACyMHfS"
      },
      "source": [
        "**Dane z grudnia**"
      ]
    },
    {
      "cell_type": "code",
      "execution_count": null,
      "metadata": {
        "id": "zf1CLjVEMPS1"
      },
      "outputs": [],
      "source": [
        "#Splitting into folds\n",
        "blocks = block_partition(December_2019_DF, 2.5, min_lat, max_lat, min_lon, max_lon)\n",
        "folds_December_2019 = Kfolds(blocks, 6, random_state=3)\n",
        "folds_12_2019_labels = [list(fold['pustynia']) for fold in folds_December_2019]\n",
        "\n",
        "#Data standarization\n",
        "folds_December_2019 = [fold.drop(columns=['lon', 'lat', 'Year', 'Month','pustynia','SoilT_40_100cm','Rainf', 'PotEvap'])\n",
        "                   for fold in folds_December_2019]\n",
        "folds_12_2019_stand3= [data_standarization(fold) for fold in folds_December_2019]"
      ]
    },
    {
      "cell_type": "code",
      "execution_count": null,
      "metadata": {
        "id": "ujIYMQ-BMvMY"
      },
      "outputs": [],
      "source": [
        "results = GridSearchCV_LogisticRegression(folds_12_2019_stand3, folds_12_2019_labels, param_grid)\n",
        "results2 = GridSearchCV_LogisticRegression(folds_12_2019_stand3, folds_12_2019_labels, param_grid2)"
      ]
    },
    {
      "cell_type": "code",
      "execution_count": null,
      "metadata": {
        "id": "327jRMHVM14N"
      },
      "outputs": [],
      "source": [
        "all_results = pd.concat([results, results2], ignore_index=True)\n",
        "all_results.sort_values(by=['precision', 'recall'], ascending=False).head(20)"
      ]
    },
    {
      "cell_type": "markdown",
      "metadata": {
        "id": "0HZl3s42M_MO"
      },
      "source": [
        "###**Model IV**"
      ]
    },
    {
      "cell_type": "markdown",
      "metadata": {
        "id": "cMV3gRPzNDNa"
      },
      "source": [
        " **cechy**:  \n",
        "* 'Evap'\n",
        "* 'AvgSurfT'\n",
        "* 'Albedo'\n",
        "* 'GVEG'\n",
        "* 'PotEvap'\n",
        "* 'RootMoist'\n",
        "* 'SoilM_100_200cm'   \n",
        "  usuwamy **'SoilT_40_100cm'** oraz **'AvgSurfT'** oraz **'Rainf'**"
      ]
    },
    {
      "cell_type": "markdown",
      "metadata": {
        "id": "R7_k6sNCNbC3"
      },
      "source": [
        "**Dane z grudnia**"
      ]
    },
    {
      "cell_type": "code",
      "execution_count": null,
      "metadata": {
        "id": "cdfToly7Nc-I"
      },
      "outputs": [],
      "source": [
        "#Splitting into folds\n",
        "blocks = block_partition(December_2019_DF, 2.5, min_lat, max_lat, min_lon, max_lon)\n",
        "folds_December_2019 = Kfolds(blocks, 6, random_state=3)\n",
        "folds_12_2019_labels = [list(fold['pustynia']) for fold in folds_December_2019]\n",
        "\n",
        "#Data standarization\n",
        "folds_December_2019 = [fold.drop(columns=['lon', 'lat', 'Year', 'Month','pustynia','SoilT_40_100cm', 'AvgSurfT', 'Rainf'])\n",
        "                   for fold in folds_December_2019]\n",
        "folds_12_2019_stand4 = [data_standarization(fold) for fold in folds_December_2019]"
      ]
    },
    {
      "cell_type": "code",
      "source": [
        "results = GridSearchCV_LogisticRegression(folds_12_2019_stand4, folds_12_2019_labels, param_grid)\n",
        "results2 = GridSearchCV_LogisticRegression(folds_12_2019_stand4, folds_12_2019_labels, param_grid2)"
      ],
      "metadata": {
        "id": "W6zN9ql8r55g"
      },
      "execution_count": null,
      "outputs": []
    },
    {
      "cell_type": "code",
      "execution_count": null,
      "metadata": {
        "id": "TtvxkbkkNseJ"
      },
      "outputs": [],
      "source": [
        "all_results = pd.concat([results, results2], ignore_index=True)\n",
        "all_results.sort_values(by=['precision','recall'], ascending=False)"
      ]
    },
    {
      "cell_type": "markdown",
      "metadata": {
        "id": "3CdMH2_yVjgA"
      },
      "source": [
        "### **Model V**\n"
      ]
    },
    {
      "cell_type": "markdown",
      "metadata": {
        "id": "5OB68jK3VpQ_"
      },
      "source": [
        " **cechy**:\n",
        "* 'Rainf'\n",
        "* 'Evap'\n",
        "* 'AvgSurfT'\n",
        "* 'GVEG'\n",
        "* 'PotEvap'\n",
        "* 'RootMoist'\n",
        "* 'SoilM_100_200cm'   \n",
        "  usuwamy **'SoilT_40_100cm'** oraz **'Rainf'** oraz **'Albedo'**"
      ]
    },
    {
      "cell_type": "markdown",
      "metadata": {
        "id": "wdMdtAOpWEB-"
      },
      "source": [
        "**Dane z grudnia**"
      ]
    },
    {
      "cell_type": "code",
      "execution_count": null,
      "metadata": {
        "id": "BSQgJ0k_V-uO"
      },
      "outputs": [],
      "source": [
        "#Splitting into folds\n",
        "blocks = block_partition(December_2019_DF, 2.5, min_lat, max_lat, min_lon, max_lon)\n",
        "folds_December_2019 = Kfolds(blocks, 6, random_state=3)\n",
        "folds_12_2019_labels = [list(fold['pustynia']) for fold in folds_December_2019]\n",
        "\n",
        "#Data standarization\n",
        "folds_December_2019 = [fold.drop(columns=['lon', 'lat', 'Year', 'Month','pustynia','SoilT_40_100cm', 'Rainf', 'Albedo'])\n",
        "                   for fold in folds_December_2019]\n",
        "folds_12_2019_stand5 = [data_standarization(fold) for fold in folds_December_2019]"
      ]
    },
    {
      "cell_type": "code",
      "execution_count": null,
      "metadata": {
        "id": "jH5TETULV77R"
      },
      "outputs": [],
      "source": [
        "results = GridSearchCV_LogisticRegression(folds_12_2019_stand5, folds_12_2019_labels, param_grid)\n",
        "results2 = GridSearchCV_LogisticRegression(folds_12_2019_stand5, folds_12_2019_labels, param_grid2)"
      ]
    },
    {
      "cell_type": "code",
      "execution_count": null,
      "metadata": {
        "id": "zbZqnKVUY0WH"
      },
      "outputs": [],
      "source": [
        "all_results = pd.concat([results, results2], ignore_index=True)\n",
        "all_results.sort_values(by=['precision','recall'], ascending=False)"
      ]
    },
    {
      "cell_type": "markdown",
      "metadata": {
        "id": "HQ7w0ZORnA3-"
      },
      "source": [
        "##**Przykładowe wizualizacje wybranych modeli**"
      ]
    },
    {
      "cell_type": "code",
      "execution_count": null,
      "metadata": {
        "id": "_X-ugMTvnNqC"
      },
      "outputs": [],
      "source": [
        "def get_colormap(values: list, colors_palette: list, name = 'custom'):\n",
        "    values = np.sort(np.array(values))\n",
        "    values = np.interp(values, (values.min(), values.max()), (0, 1))\n",
        "    cmap = mpl.colors.LinearSegmentedColormap.from_list(name, list(zip(values, colors_palette)))\n",
        "    return cmap\n",
        "\n",
        "def plot_map(df: pd.DataFrame, parameter_name: str, colormap: mpl.colors.LinearSegmentedColormap,\n",
        "             point_size: int = 8, width: int = 900, height: int = 600, alpha: float = 1,\n",
        "             bgcolor: str = 'white', colorbar: Optional[bool] = False):\n",
        "\n",
        "    gdf = gv.Points(df, ['lon', 'lat'], [parameter_name]) # obiekt zawierający punkty\n",
        "    tiles = gts.OSM # wybór mapy tła, w tym wypadku OpenStreetMap\n",
        "\n",
        "    # łączenie mapy tła z punktami i ustawienie wybranych parametrów wizualizacji\n",
        "    map_with_points = tiles * gdf.opts(\n",
        "        color=parameter_name,\n",
        "        cmap=colormap,\n",
        "        size=point_size,\n",
        "        width=width,\n",
        "        height=height,\n",
        "        colorbar=colorbar,\n",
        "        toolbar='above',\n",
        "        tools=['hover', 'wheel_zoom', 'reset'],\n",
        "        alpha=alpha\n",
        "    )\n",
        "\n",
        "    return hv.render(map_with_points)"
      ]
    },
    {
      "cell_type": "code",
      "execution_count": null,
      "metadata": {
        "id": "zJhxKKsrrNxO"
      },
      "outputs": [],
      "source": [
        "nasa2019full = nasa_full_2019.toPandas()"
      ]
    },
    {
      "cell_type": "code",
      "execution_count": null,
      "metadata": {
        "id": "3dVHS_H9r_9Y"
      },
      "outputs": [],
      "source": [
        "nasa2021full = nasa_full_2021.toPandas()"
      ]
    },
    {
      "cell_type": "code",
      "source": [
        "def train_and_predict(model: RegressorMixin, df_train: pd.DataFrame, df_fit: pd.DataFrame, label_column_name: str, proba: Optional[bool]=False) -> np.ndarray:\n",
        "\n",
        "  y_train = df_train[label_column_name]\n",
        "  X_train = data_standarization(df_train.drop(columns=[label_column_name]))\n",
        "  trained_model = model.fit(X_train, y_train)\n",
        "  X = data_standarization(df_fit)\n",
        "  if proba:\n",
        "    y_pred = trained_model.predict_proba(X)[:,1]\n",
        "  else:\n",
        "    y_pred = trained_model.predict(X)\n",
        "\n",
        "  return y_pred"
      ],
      "metadata": {
        "id": "SplV8xw5MO_z"
      },
      "execution_count": null,
      "outputs": []
    },
    {
      "cell_type": "markdown",
      "metadata": {
        "id": "IbUeOqm0nk8_"
      },
      "source": [
        "* **Model I dla danych z lipca (wytrenowany na danych z lipca 2019) - predykcje dla danych z lipca 2019:**"
      ]
    },
    {
      "cell_type": "markdown",
      "metadata": {
        "id": "yOHfqd3Cn78S"
      },
      "source": [
        "* z parametrami: regularyzacja **L2**,  solver =\t**lbfgs**, C = 10 ,    weighted_class = None\n",
        "\n",
        "\n"
      ]
    },
    {
      "cell_type": "code",
      "execution_count": null,
      "metadata": {
        "id": "X1xkhGngpNZj"
      },
      "outputs": [],
      "source": [
        "model = LogisticRegression(solver='lbfgs', class_weight=None, penalty='l2', C=10, max_iter=10000)\n",
        "df_train = July_2019_DF.drop(columns=['lon','lat', 'Year', 'Month', 'SoilT_40_100cm'])\n",
        "nasa_07_2019 = pd.DataFrame(nasa2019full[nasa2019full['Month']==7])\n",
        "nasa_fit = nasa_07_2019.drop(columns=['lon', 'lat', 'Year', 'Month', 'SoilT_40_100cm'])\n",
        "y_pred = train_and_predict(model, df_train, nasa_fit, 'pustynia')\n",
        "labels = pd.DataFrame({'lon': nasa_07_2019['lon'], 'lat': nasa_07_2019['lat'], 'label': y_pred})"
      ]
    },
    {
      "cell_type": "code",
      "execution_count": null,
      "metadata": {
        "id": "wIqJ1_zyom_p"
      },
      "outputs": [],
      "source": [
        "colormap = get_colormap([0, 1], ['green', 'yellow'])\n",
        "output_notebook()\n",
        "show(plot_map(df=labels, parameter_name='label', colormap=colormap), alpha=0.5)"
      ]
    },
    {
      "cell_type": "markdown",
      "metadata": {
        "id": "Uwmf7R_esy0a"
      },
      "source": [
        "* **Model I dla danych z lipca (wytrenowany na danych z lipca 2019) - predykcje dla danych z lipca 2021:**"
      ]
    },
    {
      "cell_type": "code",
      "execution_count": null,
      "metadata": {
        "id": "4VgCoio-2R_w"
      },
      "outputs": [],
      "source": [
        "model = LogisticRegression(solver='lbfgs', class_weight=None, penalty='l2', C=10, max_iter=10000)\n",
        "df_train = July_2019_DF.drop(columns=['lon', 'lat', 'Year', 'Month', 'SoilT_40_100cm'])\n",
        "nasa_07_2021 = pd.DataFrame(nasa2021full[nasa2021full['Month']==7])\n",
        "nasa_fit = nasa_07_2021.drop(columns=['lon', 'lat','Year', 'Month', 'SoilT_40_100cm'])\n",
        "y_pred = train_and_predict(model, df_train, nasa_fit, 'pustynia')\n",
        "labels = pd.DataFrame({'lon': nasa_07_2021['lon'], 'lat': nasa_07_2021['lat'], 'label': y_pred})"
      ]
    },
    {
      "cell_type": "code",
      "source": [
        "output_notebook()\n",
        "show(plot_map(df=labels, parameter_name='label', colormap=colormap), alpha=0.5)"
      ],
      "metadata": {
        "id": "GBmkYhV7SGBz"
      },
      "execution_count": null,
      "outputs": []
    },
    {
      "cell_type": "markdown",
      "source": [
        "* **Mapa prawdopodobieństw:**"
      ],
      "metadata": {
        "id": "QB3_rTzYtswx"
      }
    },
    {
      "cell_type": "code",
      "source": [
        "y_pred = train_and_predict(model, df_train, nasa_fit, 'pustynia', proba=True)\n",
        "labels = pd.DataFrame({'lon': nasa_07_2021['lon'], 'lat': nasa_07_2021['lat'], 'label': y_pred})\n",
        "\n",
        "output_notebook()\n",
        "show(plot_map(df=labels, parameter_name='label', colormap=colormap, colorbar=True), alpha=0.5)"
      ],
      "metadata": {
        "id": "wQQS3hfM1KIS"
      },
      "execution_count": null,
      "outputs": []
    },
    {
      "cell_type": "markdown",
      "source": [
        "* **Model I dla danych z lipca (wytrenowany na danych z lipca 2019) - predykcje dla danych z lipca 2021:**\n",
        "\n",
        "* z parametrami: regularyzacja **L1**, solver = **saga**,  class_weight={1:2, 0:1},  C = **0.8**"
      ],
      "metadata": {
        "id": "wndsDAZ1ai7T"
      }
    },
    {
      "cell_type": "code",
      "source": [
        "model = LogisticRegression(solver='saga', class_weight={1:2, 0:1}, penalty='l1', C=0.8, max_iter=10000)\n",
        "df_train = July_2019_DF.drop(columns=['lon','lat', 'Year', 'Month', 'SoilT_40_100cm'])\n",
        "nasa_07_2021 = pd.DataFrame(nasa2021full[nasa2021full['Month']==7])\n",
        "nasa_fit = nasa_07_2021.drop(columns=['lon', 'lat', 'Year', 'Month', 'SoilT_40_100cm'])\n",
        "y_pred = train_and_predict(model, df_train, nasa_fit, 'pustynia')\n",
        "labels = pd.DataFrame({'lon': nasa_07_2021['lon'], 'lat': nasa_07_2021['lat'], 'label': y_pred})"
      ],
      "metadata": {
        "id": "CMoLPPFSYXYg"
      },
      "execution_count": null,
      "outputs": []
    },
    {
      "cell_type": "code",
      "source": [
        "output_notebook()\n",
        "show(plot_map(df=labels, parameter_name='label', colormap=colormap), alpha=0.5)"
      ],
      "metadata": {
        "id": "dVZRJ6nwYdKK"
      },
      "execution_count": null,
      "outputs": []
    },
    {
      "cell_type": "markdown",
      "source": [
        "* **Mapa prawdopodobieństw**"
      ],
      "metadata": {
        "id": "bAPxpSYdwQmn"
      }
    },
    {
      "cell_type": "code",
      "source": [
        "y_pred = train_and_predict(model, df_train, nasa_fit, 'pustynia', proba=True)\n",
        "labels = pd.DataFrame({'lon': nasa_07_2021['lon'], 'lat': nasa_07_2021['lat'], 'label': y_pred})\n",
        "\n",
        "output_notebook()\n",
        "show(plot_map(df=labels, parameter_name='label', colormap=colormap, colorbar=True), alpha=0.5)"
      ],
      "metadata": {
        "id": "AjydavQKuZSK"
      },
      "execution_count": null,
      "outputs": []
    },
    {
      "cell_type": "markdown",
      "source": [
        "* **Model I trenowany na danych z sieprnia 2019, predykcje dla danych z sierpnia 2021:**\n",
        "\n",
        "* z parametrami: regularyzacja **L1**, solver = **saga**, class_weight = {1:2, 0:1},  C = 1.5"
      ],
      "metadata": {
        "id": "KPt5noxHfmt5"
      }
    },
    {
      "cell_type": "code",
      "source": [
        "model = LogisticRegression(solver='saga', class_weight={1:2, 0:1}, penalty='l1', C=1.5, max_iter=10000)\n",
        "df_train = August_2019_DF.drop(columns=['lon','lat', 'Year', 'Month', 'SoilT_40_100cm'])\n",
        "nasa_08_2021 = pd.DataFrame(nasa2021full[nasa2021full['Month']==8])\n",
        "nasa_fit = nasa_08_2021.drop(columns=['lon', 'lat', 'Year', 'Month', 'SoilT_40_100cm'])\n",
        "y_pred = train_and_predict(model, df_train, nasa_fit, 'pustynia')\n",
        "labels = pd.DataFrame({'lon': nasa_08_2021['lon'], 'lat': nasa_08_2021['lat'], 'label': y_pred})"
      ],
      "metadata": {
        "id": "jIdw6_KBgUmn"
      },
      "execution_count": null,
      "outputs": []
    },
    {
      "cell_type": "code",
      "source": [
        "output_notebook()\n",
        "show(plot_map(df=labels, parameter_name='label', colormap=colormap), alpha=0.5)"
      ],
      "metadata": {
        "id": "l2Ps3FzUhL4K"
      },
      "execution_count": null,
      "outputs": []
    },
    {
      "cell_type": "markdown",
      "source": [
        "* **Mapa prawdopodobieństw**"
      ],
      "metadata": {
        "id": "m5mRIeSn2lmR"
      }
    },
    {
      "cell_type": "code",
      "source": [
        "y_pred = train_and_predict(model, df_train, nasa_fit, 'pustynia', proba=True)\n",
        "labels = pd.DataFrame({'lon': nasa_08_2021['lon'], 'lat': nasa_08_2021['lat'], 'label': y_pred})\n",
        "\n",
        "output_notebook()\n",
        "show(plot_map(df=labels, parameter_name='label', colormap=colormap, colorbar=True), alpha=0.5)"
      ],
      "metadata": {
        "id": "hPDmnJm12o_x"
      },
      "execution_count": null,
      "outputs": []
    },
    {
      "cell_type": "markdown",
      "source": [
        "* **Model I trenowany na danych z sierpnia 2019, predykcje dla danych z sierpnia 2021:**\n",
        "\n",
        "* z parametrami: regularyzacja **L2**, solver = **sag**,  class_weight = None,  C = 200"
      ],
      "metadata": {
        "id": "9Zm02yIYjVcC"
      }
    },
    {
      "cell_type": "code",
      "source": [
        "model = LogisticRegression(solver='sag', class_weight=None, penalty='l2', C=200, max_iter=10000)\n",
        "df_train = August_2019_DF.drop(columns=['lon','lat', 'Year', 'Month', 'SoilT_40_100cm'])\n",
        "nasa_08_2021 = pd.DataFrame(nasa2021full[nasa2021full['Month']==8])\n",
        "nasa_fit = nasa_08_2021.drop(columns=['lon', 'lat', 'Year', 'Month', 'SoilT_40_100cm'])\n",
        "y_pred = train_and_predict(model, df_train, nasa_fit, 'pustynia')\n",
        "labels = pd.DataFrame({'lon': nasa_08_2021['lon'], 'lat': nasa_08_2021['lat'], 'label': y_pred})"
      ],
      "metadata": {
        "id": "gZtBx44Wjl5M"
      },
      "execution_count": null,
      "outputs": []
    },
    {
      "cell_type": "code",
      "source": [
        "output_notebook()\n",
        "show(plot_map(df=labels, parameter_name='label', colormap=colormap), alpha=0.5)"
      ],
      "metadata": {
        "id": "Wxi2dO7ejjJZ"
      },
      "execution_count": null,
      "outputs": []
    },
    {
      "cell_type": "markdown",
      "source": [
        "* **Mapa prawdopodobieństw**"
      ],
      "metadata": {
        "id": "eN0tylQaxHDi"
      }
    },
    {
      "cell_type": "code",
      "source": [
        "y_pred = train_and_predict(model, df_train, nasa_fit, 'pustynia', proba=True)\n",
        "labels = pd.DataFrame({'lon': nasa_08_2021['lon'], 'lat': nasa_08_2021['lat'], 'label': y_pred})\n",
        "\n",
        "output_notebook()\n",
        "show(plot_map(df=labels, parameter_name='label', colormap=colormap, colorbar=True), alpha=0.5)"
      ],
      "metadata": {
        "id": "Ozq-YhnBw4Np"
      },
      "execution_count": null,
      "outputs": []
    },
    {
      "cell_type": "markdown",
      "source": [
        "* **Model I trenowany na danych z sierpnia 2019, predykcje dla danych z sierpnia 2021:**\n",
        "\n",
        "* z parametrami: regularyzacja **L1**, solver = **liblinear**,   class_weight = {1: 1.5, 0:1},    C = 0.8\n",
        "\n"
      ],
      "metadata": {
        "id": "cDyDDWN8of_Y"
      }
    },
    {
      "cell_type": "code",
      "source": [
        "model = LogisticRegression(solver='liblinear', class_weight={1:1.5, 0:1}, penalty='l1', C=0.8, max_iter=10000)\n",
        "df_train = August_2019_DF.drop(columns=['lon','lat', 'Year', 'Month', 'SoilT_40_100cm'])\n",
        "nasa_08_2021 = pd.DataFrame(nasa2021full[nasa2021full['Month']==8])\n",
        "nasa_fit = nasa_08_2021.drop(columns=['lon', 'lat', 'Year', 'Month', 'SoilT_40_100cm'])\n",
        "y_pred = train_and_predict(model, df_train, nasa_fit, 'pustynia')\n",
        "labels = pd.DataFrame({'lon': nasa_08_2021['lon'], 'lat': nasa_08_2021['lat'], 'label': y_pred})"
      ],
      "metadata": {
        "id": "kndXm6Xkoxm6"
      },
      "execution_count": null,
      "outputs": []
    },
    {
      "cell_type": "code",
      "source": [
        "output_notebook()\n",
        "show(plot_map(df=labels, parameter_name='label', colormap=colormap), alpha=0.5)"
      ],
      "metadata": {
        "id": "SuSO2-ALouom"
      },
      "execution_count": null,
      "outputs": []
    },
    {
      "cell_type": "markdown",
      "source": [
        "* **Mapa prawdopodobieństw**"
      ],
      "metadata": {
        "id": "41EV33EwyQKU"
      }
    },
    {
      "cell_type": "code",
      "source": [
        "y_pred = train_and_predict(model, df_train, nasa_fit, 'pustynia', proba=True)\n",
        "labels = pd.DataFrame({'lon': nasa_08_2021['lon'], 'lat': nasa_08_2021['lat'], 'label': y_pred})\n",
        "\n",
        "output_notebook()\n",
        "show(plot_map(df=labels, parameter_name='label', colormap=colormap, colorbar=True), alpha=0.5)"
      ],
      "metadata": {
        "id": "a0OEguEhxrXn"
      },
      "execution_count": null,
      "outputs": []
    },
    {
      "cell_type": "markdown",
      "source": [
        "* **Model II trenowany na danych z lipca 2019, predykcje dla danych z lipca 2021 :**\n",
        "\n",
        "* z parametrami: regularyzacja **L2**, solver = **newton-cholesky**,   class_weight = None,    C = 0.5\n"
      ],
      "metadata": {
        "id": "gcdhsaiKxypJ"
      }
    },
    {
      "cell_type": "code",
      "source": [
        "model = LogisticRegression(solver='newton-cholesky', class_weight=None, penalty='l2', C=0.5, max_iter=10000)\n",
        "df_train = July_2019_DF.drop(columns=['lon','lat', 'Year', 'Month', 'SoilT_40_100cm'])\n",
        "df_train['Rainf/Potevap'] =  df_train['Rainf']/df_train['PotEvap']\n",
        "df_train = df_train.drop(columns=['PotEvap'])\n",
        "nasa_07_2021 = pd.DataFrame(nasa2021full[nasa2021full['Month']==7])\n",
        "nasa_fit = nasa_07_2021.drop(columns=['lon', 'lat', 'Year', 'Month', 'SoilT_40_100cm'])\n",
        "nasa_fit['Rainf/PotEvap'] = nasa_fit['Rainf']/nasa_fit['PotEvap']\n",
        "nasa_fit = nasa_fit.drop(columns=['PotEvap'])\n",
        "y_pred = train_and_predict(model, df_train, nasa_fit, 'pustynia')\n",
        "labels = pd.DataFrame({'lon': nasa_07_2021['lon'], 'lat': nasa_07_2021['lat'], 'label': y_pred})"
      ],
      "metadata": {
        "id": "I4R-cn1du49F"
      },
      "execution_count": null,
      "outputs": []
    },
    {
      "cell_type": "code",
      "source": [
        "output_notebook()\n",
        "show(plot_map(df=labels, parameter_name='label', colormap=colormap), alpha=0.5)"
      ],
      "metadata": {
        "id": "HiJOihOAw4DX"
      },
      "execution_count": null,
      "outputs": []
    },
    {
      "cell_type": "markdown",
      "source": [
        "* **Mapa prawdopodobieństw**"
      ],
      "metadata": {
        "id": "ZvSe_ZEtzCAS"
      }
    },
    {
      "cell_type": "code",
      "source": [
        "y_pred = train_and_predict(model, df_train, nasa_fit, 'pustynia', proba=True)\n",
        "labels = pd.DataFrame({'lon': nasa_07_2021['lon'], 'lat': nasa_07_2021['lat'], 'label': y_pred})\n",
        "\n",
        "output_notebook()\n",
        "show(plot_map(df=labels, parameter_name='label', colormap=colormap, colorbar=True), alpha=0.5)"
      ],
      "metadata": {
        "id": "qtgGIGn8zFSJ"
      },
      "execution_count": null,
      "outputs": []
    },
    {
      "cell_type": "markdown",
      "metadata": {
        "id": "GZioybYx4IYC"
      },
      "source": [
        "* **Model III trenowany na danych z lipca 2019, predykcje dla danych z lipca 2021:**"
      ]
    },
    {
      "cell_type": "markdown",
      "metadata": {
        "id": "OpBHkjNzBdCC"
      },
      "source": [
        "* z parametrami: regularyzacja **L2**,  solver =\t**sag**, C = 1.0 ,    weighted_class = None"
      ]
    },
    {
      "cell_type": "code",
      "execution_count": null,
      "metadata": {
        "id": "VzUp0C314WYN"
      },
      "outputs": [],
      "source": [
        "model3 = LogisticRegression(solver='sag', class_weight=None, penalty='l2', C=1, max_iter=10000)\n",
        "df_train = July_2019_DF.drop(columns=['lon','lat', 'Year', 'Month', 'SoilT_40_100cm', 'AvgSurfT', 'RootMoist', 'SoilM_100_200cm','Albedo'])\n",
        "df_train['P/PET'] = df_train['Rainf']/df_train['PotEvap']\n",
        "nasa_07_2021 = pd.DataFrame(nasa2021full[nasa2021full['Month']==7])\n",
        "nasa_fit = nasa_07_2021.drop(columns=['lon', 'lat', 'Year', 'Month', 'SoilT_40_100cm', 'AvgSurfT', 'RootMoist', 'SoilM_100_200cm','Albedo'])\n",
        "nasa_fit['P/PET'] = nasa_fit['Rainf']/nasa_fit['PotEvap']\n",
        "y_pred = train_and_predict(model3, df_train, nasa_fit, 'pustynia')\n",
        "labels = pd.DataFrame({'lon': nasa_07_2021['lon'], 'lat': nasa_07_2021['lat'], 'label': y_pred})"
      ]
    },
    {
      "cell_type": "code",
      "execution_count": null,
      "metadata": {
        "id": "ucKMH8fi9KFo"
      },
      "outputs": [],
      "source": [
        "output_notebook()\n",
        "show(plot_map(df=labels, parameter_name='label', colormap=colormap), alpha=0.3)"
      ]
    },
    {
      "cell_type": "markdown",
      "source": [
        "* **Mapa prawdopodobieństw**"
      ],
      "metadata": {
        "id": "mhJEXnWZ0pSu"
      }
    },
    {
      "cell_type": "code",
      "source": [
        "y_pred = train_and_predict(model3, df_train, nasa_fit, 'pustynia', proba=True)\n",
        "labels = pd.DataFrame({'lon': nasa_07_2021['lon'], 'lat': nasa_07_2021['lat'], 'label': y_pred})\n",
        "\n",
        "output_notebook()\n",
        "show(plot_map(df=labels, parameter_name='label', colormap=colormap, colorbar=True), alpha=0.5)"
      ],
      "metadata": {
        "id": "DlYHb5OW0tLP"
      },
      "execution_count": null,
      "outputs": []
    },
    {
      "cell_type": "markdown",
      "source": [
        "* **Model I trenowany na danych z grudnia 2019, predykcje dla danych z grudnia 2021:**\n",
        "\n",
        "* z parametrami: regularyzacja **L2**, solver = **sag**,   class_weight = None,    C = 1\n"
      ],
      "metadata": {
        "id": "LKHRMezy3RJJ"
      }
    },
    {
      "cell_type": "code",
      "source": [
        "model = LogisticRegression(solver='sag', class_weight=None, penalty='l2', C=1, max_iter=10000)\n",
        "df_train = December_2019_DF.drop(columns=['lon','lat', 'Year', 'Month', 'SoilT_40_100cm'])\n",
        "nasa_12_2021 = pd.DataFrame(nasa2021full[nasa2021full['Month']==12])\n",
        "nasa_fit = nasa_12_2021.drop(columns=['lon', 'lat', 'Year', 'Month', 'SoilT_40_100cm'])\n",
        "y_pred = train_and_predict(model, df_train, nasa_fit, 'pustynia')\n",
        "labels = pd.DataFrame({'lon': nasa_12_2021['lon'], 'lat': nasa_12_2021['lat'], 'label': y_pred})"
      ],
      "metadata": {
        "id": "RTPlffIY-V3q"
      },
      "execution_count": null,
      "outputs": []
    },
    {
      "cell_type": "code",
      "source": [
        "output_notebook()\n",
        "show(plot_map(df=labels, parameter_name='label', colormap=colormap), alpha=0.5)"
      ],
      "metadata": {
        "id": "-6zYcF64_4gH"
      },
      "execution_count": null,
      "outputs": []
    },
    {
      "cell_type": "markdown",
      "source": [
        "* **Mapa prawdopoodbieństw**"
      ],
      "metadata": {
        "id": "0a5JkQMUARkX"
      }
    },
    {
      "cell_type": "code",
      "source": [
        "y_pred = train_and_predict(model3, df_train, nasa_fit, 'pustynia', proba=True)\n",
        "labels = pd.DataFrame({'lon': nasa_12_2021['lon'], 'lat': nasa_12_2021['lat'], 'label': y_pred})\n",
        "\n",
        "output_notebook()\n",
        "show(plot_map(df=labels, parameter_name='label', colormap=colormap, colorbar=True), alpha=0.5)"
      ],
      "metadata": {
        "id": "65qFFJ6mAFG6"
      },
      "execution_count": null,
      "outputs": []
    },
    {
      "cell_type": "markdown",
      "source": [
        "* **Model I trenowany na danych ze stycznia 2019, predykcje dla danych ze stycznia 2021:**\n",
        "\n",
        "* z parametrami: regularyzacja **L2**, solver = **sag**,   class_weight = None,    C = 1\n"
      ],
      "metadata": {
        "id": "MFYPqMVbMWC-"
      }
    },
    {
      "cell_type": "code",
      "source": [
        "model = LogisticRegression(solver='sag', class_weight=None, penalty='l2', C=1, max_iter=10000)\n",
        "df_train = January_2019_DF.drop(columns=['lon', 'lat', 'Year', 'Month','SoilT_40_100cm'])\n",
        "nasa_01_2021 = pd.DataFrame(nasa2021full[nasa2021full['Month']==1])\n",
        "nasa_fit = nasa_01_2021.drop(columns=['lon', 'lat', 'Year', 'Month','SoilT_40_100cm'])\n",
        "y_pred = train_and_predict(model, df_train, nasa_fit, 'pustynia')\n",
        "labels = pd.DataFrame({'lon': nasa_01_2021['lon'], 'lat': nasa_01_2021['lat'], 'label': y_pred})"
      ],
      "metadata": {
        "id": "we_MXYYLMfnp"
      },
      "execution_count": null,
      "outputs": []
    },
    {
      "cell_type": "code",
      "source": [
        "output_notebook()\n",
        "show(plot_map(df=labels, parameter_name='label', colormap=colormap), alpha=0.5)"
      ],
      "metadata": {
        "id": "QwqDXAnSMpBJ"
      },
      "execution_count": null,
      "outputs": []
    },
    {
      "cell_type": "markdown",
      "source": [
        "* **Model III trenowany na danych z grudnia 2019, predykcje dla danych z grudnia 2021:**\n",
        "\n",
        "* z parametrami: regularyzacja **L2**, solver = **saga**,   class_weight = None,    C = 1\n"
      ],
      "metadata": {
        "id": "R-LPxnysGZPJ"
      }
    },
    {
      "cell_type": "code",
      "source": [
        "model = LogisticRegression(solver='saga', class_weight=None, penalty='l2', C=1, max_iter=10000)\n",
        "df_train = December_2019_DF.drop(columns=['lon', 'lat', 'Year', 'Month','SoilT_40_100cm','Rainf', 'PotEvap'])\n",
        "nasa_12_2021 = pd.DataFrame(nasa2021full[nasa2021full['Month']==12])\n",
        "nasa_fit = nasa_12_2021.drop(columns=['lon', 'lat', 'Year', 'Month','SoilT_40_100cm','Rainf', 'PotEvap'])\n",
        "y_pred = train_and_predict(model, df_train, nasa_fit, 'pustynia')\n",
        "labels = pd.DataFrame({'lon': nasa_12_2021['lon'], 'lat': nasa_12_2021['lat'], 'label': y_pred})"
      ],
      "metadata": {
        "id": "eaC6_SYOAxG7"
      },
      "execution_count": null,
      "outputs": []
    },
    {
      "cell_type": "code",
      "source": [
        "output_notebook()\n",
        "show(plot_map(df=labels, parameter_name='label', colormap=colormap), alpha=0.5)"
      ],
      "metadata": {
        "id": "M3zxtEdoBkMk"
      },
      "execution_count": null,
      "outputs": []
    },
    {
      "cell_type": "markdown",
      "source": [
        "* **Mapa prawdopodobieństw**"
      ],
      "metadata": {
        "id": "LIoQG3NmM0W5"
      }
    },
    {
      "cell_type": "code",
      "source": [
        "y_pred = train_and_predict(model3, df_train, nasa_fit, 'pustynia', proba=True)\n",
        "labels = pd.DataFrame({'lon': nasa_12_2021['lon'], 'lat': nasa_12_2021['lat'], 'label': y_pred})\n",
        "\n",
        "output_notebook()\n",
        "show(plot_map(df=labels, parameter_name='label', colormap=colormap, colorbar=True), alpha=0.5)"
      ],
      "metadata": {
        "id": "GhfnVXyICK4X"
      },
      "execution_count": null,
      "outputs": []
    },
    {
      "cell_type": "markdown",
      "source": [
        "# **Maszyny wektorów nośnych - SVM**"
      ],
      "metadata": {
        "id": "OT9V5b3PQ2Yd"
      }
    },
    {
      "cell_type": "code",
      "source": [
        "def GridSearchCV_LinearSVM(folds: np.ndarray, folds_labels: List[List[int]], param_grid: dict) -> pd.DataFrame:\n",
        "  all_res = dict({'kernel': [], 'penalty': [], 'C': [], 'class_weight': [], 'loss': [], 'intercept_scal':[],\n",
        "                      'accuracy': [], 'recall': [], 'precision': [], 'ROC-AUC': [], 'jaccard_score': []})\n",
        "\n",
        "  for loss in param_grid['loss']:\n",
        "    for penalty in param_grid['penalty']:\n",
        "      for c in param_grid['C']:\n",
        "        for  weight in param_grid['class_weight']:\n",
        "          for scal in param_grid['intercept_scal']:\n",
        "             if (loss =='hinge')&(penalty=='l2'):\n",
        "                 model = LinearSVC(C=c, penalty=penalty, class_weight= weight, loss=loss, dual= True,\n",
        "                               intercept_scaling = scal, max_iter = 100000, random_state=13)\n",
        "            else:\n",
        "                 model = LinearSVC(C=c, penalty=penalty, class_weight= weight, loss=loss, dual= False,\n",
        "                               intercept_scaling = scal, max_iter = 50000, random_state=13)\n",
        "             results = {'kernel': 'linear', 'penalty': penalty, 'C': c, 'class_weight': weight, 'loss': loss, 'intercept_scal': scal}\n",
        "             crossval_results = Kfolds_crossvalidation(model, folds, folds_labels)\n",
        "             results.update(crossval_results)\n",
        "             results_sorted = dict({key : results[key] for key in all_res.keys()})\n",
        "             all_res = {key: all_res[key] + [results_sorted[key]] for key in all_res}\n",
        "\n",
        "  cross_results = pd.DataFrame(data=all_res)\n",
        "\n",
        "  return cross_results"
      ],
      "metadata": {
        "id": "3v93Li3Nal6A"
      },
      "execution_count": null,
      "outputs": []
    },
    {
      "cell_type": "markdown",
      "source": [
        "* ## **Linear kernel**"
      ],
      "metadata": {
        "id": "1oZFBChtZAgc"
      }
    },
    {
      "cell_type": "code",
      "source": [
        "param_grid_linear = { 'penalty': ['l1', 'l2'],\n",
        "               'C': [0.01, 0.1, 0.5, 0.8, 1, 5, 10, 50, 100],\n",
        "               'loss': ['squared_hinge'],                           #with loss='hinge' convergence issues occurred\n",
        "               'class_weight': [None, 'balanced', {1:1.5, 0:1}],\n",
        "               'intercept_scal': [0.1, 1, 1.5, 5, 10, 50]}\n"
      ],
      "metadata": {
        "id": "fhWvps0XRKMS"
      },
      "execution_count": null,
      "outputs": []
    },
    {
      "cell_type": "markdown",
      "source": [
        "**Dane z lipca**"
      ],
      "metadata": {
        "id": "OeVuKnQimVVz"
      }
    },
    {
      "cell_type": "code",
      "source": [
        "#Splitting into folds\n",
        "blocks = block_partition(July_2019_DF, 2.5, min_lat, max_lat, min_lon, max_lon)\n",
        "folds_July_2019 = Kfolds(blocks, 6, random_state=3)\n",
        "folds_07_2019_labels = [list(fold['pustynia']) for fold in folds_July_2019]\n",
        "\n",
        "#Data standarization\n",
        "folds_July_2019 = [fold.drop(columns=['lon', 'lat', 'Year', 'Month','pustynia','SoilT_40_100cm'])\n",
        "                   for fold in folds_July_2019]\n",
        "folds_07_2019_stand = [data_standarization(fold) for fold in folds_July_2019]"
      ],
      "metadata": {
        "id": "CNNOfiLGmK-A"
      },
      "execution_count": null,
      "outputs": []
    },
    {
      "cell_type": "code",
      "source": [
        "linear_results1 = GridSearchCV_LinearSVM(folds_07_2019_stand, folds_07_2019_labels, param_grid_linear)\n",
        "linear_results.sort_values(by=['accuracy', 'precision'], ascending=False)"
      ],
      "metadata": {
        "id": "DMSJKTW8m5kx"
      },
      "execution_count": null,
      "outputs": []
    },
    {
      "cell_type": "markdown",
      "source": [
        "**Dane z sierpnia**"
      ],
      "metadata": {
        "id": "QUQ4E4HY4HXq"
      }
    },
    {
      "cell_type": "code",
      "source": [
        "#Splitting into folds\n",
        "blocks = block_partition(August_2019_DF, 2.5, min_lat, max_lat, min_lon, max_lon)\n",
        "folds_August_2019 = Kfolds(blocks, 6, random_state=3)\n",
        "folds_08_2019_labels = [list(fold['pustynia']) for fold in folds_August_2019]\n",
        "\n",
        "#Data standarization\n",
        "folds_August_2019 = [fold.drop(columns=['lon', 'lat', 'Year', 'Month','pustynia','SoilT_40_100cm'])\n",
        "                   for fold in folds_August_2019]\n",
        "folds_08_2019_stand = [data_standarization(fold) for fold in folds_August_2019]"
      ],
      "metadata": {
        "id": "8VaipWL64LLu"
      },
      "execution_count": null,
      "outputs": []
    },
    {
      "cell_type": "code",
      "source": [
        "linear_results2 = GridSearchCV_LinearSVM(folds_08_2019_stand, folds_08_2019_labels, param_grid_linear)\n",
        "linear_results2.sort_values(by=['accuracy', 'precision'], ascending=False)"
      ],
      "metadata": {
        "id": "4fbG57w44rEY"
      },
      "execution_count": null,
      "outputs": []
    },
    {
      "cell_type": "markdown",
      "source": [
        "**Dane z grudnia**"
      ],
      "metadata": {
        "id": "mnpC1dTEsH8k"
      }
    },
    {
      "cell_type": "code",
      "source": [
        "#Splitting into folds\n",
        "blocks = block_partition(December_2019_DF, 2.5, min_lat, max_lat, min_lon, max_lon)\n",
        "folds_December_2019 = Kfolds(blocks, 6, random_state=3)\n",
        "folds_12_2019_labels = [list(fold['pustynia']) for fold in folds_December_2019]\n",
        "\n",
        "#Data standarization\n",
        "folds_December_2019 = [fold.drop(columns=['lon', 'lat', 'Year', 'Month','pustynia','SoilT_40_100cm'])\n",
        "                   for fold in folds_December_2019]\n",
        "folds_12_2019_stand = [data_standarization(fold) for fold in folds_December_2019]"
      ],
      "metadata": {
        "id": "KdkYaErvsNO4"
      },
      "execution_count": null,
      "outputs": []
    },
    {
      "cell_type": "code",
      "source": [
        "linear_results2 = GridSearchCV_LinearSVM(folds_12_2019_stand, folds_12_2019_labels, param_grid_linear)\n",
        "linear_results2.sort_values(by=['accuracy', 'precision'], ascending=False)"
      ],
      "metadata": {
        "id": "dzp6TRdVsgJ_"
      },
      "execution_count": null,
      "outputs": []
    },
    {
      "cell_type": "markdown",
      "source": [
        "* ## **Polynomial kernel**"
      ],
      "metadata": {
        "id": "oEMBF5nl9kxM"
      }
    },
    {
      "cell_type": "code",
      "source": [
        "def GridSearchCV_SVM(folds: np.ndarray, folds_labels: List[List[int]], param_grid: dict, kernel: str) -> pd.DataFrame:\n",
        "\n",
        "  if kernel=='poly':\n",
        "    all_res = dict({'kernel': [],  'C': [], 'class_weight': [], 'gamma':[], 'degree': [], \"coef0\" :[],\n",
        "                  'accuracy': [], 'recall': [], 'precision': [], 'ROC-AUC': [], 'jaccard_score': []})\n",
        "    for gamma in param_grid['gamma']:\n",
        "      for degree in param_grid['degree']:\n",
        "        for  weight in param_grid['class_weight']:\n",
        "          for c  in param_grid['C']:\n",
        "            for coef in param_grid['coef0']:\n",
        "                model = SVC(kernel = 'poly', C=c, class_weight=weight, coef0=coef, gamma=gamma, max_iter=2000, random_state=13, verbose=True)\n",
        "                results = {'kernel': 'poly', 'C': c, 'class_weight': str(weight), 'gamma': gamma, 'degree': degree,'coef0': coef}\n",
        "                crossval_results = Kfolds_crossvalidation(model, folds, folds_labels)\n",
        "                results.update(crossval_results)\n",
        "                results_sorted = dict({key : results[key] for key in all_res.keys()})\n",
        "                all_res = {key: all_res[key] + [results_sorted[key]] for key in all_res}\n",
        "  else:\n",
        "      all_res = dict({'kernel': [],  'C': [], 'class_weight': [], 'gamma':[], \"coef0\" :[],\n",
        "                  'accuracy': [], 'recall': [], 'precision': [], 'ROC-AUC': [], 'jaccard_score': []})\n",
        "      for gamma in param_grid['gamma']:\n",
        "        for  weight in param_grid['class_weight']:\n",
        "          for c  in param_grid['C']:\n",
        "            for coef in param_grid['coef0']:\n",
        "                model = SVC(kernel = kernel, C=c, class_weight=weight, coef0=coef, gamma=gamma, max_iter=-1, random_state=13, verbose=True)\n",
        "                results = {'kernel': kernel, 'C': c, 'class_weight': str(weight), 'gamma': gamma,'coef0': coef}\n",
        "                crossval_results = Kfolds_crossvalidation(model, folds, folds_labels)\n",
        "                results.update(crossval_results)\n",
        "                results_sorted = dict({key : results[key] for key in all_res.keys()})\n",
        "                all_res = {key: all_res[key] + [results_sorted[key]] for key in all_res}\n",
        "\n",
        "\n",
        "  cross_results = pd.DataFrame(data=all_res)\n",
        "\n",
        "  return cross_results"
      ],
      "metadata": {
        "id": "NG4s5GfT9pdL"
      },
      "execution_count": null,
      "outputs": []
    },
    {
      "cell_type": "code",
      "source": [
        "param_grid_poly = {'C': [0.01, 0.1, 0.5, 0.8, 1, 10, 50],\n",
        "              'class_weight': [None, 'balanced', {1:1.5, 0:1}],\n",
        "              'gamma': ['scale', 'auto', 0.001, 0.01, 0.1, 1, 10, 100],\n",
        "              'degree': [2, 3], 'coef0': [0, 0.1, 0.5, 1]}"
      ],
      "metadata": {
        "id": "VK-IcWpIGakQ"
      },
      "execution_count": null,
      "outputs": []
    },
    {
      "cell_type": "markdown",
      "source": [
        "**Dane z lipca**"
      ],
      "metadata": {
        "id": "aPzGZLmBRAyv"
      }
    },
    {
      "cell_type": "code",
      "source": [
        "poly_results = GridSearchCV_SVM(folds_07_2019_stand, folds_07_2019_labels, param_grid_poly, kernel='poly')  #Zbyt duża złożoność obliczeniowa, by przeliczyć tyle modeli w rozsądnym czasie..."
      ],
      "metadata": {
        "id": "Gn3_bKBEWAMs"
      },
      "execution_count": null,
      "outputs": []
    },
    {
      "cell_type": "code",
      "source": [
        "poly_results.sort_values(by=['accuracy', 'precision'], ascending=False)"
      ],
      "metadata": {
        "id": "R17-rv_nm3vW"
      },
      "execution_count": null,
      "outputs": []
    },
    {
      "cell_type": "markdown",
      "source": [
        "## **RBF kernel**"
      ],
      "metadata": {
        "id": "TP1p3yLzdai4"
      }
    },
    {
      "cell_type": "code",
      "source": [
        "param_grid_rbf = {'C': [0.001, 0.01, 0.1, 0.5, 0.8, 1, 1.5, 5, 10, 20, 50],\n",
        "              'class_weight': [None, 'balanced', {1:1.5, 0:1}, {1:2, 0:1}],\n",
        "              'gamma': ['scale', 'auto', 0.001, 0.01, 0.1, 1, 10, 100],  'coef0': [0]}"
      ],
      "metadata": {
        "id": "Ghaqm_eXdlKt"
      },
      "execution_count": null,
      "outputs": []
    },
    {
      "cell_type": "markdown",
      "source": [
        "**Dane z lipca**"
      ],
      "metadata": {
        "id": "LHZQ_5pmoRWy"
      }
    },
    {
      "cell_type": "code",
      "source": [
        "rbf_results = GridSearchCV_SVM(folds_07_2019_stand, folds_07_2019_labels, param_grid_rbf, kernel='rbf')"
      ],
      "metadata": {
        "id": "huXUcWcqBERo"
      },
      "execution_count": null,
      "outputs": []
    },
    {
      "cell_type": "code",
      "source": [
        "rbf_results = rbf_results.drop(columns=['coef0'])  #coef0 is only significant in ‘poly’ and ‘sigmoid’\n",
        "rbf_results.sort_values(by=['accuracy', 'precision', 'recall'], ascending=False).head(20)"
      ],
      "metadata": {
        "id": "z0pTK5cop0ht"
      },
      "execution_count": null,
      "outputs": []
    },
    {
      "cell_type": "markdown",
      "source": [
        "**Dane z sierpnia**"
      ],
      "metadata": {
        "id": "cnzj3NSwqtSo"
      }
    },
    {
      "cell_type": "code",
      "source": [
        "rbf_results2 = GridSearchCV_SVM(folds_08_2019_stand, folds_08_2019_labels, param_grid_rbf, kernel='rbf')"
      ],
      "metadata": {
        "id": "yOOSubZeq2Ly"
      },
      "execution_count": null,
      "outputs": []
    },
    {
      "cell_type": "code",
      "source": [
        "rbf_results2 = rbf_results2.drop(columns=['coef0'])  #coef0 is only significant in ‘poly’ and ‘sigmoid’\n",
        "rbf_results2.sort_values(by=['accuracy', 'precision', 'recall'], ascending=False).head(20)"
      ],
      "metadata": {
        "id": "m-TxaIv4q97q"
      },
      "execution_count": null,
      "outputs": []
    },
    {
      "cell_type": "markdown",
      "source": [
        "**Dane z grudnia**"
      ],
      "metadata": {
        "id": "f8F9JcScr3Is"
      }
    },
    {
      "cell_type": "code",
      "source": [
        "rbf_results3 = GridSearchCV_SVM(folds_12_2019_stand, folds_12_2019_labels, param_grid_rbf, kernel='rbf')"
      ],
      "metadata": {
        "id": "lewscZlTr7OK"
      },
      "execution_count": null,
      "outputs": []
    },
    {
      "cell_type": "code",
      "source": [
        "rbf_results3 = rbf_results3.drop(columns=['coef0'])  #coef0 is only significant in ‘poly’ and ‘sigmoid’\n",
        "rbf_results3.sort_values(by=['accuracy', 'precision', 'recall'], ascending=False).head(20)"
      ],
      "metadata": {
        "id": "jGkjDVC1r_qQ"
      },
      "execution_count": null,
      "outputs": []
    },
    {
      "cell_type": "markdown",
      "source": [
        "* ## **Sigmoid kernel**"
      ],
      "metadata": {
        "id": "8ojTFzqq3eLA"
      }
    },
    {
      "cell_type": "code",
      "source": [
        "param_grid_sigm = {'C': [0.001, 0.01, 0.1, 0.5, 0.8, 1, 1.5, 5, 10, 20, 50],\n",
        "              'class_weight': [None, 'balanced', {1:1.5, 0:1}, {1:2, 0:1}],\n",
        "              'gamma': ['scale', 'auto', 0.001, 0.01, 0.1, 1, 10, 100],\n",
        "               'coef0': [0, 0.1, 0.5, 1]}"
      ],
      "metadata": {
        "id": "ae16nuw97SWj"
      },
      "execution_count": null,
      "outputs": []
    },
    {
      "cell_type": "markdown",
      "source": [
        "**Dane z lipca**"
      ],
      "metadata": {
        "id": "lpsgfAcLBIBZ"
      }
    },
    {
      "cell_type": "code",
      "source": [
        "sigmoid_results = GridSearchCV_SVM(folds_07_2019_stand, folds_07_2019_labels, param_grid_sigm, kernel='sigmoid')"
      ],
      "metadata": {
        "id": "ohq01RMIBLb9"
      },
      "execution_count": null,
      "outputs": []
    },
    {
      "cell_type": "code",
      "source": [
        "sigmoid_results.sort_values(by=['accuracy', 'precision', 'jaccard_score'], ascending=False)"
      ],
      "metadata": {
        "id": "JYfzjHiBe7wB"
      },
      "execution_count": null,
      "outputs": []
    },
    {
      "cell_type": "markdown",
      "source": [
        "* **Dane z sierpnia**"
      ],
      "metadata": {
        "id": "qyWFWpXPtuOH"
      }
    },
    {
      "cell_type": "code",
      "source": [
        "sigmoid_results2 = GridSearchCV_SVM(folds_08_2019_stand, folds_08_2019_labels, param_grid_sigm, kernel='sigmoid')"
      ],
      "metadata": {
        "id": "sq4qd2NKlPRj"
      },
      "execution_count": null,
      "outputs": []
    },
    {
      "cell_type": "code",
      "source": [
        "sigmoid_results.sort_values(by=['accuracy', 'precision', 'jaccard_score'], ascending=False)"
      ],
      "metadata": {
        "id": "loL2rVi7la14"
      },
      "execution_count": null,
      "outputs": []
    },
    {
      "cell_type": "markdown",
      "source": [
        "## **Wizualizacje wybranych modeli**"
      ],
      "metadata": {
        "id": "WgkKDxNiGux2"
      }
    },
    {
      "cell_type": "markdown",
      "source": [
        "* **Linear SVM dla danych z lipca 2019 (predykcje na danych z lipca 2021)**\n",
        "\n",
        "* z parametrami: penalty: **l1** ,  C=**0.5** ,  loss=\"squared-hinge\" ,  class_weight= **None** , intercept_scaling= 1.0\n",
        "\n"
      ],
      "metadata": {
        "id": "nRUKdksxG3ZO"
      }
    },
    {
      "cell_type": "code",
      "source": [
        "model = LinearSVC(penalty='l1', C=0.5, loss='squared_hinge', class_weight=None, intercept_scaling=1.0, dual=False)\n",
        "df_train = July_2019_DF.drop(columns=['lon','lat', 'Year', 'Month', 'SoilT_40_100cm'])\n",
        "nasa_07_2021 = pd.DataFrame(nasa2021full[nasa2021full['Month']==7])\n",
        "nasa_fit = nasa_07_2021.drop(columns=['lon', 'lat', 'Year', 'Month', 'SoilT_40_100cm'])\n",
        "y_pred = train_and_predict(model, df_train, nasa_fit, 'pustynia')\n",
        "labels = pd.DataFrame({'lon': nasa_07_2021['lon'], 'lat': nasa_07_2021['lat'], 'label': y_pred})"
      ],
      "metadata": {
        "id": "YGPSSfCqIWgv"
      },
      "execution_count": null,
      "outputs": []
    },
    {
      "cell_type": "code",
      "source": [
        "colormap = get_colormap([0, 1], ['green', 'yellow'])\n",
        "output_notebook()\n",
        "show(plot_map(df=labels, parameter_name='label', colormap=colormap), alpha=0.5)"
      ],
      "metadata": {
        "id": "HFj_nQFukNxa"
      },
      "execution_count": null,
      "outputs": []
    },
    {
      "cell_type": "markdown",
      "source": [
        "* **SVM z polynomial kernel dla danych z lipca 2019 (predykcje na danych z lipca 2021)**\n",
        "\n",
        "* z parametrami: degree=**2** , C=**0.1** , class_weight={1: 1.5, 0: 1} , \tgamma =**scale** ,\tcoef0= **0.5**"
      ],
      "metadata": {
        "id": "TJnyM5tmntsN"
      }
    },
    {
      "cell_type": "code",
      "source": [
        "model = SVC(kernel='poly', degree=2, C=0.1, class_weight={1:1.5, 0:1}, gamma='scale', coef0=0.5)\n",
        "df_train = July_2019_DF.drop(columns=['lon','lat', 'Year', 'Month', 'SoilT_40_100cm'])\n",
        "nasa_07_2021 = pd.DataFrame(nasa2019full[nasa2021full['Month']==7])\n",
        "nasa_fit = nasa_07_2021.drop(columns=['lon', 'lat', 'Year', 'Month', 'SoilT_40_100cm'])\n",
        "y_pred = train_and_predict(model, df_train, nasa_fit, 'pustynia')\n",
        "labels = pd.DataFrame({'lon': nasa_07_2021['lon'], 'lat': nasa_07_2021['lat'], 'label': y_pred})"
      ],
      "metadata": {
        "id": "1UJy7R0do95e"
      },
      "execution_count": null,
      "outputs": []
    },
    {
      "cell_type": "code",
      "source": [
        "output_notebook()\n",
        "show(plot_map(df=labels, parameter_name='label', colormap=colormap), alpha=0.5)"
      ],
      "metadata": {
        "id": "Q6HJWBgtpr-I"
      },
      "execution_count": null,
      "outputs": []
    },
    {
      "cell_type": "markdown",
      "source": [
        "* **SVM z jądrem RBF dla danych z lipca ((predykcje na danych z lipca 2021)**\n",
        "\n",
        "* z parametrami: C=**0.1** ,  class_weight= {1:2, 0:1} , gamma=**scale**"
      ],
      "metadata": {
        "id": "hVLINVZdOmP-"
      }
    },
    {
      "cell_type": "code",
      "source": [
        "model = SVC(C=0.1, class_weight={1:2, 0:1}, gamma='scale')\n",
        "df_train = July_2019_DF.drop(columns=['lon','lat', 'Year', 'Month', 'SoilT_40_100cm'])\n",
        "nasa_07_2021 = pd.DataFrame(nasa2021full[nasa2019full['Month']==7])\n",
        "nasa_fit = nasa_07_2021.drop(columns=['lon', 'lat', 'Year', 'Month', 'SoilT_40_100cm'])\n",
        "y_pred = train_and_predict(model, df_train, nasa_fit, 'pustynia')\n",
        "labels = pd.DataFrame({'lon': nasa_07_2021['lon'], 'lat': nasa_07_2021['lat'], 'label': y_pred})"
      ],
      "metadata": {
        "id": "L6FSuPAmPZWH"
      },
      "execution_count": null,
      "outputs": []
    },
    {
      "cell_type": "code",
      "source": [
        "output_notebook()\n",
        "show(plot_map(df=labels, parameter_name='label', colormap=colormap), alpha=0.5)"
      ],
      "metadata": {
        "id": "Tm7EA3-JkVNt"
      },
      "execution_count": null,
      "outputs": []
    },
    {
      "cell_type": "markdown",
      "source": [
        "* **SVM z sigmoid kernel dla danych z lipca ((predykcje na danych z lipca 2021)**\n",
        "\n",
        "* z parametrami: C=**50** ,  class_weight=None , gamma=**0.01**, coef0=0.1"
      ],
      "metadata": {
        "id": "iasdcehkuYEA"
      }
    },
    {
      "cell_type": "code",
      "source": [
        "#sigmoid \t50.00 \tNone \t0.01 \t0.1\n",
        "model = SVC(kernel='sigmoid',C=50, class_weight=None, gamma=0.01, coef0=0.1)\n",
        "df_train = July_2019_DF.drop(columns=['lon','lat', 'Year', 'Month', 'SoilT_40_100cm'])\n",
        "nasa_07_2021 = pd.DataFrame(nasa2021full[nasa2019full['Month']==7])\n",
        "nasa_fit = nasa_07_2021.drop(columns=['lon', 'lat', 'Year', 'Month', 'SoilT_40_100cm'])\n",
        "y_pred = train_and_predict(model, df_train, nasa_fit, 'pustynia')\n",
        "labels = pd.DataFrame({'lon': nasa_07_2021['lon'], 'lat': nasa_07_2021['lat'], 'label': y_pred})"
      ],
      "metadata": {
        "id": "ghDU2sV-tVF8"
      },
      "execution_count": null,
      "outputs": []
    },
    {
      "cell_type": "code",
      "source": [
        "output_notebook()\n",
        "show(plot_map(df=labels, parameter_name='label', colormap=colormap), alpha=0.5)"
      ],
      "metadata": {
        "id": "fWM9sAQjuJhZ"
      },
      "execution_count": null,
      "outputs": []
    }
  ],
  "metadata": {
    "colab": {
      "provenance": []
    },
    "kernelspec": {
      "display_name": "Python 3",
      "name": "python3"
    },
    "language_info": {
      "name": "python"
    }
  },
  "nbformat": 4,
  "nbformat_minor": 0
}