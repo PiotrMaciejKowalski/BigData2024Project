{
  "cells": [
    {
      "cell_type": "markdown",
      "metadata": {
        "colab_type": "text",
        "id": "view-in-github"
      },
      "source": [
        "<a href=\"https://colab.research.google.com/github/PiotrMaciejKowalski/BigData2024Project/blob/Selekcja-cech-ograniczenie-zbioru-i-pobranie-danych/colabs/Nowy_szablon_wczytania_danych_(po_selekcji_cech).ipynb\" target=\"_parent\"><img src=\"https://colab.research.google.com/assets/colab-badge.svg\" alt=\"Open In Colab\"/></a>"
      ]
    },
    {
      "cell_type": "markdown",
      "metadata": {
        "id": "tM663YMlg_E-"
      },
      "source": [
        "# Wczytywanie danych w sparku"
      ]
    },
    {
      "cell_type": "markdown",
      "metadata": {
        "id": "2gBFVF2WoyXj"
      },
      "source": [
        "Utworzenie środowiska pyspark do obliczeń:"
      ]
    },
    {
      "cell_type": "code",
      "execution_count": 1,
      "metadata": {
        "id": "YzSDuhpnh9q6"
      },
      "outputs": [],
      "source": [
        "!apt-get install openjdk-8-jdk-headless -qq > /dev/null\n",
        "!wget -q dlcdn.apache.org/spark/spark-3.5.0/spark-3.5.0-bin-hadoop3.tgz\n",
        "!tar xf spark-3.5.0-bin-hadoop3.tgz\n",
        "!pip install -q findspark"
      ]
    },
    {
      "cell_type": "code",
      "execution_count": 2,
      "metadata": {
        "id": "xrwtGNCnOMig"
      },
      "outputs": [],
      "source": [
        "import os\n",
        "os.environ[\"JAVA_HOME\"] = \"/usr/lib/jvm/java-8-openjdk-amd64\"\n",
        "os.environ[\"SPARK_HOME\"] = \"/content/spark-3.5.0-bin-hadoop3\""
      ]
    },
    {
      "cell_type": "code",
      "execution_count": 3,
      "metadata": {
        "id": "02DvjdYfON7R"
      },
      "outputs": [],
      "source": [
        "import findspark\n",
        "findspark.init()"
      ]
    },
    {
      "cell_type": "code",
      "execution_count": 4,
      "metadata": {
        "id": "r626WrHnO4Pp"
      },
      "outputs": [],
      "source": [
        "import matplotlib.pyplot as plt\n",
        "import matplotlib.gridspec as gridspec\n",
        "import pandas as pd\n",
        "from google.colab import drive\n",
        "from pyspark.sql import SparkSession\n",
        "from pyspark.sql import DataFrame as SparkDataFrame\n",
        "from pyspark.sql.types import IntegerType, FloatType, StringType, StructType"
      ]
    },
    {
      "cell_type": "markdown",
      "metadata": {
        "id": "1yEZdu1Ko4II"
      },
      "source": [
        "Utowrzenie sesji:"
      ]
    },
    {
      "cell_type": "code",
      "execution_count": 5,
      "metadata": {
        "id": "pG05GbFHhmNI"
      },
      "outputs": [],
      "source": [
        "spark = SparkSession.builder\\\n",
        "        .master(\"local\")\\\n",
        "        .appName(\"Colab\")\\\n",
        "        .config('spark.ui.port', '4050')\\\n",
        "        .getOrCreate()"
      ]
    },
    {
      "cell_type": "markdown",
      "metadata": {
        "id": "RJ5qVugtpApM"
      },
      "source": [
        "Połączenie z dyskiem:"
      ]
    },
    {
      "cell_type": "code",
      "execution_count": 6,
      "metadata": {
        "colab": {
          "base_uri": "https://localhost:8080/"
        },
        "id": "_cDV6XvNgTdV",
        "outputId": "e9e733e5-c6a1-4f60-c82f-c60b6a9159d7"
      },
      "outputs": [
        {
          "name": "stdout",
          "output_type": "stream",
          "text": [
            "Mounted at /content/drive\n"
          ]
        }
      ],
      "source": [
        "drive.mount('/content/drive')"
      ]
    },
    {
      "cell_type": "markdown",
      "metadata": {
        "id": "EDZ6ImTlpHOv"
      },
      "source": [
        "Wczytanie danych NASA znajdujących się na dysku w sparku:"
      ]
    },
    {
      "cell_type": "code",
      "execution_count": 10,
      "metadata": {
        "id": "_Goo147Lzr6B"
      },
      "outputs": [],
      "source": [
        "columns = ['lon', 'lat', 'Date', 'Rainf', 'Evap', 'AvgSurfT', 'Albedo','SoilT_10_40cm', 'GVEG', 'PotEvap', 'RootMoist', 'SoilM_100_200cm']\n",
        "\n",
        "# Utworzenie schematu określającego typ zmiennych\n",
        "schema = StructType()\n",
        "for i in columns:\n",
        "  if i == \"Date\":\n",
        "    schema = schema.add(i, IntegerType(), True)\n",
        "  else:\n",
        "    schema = schema.add(i, FloatType(), True)"
      ]
    },
    {
      "cell_type": "code",
      "execution_count": 11,
      "metadata": {
        "id": "Anm2lmTahQJx"
      },
      "outputs": [],
      "source": [
        "# Wczytanie zbioru Nasa w sparku\n",
        "nasa = spark.read.format('csv').option(\"header\", True).schema(schema).load('/content/drive/MyDrive/BigMess/NASA/NASA.csv')"
      ]
    },
    {
      "cell_type": "markdown",
      "metadata": {
        "id": "p3qU94A9p5BT"
      },
      "source": [
        "Zanim zaczniemy pisać kwerendy należy jeszcze dodać nasz DataFrame (df) do \"przestrzeni nazw tabel\" Sparka:"
      ]
    },
    {
      "cell_type": "code",
      "execution_count": 13,
      "metadata": {
        "id": "bSPBX5fPi7Ub"
      },
      "outputs": [],
      "source": [
        "nasa.createOrReplaceTempView(\"nasa\")"
      ]
    },
    {
      "cell_type": "markdown",
      "metadata": {
        "id": "OLvsomiX7RxP"
      },
      "source": [
        "Rozdzielenie kolumny \"Date\" na kolumny \"Year\" oraz \"Month\""
      ]
    },
    {
      "cell_type": "code",
      "execution_count": 22,
      "metadata": {
        "id": "PUp1C5Qq3k-5"
      },
      "outputs": [],
      "source": [
        "nasa_ym = spark.sql(\"\"\"\n",
        "          SELECT\n",
        "          CAST(SUBSTRING(CAST(Date AS STRING), 1, 4) AS INT) AS Year,\n",
        "          CAST(SUBSTRING(CAST(Date AS STRING), 5, 2) AS INT) AS Month,\n",
        "          n.*\n",
        "          FROM nasa n\n",
        "          \"\"\")\n",
        "nasa_ym = nasa_ym.drop(\"Date\")"
      ]
    },
    {
      "cell_type": "code",
      "execution_count": 23,
      "metadata": {
        "id": "dWbFnmv97rvu"
      },
      "outputs": [],
      "source": [
        "nasa_ym.createOrReplaceTempView(\"nasa_ym\")"
      ]
    },
    {
      "cell_type": "code",
      "execution_count": null,
      "metadata": {},
      "outputs": [],
      "source": []
    }
  ],
  "metadata": {
    "accelerator": "GPU",
    "colab": {
      "gpuType": "T4",
      "include_colab_link": true,
      "provenance": []
    },
    "kernelspec": {
      "display_name": "Python 3",
      "name": "python3"
    },
    "language_info": {
      "name": "python"
    }
  },
  "nbformat": 4,
  "nbformat_minor": 0
}
