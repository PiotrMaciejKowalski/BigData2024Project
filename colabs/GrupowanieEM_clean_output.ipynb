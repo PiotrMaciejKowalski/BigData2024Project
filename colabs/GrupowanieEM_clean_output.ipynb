{
  "cells": [
    {
      "cell_type": "markdown",
      "metadata": {
        "colab_type": "text",
        "id": "view-in-github"
      },
      "source": [
        "<a href=\"https://colab.research.google.com/github/PiotrMaciejKowalski/BigData2024Project/blob/EM/GrupowanieEM_clean_output.ipynb\" target=\"_parent\"><img src=\"https://colab.research.google.com/assets/colab-badge.svg\" alt=\"Open In Colab\"/></a>"
      ]
    },
    {
      "cell_type": "code",
      "execution_count": null,
      "metadata": {
        "id": "4HNwGttt2OE4"
      },
      "outputs": [],
      "source": [
        "from google.colab import drive\n",
        "drive.mount('/content/drive')"
      ]
    },
    {
      "cell_type": "code",
      "execution_count": null,
      "metadata": {
        "id": "WkScRajh2ZiE"
      },
      "outputs": [],
      "source": [
        "!git clone https://github.com/PiotrMaciejKowalski/BigData2024Project.git\n",
        "%cd BigData2024Project\n",
        "#!git checkout your-branch\n",
        "%cd .."
      ]
    },
    {
      "cell_type": "code",
      "execution_count": null,
      "metadata": {
        "id": "Z2FazYhx3ppl"
      },
      "outputs": [],
      "source": [
        "!chmod 755 /content/BigData2024Project/src/setup.sh\n",
        "!/content/BigData2024Project/src/setup.sh"
      ]
    },
    {
      "cell_type": "code",
      "execution_count": null,
      "metadata": {
        "id": "a4U_y7Kj31G5"
      },
      "outputs": [],
      "source": [
        "import sys\n",
        "sys.path.append('/content/BigData2024Project/src')"
      ]
    },
    {
      "cell_type": "code",
      "execution_count": null,
      "metadata": {
        "id": "RT7QM0bw38k-"
      },
      "outputs": [],
      "source": [
        "from start_spark import initialize_spark\n",
        "initialize_spark()"
      ]
    },
    {
      "cell_type": "code",
      "execution_count": null,
      "metadata": {
        "id": "mziQ8Bj1G-4v"
      },
      "outputs": [],
      "source": [
        "import pandas as pd\n",
        "from pyspark.sql import SparkSession\n",
        "\n",
        "from big_mess.loaders import default_loader, load_single_month, preprocessed_loader\n"
      ]
    },
    {
      "cell_type": "code",
      "execution_count": null,
      "metadata": {
        "id": "HRE7OZiSGaxK"
      },
      "outputs": [],
      "source": [
        "spark = SparkSession.builder\\\n",
        "        .master(\"local\")\\\n",
        "        .appName(\"Colab\")\\\n",
        "        .config('spark.ui.port', '4050')\\\n",
        "        .getOrCreate()"
      ]
    },
    {
      "cell_type": "code",
      "execution_count": null,
      "metadata": {
        "id": "zdKBhy0qGgH4"
      },
      "outputs": [],
      "source": [
        "%%time\n",
        "nasa_full = default_loader(spark)\n",
        "nasa_full.count()"
      ]
    },
    {
      "cell_type": "code",
      "execution_count": null,
      "metadata": {
        "id": "VIUtHaxOKNMb"
      },
      "outputs": [],
      "source": [
        "nasa_full.show(5)"
      ]
    },
    {
      "cell_type": "code",
      "execution_count": null,
      "metadata": {
        "id": "ZTbNyXn-Kva8"
      },
      "outputs": [],
      "source": [
        "nasa_full.createOrReplaceTempView(\"nasa_full\")"
      ]
    },
    {
      "cell_type": "code",
      "execution_count": null,
      "metadata": {
        "id": "Te2E_vPa1of2"
      },
      "outputs": [],
      "source": [
        "!pip install datashader\n",
        "\n",
        "\n",
        "!pip install holoviews hvplot colorcet\n",
        "\n",
        "\n",
        "!pip install geoviews"
      ]
    },
    {
      "cell_type": "code",
      "execution_count": null,
      "metadata": {
        "id": "yiG2hFT4Wye9"
      },
      "outputs": [],
      "source": [
        "from typing import List, Tuple, Optional\n",
        "import copy\n",
        "import numpy as np\n",
        "import matplotlib as mpl\n",
        "from itertools import combinations\n",
        "from sklearn import preprocessing\n",
        "from sklearn.mixture import GaussianMixture\n",
        "from sklearn.metrics import accuracy_score, precision_score, jaccard_score, recall_score, roc_auc_score\n",
        "import datashader as ds\n",
        "import datashader.transfer_functions as tf\n",
        "import colorcet as cc\n",
        "import holoviews as hv\n",
        "import hvplot.pandas\n",
        "from holoviews.operation.datashader import datashade\n",
        "import geoviews as gv\n",
        "import geoviews.tile_sources as gts\n",
        "from holoviews import opts\n",
        "from IPython.display import IFrame\n",
        "from IPython.core.display import display\n",
        "from bokeh.plotting import show, output_notebook"
      ]
    },
    {
      "cell_type": "markdown",
      "metadata": {
        "id": "CMTU-3vcqFrS"
      },
      "source": [
        "## **Implementacja Expectation-Maximization**"
      ]
    },
    {
      "cell_type": "markdown",
      "metadata": {
        "id": "Qrqco2DagoPc"
      },
      "source": [
        "Na razie (do celów testowych) ograniczymy się do do jednego, wybranego roku (2020) i współrzędnych uprzednio zaanotowanych."
      ]
    },
    {
      "cell_type": "code",
      "execution_count": null,
      "metadata": {
        "id": "3_4SApbgaCZq"
      },
      "outputs": [],
      "source": [
        "nasa2020 = spark.sql(''' SELECT * FROM nasa_full''').where(nasa_full.Year == 2020).drop('Year')\n",
        "nasa2020.show(5)"
      ]
    },
    {
      "cell_type": "code",
      "execution_count": null,
      "metadata": {
        "id": "WSeHGZlRqprP"
      },
      "outputs": [],
      "source": [
        "nasa_an = preprocessed_loader(spark, \"/content/drive/MyDrive/BigMess/NASA/NASA_an.csv\")"
      ]
    },
    {
      "cell_type": "code",
      "execution_count": null,
      "metadata": {
        "id": "WhJm6PI6rMLl"
      },
      "outputs": [],
      "source": [
        "nasa_an = nasa_an.withColumnRenamed(\"lon\", \"lon_sam\").withColumnRenamed(\"lat\", \"lat_sam\")\n",
        "nasa_an.show(5)"
      ]
    },
    {
      "cell_type": "code",
      "execution_count": null,
      "metadata": {
        "id": "vU6efYnikNTA"
      },
      "outputs": [],
      "source": [
        "NASA_2020_an = (\n",
        "     nasa2020\n",
        "     .join(\n",
        "        nasa_an,\n",
        "        [\n",
        "             nasa2020.lon==nasa_an.lon_sam ,\n",
        "             nasa2020.lat==nasa_an.lat_sam\n",
        "         ],\n",
        "          \"inner\"\n",
        "      )\n",
        "      .drop('lat_sam','lon_sam')\n",
        "  )\n",
        "\n",
        "NASA_2020_an.show(5)"
      ]
    },
    {
      "cell_type": "code",
      "execution_count": null,
      "metadata": {
        "id": "7dpsUlURuddZ"
      },
      "outputs": [],
      "source": [
        "NASA_2020_an_pd = NASA_2020_an.toPandas()"
      ]
    },
    {
      "cell_type": "code",
      "execution_count": null,
      "metadata": {
        "id": "PKEbsCpMxrfS"
      },
      "outputs": [],
      "source": [
        "NASA_2020_an_pd.head(5)"
      ]
    },
    {
      "cell_type": "markdown",
      "metadata": {
        "id": "o2rvB6beh8Hn"
      },
      "source": [
        "### **Dane roczne:**"
      ]
    },
    {
      "cell_type": "code",
      "execution_count": null,
      "metadata": {
        "id": "FyypL9q8x-rN"
      },
      "outputs": [],
      "source": [
        "#agreggating selected features' monthly data over a year:\n",
        "\n",
        "# a) calculating annual averages:\n",
        "NASA2020_annual_means = (\n",
        "                         NASA_2020_an_pd[['lon', 'lat', 'Evap','PotEvap','RootMoist','Rainf','SoilM_100_200cm', 'GVEG']]\n",
        "                         .groupby( by=['lon', 'lat']\n",
        "                                  ).mean()\n",
        "                        ).reset_index()\n",
        "\n",
        "# b) calculating the total annual rainfall (sum):\n",
        "NASA2020_rainfall_sum = (\n",
        "                         NASA_2020_an_pd[['lon', 'lat', 'Rainf']]\n",
        "                         .groupby( by=['lon', 'lat']\n",
        "                                  ).sum()\n",
        "                        .rename(columns={\"Rainf\": \"Annual Rainfall\"})\n",
        "                        .reset_index()\n",
        "                        )\n",
        "\n",
        "# c) calculating annual medians for selected features:\n",
        "NASA2020_medians = (\n",
        "                   NASA_2020_an_pd[['lon', 'lat', 'PotEvap', 'Evap', 'SoilM_100_200cm', 'AvgSurfT', 'SoilT_40_100cm' ]]\n",
        "                   .groupby( by=['lon', 'lat']\n",
        "                            ).median()\n",
        "                   .rename(columns={'PotEvap': \"PotEvap_Median\", 'Evap': 'Evap_Median', 'AvgSurfT': 'AvgSurfT_Median',\n",
        "                                    'SoilT_40_100cm': \"SoilT40_100_Median\", 'SoilM_100_200cm': 'SoilM_100_200cm_Median'}\n",
        "                          )\n",
        "                   .reset_index()\n",
        "                   )\n",
        "\n",
        "# Merging into one dataset:\n",
        "NASA2020_annual_anotated = NASA2020_annual_means.merge(NASA2020_medians, how='inner', on=['lon', 'lat'])\n",
        "\n",
        "\n",
        "NASA2020_annual_anotated = NASA2020_annual_anotated.merge( NASA2020_rainfall_sum, how='inner', on=['lon', 'lat'])"
      ]
    },
    {
      "cell_type": "code",
      "execution_count": null,
      "metadata": {
        "id": "88Del37qjyJ4"
      },
      "outputs": [],
      "source": [
        "NASA2020_annual_anotated.head()"
      ]
    },
    {
      "cell_type": "code",
      "execution_count": null,
      "metadata": {
        "id": "35X8J3IvYg5P"
      },
      "outputs": [],
      "source": [
        "def assert_add_column(dataset: pd.DataFrame, feature_name: str, month: int) -> None:\n",
        "  assert (1<= month <= 12), f'Invalid month number'\n",
        "  assert feature_name in dataset.columns, f'The attribute \"{feature_name}\" is not a column in the DataFrame (full_dataset)'\n",
        "\n",
        "\n",
        "#full_dataset - dataframe with monthly data spanning over a (particular) year\n",
        "def add_column_to_dataframe(df: pd.DataFrame, full_dataset: pd.DataFrame, feature_name: str, month: int) -> pd.DataFrame:\n",
        "  # function adds a column to the given dataframe, containing monthly data for the specified feature (feature_name) and month\n",
        "  assert_add_column(full_dataset, feature_name, month)\n",
        "\n",
        "  feature_df = full_dataset[['lon', 'lat', feature_name, 'Month']]\n",
        "  feature_df_month = feature_df[feature_df['Month'] == month]\n",
        "  feature_df_month = feature_df_month.drop(columns=['Month']).rename(columns = {feature_name: feature_name+str(month)})\n",
        "\n",
        "  return df.merge(feature_df_month, how='inner', on=['lon', 'lat'])\n"
      ]
    },
    {
      "cell_type": "code",
      "execution_count": null,
      "metadata": {
        "id": "TSyE-Q86aXXv"
      },
      "outputs": [],
      "source": [
        "#adding columns with monthly data for selected features and months\n",
        "selected_months = [month for month in range(5,10)]\n",
        "features_names = ['PotEvap', 'Evap', 'Rainf', 'Albedo']\n",
        "\n",
        "for feature in features_names:\n",
        "   for month in selected_months:\n",
        "       NASA2020_annual_anotated = add_column_to_dataframe(NASA2020_annual_anotated, NASA_2020_an_pd, feature, month)\n",
        "\n",
        "selected_months2 = [month for month in range(3,11)]\n",
        "\n",
        "for month in selected_months2:\n",
        "       NASA2020_annual_anotated = add_column_to_dataframe(NASA2020_annual_anotated, NASA_2020_an_pd, 'RootMoist', month)\n",
        "\n",
        "\n",
        "#adding all columns with \"GVEG\" monthly data\n",
        "year = [month for month in range(1,13)]\n",
        "\n",
        "for month in year:\n",
        "       NASA2020_annual_anotated = add_column_to_dataframe(NASA2020_annual_anotated, NASA_2020_an_pd, 'GVEG', month)"
      ]
    },
    {
      "cell_type": "code",
      "execution_count": null,
      "metadata": {
        "id": "19QblkiLXGAD"
      },
      "outputs": [],
      "source": [
        "NASA2020_annual_anotated.head(5)\n"
      ]
    },
    {
      "cell_type": "code",
      "execution_count": null,
      "metadata": {
        "id": "RO3Prs4QSF5h"
      },
      "outputs": [],
      "source": [
        "NASA2020_annual_anotated_ = NASA2020_annual_anotated.drop(columns=['lon', 'lat'])\n",
        "\n",
        "#data standarization:\n",
        "scaler = preprocessing.StandardScaler()\n",
        "standarized = scaler.fit_transform(NASA2020_annual_anotated_)"
      ]
    },
    {
      "cell_type": "code",
      "execution_count": null,
      "metadata": {
        "id": "OTBpsrwepgKr"
      },
      "outputs": [],
      "source": [
        "NASA2020_annual_an_st = pd.DataFrame(standarized, columns=NASA2020_annual_anotated_.columns)\n",
        "NASA2020_annual_an_st.head()"
      ]
    },
    {
      "cell_type": "code",
      "execution_count": null,
      "metadata": {
        "id": "PpkBXCAQaD_9"
      },
      "outputs": [],
      "source": [
        "#dataframe with labels:\n",
        "labels_an = NASA_2020_an_pd[['lon', 'lat', 'pustynia', 'step']].drop_duplicates()\n",
        "#desert lables:\n",
        "desert_label_an = labels_an['pustynia'].tolist()"
      ]
    },
    {
      "cell_type": "code",
      "execution_count": null,
      "metadata": {
        "id": "iXZqHlfUqbOc"
      },
      "outputs": [],
      "source": [
        "#Performing Gaussian Mixture algorithm:\n",
        "gm = GaussianMixture(n_components = 2, n_init = 300, max_iter=200, init_params= 'k-means++', covariance_type='spherical', random_state=42)\n",
        "gm_result = gm.fit_predict(NASA2020_annual_an_st)"
      ]
    },
    {
      "cell_type": "code",
      "execution_count": null,
      "metadata": {
        "id": "UR-gFVOhdHxJ"
      },
      "outputs": [],
      "source": [
        "metrics = {\n",
        "'accuracy' : accuracy_score(gm_result, desert_label_an),\n",
        "'precision' : precision_score(gm_result, desert_label_an),\n",
        "'jaccard' : jaccard_score(gm_result, desert_label_an),\n",
        "}\n",
        "print(metrics)"
      ]
    },
    {
      "cell_type": "markdown",
      "metadata": {
        "id": "UyxS3tBIkK0E"
      },
      "source": [
        "### **Dane z jednego miesiaca:**"
      ]
    },
    {
      "cell_type": "markdown",
      "metadata": {
        "id": "UFovivw6f43g"
      },
      "source": [
        "A teraz sprawdzimy, jakie beda wyniki grupowania na danych z jednego miesiaca (spodziewamy sie, ze jakosc podzialu bedzie zalezala od wyboru miesiaca, dlatego przetestujemy algorytm na wszystkich miesiacach po kolei)"
      ]
    },
    {
      "cell_type": "code",
      "execution_count": null,
      "metadata": {
        "id": "WSnDuSm2hpX_"
      },
      "outputs": [],
      "source": [
        "NASA_2020_an_pd.head()"
      ]
    },
    {
      "cell_type": "code",
      "execution_count": null,
      "metadata": {
        "id": "TsJs8kpzFXBg"
      },
      "outputs": [],
      "source": [
        "def GM_monthly_data(df: pd.DataFrame, month: int, init_params: str) -> dict:\n",
        "  #The function performs the Gaussian Mixture algorithm on a dataset limited to data from a given month\n",
        "  assert (1<=month<=12), f'Invalid month number'\n",
        "\n",
        "  NASA_monthlyDF = df[df['Month']==month]\n",
        "  NASA_monthly = NASA_monthlyDF.drop(columns=['Month', 'pustynia'])\n",
        "\n",
        "  scaler = preprocessing.StandardScaler()\n",
        "  standarized = scaler.fit_transform(NASA_monthly)\n",
        "  NASA_monthly_st = pd.DataFrame(standarized, columns=NASA_monthly.columns)\n",
        "\n",
        "  gm = GaussianMixture(n_components = 2, n_init = 100, max_iter=100, init_params= 'random_from_data', covariance_type='spherical', random_state=42)\n",
        "  gm_result = gm.fit_predict(NASA_monthly_st)\n",
        "\n",
        "  labels = NASA_monthlyDF['pustynia'].tolist()\n",
        "  acc = accuracy_score(gm_result, labels)\n",
        "\n",
        "  if acc <0.5:\n",
        "    gm_result = gm_result.tolist()\n",
        "    gm_result = [(1 - label) for label in gm_result]  #relabeling\n",
        "    acc = accuracy_score(gm_result, labels)\n",
        "\n",
        "  pre = precision_score(gm_result, labels)\n",
        "  jac = jaccard_score(gm_result, labels)\n",
        "\n",
        "  output = {'GM_result': gm_result, 'acc': acc, 'pre': pre, 'jac': jac}\n",
        "  return output"
      ]
    },
    {
      "cell_type": "code",
      "execution_count": null,
      "metadata": {
        "id": "CnO6pDlEKYBM"
      },
      "outputs": [],
      "source": [
        "NASA_2020_an_pd = NASA_2020_an_pd.drop(columns=['step', 'SoilT_40_100cm', 'SoilM_100_200cm'])\n",
        "\n",
        "# GaussianMixture with init_param = \"random_from_data\"\n",
        "for i in range(12):\n",
        "  gm = GM_monthly_data(NASA_2020_an_pd, i+1, \"random_from_data\")\n",
        "  print(\"Accuracy dla danych z miesiąca \", i+1, \" wynosi \", round(gm['acc'], 3),\n",
        "        \" , Precision: \", round(gm['pre'], 3), \", Jaccard score: \", round(gm['jac'], 3) )\n"
      ]
    },
    {
      "cell_type": "code",
      "execution_count": null,
      "metadata": {
        "id": "fkKEa3LkW12L"
      },
      "outputs": [],
      "source": [
        "# GaussianMixture with init_param = \"k-means++\"\n",
        "for i in range(12):\n",
        "  gm = GM_monthly_data(NASA_2020_an_pd, i+1, \"k-means++\")\n",
        "  print(\"Accuracy dla danych z miesiąca \", i+1, \" wynosi \", round(gm['acc'], 3),\n",
        "        \" , Precision: \", round(gm['pre'], 3), \", Jaccard score: \", round(gm['jac'], 3) )\n"
      ]
    },
    {
      "cell_type": "markdown",
      "metadata": {
        "id": "M7yofMu1bA_6"
      },
      "source": [
        "Przetestujemy jeszcze taki tam pomysł: majority voting dla wyników klastrowania dla wybranych miesięcy (glownie miesiecy, w ktorych ma miejsce wegetacja na polkuli polnocnej ):"
      ]
    },
    {
      "cell_type": "code",
      "execution_count": null,
      "metadata": {
        "id": "bD40svtVZTCp"
      },
      "outputs": [],
      "source": [
        "labels1 = np.zeros(500)\n",
        "months = [5,6,7,8,9,11]\n",
        "for i in range(6):\n",
        "  gm = GM_monthly_data(NASA_2020_an_pd, months[i], 'k-means++')\n",
        "  acc, pre, jac, labels2 = gm['acc'], gm['pre'], gm['jac'], gm['GM_result']\n",
        "  for j in range(len(labels1)):\n",
        "     labels1[j] = labels1[j] + labels2[j]\n",
        "\n",
        "for j in range(len(labels1)):\n",
        "  if labels1[j]>=4:\n",
        "     labels1[j] = 1\n",
        "  else:\n",
        "     labels1[j] = 0"
      ]
    },
    {
      "cell_type": "code",
      "execution_count": null,
      "metadata": {
        "id": "TkaamfUVCN9h"
      },
      "outputs": [],
      "source": [
        "metrics = {\n",
        "'accuracy' : accuracy_score(labels1, desert_label_an),\n",
        "'precision' : precision_score(labels1, desert_label_an),\n",
        "'jaccard' : jaccard_score(labels1, desert_label_an),\n",
        "}\n",
        "print(metrics)"
      ]
    },
    {
      "cell_type": "markdown",
      "metadata": {
        "id": "W0tcze9KhkQK"
      },
      "source": [
        "### **Grupowanie na całym zbiorze (dla wszystkich współrzędnych)**"
      ]
    },
    {
      "cell_type": "markdown",
      "metadata": {
        "id": "4vOND6wWphKD"
      },
      "source": [
        "### **1. Dane roczne:**"
      ]
    },
    {
      "cell_type": "code",
      "execution_count": null,
      "metadata": {
        "id": "AsBrHYA6ibFC"
      },
      "outputs": [],
      "source": [
        "NASA2020_full = nasa2020.toPandas()"
      ]
    },
    {
      "cell_type": "code",
      "execution_count": null,
      "metadata": {
        "id": "XrXCydSAj_S_"
      },
      "outputs": [],
      "source": [
        "#agreggating selected features' monthly data over a year:\n",
        "\n",
        "# a) calculating annual averages:\n",
        "NASA2020FULL_annual_means = (\n",
        "                         NASA2020_full[['lon', 'lat', 'Evap','PotEvap','RootMoist','Rainf','SoilM_100_200cm', 'GVEG']]\n",
        "                         .groupby( by=['lon', 'lat']\n",
        "                                  ).mean()\n",
        "                        ).reset_index()\n",
        "\n",
        "# b) calculating the total annual rainfall (sum):\n",
        "NASA2020FULL_rainfall_sum = (\n",
        "                         NASA2020_full[['lon', 'lat', 'Rainf']]\n",
        "                         .groupby( by=['lon', 'lat']\n",
        "                                  ).sum()\n",
        "                        .rename(columns={\"Rainf\": \"Annual Rainfall\"})\n",
        "                        .reset_index()\n",
        "                        )\n",
        "\n",
        "# c) calculating annual medians for selected features:\n",
        "NASA2020FULL_annual_medians = (\n",
        "                   NASA2020_full[['lon', 'lat', 'PotEvap', 'Evap', 'SoilM_100_200cm', 'AvgSurfT', 'SoilT_40_100cm' ]]\n",
        "                   .groupby( by=['lon', 'lat']\n",
        "                            ).median()\n",
        "                   .rename(columns={'PotEvap': \"PotEvap_Median\", 'Evap': 'Evap_Median', 'AvgSurfT': 'AvgSurfT_Median',\n",
        "                                    'SoilT_40_100cm': \"SoilT40_100_Median\",'SoilM_100_200cm': 'SoilM_100_200cm_Median'}\n",
        "                          )\n",
        "                   .reset_index()\n",
        "                   )\n",
        "\n",
        "# Merging into one dataset:\n",
        "NASA2020_annual_full = NASA2020FULL_annual_means.merge(NASA2020FULL_annual_medians, how='inner', on=['lon', 'lat'])\n",
        "\n",
        "NASA2020_annual_full = NASA2020_annual_full.merge(NASA2020FULL_rainfall_sum, how='inner', on=['lon', 'lat'])"
      ]
    },
    {
      "cell_type": "code",
      "execution_count": null,
      "metadata": {
        "id": "Rsoav1Yrx_tG"
      },
      "outputs": [],
      "source": [
        "NASA2020_annual_full_2 = copy.deepcopy(NASA2020_annual_full)"
      ]
    },
    {
      "cell_type": "code",
      "execution_count": null,
      "metadata": {
        "id": "mftT1bHdujxp"
      },
      "outputs": [],
      "source": [
        "NASA2020_annual_full.head(5)"
      ]
    },
    {
      "cell_type": "code",
      "execution_count": null,
      "metadata": {
        "id": "6zEBETyGusTJ"
      },
      "outputs": [],
      "source": [
        "NASA2020_annual_full_ = NASA2020_annual_full.drop(columns=['lon', 'lat'])\n",
        "\n",
        "#data standarization:\n",
        "scaler = preprocessing.StandardScaler()\n",
        "standarized = scaler.fit_transform(NASA2020_annual_full_)\n",
        "st_NASA2020_annual_full = pd.DataFrame(standarized, columns=NASA2020_annual_full_.columns)\n",
        "st_NASA2020_annual_full.head()"
      ]
    },
    {
      "cell_type": "code",
      "execution_count": null,
      "metadata": {
        "id": "QHyhqptqu4Vv"
      },
      "outputs": [],
      "source": [
        "GM = GaussianMixture(n_components = 2, n_init = 200, max_iter=200, init_params= 'random_from_data', covariance_type='spherical', random_state=42)\n",
        "gm_result = GM.fit_predict(st_NASA2020_annual_full)"
      ]
    },
    {
      "cell_type": "markdown",
      "metadata": {
        "id": "c7l2zISZw89l"
      },
      "source": [
        "Ewaluacja na podzbiorze anotowanym:"
      ]
    },
    {
      "cell_type": "code",
      "execution_count": null,
      "metadata": {
        "id": "UI1rxs3_vFCC"
      },
      "outputs": [],
      "source": [
        "NASA2020_annual_full['label'] = list(gm_result)\n",
        "anotated_subset = NASA2020_annual_full[['lon', 'lat', 'label']].merge(labels_an[['lon', 'lat', 'pustynia']], on=['lon', 'lat'], how='inner')\n",
        "\n",
        "metrics = {\n",
        "'accuracy': accuracy_score(list(anotated_subset['label']), list(anotated_subset['pustynia'])),\n",
        "'precision': precision_score(list(anotated_subset['label']), list(anotated_subset['pustynia'])),\n",
        "'recall': round(recall_score(list(anotated_subset['label']), list(anotated_subset['pustynia'])), 4),\n",
        "'jaccard_score' : round(jaccard_score(list(anotated_subset['label']), list(anotated_subset['pustynia'])), 4)\n",
        "}\n",
        "print(metrics)"
      ]
    },
    {
      "cell_type": "markdown",
      "metadata": {
        "id": "AiOXxDRKxFJG"
      },
      "source": [
        "W celu poprawy wyników grupowania wzbogacimy dataset o kolumny z danymi miesięcznymi dla wybranych miesięcy i cech:"
      ]
    },
    {
      "cell_type": "code",
      "execution_count": null,
      "metadata": {
        "id": "ZxzMUGx2nbcE"
      },
      "outputs": [],
      "source": [
        "#adding columns with monthly data for selected features and months\n",
        "selected_months = [month for month in range(5,10)]\n",
        "features_names = ['PotEvap', 'Evap', 'Rainf', 'Albedo']\n",
        "\n",
        "for feature in features_names:\n",
        "   for month in selected_months:\n",
        "       NASA2020_annual_full_2 = add_column_to_dataframe(NASA2020_annual_full_2, NASA2020_full, feature, month)\n",
        "\n",
        "selected_months2 = [month for month in range(3,11)]\n",
        "\n",
        "for month in selected_months2:\n",
        "       NASA2020_annual_full_2 = add_column_to_dataframe(NASA2020_annual_full_2, NASA2020_full, 'RootMoist', month)\n",
        "\n",
        "\n",
        "#adding all columns with \"GVEG\" monthly data\n",
        "year = [month for month in range(1,13)]\n",
        "\n",
        "for month in year:\n",
        "       NASA2020_annual_full_2 = add_column_to_dataframe(NASA2020_annual_full_2, NASA2020_full, 'GVEG', month)\n"
      ]
    },
    {
      "cell_type": "code",
      "execution_count": null,
      "metadata": {
        "id": "bBhyrwers8I3"
      },
      "outputs": [],
      "source": [
        "NASA2020_annual_full_2.head()"
      ]
    },
    {
      "cell_type": "code",
      "execution_count": null,
      "metadata": {
        "id": "PkxQFS577ygc"
      },
      "outputs": [],
      "source": [
        "NASA2020_annual_full_2_ = NASA2020_annual_full_2.drop(columns=['lon', 'lat'])\n",
        "\n",
        "#data standarization:\n",
        "scaler = preprocessing.StandardScaler()\n",
        "standarized = scaler.fit_transform(NASA2020_annual_full_2_)\n",
        "st_NASA2020_annual_full2 = pd.DataFrame(standarized, columns=NASA2020_annual_full_2_.columns)\n",
        "st_NASA2020_annual_full2.head()"
      ]
    },
    {
      "cell_type": "code",
      "execution_count": null,
      "metadata": {
        "id": "hvmCLTy-9Wmi"
      },
      "outputs": [],
      "source": [
        "GM = GaussianMixture(n_components = 2, n_init = 200, max_iter=200, init_params= 'random_from_data', covariance_type='spherical', random_state=42)\n",
        "gm_result = GM.fit_predict(st_NASA2020_annual_full2)"
      ]
    },
    {
      "cell_type": "markdown",
      "metadata": {
        "id": "nn71DISdrEfJ"
      },
      "source": [
        "Przeprowadzimy jeszcze ewaluację naszego grupowania na podzbiorze anotowanym:"
      ]
    },
    {
      "cell_type": "code",
      "execution_count": null,
      "metadata": {
        "id": "DPJsmtjLHRSr"
      },
      "outputs": [],
      "source": [
        "NASA2020_annual_full_2['label'] = gm_list\n",
        "anotated_subset = NASA2020_annual_full_2[['lon', 'lat', 'label']].merge(labels_an[['lon', 'lat', 'pustynia']], on=['lon', 'lat'], how='inner')\n",
        "\n",
        "metrics = {\n",
        "'accuracy': accuracy_score(list(anotated_subset['label']), list(anotated_subset['pustynia'])),\n",
        "'precision': precision_score(list(anotated_subset['label']), list(anotated_subset['pustynia'])),\n",
        "'recall': round(recall_score(list(anotated_subset['label']), list(anotated_subset['pustynia'])), 4),\n",
        "'jaccard-score': round(jaccard_score(list(anotated_subset['label']), list(anotated_subset['pustynia'])), 4),\n",
        "'ROC-AUC': round(roc_auc_score(list(anotated_subset['label']), list(anotated_subset['pustynia'])), 4)\n",
        "}"
      ]
    },
    {
      "cell_type": "code",
      "execution_count": null,
      "metadata": {
        "id": "LRtQ7BqRK4YS"
      },
      "outputs": [],
      "source": [
        "print(metrics)"
      ]
    },
    {
      "cell_type": "markdown",
      "metadata": {
        "id": "OgNYenp511EI"
      },
      "source": [
        "O wiele lepiej, ale wciąż niezadowalająco"
      ]
    },
    {
      "cell_type": "code",
      "execution_count": null,
      "metadata": {
        "id": "CEu2fgg-FiKn"
      },
      "outputs": [],
      "source": [
        "gm_list = gm_result.tolist()\n",
        "\n",
        "deserts = {\n",
        "    'number of deserts predicted': sum(gm_list),\n",
        "    'percentage deserts predicted': sum(gm_list)/len(NASA2020_annual_full)\n",
        "}\n",
        "print(deserts)"
      ]
    },
    {
      "cell_type": "markdown",
      "metadata": {
        "id": "1s9ksS2oFmnE"
      },
      "source": [
        "To zdecydowanie za dużo!!! Prawie **38% pustyń**!"
      ]
    },
    {
      "cell_type": "markdown",
      "metadata": {
        "id": "n1kndOkfAARW"
      },
      "source": [
        "### **2. Dane miesięczne:**"
      ]
    },
    {
      "cell_type": "code",
      "execution_count": null,
      "metadata": {
        "id": "Z8PzD3j3AKCX"
      },
      "outputs": [],
      "source": [
        "def GM_monthly_data(month: int, df: pd.DataFrame, evaluation_subset_labels: pd.DataFrame) -> dict:\n",
        "  assert (1<=month<=12), f'Invalid month number'\n",
        "\n",
        "  MonthDF = df[df['Month']==month]     #selecting data from given month\n",
        "  MonthDF_ = MonthDF.drop(columns=['lon', 'lat', 'Month'])\n",
        "\n",
        "  scaler = preprocessing.StandardScaler()   #data standarization\n",
        "  standarized = scaler.fit_transform(MonthDF_)\n",
        "  st_MonthDF_ = pd.DataFrame(standarized, columns=MonthDF_.columns)\n",
        "\n",
        "  gm = GaussianMixture(n_components = 2, n_init = 200, max_iter=200, init_params= 'random_from_data',\n",
        "                       covariance_type='spherical', random_state=42)\n",
        "  gm_result = gm.fit_predict(st_MonthDF_)\n",
        "  gm_list = gm_result.tolist()\n",
        "\n",
        "  if (sum(gm_list)/len(MonthDF)) >0.5:\n",
        "     gm_list = [(1-label) for label in gm_list] #relabeling\n",
        "\n",
        "  deserts_percentage = round(sum(gm_list)/len(MonthDF), 4)\n",
        "\n",
        "  GM_labels = pd.DataFrame({'lon': MonthDF['lon'].tolist(), 'lat': MonthDF['lat'].tolist(), 'label': gm_list })\n",
        "  anotated_subset = GM_labels.merge( evaluation_subset_labels[['lon', 'lat', 'pustynia']],\n",
        "                                              on=['lon', 'lat'], how='inner')\n",
        "  accuracy_on_anotated = accuracy_score(anotated_subset['pustynia'], anotated_subset['label'] )\n",
        "  precision_on_anotated = precision_score(anotated_subset['pustynia'], anotated_subset['label'] )\n",
        "  roc_auc_on_anotated = roc_auc_score(anotated_subset['pustynia'], anotated_subset['label'])\n",
        "\n",
        "  output = {'gm_labels': gm_list, 'deserts percentage': deserts_percentage,'accuracy on anotated': accuracy_on_anotated,\n",
        "            'precision on anotated' : precision_on_anotated, \"ROC-auc on anotated\": roc_auc_on_anotated }\n",
        "\n",
        "  return output"
      ]
    },
    {
      "cell_type": "code",
      "execution_count": null,
      "metadata": {
        "id": "tqdL9CkXDv6S"
      },
      "outputs": [],
      "source": [
        "#removing two particular columns ('SoilT_40_100cm' and 'SoilM_100_200cm') from the dataset:\n",
        "#removing those columns from the dataset resulted in significantly better algorithm performance\n",
        "NASA2020_full_reduced = NASA2020_full.drop(columns = ['SoilT_40_100cm', 'SoilM_100_200cm'])\n",
        "\n",
        "clustering_labels = []\n",
        "month, deserts_per, acc, pre, roc_auc = [], [], [], [], []\n",
        "\n",
        "\n",
        "for i in range(12):\n",
        "  gm = GM_monthly_data(i+1, NASA2020_full_reduced, labels_an)\n",
        "  clustering_labels.append(gm['gm_labels'])\n",
        "  month.append(i+1)\n",
        "  deserts_per.append(gm['deserts percentage'])\n",
        "  acc.append(gm['accuracy on anotated'])\n",
        "  pre.append(gm['precision on anotated'])\n",
        "  roc_auc.append(gm['ROC-auc on anotated'])\n",
        "\n",
        "evaluation = pd.DataFrame(data = {\"Month data\": month, \"predicted deserts' percentage\": deserts_per,\n",
        "            \"accuracy on anotated subset\": acc, \"precision on anotated subset\": pre, \"ROC-AUC on anotated subset\": roc_auc  })\n"
      ]
    },
    {
      "cell_type": "code",
      "execution_count": null,
      "metadata": {
        "id": "LINOGNoUBdW7"
      },
      "outputs": [],
      "source": [
        "evaluation"
      ]
    },
    {
      "cell_type": "markdown",
      "metadata": {
        "id": "_UJefbYW8kfl"
      },
      "source": [
        "### **Wizualizacje wynikow klastrowania na całym zbiorze**"
      ]
    },
    {
      "cell_type": "code",
      "execution_count": null,
      "metadata": {
        "id": "2ffBK3Jk2-3e"
      },
      "outputs": [],
      "source": [
        "def get_colormap(values: list, colors_palette: list, name = 'custom'):\n",
        "    values = np.sort(np.array(values))\n",
        "    values = np.interp(values, (values.min(), values.max()), (0, 1))\n",
        "    cmap = mpl.colors.LinearSegmentedColormap.from_list(name, list(zip(values, colors_palette)))\n",
        "    return cmap\n",
        "\n",
        "def plot_map(df: pd.DataFrame, parameter_name: str, colormap: mpl.colors.LinearSegmentedColormap,\n",
        "             point_size: int = 8, width: int = 900, height: int = 600, alpha: float = 1,\n",
        "             bgcolor: str = 'white'):\n",
        "\n",
        "    gdf = gv.Points(df, ['lon', 'lat'], [parameter_name]) # obiekt zawierający punkty\n",
        "    tiles = gts.OSM # wybór mapy tła, w tym wypadku OpenStreetMap\n",
        "\n",
        "    # łączenie mapy tła z punktami i ustawienie wybranych parametrów wizualizacji\n",
        "    map_with_points = tiles * gdf.opts(\n",
        "        color=parameter_name,\n",
        "        cmap=colormap,\n",
        "        size=point_size,\n",
        "        width=width,\n",
        "        height=height,\n",
        "        colorbar=False,\n",
        "        toolbar='above',\n",
        "        tools=['hover', 'wheel_zoom', 'reset'],\n",
        "        alpha=alpha\n",
        "    )\n",
        "\n",
        "    return hv.render(map_with_points)"
      ]
    },
    {
      "cell_type": "markdown",
      "metadata": {
        "id": "Pg_GLVI-9BNu"
      },
      "source": [
        "**Wizualizacja grupowania dla danych rocznych:**"
      ]
    },
    {
      "cell_type": "code",
      "execution_count": null,
      "metadata": {
        "id": "YOGstO-L9KCq"
      },
      "outputs": [],
      "source": [
        "colormap = get_colormap([0, 1], ['green', 'yellow'])\n",
        "output_notebook()\n",
        "show(plot_map(df=NASA2020_annual_full[['lon', 'lat', 'label']], parameter_name='label', colormap=colormap, alpha=0.5))"
      ]
    },
    {
      "cell_type": "markdown",
      "metadata": {
        "id": "pFjLICl58y0P"
      },
      "source": [
        "**Wizualizacje dla grupowania na danych miesięcznych:**"
      ]
    },
    {
      "cell_type": "code",
      "execution_count": null,
      "metadata": {
        "id": "u3yOZceK6kks"
      },
      "outputs": [],
      "source": [
        "for i in range(12):\n",
        "  print(\"Wizualizacja grupowania na danych z miesiąca: \", i+1)\n",
        "  nasa_month = NASA2020_full[NASA2020_full['Month']==i+1]\n",
        "  df = pd.DataFrame(nasa_month[['lon','lat']])\n",
        "  df['label'] = clustering_labels[i]\n",
        "  colormap = get_colormap([0, 1], ['green', 'yellow'])\n",
        "  output_notebook()\n",
        "  show(plot_map(df=df, parameter_name='label', colormap=colormap, alpha=0.5))"
      ]
    },
    {
      "cell_type": "markdown",
      "metadata": {
        "id": "-P25V57F89D9"
      },
      "source": [
        "### **Appendix: grupowanie na pojedynczych kolumnach (cechach) oraz parach cech dla danych miesiecznych**"
      ]
    },
    {
      "cell_type": "markdown",
      "metadata": {
        "id": "6oxAXt7Tl594"
      },
      "source": [
        "**a) Grupowanie na pojedynczych kolumnach:**"
      ]
    },
    {
      "cell_type": "code",
      "execution_count": null,
      "metadata": {
        "id": "oRH26J5iF0q-"
      },
      "outputs": [],
      "source": [
        "column_names = NASA2020_full.drop(columns=['lon', 'lat', 'Month']).columns\n",
        "\n",
        "for column in column_names:\n",
        "  NASA_single = pd.DataFrame(NASA2020_full[[column, 'Month', 'lon', 'lat']])\n",
        "  gmm = GM_monthly_data(5, NASA_single, labels_an)\n",
        "  labels = gmm.pop('gm_labels')\n",
        "  print(\"Results for clustering based on the \", column, \"column:\")\n",
        "  print(gmm)\n",
        "\n",
        "  nasa_month = NASA2020_full[NASA2020_full['Month']==5]\n",
        "  df = pd.DataFrame(nasa_month[['lon','lat']])\n",
        "  df['label'] = labels\n",
        "  colormap = get_colormap([0, 1], ['green', 'yellow'])\n",
        "  output_notebook()\n",
        "  show(plot_map(df=df, parameter_name='label', colormap=colormap, alpha=0.5))\n"
      ]
    },
    {
      "cell_type": "markdown",
      "metadata": {
        "id": "O01j1lR7maGe"
      },
      "source": [
        "**b) Grupowanie na parach kolumn:**"
      ]
    },
    {
      "cell_type": "code",
      "execution_count": null,
      "metadata": {
        "id": "ljtI6QcBjorY"
      },
      "outputs": [],
      "source": [
        "for pair in combinations(column_names, 2):\n",
        "  columns = list(pair)\n",
        "  NASA_2features = pd.DataFrame(NASA2020_full[[columns[0], columns[1], 'Month', 'lon', 'lat']])\n",
        "  gmm = GM_monthly_data(5, NASA_2features, labels_an)\n",
        "  labels = gmm.pop('gm_labels')\n",
        "  print(\"Results for clustering based on the following columns : \", columns)\n",
        "  print(gmm)\n",
        "\n",
        "  nasa_month = NASA2020_full[NASA2020_full['Month']==5]\n",
        "  df = pd.DataFrame(nasa_month[['lon','lat']])\n",
        "  df['label'] = labels\n",
        "  colormap = get_colormap([0, 1], ['green', 'yellow'])\n",
        "  output_notebook()\n",
        "  show(plot_map(df=df, parameter_name='label', colormap=colormap, alpha=0.5))\n"
      ]
    },
    {
      "cell_type": "markdown",
      "metadata": {
        "id": "7iQ72WN4Z3Xx"
      },
      "source": [
        "Pary, które wydają się dawać najlepsze wyniki grupowania:\n",
        "* ['GVEG', 'PotEvap']\n",
        "* ['Rainf', 'RootMoist']\n",
        "* ['AvgSurfT', 'GVEG']\n"
      ]
    },
    {
      "cell_type": "code",
      "execution_count": null,
      "metadata": {},
      "outputs": [],
      "source": [
        "2+2"
      ]
    }
  ],
  "metadata": {
    "colab": {
      "include_colab_link": true,
      "provenance": []
    },
    "kernelspec": {
      "display_name": "Python 3",
      "name": "python3"
    },
    "language_info": {
      "name": "python"
    }
  },
  "nbformat": 4,
  "nbformat_minor": 0
}
