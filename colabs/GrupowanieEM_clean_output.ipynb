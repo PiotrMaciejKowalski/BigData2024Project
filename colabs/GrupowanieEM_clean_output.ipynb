{
  "nbformat": 4,
  "nbformat_minor": 0,
  "metadata": {
    "colab": {
      "provenance": []
    },
    "kernelspec": {
      "name": "python3",
      "display_name": "Python 3"
    },
    "language_info": {
      "name": "python"
    }
  },
  "cells": [
    {
      "cell_type": "code",
      "source": [
        "from google.colab import drive\n",
        "drive.mount('/content/drive')"
      ],
      "metadata": {
        "id": "4HNwGttt2OE4"
      },
      "execution_count": null,
      "outputs": []
    },
    {
      "cell_type": "code",
      "source": [
        "!git clone https://github.com/PiotrMaciejKowalski/BigData2024Project.git\n",
        "%cd BigData2024Project\n",
        "#!git checkout your-branch\n",
        "%cd .."
      ],
      "metadata": {
        "id": "WkScRajh2ZiE"
      },
      "execution_count": null,
      "outputs": []
    },
    {
      "cell_type": "code",
      "source": [
        "!chmod 755 /content/BigData2024Project/src/setup.sh\n",
        "!/content/BigData2024Project/src/setup.sh"
      ],
      "metadata": {
        "id": "Z2FazYhx3ppl"
      },
      "execution_count": null,
      "outputs": []
    },
    {
      "cell_type": "code",
      "source": [
        "import sys\n",
        "sys.path.append('/content/BigData2024Project/src')"
      ],
      "metadata": {
        "id": "a4U_y7Kj31G5"
      },
      "execution_count": null,
      "outputs": []
    },
    {
      "cell_type": "code",
      "source": [
        "from start_spark import initialize_spark\n",
        "initialize_spark()"
      ],
      "metadata": {
        "id": "RT7QM0bw38k-"
      },
      "execution_count": null,
      "outputs": []
    },
    {
      "cell_type": "code",
      "source": [
        "import pandas as pd\n",
        "from pyspark.sql import SparkSession\n",
        "\n",
        "from big_mess.loaders import default_loader, load_single_month, preprocessed_loader\n"
      ],
      "metadata": {
        "id": "mziQ8Bj1G-4v"
      },
      "execution_count": null,
      "outputs": []
    },
    {
      "cell_type": "code",
      "source": [
        "spark = SparkSession.builder\\\n",
        "        .master(\"local\")\\\n",
        "        .appName(\"Colab\")\\\n",
        "        .config('spark.ui.port', '4050')\\\n",
        "        .getOrCreate()"
      ],
      "metadata": {
        "id": "HRE7OZiSGaxK"
      },
      "execution_count": null,
      "outputs": []
    },
    {
      "cell_type": "code",
      "source": [
        "%%time\n",
        "nasa_full = default_loader(spark)\n",
        "nasa_full.count()"
      ],
      "metadata": {
        "id": "zdKBhy0qGgH4"
      },
      "execution_count": null,
      "outputs": []
    },
    {
      "cell_type": "code",
      "source": [
        "nasa_full.show(5)"
      ],
      "metadata": {
        "id": "VIUtHaxOKNMb"
      },
      "execution_count": null,
      "outputs": []
    },
    {
      "cell_type": "code",
      "source": [
        "nasa_full.createOrReplaceTempView(\"nasa_full\")"
      ],
      "metadata": {
        "id": "ZTbNyXn-Kva8"
      },
      "execution_count": null,
      "outputs": []
    },
    {
      "cell_type": "code",
      "source": [
        "!pip install datashader\n",
        "\n",
        "\n",
        "!pip install holoviews hvplot colorcet\n",
        "\n",
        "\n",
        "!pip install geoviews"
      ],
      "metadata": {
        "id": "Te2E_vPa1of2"
      },
      "execution_count": null,
      "outputs": []
    },
    {
      "cell_type": "code",
      "source": [
        "from typing import List, Tuple, Optional\n",
        "import copy\n",
        "import numpy as np\n",
        "import matplotlib as mpl\n",
        "from itertools import combinations\n",
        "from sklearn import preprocessing\n",
        "from sklearn.mixture import GaussianMixture\n",
        "from sklearn.metrics import accuracy_score, precision_score, jaccard_score, recall_score, roc_auc_score\n",
        "import datashader as ds\n",
        "import datashader.transfer_functions as tf\n",
        "import colorcet as cc\n",
        "import holoviews as hv\n",
        "import hvplot.pandas\n",
        "from holoviews.operation.datashader import datashade\n",
        "import geoviews as gv\n",
        "import geoviews.tile_sources as gts\n",
        "from holoviews import opts\n",
        "from IPython.display import IFrame\n",
        "from IPython.core.display import display\n",
        "from bokeh.plotting import show, output_notebook"
      ],
      "metadata": {
        "id": "yiG2hFT4Wye9"
      },
      "execution_count": null,
      "outputs": []
    },
    {
      "cell_type": "markdown",
      "source": [
        "## **Implementacja Expectation-Maximization**"
      ],
      "metadata": {
        "id": "CMTU-3vcqFrS"
      }
    },
    {
      "cell_type": "markdown",
      "source": [
        "Na razie (do celów testowych) ograniczymy się do do jednego, wybranego roku (2020) i współrzędnych uprzednio zaanotowanych."
      ],
      "metadata": {
        "id": "Qrqco2DagoPc"
      }
    },
    {
      "cell_type": "code",
      "source": [
        "nasa2020 = spark.sql(''' SELECT * FROM nasa_full''').where(nasa_full.Year == 2020).drop('Year')\n",
        "nasa2020.show(5)"
      ],
      "metadata": {
        "id": "3_4SApbgaCZq"
      },
      "execution_count": null,
      "outputs": []
    },
    {
      "cell_type": "code",
      "source": [
        "nasa_an = preprocessed_loader(spark, \"/content/drive/MyDrive/BigMess/NASA/NASA_an.csv\")"
      ],
      "metadata": {
        "id": "WSeHGZlRqprP"
      },
      "execution_count": null,
      "outputs": []
    },
    {
      "cell_type": "code",
      "source": [
        "nasa_an = nasa_an.withColumnRenamed(\"lon\", \"lon_sam\").withColumnRenamed(\"lat\", \"lat_sam\")\n",
        "nasa_an.show(5)"
      ],
      "metadata": {
        "id": "WhJm6PI6rMLl"
      },
      "execution_count": null,
      "outputs": []
    },
    {
      "cell_type": "code",
      "source": [
        "NASA_2020_an = (\n",
        "     nasa2020\n",
        "     .join(\n",
        "        nasa_an,\n",
        "        [\n",
        "             nasa2020.lon==nasa_an.lon_sam ,\n",
        "             nasa2020.lat==nasa_an.lat_sam\n",
        "         ],\n",
        "          \"inner\"\n",
        "      )\n",
        "      .drop('lat_sam','lon_sam')\n",
        "  )\n",
        "\n",
        "NASA_2020_an.show(5)"
      ],
      "metadata": {
        "id": "vU6efYnikNTA"
      },
      "execution_count": null,
      "outputs": []
    },
    {
      "cell_type": "code",
      "source": [
        "NASA_2020_an_pd = NASA_2020_an.toPandas()"
      ],
      "metadata": {
        "id": "7dpsUlURuddZ"
      },
      "execution_count": null,
      "outputs": []
    },
    {
      "cell_type": "code",
      "source": [
        "NASA_2020_an_pd.head(5)"
      ],
      "metadata": {
        "id": "PKEbsCpMxrfS"
      },
      "execution_count": null,
      "outputs": []
    },
    {
      "cell_type": "markdown",
      "source": [
        "### **Dane roczne:**"
      ],
      "metadata": {
        "id": "o2rvB6beh8Hn"
      }
    },
    {
      "cell_type": "code",
      "source": [
        "#agreggating selected features' monthly data over a year:\n",
        "\n",
        "# a) calculating annual averages:\n",
        "NASA2020_annual_means = (\n",
        "                         NASA_2020_an_pd[['lon', 'lat', 'Evap','PotEvap','RootMoist','Rainf','SoilM_100_200cm', 'GVEG']]\n",
        "                         .groupby( by=['lon', 'lat']\n",
        "                                  ).mean()\n",
        "                        ).reset_index()\n",
        "\n",
        "# b) calculating the total annual rainfall (sum):\n",
        "NASA2020_rainfall_sum = (\n",
        "                         NASA_2020_an_pd[['lon', 'lat', 'Rainf']]\n",
        "                         .groupby( by=['lon', 'lat']\n",
        "                                  ).sum()\n",
        "                        .rename(columns={\"Rainf\": \"Annual Rainfall\"})\n",
        "                        .reset_index()\n",
        "                        )\n",
        "\n",
        "# c) calculating annual medians for selected features:\n",
        "NASA2020_medians = (\n",
        "                   NASA_2020_an_pd[['lon', 'lat', 'PotEvap', 'Evap', 'SoilM_100_200cm', 'AvgSurfT', 'SoilT_40_100cm' ]]\n",
        "                   .groupby( by=['lon', 'lat']\n",
        "                            ).median()\n",
        "                   .rename(columns={'PotEvap': \"PotEvap_Median\", 'Evap': 'Evap_Median', 'AvgSurfT': 'AvgSurfT_Median',\n",
        "                                    'SoilT_40_100cm': \"SoilT40_100_Median\", 'SoilM_100_200cm': 'SoilM_100_200cm_Median'}\n",
        "                          )\n",
        "                   .reset_index()\n",
        "                   )\n",
        "\n",
        "# Merging into one dataset:\n",
        "NASA2020_annual_anotated = NASA2020_annual_means.merge(NASA2020_medians, how='inner', on=['lon', 'lat'])\n",
        "\n",
        "\n",
        "NASA2020_annual_anotated = NASA2020_annual_anotated.merge( NASA2020_rainfall_sum, how='inner', on=['lon', 'lat'])"
      ],
      "metadata": {
        "id": "FyypL9q8x-rN"
      },
      "execution_count": null,
      "outputs": []
    },
    {
      "cell_type": "code",
      "source": [
        "NASA2020_annual_anotated.head()"
      ],
      "metadata": {
        "id": "88Del37qjyJ4"
      },
      "execution_count": null,
      "outputs": []
    },
    {
      "cell_type": "code",
      "source": [
        "#full_dataset - dataframe with monthly data spanning over a (particular) year\n",
        "def add_column_to_dataframe(df: pd.DataFrame, full_dataset: pd.DataFrame, feature_name: str, month: int) -> pd.DataFrame:\n",
        "  #the function adds a column to the given dataframe, containing monthly data for the specified feature (feature_name) and month\n",
        "  assert (1<= month <= 12), f'Invalid month number'\n",
        "  assert feature_name in dataset.columns, f'The attribute \"{feature_name}\" is not a column in the DataFrame (full_dataset)'\n",
        "\n",
        "  feature_df = full_dataset[['lon', 'lat', feature_name, 'Month']]\n",
        "  feature_df_month = feature_df[feature_df['Month'] == month]\n",
        "  feature_df_month = feature_df_month.drop(columns=['Month']).rename(columns = {feature_name: feature_name+str(month)})\n",
        "\n",
        "  return df.merge(feature_df_month, how='inner', on=['lon', 'lat'])\n"
      ],
      "metadata": {
        "id": "35X8J3IvYg5P"
      },
      "execution_count": null,
      "outputs": []
    },
    {
      "cell_type": "code",
      "source": [
        "#adding columns with monthly data for selected features and months\n",
        "selected_months = [month for month in range(5,10)]\n",
        "features_names = ['PotEvap', 'Evap', 'Rainf', 'Albedo']\n",
        "\n",
        "for feature in features_names:\n",
        "   for month in selected_months:\n",
        "       NASA2020_annual_anotated = add_column_to_dataframe(NASA2020_annual_anotated, NASA_2020_an_pd, feature, month)\n",
        "\n",
        "selected_months2 = [month for month in range(3,11)]\n",
        "\n",
        "for month in selected_months2:\n",
        "       NASA2020_annual_anotated = add_column_to_dataframe(NASA2020_annual_anotated, NASA_2020_an_pd, 'RootMoist', month)\n",
        "\n",
        "\n",
        "#adding all columns with \"GVEG\" monthly data\n",
        "year = [month for month in range(1,13)]\n",
        "\n",
        "for month in year:\n",
        "       NASA2020_annual_anotated = add_column_to_dataframe(NASA2020_annual_anotated, NASA_2020_an_pd, 'GVEG', month)"
      ],
      "metadata": {
        "id": "TSyE-Q86aXXv"
      },
      "execution_count": null,
      "outputs": []
    },
    {
      "cell_type": "code",
      "source": [
        "NASA2020_annual_anotated.head(5)\n"
      ],
      "metadata": {
        "id": "19QblkiLXGAD"
      },
      "execution_count": null,
      "outputs": []
    },
    {
      "cell_type": "code",
      "source": [
        "NASA2020_annual_anotated_ = NASA2020_annual_anotated.drop(columns=['lon', 'lat'])\n",
        "\n",
        "#data standarization:\n",
        "scaler = preprocessing.StandardScaler()\n",
        "standarized = scaler.fit_transform(NASA2020_annual_anotated_)"
      ],
      "metadata": {
        "id": "RO3Prs4QSF5h"
      },
      "execution_count": null,
      "outputs": []
    },
    {
      "cell_type": "code",
      "source": [
        "NASA2020_annual_an_st = pd.DataFrame(standarized, columns=NASA2020_annual_anotated_.columns)\n",
        "NASA2020_annual_an_st.head()"
      ],
      "metadata": {
        "id": "OTBpsrwepgKr"
      },
      "execution_count": null,
      "outputs": []
    },
    {
      "cell_type": "code",
      "source": [
        "#dataframe with labels:\n",
        "labels_an = NASA_2020_an_pd[['lon', 'lat', 'pustynia', 'step']].drop_duplicates()\n",
        "#desert lables:\n",
        "desert_label_an = labels_an['pustynia'].tolist()"
      ],
      "metadata": {
        "id": "PpkBXCAQaD_9"
      },
      "execution_count": null,
      "outputs": []
    },
    {
      "cell_type": "code",
      "source": [
        "#Performing Gaussian Mixture algorithm:\n",
        "gm = GaussianMixture(n_components = 2, n_init = 300, max_iter=200, init_params= 'k-means++', covariance_type='spherical', random_state=42)\n",
        "gm_result = gm.fit_predict(NASA2020_annual_an_st)"
      ],
      "metadata": {
        "id": "iXZqHlfUqbOc"
      },
      "execution_count": null,
      "outputs": []
    },
    {
      "cell_type": "code",
      "source": [
        "{\n",
        "'accuracy' : accuracy_score(gm_result, desert_label_an),\n",
        "'precision' : precision_score(gm_result, desert_label_an),\n",
        "'jaccard' : jaccard_score(gm_result, desert_label_an),\n",
        "}"
      ],
      "metadata": {
        "id": "UR-gFVOhdHxJ"
      },
      "execution_count": null,
      "outputs": []
    },
    {
      "cell_type": "markdown",
      "source": [
        "### **Dane z jednego miesiaca:**"
      ],
      "metadata": {
        "id": "UyxS3tBIkK0E"
      }
    },
    {
      "cell_type": "markdown",
      "source": [
        "A teraz sprawdzimy, jakie beda wyniki grupowania na danych z jednego miesiaca (spodziewamy sie, ze jakosc podzialu bedzie zalezala od wyboru miesiaca, dlatego przetestujemy algorytm na wszystkich miesiacach po kolei)"
      ],
      "metadata": {
        "id": "UFovivw6f43g"
      }
    },
    {
      "cell_type": "code",
      "source": [
        "NASA_2020_an_pd.head()"
      ],
      "metadata": {
        "id": "WSnDuSm2hpX_"
      },
      "execution_count": null,
      "outputs": []
    },
    {
      "cell_type": "code",
      "source": [
        "def GM_monthly_data(df: pd.DataFrame, month: int, init_params: str) -> dict:\n",
        "  #The function performs the Gaussian Mixture algorithm on a dataset limited to data from a given month\n",
        "  assert (1<=month<=12), f'Invalid month number'\n",
        "\n",
        "  NASA_monthlyDF = df[df['Month']==month]\n",
        "  NASA_monthly = NASA_monthlyDF.drop(columns=['Month', 'pustynia'])\n",
        "\n",
        "  scaler = preprocessing.StandardScaler()\n",
        "  standarized = scaler.fit_transform(NASA_monthly)\n",
        "  NASA_monthly_st = pd.DataFrame(standarized, columns=NASA_monthly.columns)\n",
        "\n",
        "  gm = GaussianMixture(n_components = 2, n_init = 100, max_iter=100, init_params= 'random_from_data', covariance_type='spherical', random_state=42)\n",
        "  gm_result = gm.fit_predict(NASA_monthly_st)\n",
        "\n",
        "  labels = NASA_monthlyDF['pustynia'].tolist()\n",
        "  acc = accuracy_score(gm_result, labels)\n",
        "\n",
        "  if acc <0.5:\n",
        "    gm_result = gm_result.tolist()\n",
        "    gm_result = [(1 - label) for label in gm_result]  #relabelling\n",
        "    acc = accuracy_score(gm_result, labels)\n",
        "\n",
        "  pre = precision_score(gm_result, labels)\n",
        "  jac = jaccard_score(gm_result, labels)\n",
        "\n",
        "  output = {'GM_result': gm_result, 'acc': acc, 'pre': pre, 'jac': jac}\n",
        "  return output"
      ],
      "metadata": {
        "id": "TsJs8kpzFXBg"
      },
      "execution_count": null,
      "outputs": []
    },
    {
      "cell_type": "code",
      "source": [
        "NASA_2020_an_pd = NASA_2020_an_pd.drop(columns=['step', 'SoilT_40_100cm', 'SoilM_100_200cm'])\n",
        "\n",
        "# GaussianMixture with init_param = \"random_from_data\"\n",
        "for i in range(12):\n",
        "  gm = GM_monthly_data(NASA_2020_an_pd, i+1, \"random_from_data\")\n",
        "  print(\"Accuracy dla danych z miesiąca \", i+1, \" wynosi \", round(gm['acc'], 3),\n",
        "        \" , Precision: \", round(gm['pre'], 3), \", Jaccard score: \", round(gm['jac'], 3) )\n"
      ],
      "metadata": {
        "id": "CnO6pDlEKYBM"
      },
      "execution_count": null,
      "outputs": []
    },
    {
      "cell_type": "code",
      "source": [
        "# GaussianMixture with init_param = \"k-means++\"\n",
        "for i in range(12):\n",
        "  gm = GM_monthly_data(NASA_2020_an_pd, i+1, \"k-means++\")\n",
        "  print(\"Accuracy dla danych z miesiąca \", i+1, \" wynosi \", round(gm['acc'], 3),\n",
        "        \" , Precision: \", round(gm['pre'], 3), \", Jaccard score: \", round(gm['jac'], 3) )\n"
      ],
      "metadata": {
        "id": "fkKEa3LkW12L"
      },
      "execution_count": null,
      "outputs": []
    },
    {
      "cell_type": "markdown",
      "source": [
        "Przetestujemy jeszcze taki tam pomysł: majority voting dla wyników klastrowania dla wybranych miesięcy (glownie miesiecy, w ktorych ma miejsce wegetacja na polkuli polnocnej ):"
      ],
      "metadata": {
        "id": "M7yofMu1bA_6"
      }
    },
    {
      "cell_type": "code",
      "source": [
        "labels1 = np.zeros(500)\n",
        "months = [5,6,7,8,9,11]\n",
        "for i in range(6):\n",
        "  gm = GM_monthly_data(NASA_2020_an_pd, months[i], 'k-means++')\n",
        "  acc, pre, jac, labels2 = gm['acc'], gm['pre'], gm['jac'], gm['GM_result']\n",
        "  for j in range(len(labels1)):\n",
        "     labels1[j] = labels1[j] + labels2[j]\n",
        "\n",
        "for j in range(len(labels1)):\n",
        "  if labels1[j]>=4:\n",
        "     labels1[j] = 1\n",
        "  else:\n",
        "     labels1[j] = 0"
      ],
      "metadata": {
        "id": "bD40svtVZTCp"
      },
      "execution_count": null,
      "outputs": []
    },
    {
      "cell_type": "code",
      "source": [
        "{\n",
        "'accuracy' : accuracy_score(labels1, desert_label_an),\n",
        "'precision' : precision_score(labels1, desert_label_an),\n",
        "'jaccard' : jaccard_score(labels1, desert_label_an),\n",
        "}"
      ],
      "metadata": {
        "id": "TkaamfUVCN9h"
      },
      "execution_count": null,
      "outputs": []
    },
    {
      "cell_type": "markdown",
      "source": [
        "### **Grupowanie na całym zbiorze (dla wszystkich współrzędnych)**"
      ],
      "metadata": {
        "id": "W0tcze9KhkQK"
      }
    },
    {
      "cell_type": "markdown",
      "source": [
        "### **1. Dane roczne:**"
      ],
      "metadata": {
        "id": "4vOND6wWphKD"
      }
    },
    {
      "cell_type": "code",
      "source": [
        "NASA2020_full = nasa2020.toPandas()"
      ],
      "metadata": {
        "id": "AsBrHYA6ibFC"
      },
      "execution_count": null,
      "outputs": []
    },
    {
      "cell_type": "code",
      "source": [
        "#agreggating selected features' monthly data over a year:\n",
        "\n",
        "# a) calculating annual averages:\n",
        "NASA2020FULL_annual_means = (\n",
        "                         NASA2020_full[['lon', 'lat', 'Evap','PotEvap','RootMoist','Rainf','SoilM_100_200cm', 'GVEG']]\n",
        "                         .groupby( by=['lon', 'lat']\n",
        "                                  ).mean()\n",
        "                        ).reset_index()\n",
        "\n",
        "# b) calculating the total annual rainfall (sum):\n",
        "NASA2020FULL_rainfall_sum = (\n",
        "                         NASA2020_full[['lon', 'lat', 'Rainf']]\n",
        "                         .groupby( by=['lon', 'lat']\n",
        "                                  ).sum()\n",
        "                        .rename(columns={\"Rainf\": \"Annual Rainfall\"})\n",
        "                        .reset_index()\n",
        "                        )\n",
        "\n",
        "# c) calculating annual medians for selected features:\n",
        "NASA2020FULL_annual_medians = (\n",
        "                   NASA2020_full[['lon', 'lat', 'PotEvap', 'Evap', 'SoilM_100_200cm', 'AvgSurfT', 'SoilT_40_100cm' ]]\n",
        "                   .groupby( by=['lon', 'lat']\n",
        "                            ).median()\n",
        "                   .rename(columns={'PotEvap': \"PotEvap_Median\", 'Evap': 'Evap_Median', 'AvgSurfT': 'AvgSurfT_Median',\n",
        "                                    'SoilT_40_100cm': \"SoilT40_100_Median\",'SoilM_100_200cm': 'SoilM_100_200cm_Median'}\n",
        "                          )\n",
        "                   .reset_index()\n",
        "                   )\n",
        "\n",
        "# Merging into one dataset:\n",
        "NASA2020_annual_full = NASA2020FULL_annual_means.merge(NASA2020FULL_annual_medians, how='inner', on=['lon', 'lat'])\n",
        "\n",
        "NASA2020_annual_full = NASA2020_annual_full.merge(NASA2020FULL_rainfall_sum, how='inner', on=['lon', 'lat'])"
      ],
      "metadata": {
        "id": "XrXCydSAj_S_"
      },
      "execution_count": null,
      "outputs": []
    },
    {
      "cell_type": "code",
      "source": [
        "NASA2020_annual_full_2 = copy.deepcopy(NASA2020_annual_full)"
      ],
      "metadata": {
        "id": "Rsoav1Yrx_tG"
      },
      "execution_count": null,
      "outputs": []
    },
    {
      "cell_type": "code",
      "source": [
        "NASA2020_annual_full.head(5)"
      ],
      "metadata": {
        "id": "mftT1bHdujxp"
      },
      "execution_count": null,
      "outputs": []
    },
    {
      "cell_type": "code",
      "source": [
        "NASA2020_annual_full_ = NASA2020_annual_full.drop(columns=['lon', 'lat'])\n",
        "\n",
        "#data standarization:\n",
        "scaler = preprocessing.StandardScaler()\n",
        "standarized = scaler.fit_transform(NASA2020_annual_full_)\n",
        "st_NASA2020_annual_full = pd.DataFrame(standarized, columns=NASA2020_annual_full_.columns)\n",
        "st_NASA2020_annual_full.head()"
      ],
      "metadata": {
        "id": "6zEBETyGusTJ"
      },
      "execution_count": null,
      "outputs": []
    },
    {
      "cell_type": "code",
      "source": [
        "GM = GaussianMixture(n_components = 2, n_init = 200, max_iter=200, init_params= 'random_from_data', covariance_type='spherical', random_state=42)\n",
        "gm_result = GM.fit_predict(st_NASA2020_annual_full)"
      ],
      "metadata": {
        "id": "QHyhqptqu4Vv"
      },
      "execution_count": null,
      "outputs": []
    },
    {
      "cell_type": "markdown",
      "source": [
        "Ewaluacja na podzbiorze anotowanym:"
      ],
      "metadata": {
        "id": "c7l2zISZw89l"
      }
    },
    {
      "cell_type": "code",
      "source": [
        "NASA2020_annual_full['label'] = list(gm_result)\n",
        "anotated_subset = NASA2020_annual_full[['lon', 'lat', 'label']].merge(labels_an[['lon', 'lat', 'pustynia']], on=['lon', 'lat'], how='inner')\n",
        "\n",
        "{\n",
        "'accuracy': accuracy_score(list(anotated_subset['label']), list(anotated_subset['pustynia'])),\n",
        "'precision': precision_score(list(anotated_subset['label']), list(anotated_subset['pustynia'])),\n",
        "'recall': round(recall_score(list(anotated_subset['label']), list(anotated_subset['pustynia'])), 4),\n",
        "'jaccard_score' : round(jaccard_score(list(anotated_subset['label']), list(anotated_subset['pustynia'])), 4)\n",
        "}\n"
      ],
      "metadata": {
        "id": "UI1rxs3_vFCC"
      },
      "execution_count": null,
      "outputs": []
    },
    {
      "cell_type": "markdown",
      "source": [
        "W celu poprawy wyników grupowania wzbogacimy dataset o kolumny z danymi miesięcznymi dla wybranych miesięcy i cech:"
      ],
      "metadata": {
        "id": "AiOXxDRKxFJG"
      }
    },
    {
      "cell_type": "code",
      "source": [
        "#adding columns with monthly data for selected features and months\n",
        "selected_months = [month for month in range(5,10)]\n",
        "features_names = ['PotEvap', 'Evap', 'Rainf', 'Albedo']\n",
        "\n",
        "for feature in features_names:\n",
        "   for month in selected_months:\n",
        "       NASA2020_annual_full_2 = add_column_to_dataframe(NASA2020_annual_full_2, NASA2020_full, feature, month)\n",
        "\n",
        "selected_months2 = [month for month in range(3,11)]\n",
        "\n",
        "for month in selected_months2:\n",
        "       NASA2020_annual_full_2 = add_column_to_dataframe(NASA2020_annual_full_2, NASA2020_full, 'RootMoist', month)\n",
        "\n",
        "\n",
        "#adding all columns with \"GVEG\" monthly data\n",
        "year = [month for month in range(1,13)]\n",
        "\n",
        "for month in year:\n",
        "       NASA2020_annual_full_2 = add_column_to_dataframe(NASA2020_annual_full_2, NASA2020_full, 'GVEG', month)\n"
      ],
      "metadata": {
        "id": "ZxzMUGx2nbcE"
      },
      "execution_count": null,
      "outputs": []
    },
    {
      "cell_type": "code",
      "source": [
        "NASA2020_annual_full_2.head()"
      ],
      "metadata": {
        "id": "bBhyrwers8I3"
      },
      "execution_count": null,
      "outputs": []
    },
    {
      "cell_type": "code",
      "source": [
        "NASA2020_annual_full_2_ = NASA2020_annual_full_2.drop(columns=['lon', 'lat'])\n",
        "\n",
        "#data standarization:\n",
        "scaler = preprocessing.StandardScaler()\n",
        "standarized = scaler.fit_transform(NASA2020_annual_full_2_)\n",
        "st_NASA2020_annual_full2 = pd.DataFrame(standarized, columns=NASA2020_annual_full_2_.columns)\n",
        "st_NASA2020_annual_full2.head()"
      ],
      "metadata": {
        "id": "PkxQFS577ygc"
      },
      "execution_count": null,
      "outputs": []
    },
    {
      "cell_type": "code",
      "source": [
        "GM = GaussianMixture(n_components = 2, n_init = 200, max_iter=200, init_params= 'random_from_data', covariance_type='spherical', random_state=42)\n",
        "gm_result = GM.fit_predict(st_NASA2020_annual_full2)"
      ],
      "metadata": {
        "id": "hvmCLTy-9Wmi"
      },
      "execution_count": null,
      "outputs": []
    },
    {
      "cell_type": "markdown",
      "source": [
        "Przeprowadzimy jeszcze ewaluację naszego grupowania na podzbiorze anotowanym:"
      ],
      "metadata": {
        "id": "nn71DISdrEfJ"
      }
    },
    {
      "cell_type": "code",
      "source": [
        "NASA2020_annual_full_2['label'] = gm_list\n",
        "anotated_subset = NASA2020_annual_full_2[['lon', 'lat', 'label']].merge(labels_an[['lon', 'lat', 'pustynia']], on=['lon', 'lat'], how='inner')\n",
        "\n",
        "{\n",
        "'accuracy': accuracy_score(list(anotated_subset['label']), list(anotated_subset['pustynia'])),\n",
        "'precision': precision_score(list(anotated_subset['label']), list(anotated_subset['pustynia'])),\n",
        "'recall': round(recall_score(list(anotated_subset['label']), list(anotated_subset['pustynia'])), 4),\n",
        "'jaccard-score': round(jaccard_score(list(anotated_subset['label']), list(anotated_subset['pustynia'])), 4),\n",
        "'ROC-AUC': round(roc_auc_score(list(anotated_subset['label']), list(anotated_subset['pustynia'])), 4)\n",
        "}"
      ],
      "metadata": {
        "id": "DPJsmtjLHRSr"
      },
      "execution_count": null,
      "outputs": []
    },
    {
      "cell_type": "markdown",
      "source": [
        "O wiele lepiej, ale wciąż niezadowalająco"
      ],
      "metadata": {
        "id": "OgNYenp511EI"
      }
    },
    {
      "cell_type": "code",
      "source": [
        "gm_list = gm_result.tolist()\n",
        "\n",
        "deserts = {\n",
        "    'number of deserts predicted': sum(gm_list),\n",
        "    'percentage deserts predicted': sum(gm_list)/len(NASA2020_annual_full)\n",
        "}\n",
        "print(deserts)"
      ],
      "metadata": {
        "id": "CEu2fgg-FiKn"
      },
      "execution_count": null,
      "outputs": []
    },
    {
      "cell_type": "markdown",
      "source": [
        "To zdecydowanie za dużo!!! Prawie **38% pustyń**!"
      ],
      "metadata": {
        "id": "1s9ksS2oFmnE"
      }
    },
    {
      "cell_type": "markdown",
      "source": [
        "### **2. Dane miesięczne:**"
      ],
      "metadata": {
        "id": "n1kndOkfAARW"
      }
    },
    {
      "cell_type": "code",
      "source": [
        "def GM_monthly_data(month: int, df: pd.DataFrame, evaluation_subset_labels: pd.DataFrame) -> dict:\n",
        "  assert (1<=month<=12), f'Invalid month number'\n",
        "\n",
        "  MonthDF = df[df['Month']==month]     #selecting data from given month\n",
        "  MonthDF_ = MonthDF.drop(columns=['lon', 'lat', 'Month'])\n",
        "\n",
        "  scaler = preprocessing.StandardScaler()   #data standarization\n",
        "  standarized = scaler.fit_transform(MonthDF_)\n",
        "  st_MonthDF_ = pd.DataFrame(standarized, columns=MonthDF_.columns)\n",
        "\n",
        "  gm = GaussianMixture(n_components = 2, n_init = 200, max_iter=200, init_params= 'random_from_data',\n",
        "                       covariance_type='spherical', random_state=42)\n",
        "  gm_result = gm.fit_predict(st_MonthDF_)\n",
        "  gm_list = gm_result.tolist()\n",
        "\n",
        "  if (sum(gm_list)/len(MonthDF)) >0.5:\n",
        "     gm_list = [(1-label) for label in gm_list] #relabelling\n",
        "\n",
        "  deserts_percentage = round(sum(gm_list)/len(MonthDF), 4)\n",
        "\n",
        "  GM_labels = pd.DataFrame({'lon': MonthDF['lon'].tolist(), 'lat': MonthDF['lat'].tolist(), 'label': gm_list })\n",
        "  anotated_subset = GM_labels.merge( evaluation_subset_labels[['lon', 'lat', 'pustynia']],\n",
        "                                              on=['lon', 'lat'], how='inner')\n",
        "  accuracy_on_anotated = accuracy_score(anotated_subset['pustynia'], anotated_subset['label'] )\n",
        "  precision_on_anotated = precision_score(anotated_subset['pustynia'], anotated_subset['label'] )\n",
        "  roc_auc_on_anotated = roc_auc_score(anotated_subset['pustynia'], anotated_subset['label'])\n",
        "\n",
        "  output = {'gm_labels': gm_list, 'deserts percentage': deserts_percentage,'accuracy on anotated': accuracy_on_anotated,\n",
        "            'precision on anotated' : precision_on_anotated, \"ROC-auc on anotated\": roc_auc_on_anotated }\n",
        "\n",
        "  return output"
      ],
      "metadata": {
        "id": "Z8PzD3j3AKCX"
      },
      "execution_count": null,
      "outputs": []
    },
    {
      "cell_type": "code",
      "source": [
        "#removing two particular columns ('SoilT_40_100cm' and 'SoilM_100_200cm') from the dataset:\n",
        "#removing those columns from the dataset resulted in significantly better algorithm performance\n",
        "NASA2020_full_reduced = NASA2020_full.drop(columns = ['SoilT_40_100cm', 'SoilM_100_200cm'])\n",
        "\n",
        "clustering_labels = []\n",
        "month, deserts_per, acc, pre, roc_auc = [], [], [], [], []\n",
        "\n",
        "\n",
        "for i in range(12):\n",
        "  gm = GM_monthly_data(i+1, NASA2020_full_reduced, labels_an)\n",
        "  clustering_labels.append(gm['gm_labels'])\n",
        "  month.append(i+1)\n",
        "  deserts_per.append(gm['deserts percentage'])\n",
        "  acc.append(gm['accuracy on anotated'])\n",
        "  pre.append(gm['precision on anotated'])\n",
        "  roc_auc.append(gm['ROC-auc on anotated'])\n",
        "\n",
        "evaluation = pd.DataFrame(data = {\"Month data\": month, \"predicted deserts' percentage\": deserts_per,\n",
        "            \"accuracy on anotated subset\": acc, \"precision on anotated subset\": pre, \"ROC-AUC on anotated subset\": roc_auc  })\n"
      ],
      "metadata": {
        "id": "tqdL9CkXDv6S"
      },
      "execution_count": null,
      "outputs": []
    },
    {
      "cell_type": "code",
      "source": [
        "evaluation"
      ],
      "metadata": {
        "id": "LINOGNoUBdW7"
      },
      "execution_count": null,
      "outputs": []
    },
    {
      "cell_type": "markdown",
      "source": [
        "### **Wizualizacje wynikow klastrowania na całym zbiorze**"
      ],
      "metadata": {
        "id": "_UJefbYW8kfl"
      }
    },
    {
      "cell_type": "code",
      "source": [
        "def get_colormap(values: list, colors_palette: list, name = 'custom'):\n",
        "    values = np.sort(np.array(values))\n",
        "    values = np.interp(values, (values.min(), values.max()), (0, 1))\n",
        "    cmap = mpl.colors.LinearSegmentedColormap.from_list(name, list(zip(values, colors_palette)))\n",
        "    return cmap\n",
        "\n",
        "def plot_map(df: pd.DataFrame, parameter_name: str, colormap: mpl.colors.LinearSegmentedColormap,\n",
        "             point_size: int = 8, width: int = 900, height: int = 600, alpha: float = 1,\n",
        "             bgcolor: str = 'white'):\n",
        "\n",
        "    gdf = gv.Points(df, ['lon', 'lat'], [parameter_name]) # obiekt zawierający punkty\n",
        "    tiles = gts.OSM # wybór mapy tła, w tym wypadku OpenStreetMap\n",
        "\n",
        "    # łączenie mapy tła z punktami i ustawienie wybranych parametrów wizualizacji\n",
        "    map_with_points = tiles * gdf.opts(\n",
        "        color=parameter_name,\n",
        "        cmap=colormap,\n",
        "        size=point_size,\n",
        "        width=width,\n",
        "        height=height,\n",
        "        colorbar=False,\n",
        "        toolbar='above',\n",
        "        tools=['hover', 'wheel_zoom', 'reset'],\n",
        "        alpha=alpha\n",
        "    )\n",
        "\n",
        "    return hv.render(map_with_points)"
      ],
      "metadata": {
        "id": "2ffBK3Jk2-3e"
      },
      "execution_count": null,
      "outputs": []
    },
    {
      "cell_type": "markdown",
      "source": [
        "**Wizualizacja grupowania dla danych rocznych:**"
      ],
      "metadata": {
        "id": "Pg_GLVI-9BNu"
      }
    },
    {
      "cell_type": "code",
      "source": [
        "colormap = get_colormap([0, 1], ['green', 'yellow'])\n",
        "output_notebook()\n",
        "show(plot_map(df=NASA2020_annual_full[['lon', 'lat', 'label']], parameter_name='label', colormap=colormap, alpha=0.5))"
      ],
      "metadata": {
        "id": "YOGstO-L9KCq"
      },
      "execution_count": null,
      "outputs": []
    },
    {
      "cell_type": "markdown",
      "source": [
        "**Wizualizacje dla grupowania na danych miesięcznych:**"
      ],
      "metadata": {
        "id": "pFjLICl58y0P"
      }
    },
    {
      "cell_type": "code",
      "source": [
        "for i in range(12):\n",
        "  print(\"Wizualizacja grupowania na danych z miesiąca: \", i+1)\n",
        "  nasa_month = NASA2020_full[NASA2020_full['Month']==i+1]\n",
        "  df = pd.DataFrame(nasa_month[['lon','lat']])\n",
        "  df['label'] = clustering_labels[i]\n",
        "  colormap = get_colormap([0, 1], ['green', 'yellow'])\n",
        "  output_notebook()\n",
        "  show(plot_map(df=df, parameter_name='label', colormap=colormap, alpha=0.5))"
      ],
      "metadata": {
        "id": "u3yOZceK6kks"
      },
      "execution_count": null,
      "outputs": []
    },
    {
      "cell_type": "markdown",
      "source": [
        "### **Appendix: grupowanie na pojedynczych kolumnach (cechach) oraz parach cech dla danych miesiecznych**"
      ],
      "metadata": {
        "id": "-P25V57F89D9"
      }
    },
    {
      "cell_type": "markdown",
      "source": [
        "**a) Grupowanie na pojedynczych kolumnach:**"
      ],
      "metadata": {
        "id": "6oxAXt7Tl594"
      }
    },
    {
      "cell_type": "code",
      "source": [
        "column_names = NASA2020_full.drop(columns=['lon', 'lat', 'Month']).columns\n",
        "\n",
        "for column in column_names:\n",
        "  NASA_single = pd.DataFrame(NASA2020_full[[column, 'Month', 'lon', 'lat']])\n",
        "  gmm = GM_monthly_data(5, NASA_single, labels_an)\n",
        "  labels = gmm.pop('gm_labels')\n",
        "  print(\"Results for clustering based on the \", column, \"column:\")\n",
        "  print(gmm)\n",
        "\n",
        "  nasa_month = NASA2020_full[NASA2020_full['Month']==5]\n",
        "  df = pd.DataFrame(nasa_month[['lon','lat']])\n",
        "  df['label'] = labels\n",
        "  colormap = get_colormap([0, 1], ['green', 'yellow'])\n",
        "  output_notebook()\n",
        "  show(plot_map(df=df, parameter_name='label', colormap=colormap, alpha=0.5))\n"
      ],
      "metadata": {
        "id": "oRH26J5iF0q-"
      },
      "execution_count": null,
      "outputs": []
    },
    {
      "cell_type": "markdown",
      "source": [
        "**b) Grupowanie na parach kolumn:**"
      ],
      "metadata": {
        "id": "O01j1lR7maGe"
      }
    },
    {
      "cell_type": "code",
      "source": [
        "for pair in combinations(column_names, 2):\n",
        "  columns = list(pair)\n",
        "  NASA_2features = pd.DataFrame(NASA2020_full[[columns[0], columns[1], 'Month', 'lon', 'lat']])\n",
        "  gmm = GM_monthly_data(5, NASA_2features, labels_an)\n",
        "  labels = gmm.pop('gm_labels')\n",
        "  print(\"Results for clustering based on the following columns : \", columns)\n",
        "  print(gmm)\n",
        "\n",
        "  nasa_month = NASA2020_full[NASA2020_full['Month']==5]\n",
        "  df = pd.DataFrame(nasa_month[['lon','lat']])\n",
        "  df['label'] = labels\n",
        "  colormap = get_colormap([0, 1], ['green', 'yellow'])\n",
        "  output_notebook()\n",
        "  show(plot_map(df=df, parameter_name='label', colormap=colormap, alpha=0.5))\n"
      ],
      "metadata": {
        "id": "ljtI6QcBjorY"
      },
      "execution_count": null,
      "outputs": []
    },
    {
      "cell_type": "markdown",
      "source": [
        "Pary, które wydają się dawać najlepsze wyniki grupowania:\n",
        "* ['GVEG', 'PotEvap']\n",
        "* ['Rainf', 'RootMoist']\n",
        "* ['AvgSurfT', 'GVEG']\n"
      ],
      "metadata": {
        "id": "7iQ72WN4Z3Xx"
      }
    }
  ]
}