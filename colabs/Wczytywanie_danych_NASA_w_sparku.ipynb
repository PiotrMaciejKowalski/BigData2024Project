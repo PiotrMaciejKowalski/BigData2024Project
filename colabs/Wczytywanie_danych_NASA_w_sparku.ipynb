{
  "cells": [
    {
      "cell_type": "markdown",
      "metadata": {
        "colab_type": "text",
        "id": "view-in-github"
      },
      "source": [
        "<a href=\"https://colab.research.google.com/github/PiotrMaciejKowalski/BigData2024Project/blob/Szablon-wczytywania-danych-w-sparku/colabs/Wczytywanie_danych_NASA_w_sparku.ipynb\" target=\"_parent\"><img src=\"https://colab.research.google.com/assets/colab-badge.svg\" alt=\"Open In Colab\"/></a>"
      ]
    },
    {
      "cell_type": "markdown",
      "metadata": {
        "id": "tM663YMlg_E-"
      },
      "source": [
        "# Wczytywanie danych w sparku"
      ]
    },
    {
      "cell_type": "markdown",
      "metadata": {
        "id": "2gBFVF2WoyXj"
      },
      "source": [
        "Utworzenie środowiska pyspark do obliczeń:"
      ]
    },
    {
      "cell_type": "code",
      "execution_count": 1,
      "metadata": {
        "id": "YzSDuhpnh9q6"
      },
      "outputs": [],
      "source": [
        "!apt-get install openjdk-8-jdk-headless -qq > /dev/null\n",
        "!wget -q dlcdn.apache.org/spark/spark-3.5.0/spark-3.5.0-bin-hadoop3.tgz\n",
        "!tar xf spark-3.5.0-bin-hadoop3.tgz\n",
        "!pip install -q findspark"
      ]
    },
    {
      "cell_type": "code",
      "execution_count": null,
      "metadata": {},
      "outputs": [],
      "source": [
        "import os\n",
        "os.environ[\"JAVA_HOME\"] = \"/usr/lib/jvm/java-8-openjdk-amd64\"\n",
        "os.environ[\"SPARK_HOME\"] = \"/content/spark-3.5.0-bin-hadoop3\""
      ]
    },
    {
      "cell_type": "code",
      "execution_count": null,
      "metadata": {},
      "outputs": [],
      "source": [
        "import findspark\n",
        "findspark.init()"
      ]
    },
    {
      "cell_type": "code",
      "execution_count": null,
      "metadata": {},
      "outputs": [],
      "source": [
        "import pandas as pd\n",
        "from pyspark.sql import SparkSession\n",
        "from pyspark.sql.types import IntegerType, FloatType, StringType, StructType\n",
        "from google.colab import drive"
      ]
    },
    {
      "cell_type": "markdown",
      "metadata": {
        "id": "1yEZdu1Ko4II"
      },
      "source": [
        "Utowrzenie sesji:"
      ]
    },
    {
      "cell_type": "code",
      "execution_count": 2,
      "metadata": {
        "id": "pG05GbFHhmNI"
      },
      "outputs": [],
      "source": [
        "spark = SparkSession.builder\\\n",
        "        .master(\"local\")\\\n",
        "        .appName(\"Colab\")\\\n",
        "        .config('spark.ui.port', '4050')\\\n",
        "        .getOrCreate()"
      ]
    },
    {
      "cell_type": "markdown",
      "metadata": {
        "id": "RJ5qVugtpApM"
      },
      "source": [
        "Połączenie z dyskiem:"
      ]
    },
    {
      "cell_type": "code",
      "execution_count": 3,
      "metadata": {
        "colab": {
          "base_uri": "https://localhost:8080/"
        },
        "id": "_cDV6XvNgTdV",
        "outputId": "651ca38a-c407-4285-9a73-8a7e777f2977"
      },
      "outputs": [
        {
          "name": "stdout",
          "output_type": "stream",
          "text": [
            "Mounted at /content/drive\n"
          ]
        }
      ],
      "source": [
        "drive.mount('/content/drive')"
      ]
    },
    {
      "cell_type": "markdown",
      "metadata": {
        "id": "EDZ6ImTlpHOv"
      },
      "source": [
        "Wczytanie danych NASA znajdujących się na dysku w sparku:"
      ]
    },
    {
      "cell_type": "code",
      "execution_count": 27,
      "metadata": {
        "id": "_Goo147Lzr6B"
      },
      "outputs": [],
      "source": [
        "columns = ['lon', 'lat', 'Date', 'SWdown', 'LWdown', 'SWnet', 'LWnet', 'Qle', 'Qh', 'Qg', 'Qf', 'Snowf', 'Rainf', 'Evap', 'Qs', 'Qsb', 'Qsm', 'AvgSurfT', 'Albedo', 'SWE', 'SnowDepth', 'SnowFrac', 'SoilT_0_10cm', 'SoilT_10_40cm', \n",
        "           'SoilT_40_100cm', 'SoilT_100_200cm', 'SoilM_0_10cm', 'SoilM_10_40cm', 'SoilM_40_100cm', 'SoilM_100_200cm', 'SoilM_0_100cm', 'SoilM_0_200cm', 'RootMoist', 'SMLiq_0_10cm', 'SMLiq_10_40cm', 'SMLiq_40_100cm', 'SMLiq_100_200cm', \n",
        "           'SMAvail_0_100cm', 'SMAvail_0_200cm', 'PotEvap', 'ECanop', 'TVeg', 'ESoil', 'SubSnow', 'CanopInt', 'ACond', 'CCond', 'RCS', 'RCT', 'RCQ', 'RCSOL', 'RSmin','RSMacr', 'LAI', 'GVEG', 'Streamflow']\n",
        "\n",
        "# Utworzenie schematu określającego typ zmiennych\n",
        "schema = StructType()\n",
        "for i in columns:\n",
        "  if i == \"Date\":\n",
        "    schema = schema.add(i, StringType(), True)\n",
        "  else:\n",
        "    schema = schema.add(i, FloatType(), True)"
      ]
    },
    {
      "cell_type": "code",
      "execution_count": null,
      "metadata": {
        "colab": {
          "base_uri": "https://localhost:8080/"
        },
        "id": "Anm2lmTahQJx",
        "outputId": "47d006ee-2e4e-41c0-cc27-b737afe5a55d"
      },
      "outputs": [],
      "source": [
        "# Wczytanie zbioru Nasa w sparku\n",
        "nasa = spark.read.format('csv').option(\"header\", True).schema(schema).load('/content/drive/MyDrive/BigMess/NASA/NASA.csv')"
      ]
    },
    {
      "cell_type": "markdown",
      "metadata": {
        "id": "p3qU94A9p5BT"
      },
      "source": [
        "Zanim zaczniemy pisać kwerendy należy jeszcze dodać nasz DataFrame (df) do \"przestrzeni nazw tabel\" Sparka:"
      ]
    },
    {
      "cell_type": "code",
      "execution_count": 29,
      "metadata": {
        "id": "bSPBX5fPi7Ub"
      },
      "outputs": [],
      "source": [
        "nasa.createOrReplaceTempView(\"nasa\")"
      ]
    },
    {
      "cell_type": "markdown",
      "metadata": {
        "id": "OLvsomiX7RxP"
      },
      "source": [
        "Rodzielenie kolumny \"Date\" na kolumny \"Year\" oraz \"Month\""
      ]
    },
    {
      "cell_type": "code",
      "execution_count": 34,
      "metadata": {
        "id": "PUp1C5Qq3k-5"
      },
      "outputs": [],
      "source": [
        "nasa = spark.sql(\"\"\"\n",
        "          SELECT\n",
        "          CAST(SUBSTRING(CAST(Date AS STRING), 1, 4) AS INT) AS Year,\n",
        "          CAST(SUBSTRING(CAST(Date AS STRING), 5, 2) AS INT) AS Month,\n",
        "          n.*\n",
        "          FROM nasa n\n",
        "          \"\"\")"
      ]
    },
    {
      "cell_type": "code",
      "execution_count": 37,
      "metadata": {
        "colab": {
          "base_uri": "https://localhost:8080/"
        },
        "id": "dWbFnmv97rvu",
        "outputId": "80768be8-70e0-4d42-aca9-603ad5f13929"
      },
      "outputs": [
        {
          "name": "stdout",
          "output_type": "stream",
          "text": [
            "+----+-----+---------+-------+---------+---------+---------+---------+---------+---------+----------+---+-----+-----+---------+---+----------+---+---------+---------+---+---------+--------+------------+-------------+--------------+---------------+------------+-------------+--------------+---------------+-------------+-------------+----------+------------+-------------+--------------+---------------+---------------+---------------+---------+----------+---------+----------+-------+------------+-----------+------------+----------+----------+----------+----------+---------+------------+---------+----------+----------+\n",
            "|Year|Month|      lon|    lat|   SWdown|   LWdown|    SWnet|    LWnet|      Qle|       Qh|        Qg| Qf|Snowf|Rainf|     Evap| Qs|       Qsb|Qsm| AvgSurfT|   Albedo|SWE|SnowDepth|SnowFrac|SoilT_0_10cm|SoilT_10_40cm|SoilT_40_100cm|SoilT_100_200cm|SoilM_0_10cm|SoilM_10_40cm|SoilM_40_100cm|SoilM_100_200cm|SoilM_0_100cm|SoilM_0_200cm| RootMoist|SMLiq_0_10cm|SMLiq_10_40cm|SMLiq_40_100cm|SMLiq_100_200cm|SMAvail_0_100cm|SMAvail_0_200cm|  PotEvap|    ECanop|     TVeg|     ESoil|SubSnow|    CanopInt|      ACond|       CCond|       RCS|       RCT|       RCQ|     RCSOL|    RSmin|      RSMacr|      LAI|      GVEG|Streamflow|\n",
            "+----+-----+---------+-------+---------+---------+---------+---------+---------+---------+----------+---+-----+-----+---------+---+----------+---+---------+---------+---+---------+--------+------------+-------------+--------------+---------------+------------+-------------+--------------+---------------+-------------+-------------+----------+------------+-------------+--------------+---------------+---------------+---------------+---------+----------+---------+----------+-------+------------+-----------+------------+----------+----------+----------+----------+---------+------------+---------+----------+----------+\n",
            "|2000|    1|-112.0625|25.0625|204.96333| 312.3388|142.34848|-79.38684|4.0884414|60.853363|-1.0944891|0.0|  0.0|  0.0|   4.3807|0.0|       0.0|0.0| 288.0707| 41.47715|0.0|      0.0|     0.0|   288.16504|    288.54617|     289.00714|      289.58118|    12.89713|    40.709217|      80.87555|      108.76931|    134.48306|    243.25247|  243.2525|   12.897395|     40.70972|      80.87607|      108.76945|      14.985342|      27.705273|139.13737| 1.0491934| 5.008604| 3.3424733|    0.0| 0.013812637|0.020544387|0.0018493001|0.29177997|0.92080206| 0.9198521|0.16886948|     70.0|  0.02467066|3.3421633|0.19712792|      NULL|\n",
            "|2000|    1|-111.9375|25.0625|202.94218|306.12143|  140.832|-82.56643| 4.357929|56.398518|-1.5567192|0.0|  0.0|  0.0|4.6673994|0.0|       0.0|0.0|287.39276|41.509407|0.0|      0.0|     0.0|   287.54395|    288.12088|      288.8017|       289.7478|   11.615492|     40.14989|     78.334175|       90.67495|    130.09966|    220.77449| 220.77466|   11.615603|     40.15009|      78.33402|       90.67476|       11.97606|      25.147991|162.25638| 0.7321236| 4.863981| 2.4353497|    0.0| 0.009291933| 0.01856994|0.0013284235|0.29177707| 0.8985194|0.89268667| 0.1348082|     70.0| 0.016704414|3.2925992|0.19860405|      NULL|\n",
            "|2000|    1|-111.8125|25.0625|203.27449| 303.2381|141.06544|-87.69759|5.4638424| 51.09166|-1.9299734|0.0|  0.0|  0.0|5.8487973|0.0|       0.0|0.0| 287.6554|41.505375|0.0|      0.0|     0.0|   287.84473|    288.59302|     289.55984|       291.0862|    9.950655|    33.016888|     60.982506|      161.94794|    103.95008|    265.89853| 103.95005|    9.950759|    33.017178|     60.982143|      161.94843|      10.250145|      30.286282|121.55404|0.26465052|5.9029574| 0.8350811|    0.0|0.0031448924|0.009581985|0.0015826927|0.28187105| 0.8914246| 0.9112068|0.11508878|     35.0| 0.007892415| 2.272067|0.17118543|      NULL|\n",
            "|2000|    1|-111.6875|25.0625|204.13232|301.05048|141.65108|-89.49369|6.0123606| 49.63968|-2.0993278|0.0|  0.0|  0.0|6.4366016|0.0|       0.0|0.0| 287.5386|41.501343|0.0|      0.0|     0.0|   287.75275|    288.58203|     289.61142|      291.25577|    9.597857|    33.778393|     62.656994|      163.44402|    106.03301|    269.47733|106.032845|    9.597921|    33.778442|      62.65654|      163.44409|      10.808873|      30.691833|127.63407|0.22688179|6.3983865|0.70120984|    0.0|0.0025833342|0.009341394|0.0016092625|0.28229982| 0.8899329|  0.887931|0.12143098|     35.0|0.0064906063| 2.272067|0.17118543|      NULL|\n",
            "|2000|    1|-111.5625|25.0625|205.44482| 299.2597|142.54315|-89.47336| 3.222715|53.475708| -2.327957|0.0|  0.0|  0.0|3.4506986|0.0|0.14880137|0.0| 287.2394|41.509407|0.0|      0.0|     0.0|   287.46533|    288.33078|      289.2371|       290.5583|    9.848745|     49.15142|    102.429855|      187.07886|    161.43011|    348.50867| 161.43001|    9.848877|    49.151302|     102.43015|      187.07864|      25.649096|      39.697018|179.37668|0.22432795|3.3587356| 1.1965054|    0.0| 0.002467338|0.014541673|9.7257685E-4| 0.2501108|0.88808286| 0.8399929| 0.2850619|225.00002|0.0077566737| 4.485856| 0.1429876|      NULL|\n",
            "+----+-----+---------+-------+---------+---------+---------+---------+---------+---------+----------+---+-----+-----+---------+---+----------+---+---------+---------+---+---------+--------+------------+-------------+--------------+---------------+------------+-------------+--------------+---------------+-------------+-------------+----------+------------+-------------+--------------+---------------+---------------+---------------+---------+----------+---------+----------+-------+------------+-----------+------------+----------+----------+----------+----------+---------+------------+---------+----------+----------+\n",
            "only showing top 5 rows\n",
            "\n"
          ]
        }
      ],
      "source": [
        "nasa = nasa.drop(\"Date\")\n",
        "nasa.show(5)"
      ]
    }
  ],
  "metadata": {
    "colab": {
      "include_colab_link": true,
      "provenance": []
    },
    "kernelspec": {
      "display_name": "Python 3",
      "name": "python3"
    },
    "language_info": {
      "name": "python"
    }
  },
  "nbformat": 4,
  "nbformat_minor": 0
}
