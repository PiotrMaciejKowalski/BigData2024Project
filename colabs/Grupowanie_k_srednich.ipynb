{
  "nbformat": 4,
  "nbformat_minor": 0,
  "metadata": {
    "colab": {
      "provenance": []
    },
    "kernelspec": {
      "name": "python3",
      "display_name": "Python 3"
    },
    "language_info": {
      "name": "python"
    }
  },
  "cells": [
    {
      "cell_type": "markdown",
      "source": [
        "# Wczytywanie danych w sparku"
      ],
      "metadata": {
        "id": "EEUy2awQjA57"
      }
    },
    {
      "cell_type": "markdown",
      "source": [
        "Utworzenie środowiska pyspark do obliczeń:"
      ],
      "metadata": {
        "id": "gBq77YQYjA57"
      }
    },
    {
      "cell_type": "code",
      "source": [
        "!apt-get install openjdk-8-jdk-headless -qq > /dev/null\n",
        "!wget -q dlcdn.apache.org/spark/spark-3.5.0/spark-3.5.0-bin-hadoop3.tgz\n",
        "!tar xf spark-3.5.0-bin-hadoop3.tgz\n",
        "!pip install -q findspark"
      ],
      "metadata": {
        "id": "qkyQrjO9jA57"
      },
      "execution_count": null,
      "outputs": []
    },
    {
      "cell_type": "code",
      "source": [
        "import os\n",
        "os.environ[\"JAVA_HOME\"] = \"/usr/lib/jvm/java-8-openjdk-amd64\"\n",
        "os.environ[\"SPARK_HOME\"] = \"/content/spark-3.5.0-bin-hadoop3\""
      ],
      "metadata": {
        "id": "g7BQownfjA57"
      },
      "execution_count": null,
      "outputs": []
    },
    {
      "cell_type": "code",
      "source": [
        "import findspark\n",
        "findspark.init()"
      ],
      "metadata": {
        "id": "tVOiTJMrjA57"
      },
      "execution_count": null,
      "outputs": []
    },
    {
      "cell_type": "code",
      "source": [
        "import matplotlib.pyplot as plt\n",
        "import matplotlib.gridspec as gridspec\n",
        "import pandas as pd\n",
        "from google.colab import drive\n",
        "from pyspark.sql import SparkSession\n",
        "from pyspark.sql import DataFrame as SparkDataFrame\n",
        "from pyspark.sql.types import IntegerType, FloatType, StringType, StructType\n",
        "from sklearn.preprocessing import MinMaxScaler, StandardScaler\n",
        "from sklearn.metrics import accuracy_score, precision_score, recall_score, f1_score\n",
        "from sklearn.cluster import KMeans\n",
        "from sklearn.decomposition import PCA\n",
        "from itertools import combinations\n",
        "import copy\n",
        "import warnings\n",
        "warnings.filterwarnings('ignore')"
      ],
      "metadata": {
        "id": "OukI-zrtjA58"
      },
      "execution_count": null,
      "outputs": []
    },
    {
      "cell_type": "markdown",
      "source": [
        "Utowrzenie sesji:"
      ],
      "metadata": {
        "id": "q2pEzo3-jA58"
      }
    },
    {
      "cell_type": "code",
      "source": [
        "spark = SparkSession.builder\\\n",
        "        .master(\"local\")\\\n",
        "        .appName(\"Colab\")\\\n",
        "        .config('spark.ui.port', '4050')\\\n",
        "        .getOrCreate()"
      ],
      "metadata": {
        "id": "LKsUzfMDjA58"
      },
      "execution_count": null,
      "outputs": []
    },
    {
      "cell_type": "markdown",
      "source": [
        "Połączenie z dyskiem:"
      ],
      "metadata": {
        "id": "dn4BlKohjA58"
      }
    },
    {
      "cell_type": "code",
      "execution_count": null,
      "metadata": {
        "id": "2e8IyT9_jA58"
      },
      "outputs": [],
      "source": [
        "drive.mount('/content/drive')"
      ]
    },
    {
      "cell_type": "markdown",
      "source": [
        "Wczytanie danych NASA znajdujących się na dysku w sparku:"
      ],
      "metadata": {
        "id": "51qtdqanjA58"
      }
    },
    {
      "cell_type": "code",
      "source": [
        "columns = ['lon', 'lat', 'Date', 'Rainf', 'Evap', 'AvgSurfT', 'Albedo','SoilT_10_40cm', 'GVEG', 'PotEvap', 'RootMoist', 'SoilM_100_200cm']\n",
        "\n",
        "# Utworzenie schematu określającego typ zmiennych\n",
        "schema = StructType()\n",
        "for i in columns:\n",
        "  if i == \"Date\":\n",
        "    schema = schema.add(i, IntegerType(), True)\n",
        "  else:\n",
        "    schema = schema.add(i, FloatType(), True)"
      ],
      "metadata": {
        "id": "RoLCaW7EjA58"
      },
      "execution_count": null,
      "outputs": []
    },
    {
      "cell_type": "code",
      "source": [
        "# Wczytanie zbioru Nasa w sparku\n",
        "nasa = spark.read.format('csv').option(\"header\", True).schema(schema).load('/content/drive/MyDrive/BigMess/NASA/NASA.csv')"
      ],
      "metadata": {
        "id": "d9uZwIbKjA59"
      },
      "execution_count": null,
      "outputs": []
    },
    {
      "cell_type": "markdown",
      "source": [
        "Zanim zaczniemy pisać kwerendy należy jeszcze dodać nasz DataFrame (df) do \"przestrzeni nazw tabel\" Sparka:"
      ],
      "metadata": {
        "id": "ieny-4ImjA59"
      }
    },
    {
      "cell_type": "code",
      "source": [
        "nasa.createOrReplaceTempView(\"nasa\")"
      ],
      "metadata": {
        "id": "UlOCt08pjA59"
      },
      "execution_count": null,
      "outputs": []
    },
    {
      "cell_type": "markdown",
      "source": [
        "Rozdzielenie kolumny \"Date\" na kolumny \"Year\" oraz \"Month\""
      ],
      "metadata": {
        "id": "oPab84ZmjA59"
      }
    },
    {
      "cell_type": "code",
      "source": [
        "nasa_ym = spark.sql(\"\"\"\n",
        "          SELECT\n",
        "          CAST(SUBSTRING(CAST(Date AS STRING), 1, 4) AS INT) AS Year,\n",
        "          CAST(SUBSTRING(CAST(Date AS STRING), 5, 2) AS INT) AS Month,\n",
        "          n.*\n",
        "          FROM nasa n\n",
        "          \"\"\")\n",
        "nasa_ym = nasa_ym.drop(\"Date\")"
      ],
      "metadata": {
        "id": "3N6ZPVGRjA59"
      },
      "execution_count": null,
      "outputs": []
    },
    {
      "cell_type": "code",
      "source": [
        "nasa_ym.createOrReplaceTempView(\"nasa_ym\")"
      ],
      "metadata": {
        "id": "RYo_cpMCjA59"
      },
      "execution_count": null,
      "outputs": []
    },
    {
      "cell_type": "markdown",
      "source": [
        "# Grupowanie k-średnich"
      ],
      "metadata": {
        "id": "sBSLBg9xBoob"
      }
    },
    {
      "cell_type": "code",
      "source": [
        "def MinMaxScaling(df: pd.DataFrame, attributes: list) -> pd.DataFrame:\n",
        "  \"\"\"\n",
        "  Funkcja służąca do przeskalowania wybranych atrybutów za pomocą funkcji MinMaxScaler, a następnie stworzenia nowej ramki danych z tylko przeskalowanymi atrybutami.\n",
        "  Parametry:\n",
        "  - df (DataFrame): Pandas DataFrame zawierająca co najmniej atrybuty,\n",
        "  - attributes (str): atrybuty, które będziemy skalować.\n",
        "  \"\"\"\n",
        "  scaled_data = MinMaxScaler().fit_transform(df[attributes])\n",
        "  scaled_df = pd.DataFrame(scaled_data, columns=attributes)\n",
        "  return scaled_df"
      ],
      "metadata": {
        "id": "Y3_UN91xKkoE"
      },
      "execution_count": null,
      "outputs": []
    },
    {
      "cell_type": "code",
      "source": [
        "def do_kmeans_and_return_df_with_cluster_column(df: pd.DataFrame, scaled_df: pd.DataFrame, n_clusters: int, random_state: int) -> pd.DataFrame:\n",
        "  \"\"\"\n",
        "  Funkcja wykonuje grupowanie k-średnich dla n_clusters klastrów oraz tworzy nową kolumnę z predykcjami algorytmu k-średnich w ramce danych df.\n",
        "  Parametry:\n",
        "  - df (DataFrame): Pandas DataFrame zawierająca co najmniej te same kolumny co scaled_df,\n",
        "  - scaled_df (DataFrame): Pandas DataFrame zawierająca przeskalowane kolumny, na podstawie których dokonywane jest grupowanie,\n",
        "  - n_clusters (int): maksymalna liczba klastrów,\n",
        "  - random_state (int): ziarno losowości.\n",
        "  \"\"\"\n",
        "  kmeans = KMeans(n_clusters = n_clusters, init='k-means++', random_state=random_state)\n",
        "  kmeans.fit(scaled_df)\n",
        "  pred = kmeans.predict(scaled_df)\n",
        "  df['cluster'] = pred\n",
        "  return df"
      ],
      "metadata": {
        "id": "rc1u92KEOaz7"
      },
      "execution_count": null,
      "outputs": []
    },
    {
      "cell_type": "markdown",
      "source": [
        "## 1. Dane z 01.07.2023"
      ],
      "metadata": {
        "id": "BKz9TF0-Vg3e"
      }
    },
    {
      "cell_type": "markdown",
      "source": [
        "### 1.1. Kolumny: Evap, Rainf, AvgSurfT, Albedo, SoilM_100_200cm, GVEG, PotEvap, RootMoist, SoilT_10_40cm."
      ],
      "metadata": {
        "id": "DgtJR2ekqSgs"
      }
    },
    {
      "cell_type": "markdown",
      "source": [
        "Zacznijmy od próby grupowania dla danych z lipca 2023, używając do tego kolumn: Evap, Rainf, AvgSurfT, Albedo, SoilM_100_200cm, GVEG, PotEvap, RootMoist, SoilT_10_40cm."
      ],
      "metadata": {
        "id": "hXtPhTtwBzj6"
      }
    },
    {
      "cell_type": "code",
      "source": [
        "SparkDataFrame_2023_7 = spark.sql(\"\"\"\n",
        "                        SELECT\n",
        "                        *\n",
        "                        FROM nasa_ym WHERE (Year == 2023) and (Month == 7)\n",
        "                        order by lon, lat, Year, Month\n",
        "                        \"\"\")"
      ],
      "metadata": {
        "id": "dNgEu_LukKYP"
      },
      "execution_count": null,
      "outputs": []
    },
    {
      "cell_type": "code",
      "source": [
        "SparkDataFrame_2023_7.show(5)"
      ],
      "metadata": {
        "id": "MMLzXVKPlH3p"
      },
      "execution_count": null,
      "outputs": []
    },
    {
      "cell_type": "code",
      "source": [
        "df_2023_7 = SparkDataFrame_2023_7.toPandas()"
      ],
      "metadata": {
        "id": "6IKYLtt3OTci"
      },
      "execution_count": null,
      "outputs": []
    },
    {
      "cell_type": "code",
      "source": [
        "df_2023_7.describe()"
      ],
      "metadata": {
        "id": "HdTB_PqIeZXM"
      },
      "execution_count": null,
      "outputs": []
    },
    {
      "cell_type": "code",
      "source": [
        "scaled_df_2023_7 = MinMaxScaling(df_2023_7, ['Evap', 'Rainf', 'AvgSurfT', 'Albedo', 'SoilM_100_200cm', 'GVEG', 'PotEvap', 'RootMoist', 'SoilT_10_40cm'])"
      ],
      "metadata": {
        "id": "PuWAazIFMd5G"
      },
      "execution_count": null,
      "outputs": []
    },
    {
      "cell_type": "code",
      "source": [
        "output_df_2023_7 = do_kmeans_and_return_df_with_cluster_column(df_2023_7, scaled_df_2023_7, 2, 123)"
      ],
      "metadata": {
        "id": "bIx0CK-XQXU6"
      },
      "execution_count": null,
      "outputs": []
    },
    {
      "cell_type": "markdown",
      "source": [
        "### 1.2. Kolumny z PCA"
      ],
      "metadata": {
        "id": "3qQy8Y-Jqdxd"
      }
    },
    {
      "cell_type": "code",
      "source": [
        "SparkDataFrame_2023_7_pca = spark.sql(\"\"\"\n",
        "                        SELECT\n",
        "                        *\n",
        "                        FROM nasa_ym WHERE (Year == 2023) and (Month == 7)\n",
        "                        order by lon, lat, Year, Month\n",
        "                        \"\"\")"
      ],
      "metadata": {
        "id": "x0d8bfOBqiuF"
      },
      "execution_count": null,
      "outputs": []
    },
    {
      "cell_type": "code",
      "source": [
        "df_2023_7_pca = SparkDataFrame_2023_7_pca.toPandas()"
      ],
      "metadata": {
        "id": "Y93WANgdq0jL"
      },
      "execution_count": null,
      "outputs": []
    },
    {
      "cell_type": "code",
      "source": [
        "# Standaryzacja\n",
        "standarized_df_2023_7_pca = StandardScaler().fit_transform(df_2023_7_pca.drop(columns=[\"Month\", \"lon\", \"lat\", \"Year\"]))\n",
        "# PCA\n",
        "pca = PCA(n_components=2)\n",
        "standarized_df_2023_7_pca_done = pca.fit_transform(standarized_df_2023_7_pca)"
      ],
      "metadata": {
        "id": "oJmkgZxSq3Tj"
      },
      "execution_count": null,
      "outputs": []
    },
    {
      "cell_type": "code",
      "source": [
        "# Wyjaśniona wariancja\n",
        "pca.explained_variance_ratio_"
      ],
      "metadata": {
        "id": "ZJtPPOZHq_wU"
      },
      "execution_count": null,
      "outputs": []
    },
    {
      "cell_type": "code",
      "source": [
        "standarized_df_2023_7_pca_done = pd.DataFrame(data = standarized_df_2023_7_pca_done, columns = ['principal component 1', 'principal component 2'])"
      ],
      "metadata": {
        "id": "r2t5ehZ1rCsd"
      },
      "execution_count": null,
      "outputs": []
    },
    {
      "cell_type": "code",
      "source": [
        "output_df_2023_7_pca = do_kmeans_and_return_df_with_cluster_column(df_2023_7_pca, standarized_df_2023_7_pca_done, 2, 123)"
      ],
      "metadata": {
        "id": "CG-O3SxFrOIT"
      },
      "execution_count": null,
      "outputs": []
    },
    {
      "cell_type": "markdown",
      "source": [
        "## 2. Dane z 01.01.2023"
      ],
      "metadata": {
        "id": "6Mf0xlR3Vumd"
      }
    },
    {
      "cell_type": "markdown",
      "source": [
        "### 2.1 Kolumny: Evap, Rainf, AvgSurfT, Albedo, SoilM_100_200cm, GVEG, PotEvap, RootMoist, SoilT_10_40cm."
      ],
      "metadata": {
        "id": "C5IN7jkVjuWk"
      }
    },
    {
      "cell_type": "code",
      "source": [
        "SparkDataFrame_2023_1 = spark.sql(\"\"\"\n",
        "                        SELECT\n",
        "                        *\n",
        "                        FROM nasa_ym WHERE (Year == 2023) and (Month == 1)\n",
        "                        order by lon, lat, Year, Month\n",
        "                        \"\"\")"
      ],
      "metadata": {
        "id": "Z8pMq1JYV_47"
      },
      "execution_count": null,
      "outputs": []
    },
    {
      "cell_type": "code",
      "source": [
        "df_2023_1 = SparkDataFrame_2023_1.toPandas()"
      ],
      "metadata": {
        "id": "ovrSYD1kSs1r"
      },
      "execution_count": null,
      "outputs": []
    },
    {
      "cell_type": "code",
      "source": [
        "scaled_df_2023_1 = MinMaxScaling(df_2023_1, ['Evap', 'Rainf', 'AvgSurfT', 'Albedo', 'SoilM_100_200cm', 'GVEG', 'PotEvap', 'RootMoist', 'SoilT_10_40cm'])"
      ],
      "metadata": {
        "id": "nUb90wNSS1Q7"
      },
      "execution_count": null,
      "outputs": []
    },
    {
      "cell_type": "code",
      "source": [
        "output_df_2023_1 = do_kmeans_and_return_df_with_cluster_column(df_2023_1, scaled_df_2023_1, 2, 123)"
      ],
      "metadata": {
        "id": "Fg1madBITREp"
      },
      "execution_count": null,
      "outputs": []
    },
    {
      "cell_type": "markdown",
      "source": [
        "### 2.2 Kolumny z PCA"
      ],
      "metadata": {
        "id": "CeYU3n9Cj6fd"
      }
    },
    {
      "cell_type": "code",
      "source": [
        "SparkDataFrame_2023_1_pca = spark.sql(\"\"\"\n",
        "                        SELECT\n",
        "                        *\n",
        "                        FROM nasa_ym WHERE (Year == 2023) and (Month == 1)\n",
        "                        order by lon, lat, Year, Month\n",
        "                        \"\"\")"
      ],
      "metadata": {
        "id": "vl_8CdrakAPs"
      },
      "execution_count": null,
      "outputs": []
    },
    {
      "cell_type": "code",
      "source": [
        "df_2023_1_pca = SparkDataFrame_2023_1_pca.toPandas()"
      ],
      "metadata": {
        "id": "557zj4SUkNLE"
      },
      "execution_count": null,
      "outputs": []
    },
    {
      "cell_type": "code",
      "source": [
        "standarized_df_2023_1_pca = StandardScaler().fit_transform(df_2023_1_pca.drop(columns=[\"Month\", \"lon\", \"lat\", \"Year\"]))\n",
        "\n",
        "pca = PCA(n_components=2)\n",
        "standarized_df_2023_1_pca_done = pca.fit_transform(standarized_df_2023_1_pca)"
      ],
      "metadata": {
        "id": "Crdoc28Rkczk"
      },
      "execution_count": null,
      "outputs": []
    },
    {
      "cell_type": "code",
      "source": [
        "pca.explained_variance_ratio_"
      ],
      "metadata": {
        "id": "NcKL-H_zpMbt"
      },
      "execution_count": null,
      "outputs": []
    },
    {
      "cell_type": "code",
      "source": [
        "standarized_df_2023_1_pca_done = pd.DataFrame(data = standarized_df_2023_1_pca_done, columns = ['principal component 1', 'principal component 2'])"
      ],
      "metadata": {
        "id": "KYfz2JvimKge"
      },
      "execution_count": null,
      "outputs": []
    },
    {
      "cell_type": "code",
      "source": [
        "output_df_2023_1_pca = do_kmeans_and_return_df_with_cluster_column(df_2023_1_pca, standarized_df_2023_1_pca_done, 2, 123)"
      ],
      "metadata": {
        "id": "vqxgNQeuov5E"
      },
      "execution_count": null,
      "outputs": []
    },
    {
      "cell_type": "markdown",
      "source": [
        "## 3. Dane z 01.07.2000"
      ],
      "metadata": {
        "id": "LO6AeahKyFA7"
      }
    },
    {
      "cell_type": "markdown",
      "source": [
        "### 3.1. Kolumny: Evap, Rainf, AvgSurfT, Albedo, SoilM_100_200cm, GVEG, PotEvap, RootMoist, SoilT_10_40cm."
      ],
      "metadata": {
        "id": "8ph3xPSPyaji"
      }
    },
    {
      "cell_type": "code",
      "source": [
        "SparkDataFrame_2000_7 = spark.sql(\"\"\"\n",
        "                        SELECT\n",
        "                        *\n",
        "                        FROM nasa_ym WHERE (Year == 2000) and (Month == 7)\n",
        "                        order by lon, lat, Year, Month\n",
        "                        \"\"\")"
      ],
      "metadata": {
        "id": "CkkmyMGlzSvC"
      },
      "execution_count": null,
      "outputs": []
    },
    {
      "cell_type": "code",
      "source": [
        "df_2000_7 = SparkDataFrame_2000_7.toPandas()"
      ],
      "metadata": {
        "id": "VPmLB7Y8zSvP"
      },
      "execution_count": null,
      "outputs": []
    },
    {
      "cell_type": "code",
      "source": [
        "scaled_df_2000_7 = MinMaxScaling(df_2000_7, ['Evap', 'Rainf', 'AvgSurfT', 'Albedo', 'SoilM_100_200cm', 'GVEG', 'PotEvap', 'RootMoist', 'SoilT_10_40cm'])"
      ],
      "metadata": {
        "id": "TB7EgK8HzSvQ"
      },
      "execution_count": null,
      "outputs": []
    },
    {
      "cell_type": "code",
      "source": [
        "output_df_2000_7 = do_kmeans_and_return_df_with_cluster_column(df_2000_7, scaled_df_2000_7, 2, 123)"
      ],
      "metadata": {
        "id": "8SJs6DojzSvQ"
      },
      "execution_count": null,
      "outputs": []
    },
    {
      "cell_type": "markdown",
      "source": [
        "### 3.2. Kolumny z PCA"
      ],
      "metadata": {
        "id": "h4OEHfiNygx7"
      }
    },
    {
      "cell_type": "code",
      "source": [
        "SparkDataFrame_2000_7_pca = spark.sql(\"\"\"\n",
        "                        SELECT\n",
        "                        *\n",
        "                        FROM nasa_ym WHERE (Year == 2000) and (Month == 7)\n",
        "                        order by lon, lat, Year, Month\n",
        "                        \"\"\")"
      ],
      "metadata": {
        "id": "pm9E_pKqzYN1"
      },
      "execution_count": null,
      "outputs": []
    },
    {
      "cell_type": "code",
      "source": [
        "df_2000_7_pca = SparkDataFrame_2000_7_pca.toPandas()"
      ],
      "metadata": {
        "id": "F9wA_7DGzYOB"
      },
      "execution_count": null,
      "outputs": []
    },
    {
      "cell_type": "code",
      "source": [
        "# Standaryzacja\n",
        "standarized_df_2000_7_pca = StandardScaler().fit_transform(df_2000_7_pca.drop(columns=[\"Month\", \"lon\", \"lat\", \"Year\"]))\n",
        "# PCA\n",
        "pca = PCA(n_components=3)\n",
        "standarized_df_2000_7_pca_done = pca.fit_transform(standarized_df_2000_7_pca)"
      ],
      "metadata": {
        "id": "5cwVbXGZzYOB"
      },
      "execution_count": null,
      "outputs": []
    },
    {
      "cell_type": "code",
      "source": [
        "# Wyjaśniona wariancja\n",
        "pca.explained_variance_ratio_"
      ],
      "metadata": {
        "id": "2I_Y0WZRzYOB"
      },
      "execution_count": null,
      "outputs": []
    },
    {
      "cell_type": "code",
      "source": [
        "standarized_df_2000_7_pca_done = pd.DataFrame(data = standarized_df_2000_7_pca_done, columns = ['principal component 1', 'principal component 2', 'principal component 3'])"
      ],
      "metadata": {
        "id": "Vprt5GIDzYOC"
      },
      "execution_count": null,
      "outputs": []
    },
    {
      "cell_type": "code",
      "source": [
        "output_df_2000_7_pca = do_kmeans_and_return_df_with_cluster_column(df_2000_7_pca, standarized_df_2000_7_pca_done, 2, 123)"
      ],
      "metadata": {
        "id": "dU-MyIkczYOC"
      },
      "execution_count": null,
      "outputs": []
    },
    {
      "cell_type": "markdown",
      "source": [
        "## 4. Dane z 01.01.2000"
      ],
      "metadata": {
        "id": "kt8TFphSyVE7"
      }
    },
    {
      "cell_type": "markdown",
      "source": [
        "### 4.1. Kolumny: Evap, Rainf, AvgSurfT, Albedo, SoilM_100_200cm, GVEG, PotEvap, RootMoist, SoilT_10_40cm.\n",
        "\n"
      ],
      "metadata": {
        "id": "3yCPY6V5ymei"
      }
    },
    {
      "cell_type": "code",
      "source": [
        "SparkDataFrame_2000_1 = spark.sql(\"\"\"\n",
        "                        SELECT\n",
        "                        *\n",
        "                        FROM nasa_ym WHERE (Year == 2000) and (Month == 1)\n",
        "                        order by lon, lat, Year, Month\n",
        "                        \"\"\")"
      ],
      "metadata": {
        "id": "K0ftBgoiy0Tv"
      },
      "execution_count": null,
      "outputs": []
    },
    {
      "cell_type": "code",
      "source": [
        "df_2000_1 = SparkDataFrame_2000_1.toPandas()"
      ],
      "metadata": {
        "id": "zQToS5h2y0Tv"
      },
      "execution_count": null,
      "outputs": []
    },
    {
      "cell_type": "code",
      "source": [
        "scaled_df_2000_1 = MinMaxScaling(df_2000_1, ['Evap', 'Rainf', 'AvgSurfT', 'Albedo', 'SoilM_100_200cm', 'GVEG', 'PotEvap', 'RootMoist', 'SoilT_10_40cm'])"
      ],
      "metadata": {
        "id": "YACWfdlry0Tw"
      },
      "execution_count": null,
      "outputs": []
    },
    {
      "cell_type": "code",
      "source": [
        "output_df_2000_1 = do_kmeans_and_return_df_with_cluster_column(df_2000_1, scaled_df_2000_1, 2, 123)"
      ],
      "metadata": {
        "id": "T9kN4SeXy0Tw"
      },
      "execution_count": null,
      "outputs": []
    },
    {
      "cell_type": "markdown",
      "source": [
        "### 4.2. Kolumny z PCA"
      ],
      "metadata": {
        "id": "-XR1Zo_AypA0"
      }
    },
    {
      "cell_type": "code",
      "source": [
        "SparkDataFrame_2000_1_pca = spark.sql(\"\"\"\n",
        "                        SELECT\n",
        "                        *\n",
        "                        FROM nasa_ym WHERE (Year == 2000) and (Month == 1)\n",
        "                        order by lon, lat, Year, Month\n",
        "                        \"\"\")"
      ],
      "metadata": {
        "id": "eFfaZjVszKn3"
      },
      "execution_count": null,
      "outputs": []
    },
    {
      "cell_type": "code",
      "source": [
        "df_2000_1_pca = SparkDataFrame_2000_1_pca.toPandas()"
      ],
      "metadata": {
        "id": "pWqXvLMizKn_"
      },
      "execution_count": null,
      "outputs": []
    },
    {
      "cell_type": "code",
      "source": [
        "standarized_df_2000_1_pca = StandardScaler().fit_transform(df_2000_1_pca.drop(columns=[\"Month\", \"lon\", \"lat\", \"Year\"]))\n",
        "\n",
        "pca = PCA(n_components=2)\n",
        "standarized_df_2000_1_pca_done = pca.fit_transform(standarized_df_2000_1_pca)"
      ],
      "metadata": {
        "id": "49r7XFQczKn_"
      },
      "execution_count": null,
      "outputs": []
    },
    {
      "cell_type": "code",
      "source": [
        "pca.explained_variance_ratio_"
      ],
      "metadata": {
        "id": "a9ywwxFAzKn_"
      },
      "execution_count": null,
      "outputs": []
    },
    {
      "cell_type": "code",
      "source": [
        "standarized_df_2000_1_pca_done = pd.DataFrame(data = standarized_df_2000_1_pca_done, columns = ['principal component 1', 'principal component 2'])"
      ],
      "metadata": {
        "id": "27HS_kATzKn_"
      },
      "execution_count": null,
      "outputs": []
    },
    {
      "cell_type": "code",
      "source": [
        "output_df_2000_1_pca = do_kmeans_and_return_df_with_cluster_column(df_2000_1_pca, standarized_df_2000_1_pca_done, 2, 123)"
      ],
      "metadata": {
        "id": "sd8aPs_GzKn_"
      },
      "execution_count": null,
      "outputs": []
    },
    {
      "cell_type": "markdown",
      "source": [
        "## 5. Dane z 01.07.1979"
      ],
      "metadata": {
        "id": "9KLGx2yA5Pmn"
      }
    },
    {
      "cell_type": "markdown",
      "source": [
        "### 5.1. Kolumny: Evap, Rainf, AvgSurfT, Albedo, SoilM_100_200cm, GVEG, PotEvap, RootMoist, SoilT_10_40cm."
      ],
      "metadata": {
        "id": "Zn1apYEx5Pmn"
      }
    },
    {
      "cell_type": "code",
      "source": [
        "SparkDataFrame_1979_7 = spark.sql(\"\"\"\n",
        "                        SELECT\n",
        "                        *\n",
        "                        FROM nasa_ym WHERE (Year == 1979) and (Month == 7)\n",
        "                        order by lon, lat, Year, Month\n",
        "                        \"\"\")"
      ],
      "metadata": {
        "id": "Qe8Bo_7-5Pmo"
      },
      "execution_count": null,
      "outputs": []
    },
    {
      "cell_type": "code",
      "source": [
        "df_1979_7 = SparkDataFrame_1979_7.toPandas()"
      ],
      "metadata": {
        "id": "xF5XoaBM5Pmo"
      },
      "execution_count": null,
      "outputs": []
    },
    {
      "cell_type": "code",
      "source": [
        "scaled_df_1979_7 = MinMaxScaling(df_1979_7, ['Evap', 'Rainf', 'AvgSurfT', 'Albedo', 'SoilM_100_200cm', 'GVEG', 'PotEvap', 'RootMoist', 'SoilT_10_40cm'])"
      ],
      "metadata": {
        "id": "WHLKRE1J5Pmo"
      },
      "execution_count": null,
      "outputs": []
    },
    {
      "cell_type": "code",
      "source": [
        "output_df_1979_7 = do_kmeans_and_return_df_with_cluster_column(df_1979_7, scaled_df_1979_7, 2, 123)"
      ],
      "metadata": {
        "id": "jABtkO885Pmp"
      },
      "execution_count": null,
      "outputs": []
    },
    {
      "cell_type": "markdown",
      "source": [
        "### 5.2. Kolumny z PCA"
      ],
      "metadata": {
        "id": "Zfi3hV1E5Pmp"
      }
    },
    {
      "cell_type": "code",
      "source": [
        "SparkDataFrame_1979_7_pca = spark.sql(\"\"\"\n",
        "                        SELECT\n",
        "                        *\n",
        "                        FROM nasa_ym WHERE (Year == 1979) and (Month == 7)\n",
        "                        order by lon, lat, Year, Month\n",
        "                        \"\"\")"
      ],
      "metadata": {
        "id": "nX4ojfeI5Pmq"
      },
      "execution_count": null,
      "outputs": []
    },
    {
      "cell_type": "code",
      "source": [
        "df_1979_7_pca = SparkDataFrame_1979_7_pca.toPandas()"
      ],
      "metadata": {
        "id": "HmS6Q2d-5Pmq"
      },
      "execution_count": null,
      "outputs": []
    },
    {
      "cell_type": "code",
      "source": [
        "# Standaryzacja\n",
        "standarized_df_1979_7_pca = StandardScaler().fit_transform(df_1979_7_pca.drop(columns=[\"Month\", \"lon\", \"lat\", \"Year\"]))\n",
        "# PCA\n",
        "pca = PCA(n_components=3)\n",
        "standarized_df_1979_7_pca_done = pca.fit_transform(standarized_df_1979_7_pca)"
      ],
      "metadata": {
        "id": "nkp0Qy2U5Pmq"
      },
      "execution_count": null,
      "outputs": []
    },
    {
      "cell_type": "code",
      "source": [
        "# Wyjaśniona wariancja\n",
        "pca.explained_variance_ratio_"
      ],
      "metadata": {
        "id": "xqhBudf_5Pmq"
      },
      "execution_count": null,
      "outputs": []
    },
    {
      "cell_type": "code",
      "source": [
        "standarized_df_1979_7_pca_done = pd.DataFrame(data = standarized_df_1979_7_pca_done, columns = ['principal component 1', 'principal component 2', 'principal component 3'])"
      ],
      "metadata": {
        "id": "O6_WDgQX5Pmr"
      },
      "execution_count": null,
      "outputs": []
    },
    {
      "cell_type": "code",
      "source": [
        "output_df_1979_7_pca = do_kmeans_and_return_df_with_cluster_column(df_1979_7_pca, standarized_df_1979_7_pca_done, 2, 123)"
      ],
      "metadata": {
        "id": "A1f0rRnf5Pmr"
      },
      "execution_count": null,
      "outputs": []
    },
    {
      "cell_type": "markdown",
      "source": [
        "## 6. Dane z 01.01.1979"
      ],
      "metadata": {
        "id": "P4ASiSXk5-M2"
      }
    },
    {
      "cell_type": "markdown",
      "source": [
        "### 6.1. Kolumny: Evap, Rainf, AvgSurfT, Albedo, SoilM_100_200cm, GVEG, PotEvap, RootMoist, SoilT_10_40cm.\n",
        "\n"
      ],
      "metadata": {
        "id": "43JNLZDN5-M2"
      }
    },
    {
      "cell_type": "code",
      "source": [
        "SparkDataFrame_1979_1 = spark.sql(\"\"\"\n",
        "                        SELECT\n",
        "                        *\n",
        "                        FROM nasa_ym WHERE (Year == 1979) and (Month == 1)\n",
        "                        order by lon, lat, Year, Month\n",
        "                        \"\"\")"
      ],
      "metadata": {
        "id": "WNJO-VJg5-M2"
      },
      "execution_count": null,
      "outputs": []
    },
    {
      "cell_type": "code",
      "source": [
        "df_1979_1 = SparkDataFrame_1979_1.toPandas()"
      ],
      "metadata": {
        "id": "MXUovug75-M3"
      },
      "execution_count": null,
      "outputs": []
    },
    {
      "cell_type": "code",
      "source": [
        "scaled_df_1979_1 = MinMaxScaling(df_1979_1, ['Evap', 'Rainf', 'AvgSurfT', 'Albedo', 'SoilM_100_200cm', 'GVEG', 'PotEvap', 'RootMoist', 'SoilT_10_40cm'])"
      ],
      "metadata": {
        "id": "Jl_rIgvD5-M3"
      },
      "execution_count": null,
      "outputs": []
    },
    {
      "cell_type": "code",
      "source": [
        "output_df_1979_1 = do_kmeans_and_return_df_with_cluster_column(df_1979_1, scaled_df_1979_1, 2, 123)"
      ],
      "metadata": {
        "id": "pvKW2Rm-5-M4"
      },
      "execution_count": null,
      "outputs": []
    },
    {
      "cell_type": "markdown",
      "source": [
        "### 6.2. Kolumny z PCA"
      ],
      "metadata": {
        "id": "Dv5ZcW4L5-M4"
      }
    },
    {
      "cell_type": "code",
      "source": [
        "SparkDataFrame_1979_1_pca = spark.sql(\"\"\"\n",
        "                        SELECT\n",
        "                        *\n",
        "                        FROM nasa_ym WHERE (Year == 1979) and (Month == 1)\n",
        "                        order by lon, lat, Year, Month\n",
        "                        \"\"\")"
      ],
      "metadata": {
        "id": "smvnQV8-5-M4"
      },
      "execution_count": null,
      "outputs": []
    },
    {
      "cell_type": "code",
      "source": [
        "df_1979_1_pca = SparkDataFrame_1979_1_pca.toPandas()"
      ],
      "metadata": {
        "id": "p_8Ki3zn5-M4"
      },
      "execution_count": null,
      "outputs": []
    },
    {
      "cell_type": "code",
      "source": [
        "standarized_df_1979_1_pca = StandardScaler().fit_transform(df_1979_1_pca.drop(columns=[\"Month\", \"lon\", \"lat\", \"Year\"]))\n",
        "\n",
        "pca = PCA(n_components=2)\n",
        "standarized_df_1979_1_pca_done = pca.fit_transform(standarized_df_1979_1_pca)"
      ],
      "metadata": {
        "id": "EhHhZ9sm5-M4"
      },
      "execution_count": null,
      "outputs": []
    },
    {
      "cell_type": "code",
      "source": [
        "pca.explained_variance_ratio_"
      ],
      "metadata": {
        "id": "fMpkl7ie5-M5"
      },
      "execution_count": null,
      "outputs": []
    },
    {
      "cell_type": "code",
      "source": [
        "standarized_df_1979_1_pca_done = pd.DataFrame(data = standarized_df_1979_1_pca_done, columns = ['principal component 1', 'principal component 2'])"
      ],
      "metadata": {
        "id": "jyVBPgQ-5-M5"
      },
      "execution_count": null,
      "outputs": []
    },
    {
      "cell_type": "code",
      "source": [
        "output_df_1979_1_pca = do_kmeans_and_return_df_with_cluster_column(df_1979_1_pca, standarized_df_1979_1_pca_done, 2, 123)"
      ],
      "metadata": {
        "id": "uOD4s-FW5-M5"
      },
      "execution_count": null,
      "outputs": []
    },
    {
      "cell_type": "markdown",
      "source": [
        "# Graficzne przedstawienie klastrów"
      ],
      "metadata": {
        "id": "IW3QastWYMhI"
      }
    },
    {
      "cell_type": "markdown",
      "source": [
        "## Wczytanie pakietów i tworzenie funkcji"
      ],
      "metadata": {
        "id": "TsploAIjxQmj"
      }
    },
    {
      "cell_type": "code",
      "source": [
        "!pip install datashader"
      ],
      "metadata": {
        "id": "g3vRmFROU-Qw"
      },
      "execution_count": null,
      "outputs": []
    },
    {
      "cell_type": "code",
      "source": [
        "!pip install holoviews hvplot colorcet"
      ],
      "metadata": {
        "id": "MVPx8hnIVBAg"
      },
      "execution_count": null,
      "outputs": []
    },
    {
      "cell_type": "code",
      "source": [
        "!pip install geoviews"
      ],
      "metadata": {
        "id": "ZtBWbTG5VDSi"
      },
      "execution_count": null,
      "outputs": []
    },
    {
      "cell_type": "code",
      "source": [
        "import numpy as np\n",
        "import matplotlib as mpl"
      ],
      "metadata": {
        "id": "3eb5sMy6VFwz"
      },
      "execution_count": null,
      "outputs": []
    },
    {
      "cell_type": "code",
      "source": [
        "import datashader as ds\n",
        "import datashader.transfer_functions as tf\n",
        "import colorcet as cc\n",
        "import holoviews as hv\n",
        "from holoviews.operation.datashader import datashade\n",
        "import geoviews as gv\n",
        "import geoviews.tile_sources as gts\n",
        "from holoviews import opts\n",
        "from IPython.display import IFrame\n",
        "from IPython.core.display import display\n",
        "from bokeh.plotting import show, output_notebook"
      ],
      "metadata": {
        "id": "Q5FGEk0PVGqg"
      },
      "execution_count": null,
      "outputs": []
    },
    {
      "cell_type": "code",
      "source": [
        "'''\n",
        "Funkcja jako argumenty bierze listę wartości określających granice przedziałów liczbowych, które\n",
        "będą określać jak dla rozważanego parametru mają zmieniać się kolory punktów, których lista stanowi\n",
        "drugi argument funkcji.\n",
        "'''\n",
        "def get_colormap(values: list, colors_palette: list, name = 'custom'):\n",
        "    values = np.sort(np.array(values))\n",
        "    values = np.interp(values, (values.min(), values.max()), (0, 1))\n",
        "    cmap = mpl.colors.LinearSegmentedColormap.from_list(name, list(zip(values, colors_palette)))\n",
        "    return cmap"
      ],
      "metadata": {
        "id": "CAuR3B41VMeX"
      },
      "execution_count": null,
      "outputs": []
    },
    {
      "cell_type": "code",
      "source": [
        "def plot_map(df: pd.DataFrame, parameter_name: str, colormap: mpl.colors.LinearSegmentedColormap, title: str,\n",
        "             point_size: int = 8, width: int = 800, height: int = 500, alpha: float = 1,\n",
        "             bgcolor: str = 'white', colorbar_verbose: bool = True):\n",
        "\n",
        "    gdf = gv.Points(df, ['lon', 'lat'], [parameter_name]) # obiekt zawierający punkty\n",
        "    tiles = gts.OSM # wybór mapy tła, w tym wypadku OpenStreetMap\n",
        "\n",
        "    # łączenie mapy tła z punktami i ustawienie wybranych parametrów wizualizacji\n",
        "    map_with_points = tiles * gdf.opts(\n",
        "        title=title,\n",
        "        color=parameter_name,\n",
        "        cmap=colormap,\n",
        "        size=point_size,\n",
        "        width=width,\n",
        "        height=height,\n",
        "        colorbar=colorbar_verbose,\n",
        "        toolbar='above',\n",
        "        tools=['hover', 'wheel_zoom', 'reset'],\n",
        "        alpha=alpha, # przezroczystość\n",
        "        bgcolor=bgcolor\n",
        "    )\n",
        "\n",
        "    return hv.render(map_with_points)"
      ],
      "metadata": {
        "id": "5B6LUqwHVNIQ"
      },
      "execution_count": null,
      "outputs": []
    },
    {
      "cell_type": "markdown",
      "source": [
        "## Przedstawienie klastrów na mapach"
      ],
      "metadata": {
        "id": "5gj65YT4xYis"
      }
    },
    {
      "cell_type": "code",
      "source": [
        "display(IFrame(\"https://www.google.com/maps/embed?pb=!1m14!1m12!1m3!1d13982681.959428234!2d-98.66341902257437!3d38.39997874427714!2m3!1f0!2f0!3f0!3m2!1i1024!2i768!4f13.1!5e1!3m2!1spl!2spl!4v1703000232420!5m2!1spl!2spl\", '800px', '500px'))"
      ],
      "metadata": {
        "id": "lQDMVRUDsQwr"
      },
      "execution_count": null,
      "outputs": []
    },
    {
      "cell_type": "code",
      "source": [
        "colormap_cluster = get_colormap([0, max(output_df_2023_7.cluster.values)], ['yellow', 'darkgreen'])\n",
        "output_notebook()\n",
        "show(plot_map(df=output_df_2023_7, parameter_name='cluster', colormap=colormap_cluster, title=\"K-średnich dla danych z 01.07.2023 (wszystkie kolumny)\", alpha=0.5))"
      ],
      "metadata": {
        "id": "UL0v1ID-VS3g"
      },
      "execution_count": null,
      "outputs": []
    },
    {
      "cell_type": "code",
      "source": [
        "colormap_cluster = get_colormap([0, max(output_df_2023_7_pca.cluster.values)], ['yellow', 'darkgreen'])\n",
        "output_notebook()\n",
        "show(plot_map(df=output_df_2023_7_pca, parameter_name='cluster', colormap=colormap_cluster, title=\"K-średnich dla danych z 01.07.2023 (PCA)\", alpha=0.5))"
      ],
      "metadata": {
        "id": "9nBAAaWOrzv0"
      },
      "execution_count": null,
      "outputs": []
    },
    {
      "cell_type": "code",
      "source": [
        "colormap_cluster = get_colormap([0, max(output_df_2023_1.cluster.values)], ['yellow', 'darkgreen'])\n",
        "output_notebook()\n",
        "show(plot_map(df=output_df_2023_1, parameter_name='cluster', colormap=colormap_cluster, title=\"K-średnich dla danych z 01.01.2023 (wszystkie kolumny)\", alpha=0.5))"
      ],
      "metadata": {
        "id": "NvIzYUYbTdO0"
      },
      "execution_count": null,
      "outputs": []
    },
    {
      "cell_type": "code",
      "source": [
        "colormap_cluster = get_colormap([0, max(output_df_2023_1_pca.cluster.values)], ['yellow', 'darkgreen'])\n",
        "output_notebook()\n",
        "show(plot_map(df=output_df_2023_1_pca, parameter_name='cluster', colormap=colormap_cluster, title=\"K-średnich dla danych z 01.01.2023 (PCA)\", alpha=0.5))"
      ],
      "metadata": {
        "id": "hpBKwuvEo8ut"
      },
      "execution_count": null,
      "outputs": []
    },
    {
      "cell_type": "code",
      "source": [
        "colormap_cluster = get_colormap([0, max(output_df_2000_7.cluster.values)], ['yellow', 'darkgreen'])\n",
        "output_notebook()\n",
        "show(plot_map(df=output_df_2000_7, parameter_name='cluster', colormap=colormap_cluster, title=\"K-średnich dla danych z 01.07.2000 (wszystkie kolumny)\", alpha=0.5))"
      ],
      "metadata": {
        "id": "Ji6d7nob2fSZ"
      },
      "execution_count": null,
      "outputs": []
    },
    {
      "cell_type": "code",
      "source": [
        "colormap_cluster = get_colormap([0, max(output_df_2000_7_pca.cluster.values)], ['yellow', 'darkgreen'])\n",
        "output_notebook()\n",
        "show(plot_map(df=output_df_2000_7_pca, parameter_name='cluster', colormap=colormap_cluster, title=\"K-średnich dla danych z 01.07.2000 (PCA)\", alpha=0.5))"
      ],
      "metadata": {
        "id": "SpjqCp6N2wtB"
      },
      "execution_count": null,
      "outputs": []
    },
    {
      "cell_type": "code",
      "source": [
        "colormap_cluster = get_colormap([0, max(output_df_2000_1.cluster.values)], ['yellow', 'darkgreen'])\n",
        "output_notebook()\n",
        "show(plot_map(df=output_df_2000_1, parameter_name='cluster', colormap=colormap_cluster, title=\"K-średnich dla danych z 01.01.2000 (wszystkie kolumny)\", alpha=0.5))"
      ],
      "metadata": {
        "id": "Mp0Tw7xN20PR"
      },
      "execution_count": null,
      "outputs": []
    },
    {
      "cell_type": "code",
      "source": [
        "colormap_cluster = get_colormap([0, max(output_df_2000_1_pca.cluster.values)], ['yellow', 'darkgreen'])\n",
        "output_notebook()\n",
        "show(plot_map(df=output_df_2000_1_pca, parameter_name='cluster', colormap=colormap_cluster, title=\"K-średnich dla danych z 01.01.2000 (PCA)\", alpha=0.5))"
      ],
      "metadata": {
        "id": "1N0HIk4V25CC"
      },
      "execution_count": null,
      "outputs": []
    },
    {
      "cell_type": "code",
      "source": [
        "colormap_cluster = get_colormap([0, max(output_df_1979_7.cluster.values)], ['yellow', 'darkgreen'])\n",
        "output_notebook()\n",
        "show(plot_map(df=output_df_1979_7, parameter_name='cluster', colormap=colormap_cluster, title=\"K-średnich dla danych z 01.07.1979 (wszystkie kolumny)\", alpha=0.5))"
      ],
      "metadata": {
        "id": "53-phzQ57f0H"
      },
      "execution_count": null,
      "outputs": []
    },
    {
      "cell_type": "code",
      "source": [
        "colormap_cluster = get_colormap([0, max(output_df_1979_7_pca.cluster.values)], ['yellow', 'darkgreen'])\n",
        "output_notebook()\n",
        "show(plot_map(df=output_df_1979_7_pca, parameter_name='cluster', colormap=colormap_cluster, title=\"K-średnich dla danych z 01.07.1979 (PCA)\", alpha=0.5))"
      ],
      "metadata": {
        "id": "soiWUkBG7l-e"
      },
      "execution_count": null,
      "outputs": []
    },
    {
      "cell_type": "code",
      "source": [
        "colormap_cluster = get_colormap([0, max(output_df_1979_1.cluster.values)], ['yellow', 'darkgreen'])\n",
        "output_notebook()\n",
        "show(plot_map(df=output_df_1979_1, parameter_name='cluster', colormap=colormap_cluster, title=\"K-średnich dla danych z 01.01.1979 (wszystkie kolumny)\", alpha=0.5))"
      ],
      "metadata": {
        "id": "Qgh3v2S07r3g"
      },
      "execution_count": null,
      "outputs": []
    },
    {
      "cell_type": "code",
      "source": [
        "colormap_cluster = get_colormap([0, max(output_df_1979_1_pca.cluster.values)], ['yellow', 'darkgreen'])\n",
        "output_notebook()\n",
        "show(plot_map(df=output_df_1979_1_pca, parameter_name='cluster', colormap=colormap_cluster, title=\"K-średnich dla danych z 01.07.1979 (PCA)\", alpha=0.5))"
      ],
      "metadata": {
        "id": "4XVwmNe07o9X"
      },
      "execution_count": null,
      "outputs": []
    },
    {
      "cell_type": "code",
      "source": [
        "output_df_1979_7.head()"
      ],
      "metadata": {
        "id": "HdI1uHGD7zmK"
      },
      "execution_count": null,
      "outputs": []
    },
    {
      "cell_type": "code",
      "source": [
        "output_df_2000_7.head()"
      ],
      "metadata": {
        "id": "pGcArnZvEZE4"
      },
      "execution_count": null,
      "outputs": []
    },
    {
      "cell_type": "code",
      "source": [
        "output_df_2023_7.head()"
      ],
      "metadata": {
        "id": "O2VeJf5aE0GJ"
      },
      "execution_count": null,
      "outputs": []
    },
    {
      "cell_type": "markdown",
      "source": [
        "# Porównanie punktów z 01.07.2023, 01.07.2000 i 01.07.1979."
      ],
      "metadata": {
        "id": "MtCi9voSfGMV"
      }
    },
    {
      "cell_type": "markdown",
      "source": [
        "Oznaczenie:\n",
        "\n",
        "\n",
        "*   **0** - pustynia,\n",
        "*   **1** - niepustynia.\n",
        "\n"
      ],
      "metadata": {
        "id": "Ukadrgu3ID6c"
      }
    },
    {
      "cell_type": "code",
      "source": [
        "merged_to_2023_7 = copy.deepcopy(output_df_2023_7)\n",
        "merged_to_2023_7[\"cluster_2000\"] = output_df_2000_7[\"cluster\"].apply(lambda x: 0 if x==1 else 1)\n",
        "merged_to_2023_7[\"cluster_1979\"] = output_df_1979_7[\"cluster\"]\n",
        "merged_to_2023_7.head(10)"
      ],
      "metadata": {
        "id": "N9_hRz9QE7TR"
      },
      "execution_count": null,
      "outputs": []
    },
    {
      "cell_type": "markdown",
      "source": [
        "Sprawdźmy, które punkty były zakwalifikowane jako niepustynne w lipcu 2000, a stały się pustynią w lipcu 2023."
      ],
      "metadata": {
        "id": "L_oL9wFgDHic"
      }
    },
    {
      "cell_type": "code",
      "source": [
        "df_from_not_desert_to_desert = merged_to_2023_7.loc[(merged_to_2023_7[\"cluster\"]==0) & (merged_to_2023_7[\"cluster_2000\"]==1)].dropna()\n",
        "df_from_not_desert_to_desert"
      ],
      "metadata": {
        "id": "_vKQeRKQFoC4"
      },
      "execution_count": null,
      "outputs": []
    },
    {
      "cell_type": "code",
      "source": [
        "colormap_cluster = get_colormap([0, 1], ['yellow', 'darkgreen'])\n",
        "output_notebook()\n",
        "show(plot_map(df=df_from_not_desert_to_desert, parameter_name='cluster', colormap=colormap_cluster, title=\"Warunek: niepustynia w 01.07.2000 i pustynia w 01.07.2023\", alpha=0.5, colorbar_verbose=False))"
      ],
      "metadata": {
        "id": "3mnBZFi_zylt"
      },
      "execution_count": null,
      "outputs": []
    },
    {
      "cell_type": "markdown",
      "source": [
        "Sprawdźmy, które punkty były zakwalifikowane jako niepustynne w lipcu 1979, a stały się pustynią w lipcu 2023."
      ],
      "metadata": {
        "id": "8HBMoz3lDmhE"
      }
    },
    {
      "cell_type": "code",
      "source": [
        "df_from_not_desert_to_desert = merged_to_2023_7.loc[(merged_to_2023_7[\"cluster\"]==0) & (merged_to_2023_7[\"cluster_1979\"]==1)].dropna()\n",
        "df_from_not_desert_to_desert"
      ],
      "metadata": {
        "id": "xRaeZNErXxsb"
      },
      "execution_count": null,
      "outputs": []
    },
    {
      "cell_type": "code",
      "source": [
        "colormap_cluster = get_colormap([0, 1], ['yellow', 'darkgreen'])\n",
        "output_notebook()\n",
        "show(plot_map(df=df_from_not_desert_to_desert, parameter_name='cluster', colormap=colormap_cluster, title=\"Warunek: niepustynia w 01.07.1979 i pustynia w 01.07.2023\", alpha=0.5, colorbar_verbose=False))"
      ],
      "metadata": {
        "id": "RglTJyDdXzhb"
      },
      "execution_count": null,
      "outputs": []
    },
    {
      "cell_type": "markdown",
      "source": [
        "Sprawdźmy, jak wyglądają punkty w lipcu 2023, które były zakwalifikowane jako niepustynne w lipcu 1979, a stały się pustynią w lipcu 2000."
      ],
      "metadata": {
        "id": "F0VcGoFHt4eP"
      }
    },
    {
      "cell_type": "code",
      "source": [
        "df_from_not_desert_to_desert = merged_to_2023_7.loc[(merged_to_2023_7[\"cluster_2000\"]==0) & (merged_to_2023_7[\"cluster_1979\"]==1)].dropna()\n",
        "df_from_not_desert_to_desert"
      ],
      "metadata": {
        "id": "2T1cOuWWt2ap"
      },
      "execution_count": null,
      "outputs": []
    },
    {
      "cell_type": "code",
      "source": [
        "colormap_cluster = get_colormap([0, 1], ['yellow', 'darkgreen'])\n",
        "output_notebook()\n",
        "show(plot_map(df=df_from_not_desert_to_desert, parameter_name='cluster', colormap=colormap_cluster, title=\"Warunek: niepustynia w 01.07.1979 i pustynia w 01.07.2000\", alpha=0.5))"
      ],
      "metadata": {
        "id": "s8H1Qat0uF0A"
      },
      "execution_count": null,
      "outputs": []
    },
    {
      "cell_type": "markdown",
      "source": [
        "\n",
        "\n",
        "*   **0** - pustynia w 01.07.2023,\n",
        "*   **1** - niepustynia w 01.07.2023.\n",
        "\n"
      ],
      "metadata": {
        "id": "DfF9fYdnK4lk"
      }
    },
    {
      "cell_type": "markdown",
      "source": [
        "Widzimy, że niektóre punkty były zakwalifikowane jako niepustynne w lipcu 1997, następnie algorytm zakwalifikował je jako pustynne w lipcu 2000 po czym ponownie w lipcu 2023 zostały uznane za niepustynne."
      ],
      "metadata": {
        "id": "5NWIOGlIuiZQ"
      }
    },
    {
      "cell_type": "markdown",
      "source": [
        "# Porównanie wyników grupowania z datasetem anotowanym."
      ],
      "metadata": {
        "id": "z8-RkuFdw0DR"
      }
    },
    {
      "cell_type": "markdown",
      "source": [
        "Porównanie wyników grupowania metodą k-średnich z wykorzystaniem wszystkich kolumn dla danych z 01.07.2023 z danymi anotowanymi."
      ],
      "metadata": {
        "id": "VGZ678EhWVw1"
      }
    },
    {
      "cell_type": "code",
      "source": [
        "NASA_sample_an = pd.read_csv('/content/drive/MyDrive/BigMess/NASA/NASA_an.csv',sep=';')"
      ],
      "metadata": {
        "id": "nnOfm6uaxtG4"
      },
      "execution_count": null,
      "outputs": []
    },
    {
      "cell_type": "code",
      "source": [
        "NASA_sample_an.head()"
      ],
      "metadata": {
        "id": "I79pO-lLN01F"
      },
      "execution_count": null,
      "outputs": []
    },
    {
      "cell_type": "markdown",
      "source": [
        "Ponieważ grupowaliśmy dane na dwa klastry, potraktujmy step jako pustynię."
      ],
      "metadata": {
        "id": "UqkEci2nWr47"
      }
    },
    {
      "cell_type": "code",
      "source": [
        "NASA_sample_an['pustynia_i_step'] = NASA_sample_an.pustynia + NASA_sample_an.step"
      ],
      "metadata": {
        "id": "idJycJhaUqDz"
      },
      "execution_count": null,
      "outputs": []
    },
    {
      "cell_type": "code",
      "source": [
        "NASA_sample_an.head(8)"
      ],
      "metadata": {
        "id": "PgCkgkUBU7Bj"
      },
      "execution_count": null,
      "outputs": []
    },
    {
      "cell_type": "markdown",
      "source": [
        "Zamiana oznaczeń, ponieważ są one odwrotne do tych w zbiorze *merged_to_2023_7*."
      ],
      "metadata": {
        "id": "41DqTsdEW_Zb"
      }
    },
    {
      "cell_type": "code",
      "source": [
        "NASA_sample_an[\"pustynia_i_step\"] = NASA_sample_an[\"pustynia_i_step\"].apply(lambda x: 0 if x==1 else 1)"
      ],
      "metadata": {
        "id": "rKOmDOqdN5kE"
      },
      "execution_count": null,
      "outputs": []
    },
    {
      "cell_type": "code",
      "source": [
        "result = merged_to_2023_7.merge(NASA_sample_an, left_on=['lon','lat'], right_on = ['lon','lat'], how='inner')\n",
        "result"
      ],
      "metadata": {
        "id": "qX93O64bRWOa"
      },
      "execution_count": null,
      "outputs": []
    },
    {
      "cell_type": "code",
      "source": [
        "colormap_cluster = get_colormap([0, 1], ['yellow', 'darkgreen'])\n",
        "output_notebook()\n",
        "show(plot_map(df=result, parameter_name='pustynia_i_step', colormap=colormap_cluster, title=\"Zanotowane punkty: 0 - pustynia, 1 - niepustynia\", alpha=0.5))"
      ],
      "metadata": {
        "id": "zV7EACU4SbvL"
      },
      "execution_count": null,
      "outputs": []
    },
    {
      "cell_type": "code",
      "source": [
        "positive = len(result.loc[result.cluster == result.pustynia_i_step])\n",
        "accuracy = str(round(positive/len(NASA_sample_an)*100,2))\n",
        "print(\"Accuracy na poziomie\",accuracy+\"%.\")"
      ],
      "metadata": {
        "id": "62myd-G8RpdG"
      },
      "execution_count": null,
      "outputs": []
    },
    {
      "cell_type": "markdown",
      "source": [
        "Gdybyśmy jednak potraktowali step jako teren niepustynny..."
      ],
      "metadata": {
        "id": "MqiRLr0wXhaf"
      }
    },
    {
      "cell_type": "code",
      "source": [
        "positive = len(result.loc[result.cluster != result.pustynia])\n",
        "accuracy = str(round(positive/len(NASA_sample_an)*100,2))\n",
        "print(\"Accuracy na poziomie\",accuracy+\"%.\")"
      ],
      "metadata": {
        "id": "yaA2ioIjSIY1"
      },
      "execution_count": null,
      "outputs": []
    },
    {
      "cell_type": "markdown",
      "source": [
        "Oznacza to, że algorytm potraktował większą część **stepu** jako **pustynię**."
      ],
      "metadata": {
        "id": "N4Rj0pagZAIM"
      }
    },
    {
      "cell_type": "code",
      "source": [
        "merged_to_2023_7_pca = copy.deepcopy(output_df_2023_7_pca)\n",
        "merged_to_2023_7_pca[\"cluster_2000\"] = output_df_2000_7_pca[\"cluster\"].apply(lambda x: 0 if x==1 else 1)\n",
        "merged_to_2023_7_pca[\"cluster_1979\"] = output_df_1979_7_pca[\"cluster\"]\n",
        "merged_to_2023_7_pca.head(10)"
      ],
      "metadata": {
        "id": "rwN24ecKYqou"
      },
      "execution_count": null,
      "outputs": []
    },
    {
      "cell_type": "markdown",
      "source": [
        "Porównanie wyników grupowania metodą k-średnich z wykorzystaniem PCA dla danych z 01.07.2023 z danymi anotowanymi."
      ],
      "metadata": {
        "id": "uQITefeeaAs6"
      }
    },
    {
      "cell_type": "code",
      "source": [
        "result_pca = merged_to_2023_7_pca.merge(NASA_sample_an, left_on=['lon','lat'], right_on = ['lon','lat'], how='inner')\n",
        "result_pca"
      ],
      "metadata": {
        "id": "XuTGDZZ6Y4Ey"
      },
      "execution_count": null,
      "outputs": []
    },
    {
      "cell_type": "code",
      "source": [
        "positive = len(result_pca.loc[result_pca.cluster == result_pca.pustynia_i_step])\n",
        "accuracy = str(round(positive/len(NASA_sample_an)*100,2))\n",
        "print(\"Accuracy na poziomie\",accuracy+\"%.\")"
      ],
      "metadata": {
        "id": "Dc9a0NrgZnll"
      },
      "execution_count": null,
      "outputs": []
    },
    {
      "cell_type": "markdown",
      "source": [
        "Gdybyśmy jednak potraktowali step jako teren niepustynny..."
      ],
      "metadata": {
        "id": "n1TRRXERaI-j"
      }
    },
    {
      "cell_type": "code",
      "source": [
        "positive = len(result_pca.loc[result_pca.cluster != result_pca.pustynia])\n",
        "accuracy = str(round(positive/len(NASA_sample_an)*100,2))\n",
        "print(\"Accuracy na poziomie\",accuracy+\"%.\")"
      ],
      "metadata": {
        "id": "SUS9_sT6Zu4i"
      },
      "execution_count": null,
      "outputs": []
    },
    {
      "cell_type": "markdown",
      "source": [
        "# Podsumowanie dotychczasowych wyników"
      ],
      "metadata": {
        "id": "CoFLv0YSa2oy"
      }
    },
    {
      "cell_type": "markdown",
      "source": [
        "\n",
        "\n",
        "1.   Grupowanie metodą k-średnich wykorzystując dane z okresów zimowych, przy aktualnie wybranych kolumnach, nie przynosi więszkych efektów.\n",
        "2.   Porównując wyniki algorytmu dla danych z 01.07.2023, 01.07.2000 i 01.07.1979 można zauważyć, że niektóre punkty zmieniły swój stan z niepustynii na pustynię. Są również punkty, które na przestrzeni lat zmieniały swój stan więcej niż jeden raz (punkty te mogą posłużyć jako początek szczegółowej analizy zmian w wartościach wybranych wskaźników, które przyczynniły się do pustynnienia).\n",
        "3.   W ostatniej części, porównując wyniki z datasetem anotowanym i traktując step jako pustynię, otrzymujemy accuracy na poziomie **89%**. Jeśli uznalibyśmy step jako teren niepustynny, accuracy spada do **77,8%**. Warto tutaj podkreślić, że grupowanie było dokonane na podstawie wszystkich punktów (włącznie z tymi anotowanymi).\n",
        "\n",
        "\n",
        "\n",
        "\n"
      ],
      "metadata": {
        "id": "-tPuWLI3a66i"
      }
    },
    {
      "cell_type": "markdown",
      "source": [
        "# Analiza po miesiącach"
      ],
      "metadata": {
        "id": "FxBt7gegwq7k"
      }
    },
    {
      "cell_type": "markdown",
      "source": [
        "Ponieważ w poprzedniej części zadania grupowaliśmy dane pochodzące tylko z wybranych miesięcy, rozszerzymy teraz analizę dokonując klasteryzacji na danych z innych miesięcy. **Chcemy zbadać wpływ danych z ostatnich dwunastu miesięcy na wyniki grupowania.**"
      ],
      "metadata": {
        "id": "qIw1qwCDyqX7"
      }
    },
    {
      "cell_type": "markdown",
      "source": [
        "## Grupowanie k-średnich"
      ],
      "metadata": {
        "id": "bUk6bqfQznur"
      }
    },
    {
      "cell_type": "markdown",
      "source": [
        "### Dane z 01.09.2023"
      ],
      "metadata": {
        "id": "_5mtzmjTyIDq"
      }
    },
    {
      "cell_type": "code",
      "source": [
        "SparkDataFrame_2023_9 = spark.sql(\"\"\"\n",
        "                        SELECT\n",
        "                        *\n",
        "                        FROM nasa_ym WHERE (Year == 2023) and (Month == 9)\n",
        "                        order by lon, lat, Year, Month\n",
        "                        \"\"\")"
      ],
      "metadata": {
        "id": "fA__Sun80UhK"
      },
      "execution_count": null,
      "outputs": []
    },
    {
      "cell_type": "code",
      "source": [
        "df_2023_9 = SparkDataFrame_2023_9.toPandas()"
      ],
      "metadata": {
        "id": "tS6yKDXz0UhZ"
      },
      "execution_count": null,
      "outputs": []
    },
    {
      "cell_type": "code",
      "source": [
        "scaled_df_2023_9 = MinMaxScaling(df_2023_9, ['Evap', 'Rainf', 'AvgSurfT', 'Albedo', 'SoilM_100_200cm', 'GVEG', 'PotEvap', 'RootMoist', 'SoilT_10_40cm'])"
      ],
      "metadata": {
        "id": "zOvS1GuF0UhZ"
      },
      "execution_count": null,
      "outputs": []
    },
    {
      "cell_type": "code",
      "source": [
        "output_df_2023_9 = do_kmeans_and_return_df_with_cluster_column(df_2023_9, scaled_df_2023_9, 2, 123)"
      ],
      "metadata": {
        "id": "mVY5h2GH0UhZ"
      },
      "execution_count": null,
      "outputs": []
    },
    {
      "cell_type": "markdown",
      "source": [
        "### Dane z 01.08.2023"
      ],
      "metadata": {
        "id": "ARfJcl-tyR2m"
      }
    },
    {
      "cell_type": "code",
      "source": [
        "SparkDataFrame_2023_8 = spark.sql(\"\"\"\n",
        "                        SELECT\n",
        "                        *\n",
        "                        FROM nasa_ym WHERE (Year == 2023) and (Month == 8)\n",
        "                        order by lon, lat, Year, Month\n",
        "                        \"\"\")"
      ],
      "metadata": {
        "id": "hnZwzakd2_Um"
      },
      "execution_count": null,
      "outputs": []
    },
    {
      "cell_type": "code",
      "source": [
        "df_2023_8 = SparkDataFrame_2023_8.toPandas()"
      ],
      "metadata": {
        "id": "s6i2OKv22_Um"
      },
      "execution_count": null,
      "outputs": []
    },
    {
      "cell_type": "code",
      "source": [
        "scaled_df_2023_8 = MinMaxScaling(df_2023_8, ['Evap', 'Rainf', 'AvgSurfT', 'Albedo', 'SoilM_100_200cm', 'GVEG', 'PotEvap', 'RootMoist', 'SoilT_10_40cm'])"
      ],
      "metadata": {
        "id": "lf9rOtet2_Um"
      },
      "execution_count": null,
      "outputs": []
    },
    {
      "cell_type": "code",
      "source": [
        "output_df_2023_8 = do_kmeans_and_return_df_with_cluster_column(df_2023_8, scaled_df_2023_8, 2, 123)"
      ],
      "metadata": {
        "id": "IKkSFMAj2_Um"
      },
      "execution_count": null,
      "outputs": []
    },
    {
      "cell_type": "markdown",
      "source": [
        "### Dane z 01.06.2023"
      ],
      "metadata": {
        "id": "mwP04PwBySKj"
      }
    },
    {
      "cell_type": "code",
      "source": [
        "SparkDataFrame_2023_6 = spark.sql(\"\"\"\n",
        "                        SELECT\n",
        "                        *\n",
        "                        FROM nasa_ym WHERE (Year == 2023) and (Month == 6)\n",
        "                        order by lon, lat, Year, Month\n",
        "                        \"\"\")"
      ],
      "metadata": {
        "id": "Zi4dgARu3n7-"
      },
      "execution_count": null,
      "outputs": []
    },
    {
      "cell_type": "code",
      "source": [
        "df_2023_6 = SparkDataFrame_2023_6.toPandas()"
      ],
      "metadata": {
        "id": "YptEcySL3n7-"
      },
      "execution_count": null,
      "outputs": []
    },
    {
      "cell_type": "code",
      "source": [
        "scaled_df_2023_6 = MinMaxScaling(df_2023_6, ['Evap', 'Rainf', 'AvgSurfT', 'Albedo', 'SoilM_100_200cm', 'GVEG', 'PotEvap', 'RootMoist', 'SoilT_10_40cm'])"
      ],
      "metadata": {
        "id": "g8DsZ2ra3n7-"
      },
      "execution_count": null,
      "outputs": []
    },
    {
      "cell_type": "code",
      "source": [
        "output_df_2023_6 = do_kmeans_and_return_df_with_cluster_column(df_2023_6, scaled_df_2023_6, 2, 123)"
      ],
      "metadata": {
        "id": "0lCUd_Qs3n7_"
      },
      "execution_count": null,
      "outputs": []
    },
    {
      "cell_type": "markdown",
      "source": [
        "### Dane z 01.05.2023"
      ],
      "metadata": {
        "id": "2xO14U02ySXh"
      }
    },
    {
      "cell_type": "code",
      "source": [
        "SparkDataFrame_2023_5 = spark.sql(\"\"\"\n",
        "                        SELECT\n",
        "                        *\n",
        "                        FROM nasa_ym WHERE (Year == 2023) and (Month == 5)\n",
        "                        order by lon, lat, Year, Month\n",
        "                        \"\"\")"
      ],
      "metadata": {
        "id": "OPcM3Lv13y0y"
      },
      "execution_count": null,
      "outputs": []
    },
    {
      "cell_type": "code",
      "source": [
        "df_2023_5 = SparkDataFrame_2023_5.toPandas()"
      ],
      "metadata": {
        "id": "ejGt73dz3y0z"
      },
      "execution_count": null,
      "outputs": []
    },
    {
      "cell_type": "code",
      "source": [
        "scaled_df_2023_5 = MinMaxScaling(df_2023_5, ['Evap', 'Rainf', 'AvgSurfT', 'Albedo', 'SoilM_100_200cm', 'GVEG', 'PotEvap', 'RootMoist', 'SoilT_10_40cm'])"
      ],
      "metadata": {
        "id": "PMni_IzU3y0z"
      },
      "execution_count": null,
      "outputs": []
    },
    {
      "cell_type": "code",
      "source": [
        "output_df_2023_5 = do_kmeans_and_return_df_with_cluster_column(df_2023_5, scaled_df_2023_5, 2, 123)"
      ],
      "metadata": {
        "id": "svXA0sfH3y0z"
      },
      "execution_count": null,
      "outputs": []
    },
    {
      "cell_type": "markdown",
      "source": [
        "### Dane z 01.04.2023"
      ],
      "metadata": {
        "id": "2GFQ78ysyS2k"
      }
    },
    {
      "cell_type": "code",
      "source": [
        "SparkDataFrame_2023_4 = spark.sql(\"\"\"\n",
        "                        SELECT\n",
        "                        *\n",
        "                        FROM nasa_ym WHERE (Year == 2023) and (Month == 4)\n",
        "                        order by lon, lat, Year, Month\n",
        "                        \"\"\")"
      ],
      "metadata": {
        "id": "dVk5CQLg39wd"
      },
      "execution_count": null,
      "outputs": []
    },
    {
      "cell_type": "code",
      "source": [
        "df_2023_4 = SparkDataFrame_2023_4.toPandas()"
      ],
      "metadata": {
        "id": "6um_O65r39wd"
      },
      "execution_count": null,
      "outputs": []
    },
    {
      "cell_type": "code",
      "source": [
        "scaled_df_2023_4 = MinMaxScaling(df_2023_4, ['Evap', 'Rainf', 'AvgSurfT', 'Albedo', 'SoilM_100_200cm', 'GVEG', 'PotEvap', 'RootMoist', 'SoilT_10_40cm'])"
      ],
      "metadata": {
        "id": "zmYYKkWz39wd"
      },
      "execution_count": null,
      "outputs": []
    },
    {
      "cell_type": "code",
      "source": [
        "output_df_2023_4 = do_kmeans_and_return_df_with_cluster_column(df_2023_4, scaled_df_2023_4, 2, 123)"
      ],
      "metadata": {
        "id": "eyHM_mYC39wd"
      },
      "execution_count": null,
      "outputs": []
    },
    {
      "cell_type": "markdown",
      "source": [
        "### Dane z 01.03.2023"
      ],
      "metadata": {
        "id": "FEqRtIrpyS6d"
      }
    },
    {
      "cell_type": "code",
      "source": [
        "SparkDataFrame_2023_3 = spark.sql(\"\"\"\n",
        "                        SELECT\n",
        "                        *\n",
        "                        FROM nasa_ym WHERE (Year == 2023) and (Month == 3)\n",
        "                        order by lon, lat, Year, Month\n",
        "                        \"\"\")"
      ],
      "metadata": {
        "id": "ZJrnsDR14IEA"
      },
      "execution_count": null,
      "outputs": []
    },
    {
      "cell_type": "code",
      "source": [
        "df_2023_3 = SparkDataFrame_2023_3.toPandas()"
      ],
      "metadata": {
        "id": "25KyB4Vl4IEB"
      },
      "execution_count": null,
      "outputs": []
    },
    {
      "cell_type": "code",
      "source": [
        "scaled_df_2023_3 = MinMaxScaling(df_2023_3, ['Evap', 'Rainf', 'AvgSurfT', 'Albedo', 'SoilM_100_200cm', 'GVEG', 'PotEvap', 'RootMoist', 'SoilT_10_40cm'])"
      ],
      "metadata": {
        "id": "PObSQZCs4IEB"
      },
      "execution_count": null,
      "outputs": []
    },
    {
      "cell_type": "code",
      "source": [
        "output_df_2023_3 = do_kmeans_and_return_df_with_cluster_column(df_2023_3, scaled_df_2023_3, 2, 123)"
      ],
      "metadata": {
        "id": "CjkwQv5z4IEB"
      },
      "execution_count": null,
      "outputs": []
    },
    {
      "cell_type": "markdown",
      "source": [
        "### Dane z 01.02.2023"
      ],
      "metadata": {
        "id": "0JAPKreOyS9n"
      }
    },
    {
      "cell_type": "code",
      "source": [
        "SparkDataFrame_2023_2 = spark.sql(\"\"\"\n",
        "                        SELECT\n",
        "                        *\n",
        "                        FROM nasa_ym WHERE (Year == 2023) and (Month == 2)\n",
        "                        order by lon, lat, Year, Month\n",
        "                        \"\"\")"
      ],
      "metadata": {
        "id": "fqo6odwm4Qpc"
      },
      "execution_count": null,
      "outputs": []
    },
    {
      "cell_type": "code",
      "source": [
        "df_2023_2 = SparkDataFrame_2023_2.toPandas()"
      ],
      "metadata": {
        "id": "PHQ8UHTy4Qpc"
      },
      "execution_count": null,
      "outputs": []
    },
    {
      "cell_type": "code",
      "source": [
        "scaled_df_2023_2 = MinMaxScaling(df_2023_2, ['Evap', 'Rainf', 'AvgSurfT', 'Albedo', 'SoilM_100_200cm', 'GVEG', 'PotEvap', 'RootMoist', 'SoilT_10_40cm'])"
      ],
      "metadata": {
        "id": "rq21g72L4Qpc"
      },
      "execution_count": null,
      "outputs": []
    },
    {
      "cell_type": "code",
      "source": [
        "output_df_2023_2 = do_kmeans_and_return_df_with_cluster_column(df_2023_2, scaled_df_2023_2, 2, 123)"
      ],
      "metadata": {
        "id": "TaAe1c8C4Qpc"
      },
      "execution_count": null,
      "outputs": []
    },
    {
      "cell_type": "markdown",
      "source": [
        "### Dane z 01.12.2022"
      ],
      "metadata": {
        "id": "LqexCt3qydUv"
      }
    },
    {
      "cell_type": "code",
      "source": [
        "SparkDataFrame_2022_12 = spark.sql(\"\"\"\n",
        "                        SELECT\n",
        "                        *\n",
        "                        FROM nasa_ym WHERE (Year == 2022) and (Month == 12)\n",
        "                        order by lon, lat, Year, Month\n",
        "                        \"\"\")"
      ],
      "metadata": {
        "id": "jhaZttVQVL9Q"
      },
      "execution_count": null,
      "outputs": []
    },
    {
      "cell_type": "code",
      "source": [
        "df_2022_12 = SparkDataFrame_2022_12.toPandas()"
      ],
      "metadata": {
        "id": "7kpqXqQ0VL9R"
      },
      "execution_count": null,
      "outputs": []
    },
    {
      "cell_type": "code",
      "source": [
        "scaled_df_2022_12 = MinMaxScaling(df_2022_12, ['Evap', 'Rainf', 'AvgSurfT', 'Albedo', 'SoilM_100_200cm', 'GVEG', 'PotEvap', 'RootMoist', 'SoilT_10_40cm'])"
      ],
      "metadata": {
        "id": "hfySXJFcVL9R"
      },
      "execution_count": null,
      "outputs": []
    },
    {
      "cell_type": "code",
      "source": [
        "output_df_2022_12 = do_kmeans_and_return_df_with_cluster_column(df_2022_12, scaled_df_2022_12, 2, 123)"
      ],
      "metadata": {
        "id": "HVMIMlZRVL9R"
      },
      "execution_count": null,
      "outputs": []
    },
    {
      "cell_type": "markdown",
      "source": [
        "### Dane z 01.11.2022"
      ],
      "metadata": {
        "id": "eqdtVJ-ByhKM"
      }
    },
    {
      "cell_type": "code",
      "source": [
        "SparkDataFrame_2022_11 = spark.sql(\"\"\"\n",
        "                        SELECT\n",
        "                        *\n",
        "                        FROM nasa_ym WHERE (Year == 2022) and (Month == 11)\n",
        "                        order by lon, lat, Year, Month\n",
        "                        \"\"\")"
      ],
      "metadata": {
        "id": "n_EHziVSVm5Z"
      },
      "execution_count": null,
      "outputs": []
    },
    {
      "cell_type": "code",
      "source": [
        "df_2022_11 = SparkDataFrame_2022_11.toPandas()"
      ],
      "metadata": {
        "id": "OB1E4tXZVm5a"
      },
      "execution_count": null,
      "outputs": []
    },
    {
      "cell_type": "code",
      "source": [
        "scaled_df_2022_11 = MinMaxScaling(df_2022_11, ['Evap', 'Rainf', 'AvgSurfT', 'Albedo', 'SoilM_100_200cm', 'GVEG', 'PotEvap', 'RootMoist', 'SoilT_10_40cm'])"
      ],
      "metadata": {
        "id": "q0CV2BK-Vm5a"
      },
      "execution_count": null,
      "outputs": []
    },
    {
      "cell_type": "code",
      "source": [
        "output_df_2022_11 = do_kmeans_and_return_df_with_cluster_column(df_2022_11, scaled_df_2022_11, 2, 123)"
      ],
      "metadata": {
        "id": "VSexCC1XVm5a"
      },
      "execution_count": null,
      "outputs": []
    },
    {
      "cell_type": "markdown",
      "source": [
        "### Dane z 01.10.2022"
      ],
      "metadata": {
        "id": "UJopAzxMyl8e"
      }
    },
    {
      "cell_type": "code",
      "source": [
        "SparkDataFrame_2022_10 = spark.sql(\"\"\"\n",
        "                        SELECT\n",
        "                        *\n",
        "                        FROM nasa_ym WHERE (Year == 2022) and (Month == 10)\n",
        "                        order by lon, lat, Year, Month\n",
        "                        \"\"\")"
      ],
      "metadata": {
        "id": "6LEz-C3TVrt1"
      },
      "execution_count": null,
      "outputs": []
    },
    {
      "cell_type": "code",
      "source": [
        "df_2022_10 = SparkDataFrame_2022_10.toPandas()"
      ],
      "metadata": {
        "id": "ltURTJcPVrt2"
      },
      "execution_count": null,
      "outputs": []
    },
    {
      "cell_type": "code",
      "source": [
        "scaled_df_2022_10 = MinMaxScaling(df_2022_10, ['Evap', 'Rainf', 'AvgSurfT', 'Albedo', 'SoilM_100_200cm', 'GVEG', 'PotEvap', 'RootMoist', 'SoilT_10_40cm'])"
      ],
      "metadata": {
        "id": "XVSreiabVrt2"
      },
      "execution_count": null,
      "outputs": []
    },
    {
      "cell_type": "code",
      "source": [
        "output_df_2022_10 = do_kmeans_and_return_df_with_cluster_column(df_2022_10, scaled_df_2022_10, 2, 123)"
      ],
      "metadata": {
        "id": "_hXI5B-SVrt2"
      },
      "execution_count": null,
      "outputs": []
    },
    {
      "cell_type": "markdown",
      "source": [
        "## Przedstawienie klastrów na mapach"
      ],
      "metadata": {
        "id": "PTcBqGpDWXdS"
      }
    },
    {
      "cell_type": "code",
      "source": [
        "display(IFrame(\"https://www.google.com/maps/embed?pb=!1m14!1m12!1m3!1d13982681.959428234!2d-98.66341902257437!3d38.39997874427714!2m3!1f0!2f0!3f0!3m2!1i1024!2i768!4f13.1!5e1!3m2!1spl!2spl!4v1703000232420!5m2!1spl!2spl\", '800px', '500px'))"
      ],
      "metadata": {
        "id": "YItKtwx5ca3v"
      },
      "execution_count": null,
      "outputs": []
    },
    {
      "cell_type": "code",
      "source": [
        "colormap_cluster = get_colormap([0, max(output_df_2023_9.cluster.values)], ['yellow', 'darkgreen'])\n",
        "output_notebook()\n",
        "show(plot_map(df=output_df_2023_9, parameter_name='cluster', colormap=colormap_cluster, title=\"K-średnich dla danych z 01.09.2023\", alpha=0.5))"
      ],
      "metadata": {
        "id": "eLoDIuz24fZT"
      },
      "execution_count": null,
      "outputs": []
    },
    {
      "cell_type": "code",
      "source": [
        "colormap_cluster = get_colormap([0, max(output_df_2023_8.cluster.values)], ['yellow', 'darkgreen'])\n",
        "output_notebook()\n",
        "show(plot_map(df=output_df_2023_8, parameter_name='cluster', colormap=colormap_cluster, title=\"K-średnich dla danych z 01.08.2023\", alpha=0.5))"
      ],
      "metadata": {
        "id": "CwQwfc204pni"
      },
      "execution_count": null,
      "outputs": []
    },
    {
      "cell_type": "code",
      "source": [
        "colormap_cluster = get_colormap([0, max(output_df_2023_7.cluster.values)], ['yellow', 'darkgreen'])\n",
        "output_notebook()\n",
        "show(plot_map(df=output_df_2023_7, parameter_name='cluster', colormap=colormap_cluster, title=\"K-średnich dla danych z 01.07.2023\", alpha=0.5))"
      ],
      "metadata": {
        "id": "pjqkg0GeckyP"
      },
      "execution_count": null,
      "outputs": []
    },
    {
      "cell_type": "code",
      "source": [
        "colormap_cluster = get_colormap([0, max(output_df_2023_6.cluster.values)], ['yellow', 'darkgreen'])\n",
        "output_notebook()\n",
        "show(plot_map(df=output_df_2023_6, parameter_name='cluster', colormap=colormap_cluster, title=\"K-średnich dla danych z 01.06.2023\", alpha=0.5))"
      ],
      "metadata": {
        "id": "A468nvw44qUD"
      },
      "execution_count": null,
      "outputs": []
    },
    {
      "cell_type": "code",
      "source": [
        "colormap_cluster = get_colormap([0, max(output_df_2023_5.cluster.values)], ['yellow', 'darkgreen'])\n",
        "output_notebook()\n",
        "show(plot_map(df=output_df_2023_5, parameter_name='cluster', colormap=colormap_cluster, title=\"K-średnich dla danych z 01.05.2023\", alpha=0.5))"
      ],
      "metadata": {
        "id": "Lw5lXt-T4rQv"
      },
      "execution_count": null,
      "outputs": []
    },
    {
      "cell_type": "code",
      "source": [
        "colormap_cluster = get_colormap([0, max(output_df_2023_4.cluster.values)], ['yellow', 'darkgreen'])\n",
        "output_notebook()\n",
        "show(plot_map(df=output_df_2023_4, parameter_name='cluster', colormap=colormap_cluster, title=\"K-średnich dla danych z 01.04.2023\", alpha=0.5))"
      ],
      "metadata": {
        "id": "Tb2Bp0-t4rz6"
      },
      "execution_count": null,
      "outputs": []
    },
    {
      "cell_type": "code",
      "source": [
        "colormap_cluster = get_colormap([0, max(output_df_2023_3.cluster.values)], ['yellow', 'darkgreen'])\n",
        "output_notebook()\n",
        "show(plot_map(df=output_df_2023_3, parameter_name='cluster', colormap=colormap_cluster, title=\"K-średnich dla danych z 01.03.2023\", alpha=0.5))"
      ],
      "metadata": {
        "id": "vXSQp0i74sWS"
      },
      "execution_count": null,
      "outputs": []
    },
    {
      "cell_type": "code",
      "source": [
        "colormap_cluster = get_colormap([0, max(output_df_2023_2.cluster.values)], ['yellow', 'darkgreen'])\n",
        "output_notebook()\n",
        "show(plot_map(df=output_df_2023_2, parameter_name='cluster', colormap=colormap_cluster, title=\"K-średnich dla danych z 01.02.2023\", alpha=0.5))"
      ],
      "metadata": {
        "id": "_5giD45L4tAT"
      },
      "execution_count": null,
      "outputs": []
    },
    {
      "cell_type": "code",
      "source": [
        "colormap_cluster = get_colormap([0, max(output_df_2023_1.cluster.values)], ['yellow', 'darkgreen'])\n",
        "output_notebook()\n",
        "show(plot_map(df=output_df_2023_1, parameter_name='cluster', colormap=colormap_cluster, title=\"K-średnich dla danych z 01.01.2023\", alpha=0.5))"
      ],
      "metadata": {
        "id": "95X5aqa0ezd_"
      },
      "execution_count": null,
      "outputs": []
    },
    {
      "cell_type": "code",
      "source": [
        "colormap_cluster = get_colormap([0, max(output_df_2022_12.cluster.values)], ['yellow', 'darkgreen'])\n",
        "output_notebook()\n",
        "show(plot_map(df=output_df_2022_12, parameter_name='cluster', colormap=colormap_cluster, title=\"K-średnich dla danych z 01.12.2022\", alpha=0.5))"
      ],
      "metadata": {
        "id": "BzNwpsksVL9R"
      },
      "execution_count": null,
      "outputs": []
    },
    {
      "cell_type": "code",
      "source": [
        "colormap_cluster = get_colormap([0, max(output_df_2022_11.cluster.values)], ['yellow', 'darkgreen'])\n",
        "output_notebook()\n",
        "show(plot_map(df=output_df_2022_11, parameter_name='cluster', colormap=colormap_cluster, title=\"K-średnich dla danych z 01.11.2022\", alpha=0.5))"
      ],
      "metadata": {
        "id": "1AyxsF3NVm5a"
      },
      "execution_count": null,
      "outputs": []
    },
    {
      "cell_type": "code",
      "source": [
        "colormap_cluster = get_colormap([0, max(output_df_2022_10.cluster.values)], ['yellow', 'darkgreen'])\n",
        "output_notebook()\n",
        "show(plot_map(df=output_df_2022_10, parameter_name='cluster', colormap=colormap_cluster, title=\"K-średnich dla danych z 01.10.2022\", alpha=0.5))"
      ],
      "metadata": {
        "id": "TTlp_LA0Vrt2"
      },
      "execution_count": null,
      "outputs": []
    },
    {
      "cell_type": "markdown",
      "source": [
        "## Porównianie wyników z datasetem anotowanym"
      ],
      "metadata": {
        "id": "adO8onnkfxTp"
      }
    },
    {
      "cell_type": "markdown",
      "source": [
        "Porównajmy wyniki grupowań dla tych modeli, dla których graficzne przedstawienie klastrów w pewnym stopniu przypomina kształt pustyni."
      ],
      "metadata": {
        "id": "mFl4S8auglBL"
      }
    },
    {
      "cell_type": "code",
      "source": [
        "results = pd.DataFrame(\n",
        "    {\"lon\": output_df_2023_9[\"lon\"],\n",
        "    \"lat\": output_df_2023_9[\"lat\"],\n",
        "    \"cluster_2023_9\": output_df_2023_9[\"cluster\"].apply(lambda x: 0 if x==1 else 1),\n",
        "    \"cluster_2023_8\": output_df_2023_8[\"cluster\"].apply(lambda x: 0 if x==1 else 1),\n",
        "    \"cluster_2023_7\": output_df_2023_7[\"cluster\"],\n",
        "    \"cluster_2023_6\": output_df_2023_6[\"cluster\"],\n",
        "    \"cluster_2023_5\": output_df_2023_5[\"cluster\"],\n",
        "    \"cluster_2022_10\": output_df_2022_10[\"cluster\"].apply(lambda x: 0 if x==1 else 1)})"
      ],
      "metadata": {
        "id": "Pl6AxyHYf217"
      },
      "execution_count": null,
      "outputs": []
    },
    {
      "cell_type": "code",
      "source": [
        "results_with_an_pd = results.merge(NASA_sample_an[[\"lon\", \"lat\", \"pustynia_i_step\"]], left_on=['lon','lat'], right_on = ['lon','lat'], how='inner')\n",
        "results_with_an_pd.head()"
      ],
      "metadata": {
        "id": "Pvaj5PDIhw2d"
      },
      "execution_count": null,
      "outputs": []
    },
    {
      "cell_type": "code",
      "source": [
        "wyniki = pd.DataFrame({\"Name\": [\"cluster_2023_9\",\"cluster_2023_8\",\"cluster_2023_7\",\"cluster_2023_6\",\"cluster_2023_5\",\"cluster_2022_10\"]})\n",
        "wyniki[\"Accuracy [%]\"] = wyniki[\"Name\"].apply(lambda name: round(accuracy_score(results_with_an_pd[\"pustynia_i_step\"],results_with_an_pd[name])*100, 2))\n",
        "wyniki[\"Precision [%]\"] = wyniki[\"Name\"].apply(lambda name: round(precision_score(results_with_an_pd[\"pustynia_i_step\"],results_with_an_pd[name])*100, 2))\n",
        "wyniki[\"Recall [%]\"] = wyniki[\"Name\"].apply(lambda name: round(recall_score(results_with_an_pd[\"pustynia_i_step\"],results_with_an_pd[name])*100, 2))\n",
        "wyniki[\"F1-Score [%]\"] = wyniki[\"Name\"].apply(lambda name: round(f1_score(results_with_an_pd[\"pustynia_i_step\"],results_with_an_pd[name])*100, 2))\n",
        "wyniki.sort_values(by=['Accuracy [%]'], ascending=False)"
      ],
      "metadata": {
        "id": "q3RkjSG8pTbw"
      },
      "execution_count": null,
      "outputs": []
    },
    {
      "cell_type": "markdown",
      "source": [
        "Jak widzimy model wytrenowany na danych z lipca 2023 poradził sobie najlepiej z datasetem anotowanym."
      ],
      "metadata": {
        "id": "XGJ_QWGuuNqo"
      }
    },
    {
      "cell_type": "markdown",
      "source": [
        "# Wykorzystanie najlepszego modelu do grupowania danych z innych miesięcy"
      ],
      "metadata": {
        "id": "bwHj4doau1Mu"
      }
    },
    {
      "cell_type": "markdown",
      "source": [
        "Celem tej analizy jest wykorzystanie najlepszego modelu, którym jest model wytrenowany na danych z lipca 2023, do predykcji danych z innych miesięcy."
      ],
      "metadata": {
        "id": "_K2Gw5wD1MyT"
      }
    },
    {
      "cell_type": "code",
      "source": [
        "kmeans = KMeans(n_clusters = 2, init='k-means++', random_state=123)\n",
        "kmeans.fit(scaled_df_2023_7)"
      ],
      "metadata": {
        "id": "1nVnCPUSvGOi"
      },
      "execution_count": null,
      "outputs": []
    },
    {
      "cell_type": "code",
      "source": [
        "results_with_best_model = pd.DataFrame(\n",
        "    {\"lon\": output_df_2023_9[\"lon\"],\n",
        "    \"lat\": output_df_2023_9[\"lat\"],\n",
        "     \"cluster_2023_9\": kmeans.predict(scaled_df_2023_9),\n",
        "     \"cluster_2023_8\": kmeans.predict(scaled_df_2023_8),\n",
        "     \"cluster_2023_7\": kmeans.predict(scaled_df_2023_7),\n",
        "     \"cluster_2023_6\": kmeans.predict(scaled_df_2023_6),\n",
        "     \"cluster_2023_5\": kmeans.predict(scaled_df_2023_5),\n",
        "     \"cluster_2023_4\": kmeans.predict(scaled_df_2023_4),\n",
        "     \"cluster_2023_3\": kmeans.predict(scaled_df_2023_3),\n",
        "     \"cluster_2023_2\": kmeans.predict(scaled_df_2023_2),\n",
        "     \"cluster_2023_1\": kmeans.predict(scaled_df_2023_1),\n",
        "     \"cluster_2022_12\": kmeans.predict(scaled_df_2022_12),\n",
        "     \"cluster_2022_11\": kmeans.predict(scaled_df_2022_11),\n",
        "     \"cluster_2022_10\": kmeans.predict(scaled_df_2022_10)\n",
        "     })\n",
        "results_with_best_model"
      ],
      "metadata": {
        "id": "sp_NhTSoy_JL"
      },
      "execution_count": null,
      "outputs": []
    },
    {
      "cell_type": "code",
      "source": [
        "results_with_best_model_with_an_pd = results_with_best_model.merge(NASA_sample_an[[\"lon\", \"lat\", \"pustynia_i_step\"]], left_on=['lon','lat'], right_on = ['lon','lat'], how='inner')\n",
        "results_with_best_model_with_an_pd.head()"
      ],
      "metadata": {
        "id": "y-TarIQA0VRy"
      },
      "execution_count": null,
      "outputs": []
    },
    {
      "cell_type": "code",
      "source": [
        "wyniki = pd.DataFrame({\"Name\": [\"cluster_2023_9\",\"cluster_2023_8\",\"cluster_2023_7\",\"cluster_2023_6\",\"cluster_2023_5\",\"cluster_2023_4\",\"cluster_2023_3\",\"cluster_2023_2\",\"cluster_2023_1\",\"cluster_2022_12\",\"cluster_2022_11\",\"cluster_2022_10\"]})\n",
        "wyniki[\"Accuracy [%]\"] = wyniki[\"Name\"].apply(lambda name: round(accuracy_score(results_with_best_model_with_an_pd[\"pustynia_i_step\"],results_with_best_model_with_an_pd[name])*100, 2))\n",
        "wyniki[\"Precision [%]\"] = wyniki[\"Name\"].apply(lambda name: round(precision_score(results_with_best_model_with_an_pd[\"pustynia_i_step\"],results_with_best_model_with_an_pd[name])*100, 2))\n",
        "wyniki[\"Recall [%]\"] = wyniki[\"Name\"].apply(lambda name: round(recall_score(results_with_best_model_with_an_pd[\"pustynia_i_step\"],results_with_best_model_with_an_pd[name])*100, 2))\n",
        "wyniki[\"F1-Score [%]\"] = wyniki[\"Name\"].apply(lambda name: round(f1_score(results_with_best_model_with_an_pd[\"pustynia_i_step\"],results_with_best_model_with_an_pd[name])*100, 2))\n",
        "wyniki.sort_values(by=['Accuracy [%]'], ascending=False)"
      ],
      "metadata": {
        "id": "TXZosn5x0sXo"
      },
      "execution_count": null,
      "outputs": []
    },
    {
      "cell_type": "markdown",
      "source": [
        "Widać, że predykcja danych z ostatnich miesięcy za pomocą modelu wytrenowanego na danych z lipca 2023 jest najlepsza dla danych z 01.07.2023."
      ],
      "metadata": {
        "id": "OjNImlGw2JdM"
      }
    },
    {
      "cell_type": "markdown",
      "source": [
        "# Grupowanie na podstawie pojedynczej kolumny"
      ],
      "metadata": {
        "id": "-8XS72HCCnuq"
      }
    },
    {
      "cell_type": "markdown",
      "source": [
        "## Implementacja algorytmu"
      ],
      "metadata": {
        "id": "M_rD74dRGCuG"
      }
    },
    {
      "cell_type": "code",
      "source": [
        "scaled_df_2023_7_Evap = MinMaxScaling(df_2023_7, ['Evap'])\n",
        "output_df_2023_7_Evap = do_kmeans_and_return_df_with_cluster_column(df_2023_7[[\"lon\", \"lat\", \"Evap\"]], scaled_df_2023_7_Evap, 2, 123)"
      ],
      "metadata": {
        "id": "DURN9vhqE9zQ"
      },
      "execution_count": null,
      "outputs": []
    },
    {
      "cell_type": "code",
      "source": [
        "scaled_df_2023_7_Rainf = MinMaxScaling(df_2023_7, ['Rainf'])\n",
        "output_df_2023_7_Rainf = do_kmeans_and_return_df_with_cluster_column(df_2023_7[[\"lon\", \"lat\", \"Rainf\"]], scaled_df_2023_7_Rainf, 2, 123)"
      ],
      "metadata": {
        "id": "nE8k8VqAGIBn"
      },
      "execution_count": null,
      "outputs": []
    },
    {
      "cell_type": "code",
      "source": [
        "scaled_df_2023_7_AvgSurfT = MinMaxScaling(df_2023_7, ['AvgSurfT'])\n",
        "output_df_2023_7_AvgSurfT = do_kmeans_and_return_df_with_cluster_column(df_2023_7[[\"lon\", \"lat\", \"AvgSurfT\"]], scaled_df_2023_7_AvgSurfT, 2, 123)"
      ],
      "metadata": {
        "id": "EKGCCNfdGh2v"
      },
      "execution_count": null,
      "outputs": []
    },
    {
      "cell_type": "code",
      "source": [
        "scaled_df_2023_7_Albedo = MinMaxScaling(df_2023_7, ['Albedo'])\n",
        "output_df_2023_7_Albedo = do_kmeans_and_return_df_with_cluster_column(df_2023_7[[\"lon\", \"lat\", \"Albedo\"]], scaled_df_2023_7_Albedo, 2, 123)"
      ],
      "metadata": {
        "id": "GBsOm8gmGjaj"
      },
      "execution_count": null,
      "outputs": []
    },
    {
      "cell_type": "code",
      "source": [
        "scaled_df_2023_7_SoilM_100_200cm = MinMaxScaling(df_2023_7, ['SoilM_100_200cm'])\n",
        "output_df_2023_7_SoilM_100_200cm = do_kmeans_and_return_df_with_cluster_column(df_2023_7[[\"lon\", \"lat\", \"SoilM_100_200cm\"]], scaled_df_2023_7_SoilM_100_200cm, 2, 123)"
      ],
      "metadata": {
        "id": "s-k9wYwXGjmB"
      },
      "execution_count": null,
      "outputs": []
    },
    {
      "cell_type": "code",
      "source": [
        "scaled_df_2023_7_GVEG = MinMaxScaling(df_2023_7, ['GVEG'])\n",
        "output_df_2023_7_GVEG = do_kmeans_and_return_df_with_cluster_column(df_2023_7[[\"lon\", \"lat\", \"GVEG\"]], scaled_df_2023_7_GVEG, 2, 123)"
      ],
      "metadata": {
        "id": "S6CD5B_2Gjs5"
      },
      "execution_count": null,
      "outputs": []
    },
    {
      "cell_type": "code",
      "source": [
        "scaled_df_2023_7_PotEvap = MinMaxScaling(df_2023_7, ['PotEvap'])\n",
        "output_df_2023_7_PotEvap = do_kmeans_and_return_df_with_cluster_column(df_2023_7[[\"lon\", \"lat\", \"PotEvap\"]], scaled_df_2023_7_PotEvap, 2, 123)"
      ],
      "metadata": {
        "id": "dg8a8hVdGjyq"
      },
      "execution_count": null,
      "outputs": []
    },
    {
      "cell_type": "code",
      "source": [
        "scaled_df_2023_7_RootMoist = MinMaxScaling(df_2023_7, ['RootMoist'])\n",
        "output_df_2023_7_RootMoist = do_kmeans_and_return_df_with_cluster_column(df_2023_7[[\"lon\", \"lat\", \"RootMoist\"]], scaled_df_2023_7_RootMoist, 2, 123)"
      ],
      "metadata": {
        "id": "MXqfpny-Gj4Q"
      },
      "execution_count": null,
      "outputs": []
    },
    {
      "cell_type": "code",
      "source": [
        "scaled_df_2023_7_SoilT_10_40cm = MinMaxScaling(df_2023_7, ['SoilT_10_40cm'])\n",
        "output_df_2023_7_SoilT_10_40cm = do_kmeans_and_return_df_with_cluster_column(df_2023_7[[\"lon\", \"lat\", \"SoilT_10_40cm\"]], scaled_df_2023_7_SoilT_10_40cm, 2, 123)"
      ],
      "metadata": {
        "id": "1u4URwKoGkGS"
      },
      "execution_count": null,
      "outputs": []
    },
    {
      "cell_type": "markdown",
      "source": [
        "## Przedstawienie wyników na mapach"
      ],
      "metadata": {
        "id": "XBjdPhpzGMTJ"
      }
    },
    {
      "cell_type": "code",
      "source": [
        "colormap_cluster = get_colormap([0, max(output_df_2023_7_Evap.cluster.values)], ['yellow', 'darkgreen'])\n",
        "output_notebook()\n",
        "show(plot_map(df=output_df_2023_7_Evap, parameter_name='cluster', colormap=colormap_cluster, title=\"K-średnich dla danych z 01.07.2023 - Evap\", alpha=0.5))"
      ],
      "metadata": {
        "id": "wbmxZlLPEo1Z"
      },
      "execution_count": null,
      "outputs": []
    },
    {
      "cell_type": "code",
      "source": [
        "colormap_cluster = get_colormap([0, max(output_df_2023_7_Rainf.cluster.values)], ['yellow', 'darkgreen'])\n",
        "output_notebook()\n",
        "show(plot_map(df=output_df_2023_7_Rainf, parameter_name='cluster', colormap=colormap_cluster, title=\"K-średnich dla danych z 01.07.2023 - Rainf\", alpha=0.5))"
      ],
      "metadata": {
        "id": "jTretHWaHPQY"
      },
      "execution_count": null,
      "outputs": []
    },
    {
      "cell_type": "code",
      "source": [
        "colormap_cluster = get_colormap([0, max(output_df_2023_7_AvgSurfT.cluster.values)], ['yellow', 'darkgreen'])\n",
        "output_notebook()\n",
        "show(plot_map(df=output_df_2023_7_AvgSurfT, parameter_name='cluster', colormap=colormap_cluster, title=\"K-średnich dla danych z 01.07.2023 - AvgSurfT\", alpha=0.5))"
      ],
      "metadata": {
        "id": "ZEFbhFEmHPZJ"
      },
      "execution_count": null,
      "outputs": []
    },
    {
      "cell_type": "code",
      "source": [
        "colormap_cluster = get_colormap([0, max(output_df_2023_7_Albedo.cluster.values)], ['yellow', 'darkgreen'])\n",
        "output_notebook()\n",
        "show(plot_map(df=output_df_2023_7_Albedo, parameter_name='cluster', colormap=colormap_cluster, title=\"K-średnich dla danych z 01.07.2023 - Albedo\", alpha=0.5))"
      ],
      "metadata": {
        "id": "ptHvnvwTHjgI"
      },
      "execution_count": null,
      "outputs": []
    },
    {
      "cell_type": "code",
      "source": [
        "colormap_cluster = get_colormap([0, max(output_df_2023_7_SoilM_100_200cm.cluster.values)], ['yellow', 'darkgreen'])\n",
        "output_notebook()\n",
        "show(plot_map(df=output_df_2023_7_SoilM_100_200cm, parameter_name='cluster', colormap=colormap_cluster, title=\"K-średnich dla danych z 01.07.2023 - SoilM_100_200cm\", alpha=0.5))"
      ],
      "metadata": {
        "id": "bIMXQYkxHkxX"
      },
      "execution_count": null,
      "outputs": []
    },
    {
      "cell_type": "code",
      "source": [
        "colormap_cluster = get_colormap([0, max(output_df_2023_7_GVEG.cluster.values)], ['yellow', 'darkgreen'])\n",
        "output_notebook()\n",
        "show(plot_map(df=output_df_2023_7_GVEG, parameter_name='cluster', colormap=colormap_cluster, title=\"K-średnich dla danych z 01.07.2023 - GVEG\", alpha=0.5))"
      ],
      "metadata": {
        "id": "Orh-gwrpHlQ3"
      },
      "execution_count": null,
      "outputs": []
    },
    {
      "cell_type": "code",
      "source": [
        "colormap_cluster = get_colormap([0, max(output_df_2023_7_PotEvap.cluster.values)], ['yellow', 'darkgreen'])\n",
        "output_notebook()\n",
        "show(plot_map(df=output_df_2023_7_PotEvap, parameter_name='cluster', colormap=colormap_cluster, title=\"K-średnich dla danych z 01.07.2023 - PotEvap\", alpha=0.5))"
      ],
      "metadata": {
        "id": "FdjzEzbkHliR"
      },
      "execution_count": null,
      "outputs": []
    },
    {
      "cell_type": "code",
      "source": [
        "colormap_cluster = get_colormap([0, max(output_df_2023_7_RootMoist.cluster.values)], ['yellow', 'darkgreen'])\n",
        "output_notebook()\n",
        "show(plot_map(df=output_df_2023_7_RootMoist, parameter_name='cluster', colormap=colormap_cluster, title=\"K-średnich dla danych z 01.07.2023 - RootMoist\", alpha=0.5))"
      ],
      "metadata": {
        "id": "aIZt8Vg-HmCx"
      },
      "execution_count": null,
      "outputs": []
    },
    {
      "cell_type": "code",
      "source": [
        "colormap_cluster = get_colormap([0, max(output_df_2023_7_SoilT_10_40cm.cluster.values)], ['yellow', 'darkgreen'])\n",
        "output_notebook()\n",
        "show(plot_map(df=output_df_2023_7_SoilT_10_40cm, parameter_name='cluster', colormap=colormap_cluster, title=\"K-średnich dla danych z 01.07.2023 - SoilT_10_40cm\", alpha=0.5))"
      ],
      "metadata": {
        "id": "_96vkNfeILSv"
      },
      "execution_count": null,
      "outputs": []
    },
    {
      "cell_type": "markdown",
      "source": [
        "## Grupowanie na podstawie wszystkich kombinacji par kolumn."
      ],
      "metadata": {
        "id": "wKT-KbRHJ_i3"
      }
    },
    {
      "cell_type": "code",
      "source": [
        "lista_kombinacji = list(combinations(['Evap', 'Rainf', 'AvgSurfT', 'Albedo', 'SoilM_100_200cm', 'GVEG', 'PotEvap', 'RootMoist', 'SoilT_10_40cm'],2))"
      ],
      "metadata": {
        "id": "pD_BnXvNImci"
      },
      "execution_count": null,
      "outputs": []
    },
    {
      "cell_type": "code",
      "source": [
        "for para in lista_kombinacji:\n",
        "  col1, col2 = para\n",
        "  scaled_df_2023_7_mix = MinMaxScaling(df_2023_7, [col1, col2])\n",
        "  output_df_2023_7_mix = do_kmeans_and_return_df_with_cluster_column(df_2023_7[[\"lon\", \"lat\", col1, col2]], scaled_df_2023_7_mix, 2, 123)\n",
        "  colormap_cluster = get_colormap([0, max(output_df_2023_7_mix.cluster.values)], ['yellow', 'darkgreen'])\n",
        "  output_notebook()\n",
        "  show(plot_map(df=output_df_2023_7_mix, parameter_name='cluster', colormap=colormap_cluster, title= \"\".join([\"K-średnich dla danych z 01.07.2023 - \", col1,\" i \", col2]), alpha=0.5))"
      ],
      "metadata": {
        "id": "xlougnl6KdsP"
      },
      "execution_count": null,
      "outputs": []
    },
    {
      "cell_type": "code",
      "source": [
        "#Zapisanie pliku jako html\n",
        "#!jupyter nbconvert --to html \"/content/Grupowanie_k_meanss.ipynb\""
      ],
      "metadata": {
        "id": "4RiAckKrYnBn"
      },
      "execution_count": null,
      "outputs": []
    }
  ]
}