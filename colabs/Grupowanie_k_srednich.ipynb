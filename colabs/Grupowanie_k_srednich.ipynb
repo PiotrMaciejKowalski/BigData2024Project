{
  "cells": [
    {
      "cell_type": "markdown",
      "metadata": {
        "id": "EEUy2awQjA57"
      },
      "source": [
        "# Wczytywanie danych w sparku"
      ]
    },
    {
      "cell_type": "markdown",
      "metadata": {
        "id": "gBq77YQYjA57"
      },
      "source": [
        "Utworzenie środowiska pyspark do obliczeń:"
      ]
    },
    {
      "cell_type": "code",
      "execution_count": null,
      "metadata": {
        "id": "qkyQrjO9jA57"
      },
      "outputs": [],
      "source": [
        "!apt-get install openjdk-8-jdk-headless -qq > /dev/null\n",
        "!wget -q dlcdn.apache.org/spark/spark-3.5.0/spark-3.5.0-bin-hadoop3.tgz\n",
        "!tar xf spark-3.5.0-bin-hadoop3.tgz\n",
        "!pip install -q findspark"
      ]
    },
    {
      "cell_type": "code",
      "execution_count": null,
      "metadata": {
        "id": "g7BQownfjA57"
      },
      "outputs": [],
      "source": [
        "import os\n",
        "os.environ[\"JAVA_HOME\"] = \"/usr/lib/jvm/java-8-openjdk-amd64\"\n",
        "os.environ[\"SPARK_HOME\"] = \"/content/spark-3.5.0-bin-hadoop3\""
      ]
    },
    {
      "cell_type": "code",
      "execution_count": null,
      "metadata": {
        "id": "tVOiTJMrjA57"
      },
      "outputs": [],
      "source": [
        "import findspark\n",
        "findspark.init()"
      ]
    },
    {
      "cell_type": "code",
      "execution_count": null,
      "metadata": {
        "id": "OukI-zrtjA58"
      },
      "outputs": [],
      "source": [
        "import matplotlib.pyplot as plt\n",
        "import matplotlib.gridspec as gridspec\n",
        "import pandas as pd\n",
        "from google.colab import drive\n",
        "from pyspark.sql import SparkSession\n",
        "from pyspark.sql import DataFrame as SparkDataFrame\n",
        "from pyspark.sql.types import IntegerType, FloatType, StringType, StructType\n",
        "from sklearn.preprocessing import MinMaxScaler, StandardScaler\n",
        "from sklearn.metrics import accuracy_score, precision_score, recall_score, f1_score\n",
        "from sklearn.cluster import KMeans\n",
        "from sklearn.decomposition import PCA\n",
        "from itertools import combinations\n",
        "import copy\n",
        "import warnings\n",
        "warnings.filterwarnings('ignore')"
      ]
    },
    {
      "cell_type": "markdown",
      "metadata": {
        "id": "q2pEzo3-jA58"
      },
      "source": [
        "Utowrzenie sesji:"
      ]
    },
    {
      "cell_type": "code",
      "execution_count": null,
      "metadata": {
        "id": "LKsUzfMDjA58"
      },
      "outputs": [],
      "source": [
        "spark = SparkSession.builder\\\n",
        "        .master(\"local\")\\\n",
        "        .appName(\"Colab\")\\\n",
        "        .config('spark.ui.port', '4050')\\\n",
        "        .getOrCreate()"
      ]
    },
    {
      "cell_type": "markdown",
      "metadata": {
        "id": "dn4BlKohjA58"
      },
      "source": [
        "Połączenie z dyskiem:"
      ]
    },
    {
      "cell_type": "code",
      "execution_count": null,
      "metadata": {
        "id": "2e8IyT9_jA58"
      },
      "outputs": [],
      "source": [
        "drive.mount('/content/drive')"
      ]
    },
    {
      "cell_type": "markdown",
      "metadata": {
        "id": "51qtdqanjA58"
      },
      "source": [
        "Wczytanie danych NASA znajdujących się na dysku w sparku:"
      ]
    },
    {
      "cell_type": "code",
      "execution_count": null,
      "metadata": {
        "id": "RoLCaW7EjA58"
      },
      "outputs": [],
      "source": [
        "columns = ['lon', 'lat', 'Date', 'Rainf', 'Evap', 'AvgSurfT', 'Albedo','SoilT_10_40cm', 'GVEG', 'PotEvap', 'RootMoist', 'SoilM_100_200cm']\n",
        "\n",
        "# Utworzenie schematu określającego typ zmiennych\n",
        "schema = StructType()\n",
        "for i in columns:\n",
        "  if i == \"Date\":\n",
        "    schema = schema.add(i, IntegerType(), True)\n",
        "  else:\n",
        "    schema = schema.add(i, FloatType(), True)"
      ]
    },
    {
      "cell_type": "code",
      "execution_count": null,
      "metadata": {
        "id": "d9uZwIbKjA59"
      },
      "outputs": [],
      "source": [
        "# Wczytanie zbioru Nasa w sparku\n",
        "nasa = spark.read.format('csv').option(\"header\", True).schema(schema).load('/content/drive/MyDrive/BigMess/NASA/NASA.csv')"
      ]
    },
    {
      "cell_type": "markdown",
      "metadata": {
        "id": "ieny-4ImjA59"
      },
      "source": [
        "Zanim zaczniemy pisać kwerendy należy jeszcze dodać nasz DataFrame (df) do \"przestrzeni nazw tabel\" Sparka:"
      ]
    },
    {
      "cell_type": "code",
      "execution_count": null,
      "metadata": {
        "id": "UlOCt08pjA59"
      },
      "outputs": [],
      "source": [
        "nasa.createOrReplaceTempView(\"nasa\")"
      ]
    },
    {
      "cell_type": "markdown",
      "metadata": {
        "id": "oPab84ZmjA59"
      },
      "source": [
        "Rozdzielenie kolumny \"Date\" na kolumny \"Year\" oraz \"Month\""
      ]
    },
    {
      "cell_type": "code",
      "execution_count": null,
      "metadata": {
        "id": "3N6ZPVGRjA59"
      },
      "outputs": [],
      "source": [
        "nasa_ym = spark.sql(\"\"\"\n",
        "          SELECT\n",
        "          CAST(SUBSTRING(CAST(Date AS STRING), 1, 4) AS INT) AS Year,\n",
        "          CAST(SUBSTRING(CAST(Date AS STRING), 5, 2) AS INT) AS Month,\n",
        "          n.*\n",
        "          FROM nasa n\n",
        "          \"\"\")\n",
        "nasa_ym = nasa_ym.drop(\"Date\")"
      ]
    },
    {
      "cell_type": "code",
      "execution_count": null,
      "metadata": {
        "id": "RYo_cpMCjA59"
      },
      "outputs": [],
      "source": [
        "nasa_ym.createOrReplaceTempView(\"nasa_ym\")"
      ]
    },
    {
      "cell_type": "markdown",
      "metadata": {
        "id": "sBSLBg9xBoob"
      },
      "source": [
        "# Grupowanie k-średnich"
      ]
    },
    {
      "cell_type": "code",
      "execution_count": null,
      "metadata": {
        "id": "Y3_UN91xKkoE"
      },
      "outputs": [],
      "source": [
        "def MinMaxScaling(df: pd.DataFrame, attributes: list) -> pd.DataFrame:\n",
        "  \"\"\"\n",
        "  Funkcja służąca do przeskalowania wybranych atrybutów za pomocą funkcji MinMaxScaler, a następnie stworzenia nowej ramki danych z tylko przeskalowanymi atrybutami.\n",
        "  Parametry:\n",
        "  - df (DataFrame): Pandas DataFrame zawierająca co najmniej atrybuty,\n",
        "  - attributes (str): atrybuty, które będziemy skalować.\n",
        "  \"\"\"\n",
        "  scaled_data = MinMaxScaler().fit_transform(df[attributes])\n",
        "  scaled_df = pd.DataFrame(scaled_data, columns=attributes)\n",
        "  return scaled_df"
      ]
    },
    {
      "cell_type": "code",
      "execution_count": null,
      "metadata": {
        "id": "rc1u92KEOaz7"
      },
      "outputs": [],
      "source": [
        "def do_kmeans_and_return_df_with_cluster_column(df: pd.DataFrame, scaled_df: pd.DataFrame, n_clusters: int, random_state: int) -> pd.DataFrame:\n",
        "  \"\"\"\n",
        "  Funkcja wykonuje grupowanie k-średnich dla n_clusters klastrów oraz tworzy nową kolumnę z predykcjami algorytmu k-średnich w ramce danych df.\n",
        "  Parametry:\n",
        "  - df (DataFrame): Pandas DataFrame zawierająca co najmniej te same kolumny co scaled_df,\n",
        "  - scaled_df (DataFrame): Pandas DataFrame zawierająca przeskalowane kolumny, na podstawie których dokonywane jest grupowanie,\n",
        "  - n_clusters (int): maksymalna liczba klastrów,\n",
        "  - random_state (int): ziarno losowości.\n",
        "  \"\"\"\n",
        "  kmeans = KMeans(n_clusters = n_clusters, init='k-means++', random_state=random_state)\n",
        "  kmeans.fit(scaled_df)\n",
        "  pred = kmeans.predict(scaled_df)\n",
        "  df['cluster'] = pred\n",
        "  return df"
      ]
    },
    {
      "cell_type": "markdown",
      "metadata": {
        "id": "BKz9TF0-Vg3e"
      },
      "source": [
        "## 1. Dane z 01.07.2023"
      ]
    },
    {
      "cell_type": "markdown",
      "metadata": {
        "id": "DgtJR2ekqSgs"
      },
      "source": [
        "### 1.1. Kolumny: Evap, Rainf, AvgSurfT, Albedo, SoilM_100_200cm, GVEG, PotEvap, RootMoist, SoilT_10_40cm."
      ]
    },
    {
      "cell_type": "markdown",
      "metadata": {
        "id": "hXtPhTtwBzj6"
      },
      "source": [
        "Zacznijmy od próby grupowania dla danych z lipca 2023, używając do tego kolumn: Evap, Rainf, AvgSurfT, Albedo, SoilM_100_200cm, GVEG, PotEvap, RootMoist, SoilT_10_40cm."
      ]
    },
    {
      "cell_type": "code",
      "execution_count": null,
      "metadata": {
        "id": "dNgEu_LukKYP"
      },
      "outputs": [],
      "source": [
        "SparkDataFrame_2023_7 = spark.sql(\"\"\"\n",
        "                        SELECT\n",
        "                        *\n",
        "                        FROM nasa_ym WHERE (Year == 2023) and (Month == 7)\n",
        "                        order by lon, lat, Year, Month\n",
        "                        \"\"\")"
      ]
    },
    {
      "cell_type": "code",
      "execution_count": null,
      "metadata": {
        "id": "MMLzXVKPlH3p"
      },
      "outputs": [],
      "source": [
        "SparkDataFrame_2023_7.show(5)"
      ]
    },
    {
      "cell_type": "code",
      "execution_count": null,
      "metadata": {
        "id": "6IKYLtt3OTci"
      },
      "outputs": [],
      "source": [
        "df_2023_7 = SparkDataFrame_2023_7.toPandas()"
      ]
    },
    {
      "cell_type": "code",
      "execution_count": null,
      "metadata": {
        "id": "HdTB_PqIeZXM"
      },
      "outputs": [],
      "source": [
        "df_2023_7.describe()"
      ]
    },
    {
      "cell_type": "code",
      "execution_count": null,
      "metadata": {
        "id": "PuWAazIFMd5G"
      },
      "outputs": [],
      "source": [
        "scaled_df_2023_7 = MinMaxScaling(df_2023_7, ['Evap', 'Rainf', 'AvgSurfT', 'Albedo', 'SoilM_100_200cm', 'GVEG', 'PotEvap', 'RootMoist', 'SoilT_10_40cm'])"
      ]
    },
    {
      "cell_type": "code",
      "execution_count": null,
      "metadata": {
        "id": "bIx0CK-XQXU6"
      },
      "outputs": [],
      "source": [
        "output_df_2023_7 = do_kmeans_and_return_df_with_cluster_column(df_2023_7, scaled_df_2023_7, 2, 123)"
      ]
    },
    {
      "cell_type": "markdown",
      "metadata": {
        "id": "3qQy8Y-Jqdxd"
      },
      "source": [
        "### 1.2. Kolumny z PCA"
      ]
    },
    {
      "cell_type": "code",
      "execution_count": null,
      "metadata": {
        "id": "x0d8bfOBqiuF"
      },
      "outputs": [],
      "source": [
        "SparkDataFrame_2023_7_pca = spark.sql(\"\"\"\n",
        "                        SELECT\n",
        "                        *\n",
        "                        FROM nasa_ym WHERE (Year == 2023) and (Month == 7)\n",
        "                        order by lon, lat, Year, Month\n",
        "                        \"\"\")"
      ]
    },
    {
      "cell_type": "code",
      "execution_count": null,
      "metadata": {
        "id": "Y93WANgdq0jL"
      },
      "outputs": [],
      "source": [
        "df_2023_7_pca = SparkDataFrame_2023_7_pca.toPandas()"
      ]
    },
    {
      "cell_type": "code",
      "execution_count": null,
      "metadata": {
        "id": "oJmkgZxSq3Tj"
      },
      "outputs": [],
      "source": [
        "# Standaryzacja\n",
        "standarized_df_2023_7_pca = StandardScaler().fit_transform(df_2023_7_pca.drop(columns=[\"Month\", \"lon\", \"lat\", \"Year\"]))\n",
        "# PCA\n",
        "pca = PCA(n_components=2)\n",
        "standarized_df_2023_7_pca_done = pca.fit_transform(standarized_df_2023_7_pca)"
      ]
    },
    {
      "cell_type": "code",
      "execution_count": null,
      "metadata": {
        "id": "ZJtPPOZHq_wU"
      },
      "outputs": [],
      "source": [
        "# Wyjaśniona wariancja\n",
        "pca.explained_variance_ratio_"
      ]
    },
    {
      "cell_type": "code",
      "execution_count": null,
      "metadata": {
        "id": "r2t5ehZ1rCsd"
      },
      "outputs": [],
      "source": [
        "standarized_df_2023_7_pca_done = pd.DataFrame(data = standarized_df_2023_7_pca_done, columns = ['principal component 1', 'principal component 2'])"
      ]
    },
    {
      "cell_type": "code",
      "execution_count": null,
      "metadata": {
        "id": "CG-O3SxFrOIT"
      },
      "outputs": [],
      "source": [
        "output_df_2023_7_pca = do_kmeans_and_return_df_with_cluster_column(df_2023_7_pca, standarized_df_2023_7_pca_done, 2, 123)"
      ]
    },
    {
      "cell_type": "markdown",
      "metadata": {
        "id": "6Mf0xlR3Vumd"
      },
      "source": [
        "## 2. Dane z 01.01.2023"
      ]
    },
    {
      "cell_type": "markdown",
      "metadata": {
        "id": "C5IN7jkVjuWk"
      },
      "source": [
        "### 2.1 Kolumny: Evap, Rainf, AvgSurfT, Albedo, SoilM_100_200cm, GVEG, PotEvap, RootMoist, SoilT_10_40cm."
      ]
    },
    {
      "cell_type": "code",
      "execution_count": null,
      "metadata": {
        "id": "Z8pMq1JYV_47"
      },
      "outputs": [],
      "source": [
        "SparkDataFrame_2023_1 = spark.sql(\"\"\"\n",
        "                        SELECT\n",
        "                        *\n",
        "                        FROM nasa_ym WHERE (Year == 2023) and (Month == 1)\n",
        "                        order by lon, lat, Year, Month\n",
        "                        \"\"\")"
      ]
    },
    {
      "cell_type": "code",
      "execution_count": null,
      "metadata": {
        "id": "ovrSYD1kSs1r"
      },
      "outputs": [],
      "source": [
        "df_2023_1 = SparkDataFrame_2023_1.toPandas()"
      ]
    },
    {
      "cell_type": "code",
      "execution_count": null,
      "metadata": {
        "id": "nUb90wNSS1Q7"
      },
      "outputs": [],
      "source": [
        "scaled_df_2023_1 = MinMaxScaling(df_2023_1, ['Evap', 'Rainf', 'AvgSurfT', 'Albedo', 'SoilM_100_200cm', 'GVEG', 'PotEvap', 'RootMoist', 'SoilT_10_40cm'])"
      ]
    },
    {
      "cell_type": "code",
      "execution_count": null,
      "metadata": {
        "id": "Fg1madBITREp"
      },
      "outputs": [],
      "source": [
        "output_df_2023_1 = do_kmeans_and_return_df_with_cluster_column(df_2023_1, scaled_df_2023_1, 2, 123)"
      ]
    },
    {
      "cell_type": "markdown",
      "metadata": {
        "id": "CeYU3n9Cj6fd"
      },
      "source": [
        "### 2.2 Kolumny z PCA"
      ]
    },
    {
      "cell_type": "code",
      "execution_count": null,
      "metadata": {
        "id": "vl_8CdrakAPs"
      },
      "outputs": [],
      "source": [
        "SparkDataFrame_2023_1_pca = spark.sql(\"\"\"\n",
        "                        SELECT\n",
        "                        *\n",
        "                        FROM nasa_ym WHERE (Year == 2023) and (Month == 1)\n",
        "                        order by lon, lat, Year, Month\n",
        "                        \"\"\")"
      ]
    },
    {
      "cell_type": "code",
      "execution_count": null,
      "metadata": {
        "id": "557zj4SUkNLE"
      },
      "outputs": [],
      "source": [
        "df_2023_1_pca = SparkDataFrame_2023_1_pca.toPandas()"
      ]
    },
    {
      "cell_type": "code",
      "execution_count": null,
      "metadata": {
        "id": "Crdoc28Rkczk"
      },
      "outputs": [],
      "source": [
        "standarized_df_2023_1_pca = StandardScaler().fit_transform(df_2023_1_pca.drop(columns=[\"Month\", \"lon\", \"lat\", \"Year\"]))\n",
        "\n",
        "pca = PCA(n_components=2)\n",
        "standarized_df_2023_1_pca_done = pca.fit_transform(standarized_df_2023_1_pca)"
      ]
    },
    {
      "cell_type": "code",
      "execution_count": null,
      "metadata": {
        "id": "NcKL-H_zpMbt"
      },
      "outputs": [],
      "source": [
        "pca.explained_variance_ratio_"
      ]
    },
    {
      "cell_type": "code",
      "execution_count": null,
      "metadata": {
        "id": "KYfz2JvimKge"
      },
      "outputs": [],
      "source": [
        "standarized_df_2023_1_pca_done = pd.DataFrame(data = standarized_df_2023_1_pca_done, columns = ['principal component 1', 'principal component 2'])"
      ]
    },
    {
      "cell_type": "code",
      "execution_count": null,
      "metadata": {
        "id": "vqxgNQeuov5E"
      },
      "outputs": [],
      "source": [
        "output_df_2023_1_pca = do_kmeans_and_return_df_with_cluster_column(df_2023_1_pca, standarized_df_2023_1_pca_done, 2, 123)"
      ]
    },
    {
      "cell_type": "markdown",
      "metadata": {
        "id": "LO6AeahKyFA7"
      },
      "source": [
        "## 3. Dane z 01.07.2000"
      ]
    },
    {
      "cell_type": "markdown",
      "metadata": {
        "id": "8ph3xPSPyaji"
      },
      "source": [
        "### 3.1. Kolumny: Evap, Rainf, AvgSurfT, Albedo, SoilM_100_200cm, GVEG, PotEvap, RootMoist, SoilT_10_40cm."
      ]
    },
    {
      "cell_type": "code",
      "execution_count": null,
      "metadata": {
        "id": "CkkmyMGlzSvC"
      },
      "outputs": [],
      "source": [
        "SparkDataFrame_2000_7 = spark.sql(\"\"\"\n",
        "                        SELECT\n",
        "                        *\n",
        "                        FROM nasa_ym WHERE (Year == 2000) and (Month == 7)\n",
        "                        order by lon, lat, Year, Month\n",
        "                        \"\"\")"
      ]
    },
    {
      "cell_type": "code",
      "execution_count": null,
      "metadata": {
        "id": "VPmLB7Y8zSvP"
      },
      "outputs": [],
      "source": [
        "df_2000_7 = SparkDataFrame_2000_7.toPandas()"
      ]
    },
    {
      "cell_type": "code",
      "execution_count": null,
      "metadata": {
        "id": "TB7EgK8HzSvQ"
      },
      "outputs": [],
      "source": [
        "scaled_df_2000_7 = MinMaxScaling(df_2000_7, ['Evap', 'Rainf', 'AvgSurfT', 'Albedo', 'SoilM_100_200cm', 'GVEG', 'PotEvap', 'RootMoist', 'SoilT_10_40cm'])"
      ]
    },
    {
      "cell_type": "code",
      "execution_count": null,
      "metadata": {
        "id": "8SJs6DojzSvQ"
      },
      "outputs": [],
      "source": [
        "output_df_2000_7 = do_kmeans_and_return_df_with_cluster_column(df_2000_7, scaled_df_2000_7, 2, 123)"
      ]
    },
    {
      "cell_type": "markdown",
      "metadata": {
        "id": "h4OEHfiNygx7"
      },
      "source": [
        "### 3.2. Kolumny z PCA"
      ]
    },
    {
      "cell_type": "code",
      "execution_count": null,
      "metadata": {
        "id": "pm9E_pKqzYN1"
      },
      "outputs": [],
      "source": [
        "SparkDataFrame_2000_7_pca = spark.sql(\"\"\"\n",
        "                        SELECT\n",
        "                        *\n",
        "                        FROM nasa_ym WHERE (Year == 2000) and (Month == 7)\n",
        "                        order by lon, lat, Year, Month\n",
        "                        \"\"\")"
      ]
    },
    {
      "cell_type": "code",
      "execution_count": null,
      "metadata": {
        "id": "F9wA_7DGzYOB"
      },
      "outputs": [],
      "source": [
        "df_2000_7_pca = SparkDataFrame_2000_7_pca.toPandas()"
      ]
    },
    {
      "cell_type": "code",
      "execution_count": null,
      "metadata": {
        "id": "5cwVbXGZzYOB"
      },
      "outputs": [],
      "source": [
        "# Standaryzacja\n",
        "standarized_df_2000_7_pca = StandardScaler().fit_transform(df_2000_7_pca.drop(columns=[\"Month\", \"lon\", \"lat\", \"Year\"]))\n",
        "# PCA\n",
        "pca = PCA(n_components=3)\n",
        "standarized_df_2000_7_pca_done = pca.fit_transform(standarized_df_2000_7_pca)"
      ]
    },
    {
      "cell_type": "code",
      "execution_count": null,
      "metadata": {
        "id": "2I_Y0WZRzYOB"
      },
      "outputs": [],
      "source": [
        "# Wyjaśniona wariancja\n",
        "pca.explained_variance_ratio_"
      ]
    },
    {
      "cell_type": "code",
      "execution_count": null,
      "metadata": {
        "id": "Vprt5GIDzYOC"
      },
      "outputs": [],
      "source": [
        "standarized_df_2000_7_pca_done = pd.DataFrame(data = standarized_df_2000_7_pca_done, columns = ['principal component 1', 'principal component 2', 'principal component 3'])"
      ]
    },
    {
      "cell_type": "code",
      "execution_count": null,
      "metadata": {
        "id": "dU-MyIkczYOC"
      },
      "outputs": [],
      "source": [
        "output_df_2000_7_pca = do_kmeans_and_return_df_with_cluster_column(df_2000_7_pca, standarized_df_2000_7_pca_done, 2, 123)"
      ]
    },
    {
      "cell_type": "markdown",
      "metadata": {
        "id": "kt8TFphSyVE7"
      },
      "source": [
        "## 4. Dane z 01.01.2000"
      ]
    },
    {
      "cell_type": "markdown",
      "metadata": {
        "id": "3yCPY6V5ymei"
      },
      "source": [
        "### 4.1. Kolumny: Evap, Rainf, AvgSurfT, Albedo, SoilM_100_200cm, GVEG, PotEvap, RootMoist, SoilT_10_40cm.\n",
        "\n"
      ]
    },
    {
      "cell_type": "code",
      "execution_count": null,
      "metadata": {
        "id": "K0ftBgoiy0Tv"
      },
      "outputs": [],
      "source": [
        "SparkDataFrame_2000_1 = spark.sql(\"\"\"\n",
        "                        SELECT\n",
        "                        *\n",
        "                        FROM nasa_ym WHERE (Year == 2000) and (Month == 1)\n",
        "                        order by lon, lat, Year, Month\n",
        "                        \"\"\")"
      ]
    },
    {
      "cell_type": "code",
      "execution_count": null,
      "metadata": {
        "id": "zQToS5h2y0Tv"
      },
      "outputs": [],
      "source": [
        "df_2000_1 = SparkDataFrame_2000_1.toPandas()"
      ]
    },
    {
      "cell_type": "code",
      "execution_count": null,
      "metadata": {
        "id": "YACWfdlry0Tw"
      },
      "outputs": [],
      "source": [
        "scaled_df_2000_1 = MinMaxScaling(df_2000_1, ['Evap', 'Rainf', 'AvgSurfT', 'Albedo', 'SoilM_100_200cm', 'GVEG', 'PotEvap', 'RootMoist', 'SoilT_10_40cm'])"
      ]
    },
    {
      "cell_type": "code",
      "execution_count": null,
      "metadata": {
        "id": "T9kN4SeXy0Tw"
      },
      "outputs": [],
      "source": [
        "output_df_2000_1 = do_kmeans_and_return_df_with_cluster_column(df_2000_1, scaled_df_2000_1, 2, 123)"
      ]
    },
    {
      "cell_type": "markdown",
      "metadata": {
        "id": "-XR1Zo_AypA0"
      },
      "source": [
        "### 4.2. Kolumny z PCA"
      ]
    },
    {
      "cell_type": "code",
      "execution_count": null,
      "metadata": {
        "id": "eFfaZjVszKn3"
      },
      "outputs": [],
      "source": [
        "SparkDataFrame_2000_1_pca = spark.sql(\"\"\"\n",
        "                        SELECT\n",
        "                        *\n",
        "                        FROM nasa_ym WHERE (Year == 2000) and (Month == 1)\n",
        "                        order by lon, lat, Year, Month\n",
        "                        \"\"\")"
      ]
    },
    {
      "cell_type": "code",
      "execution_count": null,
      "metadata": {
        "id": "pWqXvLMizKn_"
      },
      "outputs": [],
      "source": [
        "df_2000_1_pca = SparkDataFrame_2000_1_pca.toPandas()"
      ]
    },
    {
      "cell_type": "code",
      "execution_count": null,
      "metadata": {
        "id": "49r7XFQczKn_"
      },
      "outputs": [],
      "source": [
        "standarized_df_2000_1_pca = StandardScaler().fit_transform(df_2000_1_pca.drop(columns=[\"Month\", \"lon\", \"lat\", \"Year\"]))\n",
        "\n",
        "pca = PCA(n_components=2)\n",
        "standarized_df_2000_1_pca_done = pca.fit_transform(standarized_df_2000_1_pca)"
      ]
    },
    {
      "cell_type": "code",
      "execution_count": null,
      "metadata": {
        "id": "a9ywwxFAzKn_"
      },
      "outputs": [],
      "source": [
        "pca.explained_variance_ratio_"
      ]
    },
    {
      "cell_type": "code",
      "execution_count": null,
      "metadata": {
        "id": "27HS_kATzKn_"
      },
      "outputs": [],
      "source": [
        "standarized_df_2000_1_pca_done = pd.DataFrame(data = standarized_df_2000_1_pca_done, columns = ['principal component 1', 'principal component 2'])"
      ]
    },
    {
      "cell_type": "code",
      "execution_count": null,
      "metadata": {
        "id": "sd8aPs_GzKn_"
      },
      "outputs": [],
      "source": [
        "output_df_2000_1_pca = do_kmeans_and_return_df_with_cluster_column(df_2000_1_pca, standarized_df_2000_1_pca_done, 2, 123)"
      ]
    },
    {
      "cell_type": "markdown",
      "metadata": {
        "id": "9KLGx2yA5Pmn"
      },
      "source": [
        "## 5. Dane z 01.07.1979"
      ]
    },
    {
      "cell_type": "markdown",
      "metadata": {
        "id": "Zn1apYEx5Pmn"
      },
      "source": [
        "### 5.1. Kolumny: Evap, Rainf, AvgSurfT, Albedo, SoilM_100_200cm, GVEG, PotEvap, RootMoist, SoilT_10_40cm."
      ]
    },
    {
      "cell_type": "code",
      "execution_count": null,
      "metadata": {
        "id": "Qe8Bo_7-5Pmo"
      },
      "outputs": [],
      "source": [
        "SparkDataFrame_1979_7 = spark.sql(\"\"\"\n",
        "                        SELECT\n",
        "                        *\n",
        "                        FROM nasa_ym WHERE (Year == 1979) and (Month == 7)\n",
        "                        order by lon, lat, Year, Month\n",
        "                        \"\"\")"
      ]
    },
    {
      "cell_type": "code",
      "execution_count": null,
      "metadata": {
        "id": "xF5XoaBM5Pmo"
      },
      "outputs": [],
      "source": [
        "df_1979_7 = SparkDataFrame_1979_7.toPandas()"
      ]
    },
    {
      "cell_type": "code",
      "execution_count": null,
      "metadata": {
        "id": "WHLKRE1J5Pmo"
      },
      "outputs": [],
      "source": [
        "scaled_df_1979_7 = MinMaxScaling(df_1979_7, ['Evap', 'Rainf', 'AvgSurfT', 'Albedo', 'SoilM_100_200cm', 'GVEG', 'PotEvap', 'RootMoist', 'SoilT_10_40cm'])"
      ]
    },
    {
      "cell_type": "code",
      "execution_count": null,
      "metadata": {
        "id": "jABtkO885Pmp"
      },
      "outputs": [],
      "source": [
        "output_df_1979_7 = do_kmeans_and_return_df_with_cluster_column(df_1979_7, scaled_df_1979_7, 2, 123)"
      ]
    },
    {
      "cell_type": "markdown",
      "metadata": {
        "id": "Zfi3hV1E5Pmp"
      },
      "source": [
        "### 5.2. Kolumny z PCA"
      ]
    },
    {
      "cell_type": "code",
      "execution_count": null,
      "metadata": {
        "id": "nX4ojfeI5Pmq"
      },
      "outputs": [],
      "source": [
        "SparkDataFrame_1979_7_pca = spark.sql(\"\"\"\n",
        "                        SELECT\n",
        "                        *\n",
        "                        FROM nasa_ym WHERE (Year == 1979) and (Month == 7)\n",
        "                        order by lon, lat, Year, Month\n",
        "                        \"\"\")"
      ]
    },
    {
      "cell_type": "code",
      "execution_count": null,
      "metadata": {
        "id": "HmS6Q2d-5Pmq"
      },
      "outputs": [],
      "source": [
        "df_1979_7_pca = SparkDataFrame_1979_7_pca.toPandas()"
      ]
    },
    {
      "cell_type": "code",
      "execution_count": null,
      "metadata": {
        "id": "nkp0Qy2U5Pmq"
      },
      "outputs": [],
      "source": [
        "# Standaryzacja\n",
        "standarized_df_1979_7_pca = StandardScaler().fit_transform(df_1979_7_pca.drop(columns=[\"Month\", \"lon\", \"lat\", \"Year\"]))\n",
        "# PCA\n",
        "pca = PCA(n_components=3)\n",
        "standarized_df_1979_7_pca_done = pca.fit_transform(standarized_df_1979_7_pca)"
      ]
    },
    {
      "cell_type": "code",
      "execution_count": null,
      "metadata": {
        "id": "xqhBudf_5Pmq"
      },
      "outputs": [],
      "source": [
        "# Wyjaśniona wariancja\n",
        "pca.explained_variance_ratio_"
      ]
    },
    {
      "cell_type": "code",
      "execution_count": null,
      "metadata": {
        "id": "O6_WDgQX5Pmr"
      },
      "outputs": [],
      "source": [
        "standarized_df_1979_7_pca_done = pd.DataFrame(data = standarized_df_1979_7_pca_done, columns = ['principal component 1', 'principal component 2', 'principal component 3'])"
      ]
    },
    {
      "cell_type": "code",
      "execution_count": null,
      "metadata": {
        "id": "A1f0rRnf5Pmr"
      },
      "outputs": [],
      "source": [
        "output_df_1979_7_pca = do_kmeans_and_return_df_with_cluster_column(df_1979_7_pca, standarized_df_1979_7_pca_done, 2, 123)"
      ]
    },
    {
      "cell_type": "markdown",
      "metadata": {
        "id": "P4ASiSXk5-M2"
      },
      "source": [
        "## 6. Dane z 01.01.1979"
      ]
    },
    {
      "cell_type": "markdown",
      "metadata": {
        "id": "43JNLZDN5-M2"
      },
      "source": [
        "### 6.1. Kolumny: Evap, Rainf, AvgSurfT, Albedo, SoilM_100_200cm, GVEG, PotEvap, RootMoist, SoilT_10_40cm.\n",
        "\n"
      ]
    },
    {
      "cell_type": "code",
      "execution_count": null,
      "metadata": {
        "id": "WNJO-VJg5-M2"
      },
      "outputs": [],
      "source": [
        "SparkDataFrame_1979_1 = spark.sql(\"\"\"\n",
        "                        SELECT\n",
        "                        *\n",
        "                        FROM nasa_ym WHERE (Year == 1979) and (Month == 1)\n",
        "                        order by lon, lat, Year, Month\n",
        "                        \"\"\")"
      ]
    },
    {
      "cell_type": "code",
      "execution_count": null,
      "metadata": {
        "id": "MXUovug75-M3"
      },
      "outputs": [],
      "source": [
        "df_1979_1 = SparkDataFrame_1979_1.toPandas()"
      ]
    },
    {
      "cell_type": "code",
      "execution_count": null,
      "metadata": {
        "id": "Jl_rIgvD5-M3"
      },
      "outputs": [],
      "source": [
        "scaled_df_1979_1 = MinMaxScaling(df_1979_1, ['Evap', 'Rainf', 'AvgSurfT', 'Albedo', 'SoilM_100_200cm', 'GVEG', 'PotEvap', 'RootMoist', 'SoilT_10_40cm'])"
      ]
    },
    {
      "cell_type": "code",
      "execution_count": null,
      "metadata": {
        "id": "pvKW2Rm-5-M4"
      },
      "outputs": [],
      "source": [
        "output_df_1979_1 = do_kmeans_and_return_df_with_cluster_column(df_1979_1, scaled_df_1979_1, 2, 123)"
      ]
    },
    {
      "cell_type": "markdown",
      "metadata": {
        "id": "Dv5ZcW4L5-M4"
      },
      "source": [
        "### 6.2. Kolumny z PCA"
      ]
    },
    {
      "cell_type": "code",
      "execution_count": null,
      "metadata": {
        "id": "smvnQV8-5-M4"
      },
      "outputs": [],
      "source": [
        "SparkDataFrame_1979_1_pca = spark.sql(\"\"\"\n",
        "                        SELECT\n",
        "                        *\n",
        "                        FROM nasa_ym WHERE (Year == 1979) and (Month == 1)\n",
        "                        order by lon, lat, Year, Month\n",
        "                        \"\"\")"
      ]
    },
    {
      "cell_type": "code",
      "execution_count": null,
      "metadata": {
        "id": "p_8Ki3zn5-M4"
      },
      "outputs": [],
      "source": [
        "df_1979_1_pca = SparkDataFrame_1979_1_pca.toPandas()"
      ]
    },
    {
      "cell_type": "code",
      "execution_count": null,
      "metadata": {
        "id": "EhHhZ9sm5-M4"
      },
      "outputs": [],
      "source": [
        "standarized_df_1979_1_pca = StandardScaler().fit_transform(df_1979_1_pca.drop(columns=[\"Month\", \"lon\", \"lat\", \"Year\"]))\n",
        "\n",
        "pca = PCA(n_components=2)\n",
        "standarized_df_1979_1_pca_done = pca.fit_transform(standarized_df_1979_1_pca)"
      ]
    },
    {
      "cell_type": "code",
      "execution_count": null,
      "metadata": {
        "id": "fMpkl7ie5-M5"
      },
      "outputs": [],
      "source": [
        "pca.explained_variance_ratio_"
      ]
    },
    {
      "cell_type": "code",
      "execution_count": null,
      "metadata": {
        "id": "jyVBPgQ-5-M5"
      },
      "outputs": [],
      "source": [
        "standarized_df_1979_1_pca_done = pd.DataFrame(data = standarized_df_1979_1_pca_done, columns = ['principal component 1', 'principal component 2'])"
      ]
    },
    {
      "cell_type": "code",
      "execution_count": null,
      "metadata": {
        "id": "uOD4s-FW5-M5"
      },
      "outputs": [],
      "source": [
        "output_df_1979_1_pca = do_kmeans_and_return_df_with_cluster_column(df_1979_1_pca, standarized_df_1979_1_pca_done, 2, 123)"
      ]
    },
    {
      "cell_type": "markdown",
      "metadata": {
        "id": "IW3QastWYMhI"
      },
      "source": [
        "# Graficzne przedstawienie klastrów"
      ]
    },
    {
      "cell_type": "markdown",
      "metadata": {
        "id": "TsploAIjxQmj"
      },
      "source": [
        "## Wczytanie pakietów i tworzenie funkcji"
      ]
    },
    {
      "cell_type": "code",
      "execution_count": null,
      "metadata": {
        "id": "g3vRmFROU-Qw"
      },
      "outputs": [],
      "source": [
        "!pip install datashader"
      ]
    },
    {
      "cell_type": "code",
      "execution_count": null,
      "metadata": {
        "id": "MVPx8hnIVBAg"
      },
      "outputs": [],
      "source": [
        "!pip install holoviews hvplot colorcet"
      ]
    },
    {
      "cell_type": "code",
      "execution_count": null,
      "metadata": {
        "id": "ZtBWbTG5VDSi"
      },
      "outputs": [],
      "source": [
        "!pip install geoviews"
      ]
    },
    {
      "cell_type": "code",
      "execution_count": null,
      "metadata": {
        "id": "3eb5sMy6VFwz"
      },
      "outputs": [],
      "source": [
        "import numpy as np\n",
        "import matplotlib as mpl"
      ]
    },
    {
      "cell_type": "code",
      "execution_count": null,
      "metadata": {
        "id": "Q5FGEk0PVGqg"
      },
      "outputs": [],
      "source": [
        "import datashader as ds\n",
        "import datashader.transfer_functions as tf\n",
        "import colorcet as cc\n",
        "import holoviews as hv\n",
        "from holoviews.operation.datashader import datashade\n",
        "import geoviews as gv\n",
        "import geoviews.tile_sources as gts\n",
        "from holoviews import opts\n",
        "from IPython.display import IFrame\n",
        "from IPython.core.display import display\n",
        "from bokeh.plotting import show, output_notebook"
      ]
    },
    {
      "cell_type": "code",
      "execution_count": null,
      "metadata": {
        "id": "CAuR3B41VMeX"
      },
      "outputs": [],
      "source": [
        "'''\n",
        "Funkcja jako argumenty bierze listę wartości określających granice przedziałów liczbowych, które\n",
        "będą określać jak dla rozważanego parametru mają zmieniać się kolory punktów, których lista stanowi\n",
        "drugi argument funkcji.\n",
        "'''\n",
        "def get_colormap(values: list, colors_palette: list, name = 'custom'):\n",
        "    values = np.sort(np.array(values))\n",
        "    values = np.interp(values, (values.min(), values.max()), (0, 1))\n",
        "    cmap = mpl.colors.LinearSegmentedColormap.from_list(name, list(zip(values, colors_palette)))\n",
        "    return cmap"
      ]
    },
    {
      "cell_type": "code",
      "execution_count": null,
      "metadata": {
        "id": "5B6LUqwHVNIQ"
      },
      "outputs": [],
      "source": [
        "def plot_map(df: pd.DataFrame, parameter_name: str, colormap: mpl.colors.LinearSegmentedColormap, title: str,\n",
        "             point_size: int = 8, width: int = 800, height: int = 500, alpha: float = 1,\n",
        "             bgcolor: str = 'white', colorbar_verbose: bool = True):\n",
        "\n",
        "    gdf = gv.Points(df, ['lon', 'lat'], [parameter_name]) # obiekt zawierający punkty\n",
        "    tiles = gts.OSM # wybór mapy tła, w tym wypadku OpenStreetMap\n",
        "\n",
        "    # łączenie mapy tła z punktami i ustawienie wybranych parametrów wizualizacji\n",
        "    map_with_points = tiles * gdf.opts(\n",
        "        title=title,\n",
        "        color=parameter_name,\n",
        "        cmap=colormap,\n",
        "        size=point_size,\n",
        "        width=width,\n",
        "        height=height,\n",
        "        colorbar=colorbar_verbose,\n",
        "        toolbar='above',\n",
        "        tools=['hover', 'wheel_zoom', 'reset'],\n",
        "        alpha=alpha, # przezroczystość\n",
        "        bgcolor=bgcolor\n",
        "    )\n",
        "\n",
        "    return hv.render(map_with_points)"
      ]
    },
    {
      "cell_type": "markdown",
      "metadata": {
        "id": "5gj65YT4xYis"
      },
      "source": [
        "## Przedstawienie klastrów na mapach"
      ]
    },
    {
      "cell_type": "code",
      "execution_count": null,
      "metadata": {
        "id": "lQDMVRUDsQwr"
      },
      "outputs": [],
      "source": [
        "display(IFrame(\"https://www.google.com/maps/embed?pb=!1m14!1m12!1m3!1d13982681.959428234!2d-98.66341902257437!3d38.39997874427714!2m3!1f0!2f0!3f0!3m2!1i1024!2i768!4f13.1!5e1!3m2!1spl!2spl!4v1703000232420!5m2!1spl!2spl\", '800px', '500px'))"
      ]
    },
    {
      "cell_type": "code",
      "execution_count": null,
      "metadata": {
        "id": "UL0v1ID-VS3g"
      },
      "outputs": [],
      "source": [
        "colormap_cluster = get_colormap([0, max(output_df_2023_7.cluster.values)], ['yellow', 'darkgreen'])\n",
        "output_notebook()\n",
        "show(plot_map(df=output_df_2023_7, parameter_name='cluster', colormap=colormap_cluster, title=\"K-średnich dla danych z 01.07.2023 (wszystkie kolumny)\", alpha=0.5))"
      ]
    },
    {
      "cell_type": "code",
      "execution_count": null,
      "metadata": {
        "id": "9nBAAaWOrzv0"
      },
      "outputs": [],
      "source": [
        "colormap_cluster = get_colormap([0, max(output_df_2023_7_pca.cluster.values)], ['yellow', 'darkgreen'])\n",
        "output_notebook()\n",
        "show(plot_map(df=output_df_2023_7_pca, parameter_name='cluster', colormap=colormap_cluster, title=\"K-średnich dla danych z 01.07.2023 (PCA)\", alpha=0.5))"
      ]
    },
    {
      "cell_type": "code",
      "execution_count": null,
      "metadata": {
        "id": "NvIzYUYbTdO0"
      },
      "outputs": [],
      "source": [
        "colormap_cluster = get_colormap([0, max(output_df_2023_1.cluster.values)], ['yellow', 'darkgreen'])\n",
        "output_notebook()\n",
        "show(plot_map(df=output_df_2023_1, parameter_name='cluster', colormap=colormap_cluster, title=\"K-średnich dla danych z 01.01.2023 (wszystkie kolumny)\", alpha=0.5))"
      ]
    },
    {
      "cell_type": "code",
      "execution_count": null,
      "metadata": {
        "id": "hpBKwuvEo8ut"
      },
      "outputs": [],
      "source": [
        "colormap_cluster = get_colormap([0, max(output_df_2023_1_pca.cluster.values)], ['yellow', 'darkgreen'])\n",
        "output_notebook()\n",
        "show(plot_map(df=output_df_2023_1_pca, parameter_name='cluster', colormap=colormap_cluster, title=\"K-średnich dla danych z 01.01.2023 (PCA)\", alpha=0.5))"
      ]
    },
    {
      "cell_type": "code",
      "execution_count": null,
      "metadata": {
        "id": "Ji6d7nob2fSZ"
      },
      "outputs": [],
      "source": [
        "colormap_cluster = get_colormap([0, max(output_df_2000_7.cluster.values)], ['yellow', 'darkgreen'])\n",
        "output_notebook()\n",
        "show(plot_map(df=output_df_2000_7, parameter_name='cluster', colormap=colormap_cluster, title=\"K-średnich dla danych z 01.07.2000 (wszystkie kolumny)\", alpha=0.5))"
      ]
    },
    {
      "cell_type": "code",
      "execution_count": null,
      "metadata": {
        "id": "SpjqCp6N2wtB"
      },
      "outputs": [],
      "source": [
        "colormap_cluster = get_colormap([0, max(output_df_2000_7_pca.cluster.values)], ['yellow', 'darkgreen'])\n",
        "output_notebook()\n",
        "show(plot_map(df=output_df_2000_7_pca, parameter_name='cluster', colormap=colormap_cluster, title=\"K-średnich dla danych z 01.07.2000 (PCA)\", alpha=0.5))"
      ]
    },
    {
      "cell_type": "code",
      "execution_count": null,
      "metadata": {
        "id": "Mp0Tw7xN20PR"
      },
      "outputs": [],
      "source": [
        "colormap_cluster = get_colormap([0, max(output_df_2000_1.cluster.values)], ['yellow', 'darkgreen'])\n",
        "output_notebook()\n",
        "show(plot_map(df=output_df_2000_1, parameter_name='cluster', colormap=colormap_cluster, title=\"K-średnich dla danych z 01.01.2000 (wszystkie kolumny)\", alpha=0.5))"
      ]
    },
    {
      "cell_type": "code",
      "execution_count": null,
      "metadata": {
        "id": "1N0HIk4V25CC"
      },
      "outputs": [],
      "source": [
        "colormap_cluster = get_colormap([0, max(output_df_2000_1_pca.cluster.values)], ['yellow', 'darkgreen'])\n",
        "output_notebook()\n",
        "show(plot_map(df=output_df_2000_1_pca, parameter_name='cluster', colormap=colormap_cluster, title=\"K-średnich dla danych z 01.01.2000 (PCA)\", alpha=0.5))"
      ]
    },
    {
      "cell_type": "code",
      "execution_count": null,
      "metadata": {
        "id": "53-phzQ57f0H"
      },
      "outputs": [],
      "source": [
        "colormap_cluster = get_colormap([0, max(output_df_1979_7.cluster.values)], ['yellow', 'darkgreen'])\n",
        "output_notebook()\n",
        "show(plot_map(df=output_df_1979_7, parameter_name='cluster', colormap=colormap_cluster, title=\"K-średnich dla danych z 01.07.1979 (wszystkie kolumny)\", alpha=0.5))"
      ]
    },
    {
      "cell_type": "code",
      "execution_count": null,
      "metadata": {
        "id": "soiWUkBG7l-e"
      },
      "outputs": [],
      "source": [
        "colormap_cluster = get_colormap([0, max(output_df_1979_7_pca.cluster.values)], ['yellow', 'darkgreen'])\n",
        "output_notebook()\n",
        "show(plot_map(df=output_df_1979_7_pca, parameter_name='cluster', colormap=colormap_cluster, title=\"K-średnich dla danych z 01.07.1979 (PCA)\", alpha=0.5))"
      ]
    },
    {
      "cell_type": "code",
      "execution_count": null,
      "metadata": {
        "id": "Qgh3v2S07r3g"
      },
      "outputs": [],
      "source": [
        "colormap_cluster = get_colormap([0, max(output_df_1979_1.cluster.values)], ['yellow', 'darkgreen'])\n",
        "output_notebook()\n",
        "show(plot_map(df=output_df_1979_1, parameter_name='cluster', colormap=colormap_cluster, title=\"K-średnich dla danych z 01.01.1979 (wszystkie kolumny)\", alpha=0.5))"
      ]
    },
    {
      "cell_type": "code",
      "execution_count": null,
      "metadata": {
        "id": "4XVwmNe07o9X"
      },
      "outputs": [],
      "source": [
        "colormap_cluster = get_colormap([0, max(output_df_1979_1_pca.cluster.values)], ['yellow', 'darkgreen'])\n",
        "output_notebook()\n",
        "show(plot_map(df=output_df_1979_1_pca, parameter_name='cluster', colormap=colormap_cluster, title=\"K-średnich dla danych z 01.07.1979 (PCA)\", alpha=0.5))"
      ]
    },
    {
      "cell_type": "code",
      "execution_count": null,
      "metadata": {
        "id": "HdI1uHGD7zmK"
      },
      "outputs": [],
      "source": [
        "output_df_1979_7.head()"
      ]
    },
    {
      "cell_type": "code",
      "execution_count": null,
      "metadata": {
        "id": "pGcArnZvEZE4"
      },
      "outputs": [],
      "source": [
        "output_df_2000_7.head()"
      ]
    },
    {
      "cell_type": "code",
      "execution_count": null,
      "metadata": {
        "id": "O2VeJf5aE0GJ"
      },
      "outputs": [],
      "source": [
        "output_df_2023_7.head()"
      ]
    },
    {
      "cell_type": "markdown",
      "metadata": {
        "id": "MtCi9voSfGMV"
      },
      "source": [
        "# Porównanie punktów z 01.07.2023, 01.07.2000 i 01.07.1979."
      ]
    },
    {
      "cell_type": "markdown",
      "metadata": {
        "id": "Ukadrgu3ID6c"
      },
      "source": [
        "Oznaczenie:\n",
        "\n",
        "\n",
        "*   **0** - pustynia,\n",
        "*   **1** - niepustynia.\n",
        "\n"
      ]
    },
    {
      "cell_type": "code",
      "execution_count": null,
      "metadata": {
        "id": "N9_hRz9QE7TR"
      },
      "outputs": [],
      "source": [
        "merged_to_2023_7 = copy.deepcopy(output_df_2023_7)\n",
        "merged_to_2023_7[\"cluster_2000\"] = output_df_2000_7[\"cluster\"].apply(lambda x: 0 if x==1 else 1)\n",
        "merged_to_2023_7[\"cluster_1979\"] = output_df_1979_7[\"cluster\"]\n",
        "merged_to_2023_7.head(10)"
      ]
    },
    {
      "cell_type": "markdown",
      "metadata": {
        "id": "L_oL9wFgDHic"
      },
      "source": [
        "Sprawdźmy, które punkty były zakwalifikowane jako niepustynne w lipcu 2000, a stały się pustynią w lipcu 2023."
      ]
    },
    {
      "cell_type": "code",
      "execution_count": null,
      "metadata": {
        "id": "_vKQeRKQFoC4"
      },
      "outputs": [],
      "source": [
        "df_from_not_desert_to_desert = merged_to_2023_7.loc[(merged_to_2023_7[\"cluster\"]==0) & (merged_to_2023_7[\"cluster_2000\"]==1)].dropna()\n",
        "df_from_not_desert_to_desert"
      ]
    },
    {
      "cell_type": "code",
      "execution_count": null,
      "metadata": {
        "id": "3mnBZFi_zylt"
      },
      "outputs": [],
      "source": [
        "colormap_cluster = get_colormap([0, 1], ['yellow', 'darkgreen'])\n",
        "output_notebook()\n",
        "show(plot_map(df=df_from_not_desert_to_desert, parameter_name='cluster', colormap=colormap_cluster, title=\"Warunek: niepustynia w 01.07.2000 i pustynia w 01.07.2023\", alpha=0.5, colorbar_verbose=False))"
      ]
    },
    {
      "cell_type": "markdown",
      "metadata": {
        "id": "8HBMoz3lDmhE"
      },
      "source": [
        "Sprawdźmy, które punkty były zakwalifikowane jako niepustynne w lipcu 1979, a stały się pustynią w lipcu 2023."
      ]
    },
    {
      "cell_type": "code",
      "execution_count": null,
      "metadata": {
        "id": "xRaeZNErXxsb"
      },
      "outputs": [],
      "source": [
        "df_from_not_desert_to_desert = merged_to_2023_7.loc[(merged_to_2023_7[\"cluster\"]==0) & (merged_to_2023_7[\"cluster_1979\"]==1)].dropna()\n",
        "df_from_not_desert_to_desert"
      ]
    },
    {
      "cell_type": "code",
      "execution_count": null,
      "metadata": {
        "id": "RglTJyDdXzhb"
      },
      "outputs": [],
      "source": [
        "colormap_cluster = get_colormap([0, 1], ['yellow', 'darkgreen'])\n",
        "output_notebook()\n",
        "show(plot_map(df=df_from_not_desert_to_desert, parameter_name='cluster', colormap=colormap_cluster, title=\"Warunek: niepustynia w 01.07.1979 i pustynia w 01.07.2023\", alpha=0.5, colorbar_verbose=False))"
      ]
    },
    {
      "cell_type": "markdown",
      "metadata": {
        "id": "F0VcGoFHt4eP"
      },
      "source": [
        "Sprawdźmy, jak wyglądają punkty w lipcu 2023, które były zakwalifikowane jako niepustynne w lipcu 1979, a stały się pustynią w lipcu 2000."
      ]
    },
    {
      "cell_type": "code",
      "execution_count": null,
      "metadata": {
        "id": "2T1cOuWWt2ap"
      },
      "outputs": [],
      "source": [
        "df_from_not_desert_to_desert = merged_to_2023_7.loc[(merged_to_2023_7[\"cluster_2000\"]==0) & (merged_to_2023_7[\"cluster_1979\"]==1)].dropna()\n",
        "df_from_not_desert_to_desert"
      ]
    },
    {
      "cell_type": "code",
      "execution_count": null,
      "metadata": {
        "id": "s8H1Qat0uF0A"
      },
      "outputs": [],
      "source": [
        "colormap_cluster = get_colormap([0, 1], ['yellow', 'darkgreen'])\n",
        "output_notebook()\n",
        "show(plot_map(df=df_from_not_desert_to_desert, parameter_name='cluster', colormap=colormap_cluster, title=\"Warunek: niepustynia w 01.07.1979 i pustynia w 01.07.2000\", alpha=0.5))"
      ]
    },
    {
      "cell_type": "markdown",
      "metadata": {
        "id": "DfF9fYdnK4lk"
      },
      "source": [
        "\n",
        "\n",
        "*   **0** - pustynia w 01.07.2023,\n",
        "*   **1** - niepustynia w 01.07.2023.\n",
        "\n"
      ]
    },
    {
      "cell_type": "markdown",
      "metadata": {
        "id": "5NWIOGlIuiZQ"
      },
      "source": [
        "Widzimy, że niektóre punkty były zakwalifikowane jako niepustynne w lipcu 1997, następnie algorytm zakwalifikował je jako pustynne w lipcu 2000 po czym ponownie w lipcu 2023 zostały uznane za niepustynne."
      ]
    },
    {
      "cell_type": "markdown",
      "metadata": {
        "id": "z8-RkuFdw0DR"
      },
      "source": [
        "# Porównanie wyników grupowania z datasetem anotowanym."
      ]
    },
    {
      "cell_type": "markdown",
      "metadata": {
        "id": "VGZ678EhWVw1"
      },
      "source": [
        "Porównanie wyników grupowania metodą k-średnich z wykorzystaniem wszystkich kolumn dla danych z 01.07.2023 z danymi anotowanymi."
      ]
    },
    {
      "cell_type": "code",
      "execution_count": null,
      "metadata": {
        "id": "nnOfm6uaxtG4"
      },
      "outputs": [],
      "source": [
        "NASA_sample_an = pd.read_csv('/content/drive/MyDrive/BigMess/NASA/NASA_an.csv',sep=';')"
      ]
    },
    {
      "cell_type": "code",
      "execution_count": null,
      "metadata": {
        "id": "I79pO-lLN01F"
      },
      "outputs": [],
      "source": [
        "NASA_sample_an.head()"
      ]
    },
    {
      "cell_type": "markdown",
      "metadata": {
        "id": "UqkEci2nWr47"
      },
      "source": [
        "Ponieważ grupowaliśmy dane na dwa klastry, potraktujmy step jako pustynię."
      ]
    },
    {
      "cell_type": "code",
      "execution_count": null,
      "metadata": {
        "id": "idJycJhaUqDz"
      },
      "outputs": [],
      "source": [
        "NASA_sample_an['pustynia_i_step'] = NASA_sample_an.pustynia + NASA_sample_an.step"
      ]
    },
    {
      "cell_type": "code",
      "execution_count": null,
      "metadata": {
        "id": "PgCkgkUBU7Bj"
      },
      "outputs": [],
      "source": [
        "NASA_sample_an.head(8)"
      ]
    },
    {
      "cell_type": "markdown",
      "metadata": {
        "id": "41DqTsdEW_Zb"
      },
      "source": [
        "Zamiana oznaczeń, ponieważ są one odwrotne do tych w zbiorze *merged_to_2023_7*."
      ]
    },
    {
      "cell_type": "code",
      "execution_count": null,
      "metadata": {
        "id": "rKOmDOqdN5kE"
      },
      "outputs": [],
      "source": [
        "NASA_sample_an[\"pustynia_i_step\"] = NASA_sample_an[\"pustynia_i_step\"].apply(lambda x: 0 if x==1 else 1)"
      ]
    },
    {
      "cell_type": "code",
      "execution_count": null,
      "metadata": {
        "id": "qX93O64bRWOa"
      },
      "outputs": [],
      "source": [
        "result = merged_to_2023_7.merge(NASA_sample_an, left_on=['lon','lat'], right_on = ['lon','lat'], how='inner')\n",
        "result"
      ]
    },
    {
      "cell_type": "code",
      "execution_count": null,
      "metadata": {
        "id": "zV7EACU4SbvL"
      },
      "outputs": [],
      "source": [
        "colormap_cluster = get_colormap([0, 1], ['yellow', 'darkgreen'])\n",
        "output_notebook()\n",
        "show(plot_map(df=result, parameter_name='pustynia_i_step', colormap=colormap_cluster, title=\"Zanotowane punkty: 0 - pustynia, 1 - niepustynia\", alpha=0.5))"
      ]
    },
    {
      "cell_type": "code",
      "execution_count": null,
      "metadata": {
        "id": "62myd-G8RpdG"
      },
      "outputs": [],
      "source": [
        "positive = len(result.loc[result.cluster == result.pustynia_i_step])\n",
        "accuracy = str(round(positive/len(NASA_sample_an)*100,2))\n",
        "print(\"Accuracy na poziomie\",accuracy+\"%.\")"
      ]
    },
    {
      "cell_type": "markdown",
      "metadata": {
        "id": "MqiRLr0wXhaf"
      },
      "source": [
        "Gdybyśmy jednak potraktowali step jako teren niepustynny..."
      ]
    },
    {
      "cell_type": "code",
      "execution_count": null,
      "metadata": {
        "id": "yaA2ioIjSIY1"
      },
      "outputs": [],
      "source": [
        "positive = len(result.loc[result.cluster != result.pustynia])\n",
        "accuracy = str(round(positive/len(NASA_sample_an)*100,2))\n",
        "print(\"Accuracy na poziomie\",accuracy+\"%.\")"
      ]
    },
    {
      "cell_type": "markdown",
      "metadata": {
        "id": "N4Rj0pagZAIM"
      },
      "source": [
        "Oznacza to, że algorytm potraktował większą część **stepu** jako **pustynię**."
      ]
    },
    {
      "cell_type": "code",
      "execution_count": null,
      "metadata": {
        "id": "rwN24ecKYqou"
      },
      "outputs": [],
      "source": [
        "merged_to_2023_7_pca = copy.deepcopy(output_df_2023_7_pca)\n",
        "merged_to_2023_7_pca[\"cluster_2000\"] = output_df_2000_7_pca[\"cluster\"].apply(lambda x: 0 if x==1 else 1)\n",
        "merged_to_2023_7_pca[\"cluster_1979\"] = output_df_1979_7_pca[\"cluster\"]\n",
        "merged_to_2023_7_pca.head(10)"
      ]
    },
    {
      "cell_type": "markdown",
      "metadata": {
        "id": "uQITefeeaAs6"
      },
      "source": [
        "Porównanie wyników grupowania metodą k-średnich z wykorzystaniem PCA dla danych z 01.07.2023 z danymi anotowanymi."
      ]
    },
    {
      "cell_type": "code",
      "execution_count": null,
      "metadata": {
        "id": "XuTGDZZ6Y4Ey"
      },
      "outputs": [],
      "source": [
        "result_pca = merged_to_2023_7_pca.merge(NASA_sample_an, left_on=['lon','lat'], right_on = ['lon','lat'], how='inner')\n",
        "result_pca"
      ]
    },
    {
      "cell_type": "code",
      "execution_count": null,
      "metadata": {
        "id": "Dc9a0NrgZnll"
      },
      "outputs": [],
      "source": [
        "positive = len(result_pca.loc[result_pca.cluster == result_pca.pustynia_i_step])\n",
        "accuracy = str(round(positive/len(NASA_sample_an)*100,2))\n",
        "print(\"Accuracy na poziomie\",accuracy+\"%.\")"
      ]
    },
    {
      "cell_type": "markdown",
      "metadata": {
        "id": "n1TRRXERaI-j"
      },
      "source": [
        "Gdybyśmy jednak potraktowali step jako teren niepustynny..."
      ]
    },
    {
      "cell_type": "code",
      "execution_count": null,
      "metadata": {
        "id": "SUS9_sT6Zu4i"
      },
      "outputs": [],
      "source": [
        "positive = len(result_pca.loc[result_pca.cluster != result_pca.pustynia])\n",
        "accuracy = str(round(positive/len(NASA_sample_an)*100,2))\n",
        "print(\"Accuracy na poziomie\",accuracy+\"%.\")"
      ]
    },
    {
      "cell_type": "markdown",
      "metadata": {
        "id": "CoFLv0YSa2oy"
      },
      "source": [
        "# Podsumowanie dotychczasowych wyników"
      ]
    },
    {
      "cell_type": "markdown",
      "metadata": {
        "id": "-tPuWLI3a66i"
      },
      "source": [
        "\n",
        "\n",
        "1.   Grupowanie metodą k-średnich wykorzystując dane z okresów zimowych, przy aktualnie wybranych kolumnach, nie przynosi więszkych efektów.\n",
        "2.   Porównując wyniki algorytmu dla danych z 01.07.2023, 01.07.2000 i 01.07.1979 można zauważyć, że niektóre punkty zmieniły swój stan z niepustynii na pustynię. Są również punkty, które na przestrzeni lat zmieniały swój stan więcej niż jeden raz (punkty te mogą posłużyć jako początek szczegółowej analizy zmian w wartościach wybranych wskaźników, które przyczynniły się do pustynnienia).\n",
        "3.   W ostatniej części, porównując wyniki z datasetem anotowanym i traktując step jako pustynię, otrzymujemy accuracy na poziomie **89%**. Jeśli uznalibyśmy step jako teren niepustynny, accuracy spada do **77,8%**. Warto tutaj podkreślić, że grupowanie było dokonane na podstawie wszystkich punktów (włącznie z tymi anotowanymi).\n",
        "\n",
        "\n",
        "\n",
        "\n"
      ]
    },
    {
      "cell_type": "markdown",
      "metadata": {
        "id": "FxBt7gegwq7k"
      },
      "source": [
        "# Analiza po miesiącach"
      ]
    },
    {
      "cell_type": "markdown",
      "metadata": {
        "id": "qIw1qwCDyqX7"
      },
      "source": [
        "Ponieważ w poprzedniej części zadania grupowaliśmy dane pochodzące tylko z wybranych miesięcy, rozszerzymy teraz analizę dokonując klasteryzacji na danych z innych miesięcy. **Chcemy zbadać wpływ danych z ostatnich dwunastu miesięcy na wyniki grupowania.**"
      ]
    },
    {
      "cell_type": "markdown",
      "metadata": {
        "id": "bUk6bqfQznur"
      },
      "source": [
        "## Grupowanie k-średnich"
      ]
    },
    {
      "cell_type": "markdown",
      "metadata": {
        "id": "_5mtzmjTyIDq"
      },
      "source": [
        "### Dane z 01.09.2023"
      ]
    },
    {
      "cell_type": "code",
      "execution_count": null,
      "metadata": {
        "id": "fA__Sun80UhK"
      },
      "outputs": [],
      "source": [
        "SparkDataFrame_2023_9 = spark.sql(\"\"\"\n",
        "                        SELECT\n",
        "                        *\n",
        "                        FROM nasa_ym WHERE (Year == 2023) and (Month == 9)\n",
        "                        order by lon, lat, Year, Month\n",
        "                        \"\"\")"
      ]
    },
    {
      "cell_type": "code",
      "execution_count": null,
      "metadata": {
        "id": "tS6yKDXz0UhZ"
      },
      "outputs": [],
      "source": [
        "df_2023_9 = SparkDataFrame_2023_9.toPandas()"
      ]
    },
    {
      "cell_type": "code",
      "execution_count": null,
      "metadata": {
        "id": "zOvS1GuF0UhZ"
      },
      "outputs": [],
      "source": [
        "scaled_df_2023_9 = MinMaxScaling(df_2023_9, ['Evap', 'Rainf', 'AvgSurfT', 'Albedo', 'SoilM_100_200cm', 'GVEG', 'PotEvap', 'RootMoist', 'SoilT_10_40cm'])"
      ]
    },
    {
      "cell_type": "code",
      "execution_count": null,
      "metadata": {
        "id": "mVY5h2GH0UhZ"
      },
      "outputs": [],
      "source": [
        "output_df_2023_9 = do_kmeans_and_return_df_with_cluster_column(df_2023_9, scaled_df_2023_9, 2, 123)"
      ]
    },
    {
      "cell_type": "markdown",
      "metadata": {
        "id": "ARfJcl-tyR2m"
      },
      "source": [
        "### Dane z 01.08.2023"
      ]
    },
    {
      "cell_type": "code",
      "execution_count": null,
      "metadata": {
        "id": "hnZwzakd2_Um"
      },
      "outputs": [],
      "source": [
        "SparkDataFrame_2023_8 = spark.sql(\"\"\"\n",
        "                        SELECT\n",
        "                        *\n",
        "                        FROM nasa_ym WHERE (Year == 2023) and (Month == 8)\n",
        "                        order by lon, lat, Year, Month\n",
        "                        \"\"\")"
      ]
    },
    {
      "cell_type": "code",
      "execution_count": null,
      "metadata": {
        "id": "s6i2OKv22_Um"
      },
      "outputs": [],
      "source": [
        "df_2023_8 = SparkDataFrame_2023_8.toPandas()"
      ]
    },
    {
      "cell_type": "code",
      "execution_count": null,
      "metadata": {
        "id": "lf9rOtet2_Um"
      },
      "outputs": [],
      "source": [
        "scaled_df_2023_8 = MinMaxScaling(df_2023_8, ['Evap', 'Rainf', 'AvgSurfT', 'Albedo', 'SoilM_100_200cm', 'GVEG', 'PotEvap', 'RootMoist', 'SoilT_10_40cm'])"
      ]
    },
    {
      "cell_type": "code",
      "execution_count": null,
      "metadata": {
        "id": "IKkSFMAj2_Um"
      },
      "outputs": [],
      "source": [
        "output_df_2023_8 = do_kmeans_and_return_df_with_cluster_column(df_2023_8, scaled_df_2023_8, 2, 123)"
      ]
    },
    {
      "cell_type": "markdown",
      "metadata": {
        "id": "mwP04PwBySKj"
      },
      "source": [
        "### Dane z 01.06.2023"
      ]
    },
    {
      "cell_type": "code",
      "execution_count": null,
      "metadata": {
        "id": "Zi4dgARu3n7-"
      },
      "outputs": [],
      "source": [
        "SparkDataFrame_2023_6 = spark.sql(\"\"\"\n",
        "                        SELECT\n",
        "                        *\n",
        "                        FROM nasa_ym WHERE (Year == 2023) and (Month == 6)\n",
        "                        order by lon, lat, Year, Month\n",
        "                        \"\"\")"
      ]
    },
    {
      "cell_type": "code",
      "execution_count": null,
      "metadata": {
        "id": "YptEcySL3n7-"
      },
      "outputs": [],
      "source": [
        "df_2023_6 = SparkDataFrame_2023_6.toPandas()"
      ]
    },
    {
      "cell_type": "code",
      "execution_count": null,
      "metadata": {
        "id": "g8DsZ2ra3n7-"
      },
      "outputs": [],
      "source": [
        "scaled_df_2023_6 = MinMaxScaling(df_2023_6, ['Evap', 'Rainf', 'AvgSurfT', 'Albedo', 'SoilM_100_200cm', 'GVEG', 'PotEvap', 'RootMoist', 'SoilT_10_40cm'])"
      ]
    },
    {
      "cell_type": "code",
      "execution_count": null,
      "metadata": {
        "id": "0lCUd_Qs3n7_"
      },
      "outputs": [],
      "source": [
        "output_df_2023_6 = do_kmeans_and_return_df_with_cluster_column(df_2023_6, scaled_df_2023_6, 2, 123)"
      ]
    },
    {
      "cell_type": "markdown",
      "metadata": {
        "id": "2xO14U02ySXh"
      },
      "source": [
        "### Dane z 01.05.2023"
      ]
    },
    {
      "cell_type": "code",
      "execution_count": null,
      "metadata": {
        "id": "OPcM3Lv13y0y"
      },
      "outputs": [],
      "source": [
        "SparkDataFrame_2023_5 = spark.sql(\"\"\"\n",
        "                        SELECT\n",
        "                        *\n",
        "                        FROM nasa_ym WHERE (Year == 2023) and (Month == 5)\n",
        "                        order by lon, lat, Year, Month\n",
        "                        \"\"\")"
      ]
    },
    {
      "cell_type": "code",
      "execution_count": null,
      "metadata": {
        "id": "ejGt73dz3y0z"
      },
      "outputs": [],
      "source": [
        "df_2023_5 = SparkDataFrame_2023_5.toPandas()"
      ]
    },
    {
      "cell_type": "code",
      "execution_count": null,
      "metadata": {
        "id": "PMni_IzU3y0z"
      },
      "outputs": [],
      "source": [
        "scaled_df_2023_5 = MinMaxScaling(df_2023_5, ['Evap', 'Rainf', 'AvgSurfT', 'Albedo', 'SoilM_100_200cm', 'GVEG', 'PotEvap', 'RootMoist', 'SoilT_10_40cm'])"
      ]
    },
    {
      "cell_type": "code",
      "execution_count": null,
      "metadata": {
        "id": "svXA0sfH3y0z"
      },
      "outputs": [],
      "source": [
        "output_df_2023_5 = do_kmeans_and_return_df_with_cluster_column(df_2023_5, scaled_df_2023_5, 2, 123)"
      ]
    },
    {
      "cell_type": "markdown",
      "metadata": {
        "id": "2GFQ78ysyS2k"
      },
      "source": [
        "### Dane z 01.04.2023"
      ]
    },
    {
      "cell_type": "code",
      "execution_count": null,
      "metadata": {
        "id": "dVk5CQLg39wd"
      },
      "outputs": [],
      "source": [
        "SparkDataFrame_2023_4 = spark.sql(\"\"\"\n",
        "                        SELECT\n",
        "                        *\n",
        "                        FROM nasa_ym WHERE (Year == 2023) and (Month == 4)\n",
        "                        order by lon, lat, Year, Month\n",
        "                        \"\"\")"
      ]
    },
    {
      "cell_type": "code",
      "execution_count": null,
      "metadata": {
        "id": "6um_O65r39wd"
      },
      "outputs": [],
      "source": [
        "df_2023_4 = SparkDataFrame_2023_4.toPandas()"
      ]
    },
    {
      "cell_type": "code",
      "execution_count": null,
      "metadata": {
        "id": "zmYYKkWz39wd"
      },
      "outputs": [],
      "source": [
        "scaled_df_2023_4 = MinMaxScaling(df_2023_4, ['Evap', 'Rainf', 'AvgSurfT', 'Albedo', 'SoilM_100_200cm', 'GVEG', 'PotEvap', 'RootMoist', 'SoilT_10_40cm'])"
      ]
    },
    {
      "cell_type": "code",
      "execution_count": null,
      "metadata": {
        "id": "eyHM_mYC39wd"
      },
      "outputs": [],
      "source": [
        "output_df_2023_4 = do_kmeans_and_return_df_with_cluster_column(df_2023_4, scaled_df_2023_4, 2, 123)"
      ]
    },
    {
      "cell_type": "markdown",
      "metadata": {
        "id": "FEqRtIrpyS6d"
      },
      "source": [
        "### Dane z 01.03.2023"
      ]
    },
    {
      "cell_type": "code",
      "execution_count": null,
      "metadata": {
        "id": "ZJrnsDR14IEA"
      },
      "outputs": [],
      "source": [
        "SparkDataFrame_2023_3 = spark.sql(\"\"\"\n",
        "                        SELECT\n",
        "                        *\n",
        "                        FROM nasa_ym WHERE (Year == 2023) and (Month == 3)\n",
        "                        order by lon, lat, Year, Month\n",
        "                        \"\"\")"
      ]
    },
    {
      "cell_type": "code",
      "execution_count": null,
      "metadata": {
        "id": "25KyB4Vl4IEB"
      },
      "outputs": [],
      "source": [
        "df_2023_3 = SparkDataFrame_2023_3.toPandas()"
      ]
    },
    {
      "cell_type": "code",
      "execution_count": null,
      "metadata": {
        "id": "PObSQZCs4IEB"
      },
      "outputs": [],
      "source": [
        "scaled_df_2023_3 = MinMaxScaling(df_2023_3, ['Evap', 'Rainf', 'AvgSurfT', 'Albedo', 'SoilM_100_200cm', 'GVEG', 'PotEvap', 'RootMoist', 'SoilT_10_40cm'])"
      ]
    },
    {
      "cell_type": "code",
      "execution_count": null,
      "metadata": {
        "id": "CjkwQv5z4IEB"
      },
      "outputs": [],
      "source": [
        "output_df_2023_3 = do_kmeans_and_return_df_with_cluster_column(df_2023_3, scaled_df_2023_3, 2, 123)"
      ]
    },
    {
      "cell_type": "markdown",
      "metadata": {
        "id": "0JAPKreOyS9n"
      },
      "source": [
        "### Dane z 01.02.2023"
      ]
    },
    {
      "cell_type": "code",
      "execution_count": null,
      "metadata": {
        "id": "fqo6odwm4Qpc"
      },
      "outputs": [],
      "source": [
        "SparkDataFrame_2023_2 = spark.sql(\"\"\"\n",
        "                        SELECT\n",
        "                        *\n",
        "                        FROM nasa_ym WHERE (Year == 2023) and (Month == 2)\n",
        "                        order by lon, lat, Year, Month\n",
        "                        \"\"\")"
      ]
    },
    {
      "cell_type": "code",
      "execution_count": null,
      "metadata": {
        "id": "PHQ8UHTy4Qpc"
      },
      "outputs": [],
      "source": [
        "df_2023_2 = SparkDataFrame_2023_2.toPandas()"
      ]
    },
    {
      "cell_type": "code",
      "execution_count": null,
      "metadata": {
        "id": "rq21g72L4Qpc"
      },
      "outputs": [],
      "source": [
        "scaled_df_2023_2 = MinMaxScaling(df_2023_2, ['Evap', 'Rainf', 'AvgSurfT', 'Albedo', 'SoilM_100_200cm', 'GVEG', 'PotEvap', 'RootMoist', 'SoilT_10_40cm'])"
      ]
    },
    {
      "cell_type": "code",
      "execution_count": null,
      "metadata": {
        "id": "TaAe1c8C4Qpc"
      },
      "outputs": [],
      "source": [
        "output_df_2023_2 = do_kmeans_and_return_df_with_cluster_column(df_2023_2, scaled_df_2023_2, 2, 123)"
      ]
    },
    {
      "cell_type": "markdown",
      "metadata": {
        "id": "LqexCt3qydUv"
      },
      "source": [
        "### Dane z 01.12.2022"
      ]
    },
    {
      "cell_type": "code",
      "execution_count": null,
      "metadata": {
        "id": "jhaZttVQVL9Q"
      },
      "outputs": [],
      "source": [
        "SparkDataFrame_2022_12 = spark.sql(\"\"\"\n",
        "                        SELECT\n",
        "                        *\n",
        "                        FROM nasa_ym WHERE (Year == 2022) and (Month == 12)\n",
        "                        order by lon, lat, Year, Month\n",
        "                        \"\"\")"
      ]
    },
    {
      "cell_type": "code",
      "execution_count": null,
      "metadata": {
        "id": "7kpqXqQ0VL9R"
      },
      "outputs": [],
      "source": [
        "df_2022_12 = SparkDataFrame_2022_12.toPandas()"
      ]
    },
    {
      "cell_type": "code",
      "execution_count": null,
      "metadata": {
        "id": "hfySXJFcVL9R"
      },
      "outputs": [],
      "source": [
        "scaled_df_2022_12 = MinMaxScaling(df_2022_12, ['Evap', 'Rainf', 'AvgSurfT', 'Albedo', 'SoilM_100_200cm', 'GVEG', 'PotEvap', 'RootMoist', 'SoilT_10_40cm'])"
      ]
    },
    {
      "cell_type": "code",
      "execution_count": null,
      "metadata": {
        "id": "HVMIMlZRVL9R"
      },
      "outputs": [],
      "source": [
        "output_df_2022_12 = do_kmeans_and_return_df_with_cluster_column(df_2022_12, scaled_df_2022_12, 2, 123)"
      ]
    },
    {
      "cell_type": "markdown",
      "metadata": {
        "id": "eqdtVJ-ByhKM"
      },
      "source": [
        "### Dane z 01.11.2022"
      ]
    },
    {
      "cell_type": "code",
      "execution_count": null,
      "metadata": {
        "id": "n_EHziVSVm5Z"
      },
      "outputs": [],
      "source": [
        "SparkDataFrame_2022_11 = spark.sql(\"\"\"\n",
        "                        SELECT\n",
        "                        *\n",
        "                        FROM nasa_ym WHERE (Year == 2022) and (Month == 11)\n",
        "                        order by lon, lat, Year, Month\n",
        "                        \"\"\")"
      ]
    },
    {
      "cell_type": "code",
      "execution_count": null,
      "metadata": {
        "id": "OB1E4tXZVm5a"
      },
      "outputs": [],
      "source": [
        "df_2022_11 = SparkDataFrame_2022_11.toPandas()"
      ]
    },
    {
      "cell_type": "code",
      "execution_count": null,
      "metadata": {
        "id": "q0CV2BK-Vm5a"
      },
      "outputs": [],
      "source": [
        "scaled_df_2022_11 = MinMaxScaling(df_2022_11, ['Evap', 'Rainf', 'AvgSurfT', 'Albedo', 'SoilM_100_200cm', 'GVEG', 'PotEvap', 'RootMoist', 'SoilT_10_40cm'])"
      ]
    },
    {
      "cell_type": "code",
      "execution_count": null,
      "metadata": {
        "id": "VSexCC1XVm5a"
      },
      "outputs": [],
      "source": [
        "output_df_2022_11 = do_kmeans_and_return_df_with_cluster_column(df_2022_11, scaled_df_2022_11, 2, 123)"
      ]
    },
    {
      "cell_type": "markdown",
      "metadata": {
        "id": "UJopAzxMyl8e"
      },
      "source": [
        "### Dane z 01.10.2022"
      ]
    },
    {
      "cell_type": "code",
      "execution_count": null,
      "metadata": {
        "id": "6LEz-C3TVrt1"
      },
      "outputs": [],
      "source": [
        "SparkDataFrame_2022_10 = spark.sql(\"\"\"\n",
        "                        SELECT\n",
        "                        *\n",
        "                        FROM nasa_ym WHERE (Year == 2022) and (Month == 10)\n",
        "                        order by lon, lat, Year, Month\n",
        "                        \"\"\")"
      ]
    },
    {
      "cell_type": "code",
      "execution_count": null,
      "metadata": {
        "id": "ltURTJcPVrt2"
      },
      "outputs": [],
      "source": [
        "df_2022_10 = SparkDataFrame_2022_10.toPandas()"
      ]
    },
    {
      "cell_type": "code",
      "execution_count": null,
      "metadata": {
        "id": "XVSreiabVrt2"
      },
      "outputs": [],
      "source": [
        "scaled_df_2022_10 = MinMaxScaling(df_2022_10, ['Evap', 'Rainf', 'AvgSurfT', 'Albedo', 'SoilM_100_200cm', 'GVEG', 'PotEvap', 'RootMoist', 'SoilT_10_40cm'])"
      ]
    },
    {
      "cell_type": "code",
      "execution_count": null,
      "metadata": {
        "id": "_hXI5B-SVrt2"
      },
      "outputs": [],
      "source": [
        "output_df_2022_10 = do_kmeans_and_return_df_with_cluster_column(df_2022_10, scaled_df_2022_10, 2, 123)"
      ]
    },
    {
      "cell_type": "markdown",
      "metadata": {
        "id": "PTcBqGpDWXdS"
      },
      "source": [
        "## Przedstawienie klastrów na mapach"
      ]
    },
    {
      "cell_type": "code",
      "execution_count": null,
      "metadata": {
        "id": "YItKtwx5ca3v"
      },
      "outputs": [],
      "source": [
        "display(IFrame(\"https://www.google.com/maps/embed?pb=!1m14!1m12!1m3!1d13982681.959428234!2d-98.66341902257437!3d38.39997874427714!2m3!1f0!2f0!3f0!3m2!1i1024!2i768!4f13.1!5e1!3m2!1spl!2spl!4v1703000232420!5m2!1spl!2spl\", '800px', '500px'))"
      ]
    },
    {
      "cell_type": "code",
      "execution_count": null,
      "metadata": {
        "id": "eLoDIuz24fZT"
      },
      "outputs": [],
      "source": [
        "colormap_cluster = get_colormap([0, max(output_df_2023_9.cluster.values)], ['yellow', 'darkgreen'])\n",
        "output_notebook()\n",
        "show(plot_map(df=output_df_2023_9, parameter_name='cluster', colormap=colormap_cluster, title=\"K-średnich dla danych z 01.09.2023\", alpha=0.5))"
      ]
    },
    {
      "cell_type": "code",
      "execution_count": null,
      "metadata": {
        "id": "CwQwfc204pni"
      },
      "outputs": [],
      "source": [
        "colormap_cluster = get_colormap([0, max(output_df_2023_8.cluster.values)], ['yellow', 'darkgreen'])\n",
        "output_notebook()\n",
        "show(plot_map(df=output_df_2023_8, parameter_name='cluster', colormap=colormap_cluster, title=\"K-średnich dla danych z 01.08.2023\", alpha=0.5))"
      ]
    },
    {
      "cell_type": "code",
      "execution_count": null,
      "metadata": {
        "id": "pjqkg0GeckyP"
      },
      "outputs": [],
      "source": [
        "colormap_cluster = get_colormap([0, max(output_df_2023_7.cluster.values)], ['yellow', 'darkgreen'])\n",
        "output_notebook()\n",
        "show(plot_map(df=output_df_2023_7, parameter_name='cluster', colormap=colormap_cluster, title=\"K-średnich dla danych z 01.07.2023\", alpha=0.5))"
      ]
    },
    {
      "cell_type": "code",
      "execution_count": null,
      "metadata": {
        "id": "A468nvw44qUD"
      },
      "outputs": [],
      "source": [
        "colormap_cluster = get_colormap([0, max(output_df_2023_6.cluster.values)], ['yellow', 'darkgreen'])\n",
        "output_notebook()\n",
        "show(plot_map(df=output_df_2023_6, parameter_name='cluster', colormap=colormap_cluster, title=\"K-średnich dla danych z 01.06.2023\", alpha=0.5))"
      ]
    },
    {
      "cell_type": "code",
      "execution_count": null,
      "metadata": {
        "id": "Lw5lXt-T4rQv"
      },
      "outputs": [],
      "source": [
        "colormap_cluster = get_colormap([0, max(output_df_2023_5.cluster.values)], ['yellow', 'darkgreen'])\n",
        "output_notebook()\n",
        "show(plot_map(df=output_df_2023_5, parameter_name='cluster', colormap=colormap_cluster, title=\"K-średnich dla danych z 01.05.2023\", alpha=0.5))"
      ]
    },
    {
      "cell_type": "code",
      "execution_count": null,
      "metadata": {
        "id": "Tb2Bp0-t4rz6"
      },
      "outputs": [],
      "source": [
        "colormap_cluster = get_colormap([0, max(output_df_2023_4.cluster.values)], ['yellow', 'darkgreen'])\n",
        "output_notebook()\n",
        "show(plot_map(df=output_df_2023_4, parameter_name='cluster', colormap=colormap_cluster, title=\"K-średnich dla danych z 01.04.2023\", alpha=0.5))"
      ]
    },
    {
      "cell_type": "code",
      "execution_count": null,
      "metadata": {
        "id": "vXSQp0i74sWS"
      },
      "outputs": [],
      "source": [
        "colormap_cluster = get_colormap([0, max(output_df_2023_3.cluster.values)], ['yellow', 'darkgreen'])\n",
        "output_notebook()\n",
        "show(plot_map(df=output_df_2023_3, parameter_name='cluster', colormap=colormap_cluster, title=\"K-średnich dla danych z 01.03.2023\", alpha=0.5))"
      ]
    },
    {
      "cell_type": "code",
      "execution_count": null,
      "metadata": {
        "id": "_5giD45L4tAT"
      },
      "outputs": [],
      "source": [
        "colormap_cluster = get_colormap([0, max(output_df_2023_2.cluster.values)], ['yellow', 'darkgreen'])\n",
        "output_notebook()\n",
        "show(plot_map(df=output_df_2023_2, parameter_name='cluster', colormap=colormap_cluster, title=\"K-średnich dla danych z 01.02.2023\", alpha=0.5))"
      ]
    },
    {
      "cell_type": "code",
      "execution_count": null,
      "metadata": {
        "id": "95X5aqa0ezd_"
      },
      "outputs": [],
      "source": [
        "colormap_cluster = get_colormap([0, max(output_df_2023_1.cluster.values)], ['yellow', 'darkgreen'])\n",
        "output_notebook()\n",
        "show(plot_map(df=output_df_2023_1, parameter_name='cluster', colormap=colormap_cluster, title=\"K-średnich dla danych z 01.01.2023\", alpha=0.5))"
      ]
    },
    {
      "cell_type": "code",
      "execution_count": null,
      "metadata": {
        "id": "BzNwpsksVL9R"
      },
      "outputs": [],
      "source": [
        "colormap_cluster = get_colormap([0, max(output_df_2022_12.cluster.values)], ['yellow', 'darkgreen'])\n",
        "output_notebook()\n",
        "show(plot_map(df=output_df_2022_12, parameter_name='cluster', colormap=colormap_cluster, title=\"K-średnich dla danych z 01.12.2022\", alpha=0.5))"
      ]
    },
    {
      "cell_type": "code",
      "execution_count": null,
      "metadata": {
        "id": "1AyxsF3NVm5a"
      },
      "outputs": [],
      "source": [
        "colormap_cluster = get_colormap([0, max(output_df_2022_11.cluster.values)], ['yellow', 'darkgreen'])\n",
        "output_notebook()\n",
        "show(plot_map(df=output_df_2022_11, parameter_name='cluster', colormap=colormap_cluster, title=\"K-średnich dla danych z 01.11.2022\", alpha=0.5))"
      ]
    },
    {
      "cell_type": "code",
      "execution_count": null,
      "metadata": {
        "id": "TTlp_LA0Vrt2"
      },
      "outputs": [],
      "source": [
        "colormap_cluster = get_colormap([0, max(output_df_2022_10.cluster.values)], ['yellow', 'darkgreen'])\n",
        "output_notebook()\n",
        "show(plot_map(df=output_df_2022_10, parameter_name='cluster', colormap=colormap_cluster, title=\"K-średnich dla danych z 01.10.2022\", alpha=0.5))"
      ]
    },
    {
      "cell_type": "markdown",
      "metadata": {
        "id": "adO8onnkfxTp"
      },
      "source": [
        "## Porównianie wyników z datasetem anotowanym"
      ]
    },
    {
      "cell_type": "markdown",
      "metadata": {
        "id": "mFl4S8auglBL"
      },
      "source": [
        "Porównajmy wyniki grupowań dla tych modeli, dla których graficzne przedstawienie klastrów w pewnym stopniu przypomina kształt pustyni."
      ]
    },
    {
      "cell_type": "code",
      "execution_count": null,
      "metadata": {
        "id": "Pl6AxyHYf217"
      },
      "outputs": [],
      "source": [
        "results = pd.DataFrame(\n",
        "    {\"lon\": output_df_2023_9[\"lon\"],\n",
        "    \"lat\": output_df_2023_9[\"lat\"],\n",
        "    \"cluster_2023_9\": output_df_2023_9[\"cluster\"].apply(lambda x: 0 if x==1 else 1),\n",
        "    \"cluster_2023_8\": output_df_2023_8[\"cluster\"].apply(lambda x: 0 if x==1 else 1),\n",
        "    \"cluster_2023_7\": output_df_2023_7[\"cluster\"],\n",
        "    \"cluster_2023_6\": output_df_2023_6[\"cluster\"],\n",
        "    \"cluster_2023_5\": output_df_2023_5[\"cluster\"],\n",
        "    \"cluster_2022_10\": output_df_2022_10[\"cluster\"].apply(lambda x: 0 if x==1 else 1)})"
      ]
    },
    {
      "cell_type": "code",
      "execution_count": null,
      "metadata": {
        "id": "Pvaj5PDIhw2d"
      },
      "outputs": [],
      "source": [
        "results_with_an_pd = results.merge(NASA_sample_an[[\"lon\", \"lat\", \"pustynia_i_step\"]], left_on=['lon','lat'], right_on = ['lon','lat'], how='inner')\n",
        "results_with_an_pd.head()"
      ]
    },
    {
      "cell_type": "code",
      "execution_count": null,
      "metadata": {
        "id": "q3RkjSG8pTbw"
      },
      "outputs": [],
      "source": [
        "wyniki = pd.DataFrame({\"Name\": [\"cluster_2023_9\",\"cluster_2023_8\",\"cluster_2023_7\",\"cluster_2023_6\",\"cluster_2023_5\",\"cluster_2022_10\"]})\n",
        "wyniki[\"Accuracy [%]\"] = wyniki[\"Name\"].apply(lambda name: round(accuracy_score(results_with_an_pd[\"pustynia_i_step\"],results_with_an_pd[name])*100, 2))\n",
        "wyniki[\"Precision [%]\"] = wyniki[\"Name\"].apply(lambda name: round(precision_score(results_with_an_pd[\"pustynia_i_step\"],results_with_an_pd[name])*100, 2))\n",
        "wyniki[\"Recall [%]\"] = wyniki[\"Name\"].apply(lambda name: round(recall_score(results_with_an_pd[\"pustynia_i_step\"],results_with_an_pd[name])*100, 2))\n",
        "wyniki[\"F1-Score [%]\"] = wyniki[\"Name\"].apply(lambda name: round(f1_score(results_with_an_pd[\"pustynia_i_step\"],results_with_an_pd[name])*100, 2))\n",
        "wyniki.sort_values(by=['Accuracy [%]'], ascending=False)"
      ]
    },
    {
      "cell_type": "markdown",
      "metadata": {
        "id": "XGJ_QWGuuNqo"
      },
      "source": [
        "Jak widzimy model wytrenowany na danych z lipca 2023 poradził sobie najlepiej z datasetem anotowanym."
      ]
    },
    {
      "cell_type": "markdown",
      "metadata": {
        "id": "bwHj4doau1Mu"
      },
      "source": [
        "# Wykorzystanie najlepszego modelu do grupowania danych z innych miesięcy"
      ]
    },
    {
      "cell_type": "markdown",
      "metadata": {
        "id": "_K2Gw5wD1MyT"
      },
      "source": [
        "Celem tej analizy jest wykorzystanie najlepszego modelu, którym jest model wytrenowany na danych z lipca 2023, do predykcji danych z innych miesięcy."
      ]
    },
    {
      "cell_type": "code",
      "execution_count": null,
      "metadata": {
        "id": "1nVnCPUSvGOi"
      },
      "outputs": [],
      "source": [
        "kmeans = KMeans(n_clusters = 2, init='k-means++', random_state=123)\n",
        "kmeans.fit(scaled_df_2023_7)"
      ]
    },
    {
      "cell_type": "code",
      "execution_count": null,
      "metadata": {
        "id": "sp_NhTSoy_JL"
      },
      "outputs": [],
      "source": [
        "results_with_best_model = pd.DataFrame(\n",
        "    {\"lon\": output_df_2023_9[\"lon\"],\n",
        "    \"lat\": output_df_2023_9[\"lat\"],\n",
        "     \"cluster_2023_9\": kmeans.predict(scaled_df_2023_9),\n",
        "     \"cluster_2023_8\": kmeans.predict(scaled_df_2023_8),\n",
        "     \"cluster_2023_7\": kmeans.predict(scaled_df_2023_7),\n",
        "     \"cluster_2023_6\": kmeans.predict(scaled_df_2023_6),\n",
        "     \"cluster_2023_5\": kmeans.predict(scaled_df_2023_5),\n",
        "     \"cluster_2023_4\": kmeans.predict(scaled_df_2023_4),\n",
        "     \"cluster_2023_3\": kmeans.predict(scaled_df_2023_3),\n",
        "     \"cluster_2023_2\": kmeans.predict(scaled_df_2023_2),\n",
        "     \"cluster_2023_1\": kmeans.predict(scaled_df_2023_1),\n",
        "     \"cluster_2022_12\": kmeans.predict(scaled_df_2022_12),\n",
        "     \"cluster_2022_11\": kmeans.predict(scaled_df_2022_11),\n",
        "     \"cluster_2022_10\": kmeans.predict(scaled_df_2022_10)\n",
        "     })\n",
        "results_with_best_model"
      ]
    },
    {
      "cell_type": "code",
      "execution_count": null,
      "metadata": {
        "id": "y-TarIQA0VRy"
      },
      "outputs": [],
      "source": [
        "results_with_best_model_with_an_pd = results_with_best_model.merge(NASA_sample_an[[\"lon\", \"lat\", \"pustynia_i_step\"]], left_on=['lon','lat'], right_on = ['lon','lat'], how='inner')\n",
        "results_with_best_model_with_an_pd.head()"
      ]
    },
    {
      "cell_type": "code",
      "execution_count": null,
      "metadata": {
        "id": "TXZosn5x0sXo"
      },
      "outputs": [],
      "source": [
        "wyniki = pd.DataFrame({\"Name\": [\"cluster_2023_9\",\"cluster_2023_8\",\"cluster_2023_7\",\"cluster_2023_6\",\"cluster_2023_5\",\"cluster_2023_4\",\"cluster_2023_3\",\"cluster_2023_2\",\"cluster_2023_1\",\"cluster_2022_12\",\"cluster_2022_11\",\"cluster_2022_10\"]})\n",
        "wyniki[\"Accuracy [%]\"] = wyniki[\"Name\"].apply(lambda name: round(accuracy_score(results_with_best_model_with_an_pd[\"pustynia_i_step\"],results_with_best_model_with_an_pd[name])*100, 2))\n",
        "wyniki[\"Precision [%]\"] = wyniki[\"Name\"].apply(lambda name: round(precision_score(results_with_best_model_with_an_pd[\"pustynia_i_step\"],results_with_best_model_with_an_pd[name])*100, 2))\n",
        "wyniki[\"Recall [%]\"] = wyniki[\"Name\"].apply(lambda name: round(recall_score(results_with_best_model_with_an_pd[\"pustynia_i_step\"],results_with_best_model_with_an_pd[name])*100, 2))\n",
        "wyniki[\"F1-Score [%]\"] = wyniki[\"Name\"].apply(lambda name: round(f1_score(results_with_best_model_with_an_pd[\"pustynia_i_step\"],results_with_best_model_with_an_pd[name])*100, 2))\n",
        "wyniki.sort_values(by=['Accuracy [%]'], ascending=False)"
      ]
    },
    {
      "cell_type": "markdown",
      "metadata": {
        "id": "OjNImlGw2JdM"
      },
      "source": [
        "Widać, że predykcja danych z ostatnich miesięcy za pomocą modelu wytrenowanego na danych z lipca 2023 jest najlepsza dla danych z 01.07.2023."
      ]
    },
    {
      "cell_type": "markdown",
      "metadata": {
        "id": "-8XS72HCCnuq"
      },
      "source": [
        "# Grupowanie na podstawie pojedynczej kolumny"
      ]
    },
    {
      "cell_type": "markdown",
      "metadata": {
        "id": "M_rD74dRGCuG"
      },
      "source": [
        "## Implementacja algorytmu"
      ]
    },
    {
      "cell_type": "code",
      "execution_count": null,
      "metadata": {
        "id": "DURN9vhqE9zQ"
      },
      "outputs": [],
      "source": [
        "scaled_df_2023_7_Evap = MinMaxScaling(df_2023_7, ['Evap'])\n",
        "output_df_2023_7_Evap = do_kmeans_and_return_df_with_cluster_column(df_2023_7[[\"lon\", \"lat\", \"Evap\"]], scaled_df_2023_7_Evap, 2, 123)"
      ]
    },
    {
      "cell_type": "code",
      "execution_count": null,
      "metadata": {
        "id": "nE8k8VqAGIBn"
      },
      "outputs": [],
      "source": [
        "scaled_df_2023_7_Rainf = MinMaxScaling(df_2023_7, ['Rainf'])\n",
        "output_df_2023_7_Rainf = do_kmeans_and_return_df_with_cluster_column(df_2023_7[[\"lon\", \"lat\", \"Rainf\"]], scaled_df_2023_7_Rainf, 2, 123)"
      ]
    },
    {
      "cell_type": "code",
      "execution_count": null,
      "metadata": {
        "id": "EKGCCNfdGh2v"
      },
      "outputs": [],
      "source": [
        "scaled_df_2023_7_AvgSurfT = MinMaxScaling(df_2023_7, ['AvgSurfT'])\n",
        "output_df_2023_7_AvgSurfT = do_kmeans_and_return_df_with_cluster_column(df_2023_7[[\"lon\", \"lat\", \"AvgSurfT\"]], scaled_df_2023_7_AvgSurfT, 2, 123)"
      ]
    },
    {
      "cell_type": "code",
      "execution_count": null,
      "metadata": {
        "id": "GBsOm8gmGjaj"
      },
      "outputs": [],
      "source": [
        "scaled_df_2023_7_Albedo = MinMaxScaling(df_2023_7, ['Albedo'])\n",
        "output_df_2023_7_Albedo = do_kmeans_and_return_df_with_cluster_column(df_2023_7[[\"lon\", \"lat\", \"Albedo\"]], scaled_df_2023_7_Albedo, 2, 123)"
      ]
    },
    {
      "cell_type": "code",
      "execution_count": null,
      "metadata": {
        "id": "s-k9wYwXGjmB"
      },
      "outputs": [],
      "source": [
        "scaled_df_2023_7_SoilM_100_200cm = MinMaxScaling(df_2023_7, ['SoilM_100_200cm'])\n",
        "output_df_2023_7_SoilM_100_200cm = do_kmeans_and_return_df_with_cluster_column(df_2023_7[[\"lon\", \"lat\", \"SoilM_100_200cm\"]], scaled_df_2023_7_SoilM_100_200cm, 2, 123)"
      ]
    },
    {
      "cell_type": "code",
      "execution_count": null,
      "metadata": {
        "id": "S6CD5B_2Gjs5"
      },
      "outputs": [],
      "source": [
        "scaled_df_2023_7_GVEG = MinMaxScaling(df_2023_7, ['GVEG'])\n",
        "output_df_2023_7_GVEG = do_kmeans_and_return_df_with_cluster_column(df_2023_7[[\"lon\", \"lat\", \"GVEG\"]], scaled_df_2023_7_GVEG, 2, 123)"
      ]
    },
    {
      "cell_type": "code",
      "execution_count": null,
      "metadata": {
        "id": "dg8a8hVdGjyq"
      },
      "outputs": [],
      "source": [
        "scaled_df_2023_7_PotEvap = MinMaxScaling(df_2023_7, ['PotEvap'])\n",
        "output_df_2023_7_PotEvap = do_kmeans_and_return_df_with_cluster_column(df_2023_7[[\"lon\", \"lat\", \"PotEvap\"]], scaled_df_2023_7_PotEvap, 2, 123)"
      ]
    },
    {
      "cell_type": "code",
      "execution_count": null,
      "metadata": {
        "id": "MXqfpny-Gj4Q"
      },
      "outputs": [],
      "source": [
        "scaled_df_2023_7_RootMoist = MinMaxScaling(df_2023_7, ['RootMoist'])\n",
        "output_df_2023_7_RootMoist = do_kmeans_and_return_df_with_cluster_column(df_2023_7[[\"lon\", \"lat\", \"RootMoist\"]], scaled_df_2023_7_RootMoist, 2, 123)"
      ]
    },
    {
      "cell_type": "code",
      "execution_count": null,
      "metadata": {
        "id": "1u4URwKoGkGS"
      },
      "outputs": [],
      "source": [
        "scaled_df_2023_7_SoilT_10_40cm = MinMaxScaling(df_2023_7, ['SoilT_10_40cm'])\n",
        "output_df_2023_7_SoilT_10_40cm = do_kmeans_and_return_df_with_cluster_column(df_2023_7[[\"lon\", \"lat\", \"SoilT_10_40cm\"]], scaled_df_2023_7_SoilT_10_40cm, 2, 123)"
      ]
    },
    {
      "cell_type": "markdown",
      "metadata": {
        "id": "XBjdPhpzGMTJ"
      },
      "source": [
        "## Przedstawienie wyników na mapach"
      ]
    },
    {
      "cell_type": "code",
      "execution_count": null,
      "metadata": {
        "id": "wbmxZlLPEo1Z"
      },
      "outputs": [],
      "source": [
        "colormap_cluster = get_colormap([0, max(output_df_2023_7_Evap.cluster.values)], ['yellow', 'darkgreen'])\n",
        "output_notebook()\n",
        "show(plot_map(df=output_df_2023_7_Evap, parameter_name='cluster', colormap=colormap_cluster, title=\"K-średnich dla danych z 01.07.2023 - Evap\", alpha=0.5))"
      ]
    },
    {
      "cell_type": "code",
      "execution_count": null,
      "metadata": {
        "id": "jTretHWaHPQY"
      },
      "outputs": [],
      "source": [
        "colormap_cluster = get_colormap([0, max(output_df_2023_7_Rainf.cluster.values)], ['yellow', 'darkgreen'])\n",
        "output_notebook()\n",
        "show(plot_map(df=output_df_2023_7_Rainf, parameter_name='cluster', colormap=colormap_cluster, title=\"K-średnich dla danych z 01.07.2023 - Rainf\", alpha=0.5))"
      ]
    },
    {
      "cell_type": "code",
      "execution_count": null,
      "metadata": {
        "id": "ZEFbhFEmHPZJ"
      },
      "outputs": [],
      "source": [
        "colormap_cluster = get_colormap([0, max(output_df_2023_7_AvgSurfT.cluster.values)], ['yellow', 'darkgreen'])\n",
        "output_notebook()\n",
        "show(plot_map(df=output_df_2023_7_AvgSurfT, parameter_name='cluster', colormap=colormap_cluster, title=\"K-średnich dla danych z 01.07.2023 - AvgSurfT\", alpha=0.5))"
      ]
    },
    {
      "cell_type": "code",
      "execution_count": null,
      "metadata": {
        "id": "ptHvnvwTHjgI"
      },
      "outputs": [],
      "source": [
        "colormap_cluster = get_colormap([0, max(output_df_2023_7_Albedo.cluster.values)], ['yellow', 'darkgreen'])\n",
        "output_notebook()\n",
        "show(plot_map(df=output_df_2023_7_Albedo, parameter_name='cluster', colormap=colormap_cluster, title=\"K-średnich dla danych z 01.07.2023 - Albedo\", alpha=0.5))"
      ]
    },
    {
      "cell_type": "code",
      "execution_count": null,
      "metadata": {
        "id": "bIMXQYkxHkxX"
      },
      "outputs": [],
      "source": [
        "colormap_cluster = get_colormap([0, max(output_df_2023_7_SoilM_100_200cm.cluster.values)], ['yellow', 'darkgreen'])\n",
        "output_notebook()\n",
        "show(plot_map(df=output_df_2023_7_SoilM_100_200cm, parameter_name='cluster', colormap=colormap_cluster, title=\"K-średnich dla danych z 01.07.2023 - SoilM_100_200cm\", alpha=0.5))"
      ]
    },
    {
      "cell_type": "code",
      "execution_count": null,
      "metadata": {
        "id": "Orh-gwrpHlQ3"
      },
      "outputs": [],
      "source": [
        "colormap_cluster = get_colormap([0, max(output_df_2023_7_GVEG.cluster.values)], ['yellow', 'darkgreen'])\n",
        "output_notebook()\n",
        "show(plot_map(df=output_df_2023_7_GVEG, parameter_name='cluster', colormap=colormap_cluster, title=\"K-średnich dla danych z 01.07.2023 - GVEG\", alpha=0.5))"
      ]
    },
    {
      "cell_type": "code",
      "execution_count": null,
      "metadata": {
        "id": "FdjzEzbkHliR"
      },
      "outputs": [],
      "source": [
        "colormap_cluster = get_colormap([0, max(output_df_2023_7_PotEvap.cluster.values)], ['yellow', 'darkgreen'])\n",
        "output_notebook()\n",
        "show(plot_map(df=output_df_2023_7_PotEvap, parameter_name='cluster', colormap=colormap_cluster, title=\"K-średnich dla danych z 01.07.2023 - PotEvap\", alpha=0.5))"
      ]
    },
    {
      "cell_type": "code",
      "execution_count": null,
      "metadata": {
        "id": "aIZt8Vg-HmCx"
      },
      "outputs": [],
      "source": [
        "colormap_cluster = get_colormap([0, max(output_df_2023_7_RootMoist.cluster.values)], ['yellow', 'darkgreen'])\n",
        "output_notebook()\n",
        "show(plot_map(df=output_df_2023_7_RootMoist, parameter_name='cluster', colormap=colormap_cluster, title=\"K-średnich dla danych z 01.07.2023 - RootMoist\", alpha=0.5))"
      ]
    },
    {
      "cell_type": "code",
      "execution_count": null,
      "metadata": {
        "id": "_96vkNfeILSv"
      },
      "outputs": [],
      "source": [
        "colormap_cluster = get_colormap([0, max(output_df_2023_7_SoilT_10_40cm.cluster.values)], ['yellow', 'darkgreen'])\n",
        "output_notebook()\n",
        "show(plot_map(df=output_df_2023_7_SoilT_10_40cm, parameter_name='cluster', colormap=colormap_cluster, title=\"K-średnich dla danych z 01.07.2023 - SoilT_10_40cm\", alpha=0.5))"
      ]
    },
    {
      "cell_type": "markdown",
      "metadata": {
        "id": "wKT-KbRHJ_i3"
      },
      "source": [
        "## Grupowanie na podstawie wszystkich kombinacji par kolumn."
      ]
    },
    {
      "cell_type": "code",
      "execution_count": null,
      "metadata": {
        "id": "pD_BnXvNImci"
      },
      "outputs": [],
      "source": [
        "lista_kombinacji = list(combinations(['Evap', 'Rainf', 'AvgSurfT', 'Albedo', 'SoilM_100_200cm', 'GVEG', 'PotEvap', 'RootMoist', 'SoilT_10_40cm'],2))"
      ]
    },
    {
      "cell_type": "code",
      "execution_count": null,
      "metadata": {
        "id": "xlougnl6KdsP"
      },
      "outputs": [],
      "source": [
        "for para in lista_kombinacji:\n",
        "  col1, col2 = para\n",
        "  scaled_df_2023_7_mix = MinMaxScaling(df_2023_7, [col1, col2])\n",
        "  output_df_2023_7_mix = do_kmeans_and_return_df_with_cluster_column(df_2023_7[[\"lon\", \"lat\", col1, col2]], scaled_df_2023_7_mix, 2, 123)\n",
        "  colormap_cluster = get_colormap([0, max(output_df_2023_7_mix.cluster.values)], ['yellow', 'darkgreen'])\n",
        "  output_notebook()\n",
        "  show(plot_map(df=output_df_2023_7_mix, parameter_name='cluster', colormap=colormap_cluster, title= \"\".join([\"K-średnich dla danych z 01.07.2023 - \", col1,\" i \", col2]), alpha=0.5))"
      ]
    },
    {
      "cell_type": "code",
      "execution_count": null,
      "metadata": {
        "id": "4RiAckKrYnBn"
      },
      "outputs": [],
      "source": [
        "#Zapisanie pliku jako html\n",
        "#!jupyter nbconvert --to html \"/content/Grupowanie_k_meanss.ipynb\""
      ]
    }
  ],
  "metadata": {
    "colab": {
      "provenance": []
    },
    "kernelspec": {
      "display_name": "Python 3",
      "name": "python3"
    },
    "language_info": {
      "name": "python"
    }
  },
  "nbformat": 4,
  "nbformat_minor": 0
}
