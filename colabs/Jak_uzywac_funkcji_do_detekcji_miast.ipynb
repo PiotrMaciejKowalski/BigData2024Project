{
  "cells": [
    {
      "cell_type": "markdown",
      "metadata": {
        "colab_type": "text",
        "id": "view-in-github"
      },
      "source": [
        "<a href=\"https://colab.research.google.com/github/PiotrMaciejKowalski/BigData2024Project/blob/Konstrukcja_detektora_miast/Jak_uzywac_funkcji_do_detekcji_miast.ipynb\" target=\"_parent\"><img src=\"https://colab.research.google.com/assets/colab-badge.svg\" alt=\"Open In Colab\"/></a>"
      ]
    },
    {
      "cell_type": "markdown",
      "metadata": {
        "id": "1AOX_UIJ-Lht"
      },
      "source": [
        "Dokument ma na celu wytłumaczenie na przykładzie w jaki sposób korzystać z klasy **City_Geolocalization_Data** oraz jak skonfigurować GitHuba w Colabie."
      ]
    },
    {
      "cell_type": "markdown",
      "metadata": {
        "id": "9ZRYrAgI-KkN"
      },
      "source": [
        "# Opis klasy"
      ]
    },
    {
      "cell_type": "markdown",
      "metadata": {
        "id": "RWkKix6b-RNE"
      },
      "source": [
        "**KONSTRUKTOR** \\\n",
        "**City_Geolocalization_Data(path)** - *path*, to ścieżka do pliku .csv z lokalizacjami.\n",
        "\n",
        "**FUNKCJE** \\\n",
        "**City_Geolocalization_Data.get_cityname(lon, lat)** \\\n",
        "Zwraca nazwę miasta dla podanych współrzędnych lon i lat. W przypadku braku współrzędnych zwróci None.\n",
        "\n",
        "**City_Geolocalization_Data.spark_add_geodata(sdf, city = True, state = False, country = False)** \\\n",
        "Zwraca Spark DataFrame, w którym zostają dodane kolumny według przyznanych flag w parametrach funkcji. \\\n",
        "Parametry:  \\\n",
        "*sdf* - Spark DataFrame do którego dodajemy kolumny. \\\n",
        "*city* - Flaga dodania kolumny *City* do DataFramu z nazwą miasta. \\\n",
        "*state* - Flaga dodania kolumny *State* do DataFramu z nazwą stanu. \\\n",
        "*country* - Flaga dodania kolumny *Country* do DataFramu z nazwą kraju."
      ]
    },
    {
      "cell_type": "markdown",
      "metadata": {
        "id": "ZmdMf3rYqusK"
      },
      "source": [
        "# Setup repozytorium i środowiska"
      ]
    },
    {
      "cell_type": "markdown",
      "metadata": {
        "id": "h8YONAXX0NhC"
      },
      "source": [
        "Najpierw instalacja sparka"
      ]
    },
    {
      "cell_type": "code",
      "execution_count": 2,
      "metadata": {
        "id": "zi5QtAu00K-Z"
      },
      "outputs": [],
      "source": [
        "!apt-get install openjdk-8-jdk-headless -qq > /dev/null\n",
        "!wget -q dlcdn.apache.org/spark/spark-3.5.0/spark-3.5.0-bin-hadoop3.tgz\n",
        "!tar xf spark-3.5.0-bin-hadoop3.tgz\n",
        "!pip install -q findspark"
      ]
    },
    {
      "cell_type": "markdown",
      "metadata": {
        "id": "2DrDnZlM0Que"
      },
      "source": [
        "Dalej importujemy nasz projekt do zasobów. Będzie go widać po lewej stronie w zakładce files"
      ]
    },
    {
      "cell_type": "code",
      "execution_count": 3,
      "metadata": {
        "colab": {
          "base_uri": "https://localhost:8080/"
        },
        "id": "beWwH7UnqxdV",
        "outputId": "eb70571d-5c23-4d11-eb73-4094110233bd"
      },
      "outputs": [
        {
          "name": "stdout",
          "output_type": "stream",
          "text": [
            "fatal: destination path 'BigData2024Project' already exists and is not an empty directory.\n"
          ]
        }
      ],
      "source": [
        "!git clone https://github.com/PiotrMaciejKowalski/BigData2024Project.git"
      ]
    },
    {
      "cell_type": "markdown",
      "metadata": {
        "id": "txt_TZAtrgJO"
      },
      "source": [
        "*Odkomentować i ustawić odpowiedni branch dla danego kodu*"
      ]
    },
    {
      "cell_type": "code",
      "execution_count": 4,
      "metadata": {
        "colab": {
          "base_uri": "https://localhost:8080/"
        },
        "id": "sODuSTNGq7HT",
        "outputId": "0b2be51c-e657-47bc-e886-cd99b20df468"
      },
      "outputs": [
        {
          "name": "stdout",
          "output_type": "stream",
          "text": [
            "/content/BigData2024Project\n",
            "Already on 'Konstrukcja_detektora_miast'\n",
            "Your branch is up to date with 'origin/Konstrukcja_detektora_miast'.\n",
            "/content\n"
          ]
        }
      ],
      "source": [
        "%cd BigData2024Project/\n",
        "!git checkout Konstrukcja_detektora_miast\n",
        "%cd .."
      ]
    },
    {
      "cell_type": "markdown",
      "metadata": {
        "id": "LKJFaQqH0cC8"
      },
      "source": [
        "Pakiet poetry jest potrzebny aby zbudować paczkę z naszego projektu big_mess. To jej budowy potrzebny jest plik `pyproject.toml`"
      ]
    },
    {
      "cell_type": "code",
      "execution_count": 4,
      "metadata": {
        "colab": {
          "base_uri": "https://localhost:8080/"
        },
        "id": "PAj8REaHuN7O",
        "outputId": "92464da3-85ae-4c98-f68a-7d8bfbf53126"
      },
      "outputs": [
        {
          "name": "stdout",
          "output_type": "stream",
          "text": [
            "Collecting poetry\n",
            "  Downloading poetry-1.7.1-py3-none-any.whl (235 kB)\n",
            "\u001b[2K     \u001b[90m━━━━━━━━━━━━━━━━━━━━━━━━━━━━━━━━━━━━━━━━\u001b[0m \u001b[32m236.0/236.0 kB\u001b[0m \u001b[31m4.4 MB/s\u001b[0m eta \u001b[36m0:00:00\u001b[0m\n",
            "\u001b[?25hRequirement already satisfied: build<2.0.0,>=1.0.3 in /usr/local/lib/python3.10/dist-packages (from poetry) (1.0.3)\n",
            "Requirement already satisfied: cachecontrol[filecache]<0.14.0,>=0.13.0 in /usr/local/lib/python3.10/dist-packages (from poetry) (0.13.1)\n",
            "Collecting cleo<3.0.0,>=2.1.0 (from poetry)\n",
            "  Downloading cleo-2.1.0-py3-none-any.whl (78 kB)\n",
            "\u001b[2K     \u001b[90m━━━━━━━━━━━━━━━━━━━━━━━━━━━━━━━━━━━━━━━━\u001b[0m \u001b[32m78.7/78.7 kB\u001b[0m \u001b[31m8.5 MB/s\u001b[0m eta \u001b[36m0:00:00\u001b[0m\n",
            "\u001b[?25hCollecting crashtest<0.5.0,>=0.4.1 (from poetry)\n",
            "  Downloading crashtest-0.4.1-py3-none-any.whl (7.6 kB)\n",
            "Collecting dulwich<0.22.0,>=0.21.2 (from poetry)\n",
            "  Downloading dulwich-0.21.6-cp310-cp310-manylinux_2_17_x86_64.manylinux2014_x86_64.whl (512 kB)\n",
            "\u001b[2K     \u001b[90m━━━━━━━━━━━━━━━━━━━━━━━━━━━━━━━━━━━━━━━━\u001b[0m \u001b[32m512.2/512.2 kB\u001b[0m \u001b[31m22.5 MB/s\u001b[0m eta \u001b[36m0:00:00\u001b[0m\n",
            "\u001b[?25hRequirement already satisfied: fastjsonschema<3.0.0,>=2.18.0 in /usr/local/lib/python3.10/dist-packages (from poetry) (2.19.0)\n",
            "Collecting installer<0.8.0,>=0.7.0 (from poetry)\n",
            "  Downloading installer-0.7.0-py3-none-any.whl (453 kB)\n",
            "\u001b[2K     \u001b[90m━━━━━━━━━━━━━━━━━━━━━━━━━━━━━━━━━━━━━━━━\u001b[0m \u001b[32m453.8/453.8 kB\u001b[0m \u001b[31m32.9 MB/s\u001b[0m eta \u001b[36m0:00:00\u001b[0m\n",
            "\u001b[?25hCollecting keyring<25.0.0,>=24.0.0 (from poetry)\n",
            "  Downloading keyring-24.3.0-py3-none-any.whl (38 kB)\n",
            "Requirement already satisfied: packaging>=20.5 in /usr/local/lib/python3.10/dist-packages (from poetry) (23.2)\n",
            "Requirement already satisfied: pexpect<5.0.0,>=4.7.0 in /usr/local/lib/python3.10/dist-packages (from poetry) (4.8.0)\n",
            "Collecting pkginfo<2.0.0,>=1.9.4 (from poetry)\n",
            "  Downloading pkginfo-1.9.6-py3-none-any.whl (30 kB)\n",
            "Collecting platformdirs<4.0.0,>=3.0.0 (from poetry)\n",
            "  Downloading platformdirs-3.11.0-py3-none-any.whl (17 kB)\n",
            "Collecting poetry-core==1.8.1 (from poetry)\n",
            "  Downloading poetry_core-1.8.1-py3-none-any.whl (306 kB)\n",
            "\u001b[2K     \u001b[90m━━━━━━━━━━━━━━━━━━━━━━━━━━━━━━━━━━━━━━━━\u001b[0m \u001b[32m306.6/306.6 kB\u001b[0m \u001b[31m25.5 MB/s\u001b[0m eta \u001b[36m0:00:00\u001b[0m\n",
            "\u001b[?25hCollecting poetry-plugin-export<2.0.0,>=1.6.0 (from poetry)\n",
            "  Downloading poetry_plugin_export-1.6.0-py3-none-any.whl (10 kB)\n",
            "Requirement already satisfied: pyproject-hooks<2.0.0,>=1.0.0 in /usr/local/lib/python3.10/dist-packages (from poetry) (1.0.0)\n",
            "Requirement already satisfied: requests<3.0,>=2.26 in /usr/local/lib/python3.10/dist-packages (from poetry) (2.31.0)\n",
            "Collecting requests-toolbelt<2,>=0.9.1 (from poetry)\n",
            "  Downloading requests_toolbelt-1.0.0-py2.py3-none-any.whl (54 kB)\n",
            "\u001b[2K     \u001b[90m━━━━━━━━━━━━━━━━━━━━━━━━━━━━━━━━━━━━━━━━\u001b[0m \u001b[32m54.5/54.5 kB\u001b[0m \u001b[31m6.8 MB/s\u001b[0m eta \u001b[36m0:00:00\u001b[0m\n",
            "\u001b[?25hCollecting shellingham<2.0,>=1.5 (from poetry)\n",
            "  Downloading shellingham-1.5.4-py2.py3-none-any.whl (9.8 kB)\n",
            "Requirement already satisfied: tomli<3.0.0,>=2.0.1 in /usr/local/lib/python3.10/dist-packages (from poetry) (2.0.1)\n",
            "Collecting tomlkit<1.0.0,>=0.11.4 (from poetry)\n",
            "  Downloading tomlkit-0.12.3-py3-none-any.whl (37 kB)\n",
            "Collecting trove-classifiers>=2022.5.19 (from poetry)\n",
            "  Downloading trove_classifiers-2023.11.29-py3-none-any.whl (13 kB)\n",
            "Collecting virtualenv<21.0.0,>=20.23.0 (from poetry)\n",
            "  Downloading virtualenv-20.24.7-py3-none-any.whl (3.8 MB)\n",
            "\u001b[2K     \u001b[90m━━━━━━━━━━━━━━━━━━━━━━━━━━━━━━━━━━━━━━━━\u001b[0m \u001b[32m3.8/3.8 MB\u001b[0m \u001b[31m51.0 MB/s\u001b[0m eta \u001b[36m0:00:00\u001b[0m\n",
            "\u001b[?25hRequirement already satisfied: msgpack>=0.5.2 in /usr/local/lib/python3.10/dist-packages (from cachecontrol[filecache]<0.14.0,>=0.13.0->poetry) (1.0.7)\n",
            "Requirement already satisfied: filelock>=3.8.0 in /usr/local/lib/python3.10/dist-packages (from cachecontrol[filecache]<0.14.0,>=0.13.0->poetry) (3.13.1)\n",
            "Collecting rapidfuzz<4.0.0,>=3.0.0 (from cleo<3.0.0,>=2.1.0->poetry)\n",
            "  Downloading rapidfuzz-3.5.2-cp310-cp310-manylinux_2_17_x86_64.manylinux2014_x86_64.whl (3.3 MB)\n",
            "\u001b[2K     \u001b[90m━━━━━━━━━━━━━━━━━━━━━━━━━━━━━━━━━━━━━━━━\u001b[0m \u001b[32m3.3/3.3 MB\u001b[0m \u001b[31m86.9 MB/s\u001b[0m eta \u001b[36m0:00:00\u001b[0m\n",
            "\u001b[?25hRequirement already satisfied: urllib3>=1.25 in /usr/local/lib/python3.10/dist-packages (from dulwich<0.22.0,>=0.21.2->poetry) (2.0.7)\n",
            "Collecting jaraco.classes (from keyring<25.0.0,>=24.0.0->poetry)\n",
            "  Downloading jaraco.classes-3.3.0-py3-none-any.whl (5.9 kB)\n",
            "Requirement already satisfied: importlib-metadata>=4.11.4 in /usr/local/lib/python3.10/dist-packages (from keyring<25.0.0,>=24.0.0->poetry) (6.8.0)\n",
            "Requirement already satisfied: SecretStorage>=3.2 in /usr/lib/python3/dist-packages (from keyring<25.0.0,>=24.0.0->poetry) (3.3.1)\n",
            "Requirement already satisfied: jeepney>=0.4.2 in /usr/lib/python3/dist-packages (from keyring<25.0.0,>=24.0.0->poetry) (0.7.1)\n",
            "Requirement already satisfied: ptyprocess>=0.5 in /usr/local/lib/python3.10/dist-packages (from pexpect<5.0.0,>=4.7.0->poetry) (0.7.0)\n",
            "Requirement already satisfied: charset-normalizer<4,>=2 in /usr/local/lib/python3.10/dist-packages (from requests<3.0,>=2.26->poetry) (3.3.2)\n",
            "Requirement already satisfied: idna<4,>=2.5 in /usr/local/lib/python3.10/dist-packages (from requests<3.0,>=2.26->poetry) (3.4)\n",
            "Requirement already satisfied: certifi>=2017.4.17 in /usr/local/lib/python3.10/dist-packages (from requests<3.0,>=2.26->poetry) (2023.7.22)\n",
            "Collecting distlib<1,>=0.3.7 (from virtualenv<21.0.0,>=20.23.0->poetry)\n",
            "  Downloading distlib-0.3.7-py2.py3-none-any.whl (468 kB)\n",
            "\u001b[2K     \u001b[90m━━━━━━━━━━━━━━━━━━━━━━━━━━━━━━━━━━━━━━━━\u001b[0m \u001b[32m468.9/468.9 kB\u001b[0m \u001b[31m44.9 MB/s\u001b[0m eta \u001b[36m0:00:00\u001b[0m\n",
            "\u001b[?25hRequirement already satisfied: zipp>=0.5 in /usr/local/lib/python3.10/dist-packages (from importlib-metadata>=4.11.4->keyring<25.0.0,>=24.0.0->poetry) (3.17.0)\n",
            "Requirement already satisfied: more-itertools in /usr/local/lib/python3.10/dist-packages (from jaraco.classes->keyring<25.0.0,>=24.0.0->poetry) (10.1.0)\n",
            "Installing collected packages: trove-classifiers, distlib, tomlkit, shellingham, rapidfuzz, poetry-core, platformdirs, pkginfo, jaraco.classes, installer, dulwich, crashtest, virtualenv, requests-toolbelt, keyring, cleo, poetry-plugin-export, poetry\n",
            "  Attempting uninstall: platformdirs\n",
            "    Found existing installation: platformdirs 4.0.0\n",
            "    Uninstalling platformdirs-4.0.0:\n",
            "      Successfully uninstalled platformdirs-4.0.0\n",
            "  Attempting uninstall: keyring\n",
            "    Found existing installation: keyring 23.5.0\n",
            "    Uninstalling keyring-23.5.0:\n",
            "      Successfully uninstalled keyring-23.5.0\n",
            "Successfully installed cleo-2.1.0 crashtest-0.4.1 distlib-0.3.7 dulwich-0.21.6 installer-0.7.0 jaraco.classes-3.3.0 keyring-24.3.0 pkginfo-1.9.6 platformdirs-3.11.0 poetry-1.7.1 poetry-core-1.8.1 poetry-plugin-export-1.6.0 rapidfuzz-3.5.2 requests-toolbelt-1.0.0 shellingham-1.5.4 tomlkit-0.12.3 trove-classifiers-2023.11.29 virtualenv-20.24.7\n"
          ]
        }
      ],
      "source": [
        "!pip install poetry"
      ]
    },
    {
      "cell_type": "markdown",
      "metadata": {
        "id": "HZdnPWaC0llm"
      },
      "source": [
        "Gdy mamy zainstalowane poetry użyjemy go do zbudowania pakietu"
      ]
    },
    {
      "cell_type": "code",
      "execution_count": 5,
      "metadata": {
        "colab": {
          "base_uri": "https://localhost:8080/"
        },
        "id": "-LYqaTP4vEhh",
        "outputId": "51764971-0c2d-453d-cba6-a065a22ad8c4"
      },
      "outputs": [
        {
          "name": "stdout",
          "output_type": "stream",
          "text": [
            "/content/BigData2024Project\n",
            "Creating virtualenv \u001b[36mbig-mess-OuyUQzp_-py3.10\u001b[39m in /root/.cache/pypoetry/virtualenvs\n",
            "\u001b[34mUpdating dependencies\u001b[39m\n",
            "\u001b[2K\u001b[34mResolving dependencies...\u001b[39m \u001b[39;2m(0.1s)\u001b[39;22m\n",
            "\n",
            "\u001b[34mWriting lock file\u001b[39m\n",
            "\n",
            "\u001b[39;1mInstalling\u001b[39;22m the current project: \u001b[36mbig_mess\u001b[39m (\u001b[39;1m0.1.0\u001b[39;22m)\u001b[1G\u001b[2K\u001b[39;1mInstalling\u001b[39;22m the current project: \u001b[36mbig_mess\u001b[39m (\u001b[32m0.1.0\u001b[39m)\n",
            "/content\n"
          ]
        }
      ],
      "source": [
        "%cd BigData2024Project/\n",
        "!poetry install\n",
        "%cd .."
      ]
    },
    {
      "cell_type": "markdown",
      "metadata": {
        "id": "bb7jq0e20sDe"
      },
      "source": [
        "i jego lokalnego zainstalowania"
      ]
    },
    {
      "cell_type": "code",
      "execution_count": 6,
      "metadata": {
        "colab": {
          "base_uri": "https://localhost:8080/"
        },
        "id": "XL2uL-hCtMJv",
        "outputId": "b3677898-dca5-40fe-99ac-34effbcb94e0"
      },
      "outputs": [
        {
          "name": "stdout",
          "output_type": "stream",
          "text": [
            "/content/BigData2024Project\n",
            "Obtaining file:///content/BigData2024Project\n",
            "  Installing build dependencies ... \u001b[?25l\u001b[?25hdone\n",
            "  Checking if build backend supports build_editable ... \u001b[?25l\u001b[?25hdone\n",
            "  Getting requirements to build editable ... \u001b[?25l\u001b[?25hdone\n",
            "  Preparing editable metadata (pyproject.toml) ... \u001b[?25l\u001b[?25hdone\n",
            "Building wheels for collected packages: big-mess\n",
            "  Building editable for big-mess (pyproject.toml) ... \u001b[?25l\u001b[?25hdone\n",
            "  Created wheel for big-mess: filename=big_mess-0.0.0-0.editable-py3-none-any.whl size=2006 sha256=8ddb9290967fada05577ce68980dbab28a7bccc609242b981be5767b8549f41c\n",
            "  Stored in directory: /tmp/pip-ephem-wheel-cache-t150drhl/wheels/c6/56/d2/ebcb3f4a28085222be0d9516ae5549cf013abdd1ff392ad062\n",
            "Successfully built big-mess\n",
            "Installing collected packages: big-mess\n",
            "Successfully installed big-mess-0.0.0\n",
            "/content\n"
          ]
        }
      ],
      "source": [
        "%cd BigData2024Project/\n",
        "!pip install -e .\n",
        "%cd .."
      ]
    },
    {
      "cell_type": "markdown",
      "metadata": {
        "id": "czhiaFxp0vup"
      },
      "source": [
        "Potem występuje trudny krok teraz (prawdopodobnie) trzeba **ZRESTARTOWAĆ RUNTIME**. Wybieramy sekcje Runtime i Restart runtime"
      ]
    },
    {
      "cell_type": "markdown",
      "metadata": {
        "id": "fN7XIeUK1B0o"
      },
      "source": [
        "Okey - dalej konfigurejemy sparka"
      ]
    },
    {
      "cell_type": "code",
      "execution_count": 5,
      "metadata": {
        "id": "RcDWZb-31GSA"
      },
      "outputs": [],
      "source": [
        "import os\n",
        "os.environ[\"JAVA_HOME\"] = \"/usr/lib/jvm/java-8-openjdk-amd64\"\n",
        "os.environ[\"SPARK_HOME\"] = \"/content/spark-3.5.0-bin-hadoop3\"\n",
        "\n",
        "import findspark\n",
        "findspark.init()"
      ]
    },
    {
      "cell_type": "markdown",
      "metadata": {
        "id": "zEPIRnrB1Kyw"
      },
      "source": [
        "Wszystko gotowe - można importować"
      ]
    },
    {
      "cell_type": "code",
      "execution_count": 6,
      "metadata": {
        "id": "0o2u7nf21NqQ"
      },
      "outputs": [],
      "source": [
        "import pandas as pd\n",
        "from pyspark.sql import SparkSession\n",
        "from pyspark.sql.types import IntegerType, FloatType, StringType, StructType\n",
        "\n",
        "from google.colab import drive\n",
        "\n",
        "from big_mess.city_detector import City_Geolocalization_Data"
      ]
    },
    {
      "cell_type": "markdown",
      "metadata": {
        "id": "Ln_aY0CZ_A8N"
      },
      "source": [
        "# Przykład użycia"
      ]
    },
    {
      "cell_type": "markdown",
      "metadata": {
        "id": "1NGtkrPR_KE8"
      },
      "source": [
        "## 1. Wczytanie danych w sparku"
      ]
    },
    {
      "cell_type": "markdown",
      "metadata": {
        "id": "Vt6L5ospI1A_"
      },
      "source": [
        "Utworzenie środowiska pyspark do obliczeń:"
      ]
    },
    {
      "cell_type": "code",
      "execution_count": 7,
      "metadata": {
        "id": "8F1aknAcI4yY"
      },
      "outputs": [],
      "source": [
        "spark = SparkSession.builder\\\n",
        "        .master(\"local\")\\\n",
        "        .appName(\"Colab\")\\\n",
        "        .config('spark.ui.port', '4050')\\\n",
        "        .getOrCreate()"
      ]
    },
    {
      "cell_type": "markdown",
      "metadata": {
        "id": "tFB-jhGoI9Lx"
      },
      "source": [
        "Połączenie z dyskiem:"
      ]
    },
    {
      "cell_type": "code",
      "execution_count": 8,
      "metadata": {
        "colab": {
          "base_uri": "https://localhost:8080/"
        },
        "id": "z-mbq-Rb_F8U",
        "outputId": "cf336058-a1f0-4def-bc8a-e8a405debca8"
      },
      "outputs": [
        {
          "name": "stdout",
          "output_type": "stream",
          "text": [
            "Mounted at /content/drive\n"
          ]
        }
      ],
      "source": [
        "drive.mount('/content/drive')"
      ]
    },
    {
      "cell_type": "markdown",
      "metadata": {
        "id": "zYw4vulVJEpv"
      },
      "source": [
        "Wczytanie danych NASA znajdujących się na dysku w sparku:"
      ]
    },
    {
      "cell_type": "code",
      "execution_count": 9,
      "metadata": {
        "id": "aiYlr0GjJCC2"
      },
      "outputs": [],
      "source": [
        "columns = ['lon', 'lat', 'Date', 'SWdown', 'LWdown', 'SWnet', 'LWnet', 'Qle', 'Qh', 'Qg', 'Qf', 'Snowf', 'Rainf', 'Evap', 'Qs', 'Qsb', 'Qsm', 'AvgSurfT', 'Albedo', 'SWE', 'SnowDepth', 'SnowFrac', 'SoilT_0_10cm', 'SoilT_10_40cm',\n",
        "           'SoilT_40_100cm', 'SoilT_100_200cm', 'SoilM_0_10cm', 'SoilM_10_40cm', 'SoilM_40_100cm', 'SoilM_100_200cm', 'SoilM_0_100cm', 'SoilM_0_200cm', 'RootMoist', 'SMLiq_0_10cm', 'SMLiq_10_40cm', 'SMLiq_40_100cm', 'SMLiq_100_200cm',\n",
        "           'SMAvail_0_100cm', 'SMAvail_0_200cm', 'PotEvap', 'ECanop', 'TVeg', 'ESoil', 'SubSnow', 'CanopInt', 'ACond', 'CCond', 'RCS', 'RCT', 'RCQ', 'RCSOL', 'RSmin','RSMacr', 'LAI', 'GVEG', 'Streamflow']\n",
        "\n",
        "# Utworzenie schematu określającego typ zmiennych\n",
        "schema = StructType()\n",
        "for i in columns:\n",
        "  if i == \"Date\":\n",
        "    schema = schema.add(i, StringType(), True)\n",
        "  else:\n",
        "    schema = schema.add(i, FloatType(), True)"
      ]
    },
    {
      "cell_type": "code",
      "execution_count": 11,
      "metadata": {
        "colab": {
          "base_uri": "https://localhost:8080/"
        },
        "id": "6RcAN4TrJHrX",
        "outputId": "d8818aa1-a2cd-46ac-bb53-f589e632d534"
      },
      "outputs": [
        {
          "name": "stdout",
          "output_type": "stream",
          "text": [
            "+---------+-------+------+---------+---------+---------+---------+---------+---------+----------+---+-----+-----+---------+---+----------+---+---------+---------+---+---------+--------+------------+-------------+--------------+---------------+------------+-------------+--------------+---------------+-------------+-------------+----------+------------+-------------+--------------+---------------+---------------+---------------+---------+----------+---------+----------+-------+------------+-----------+------------+----------+----------+----------+----------+---------+------------+---------+----------+----------+\n",
            "|      lon|    lat|  Date|   SWdown|   LWdown|    SWnet|    LWnet|      Qle|       Qh|        Qg| Qf|Snowf|Rainf|     Evap| Qs|       Qsb|Qsm| AvgSurfT|   Albedo|SWE|SnowDepth|SnowFrac|SoilT_0_10cm|SoilT_10_40cm|SoilT_40_100cm|SoilT_100_200cm|SoilM_0_10cm|SoilM_10_40cm|SoilM_40_100cm|SoilM_100_200cm|SoilM_0_100cm|SoilM_0_200cm| RootMoist|SMLiq_0_10cm|SMLiq_10_40cm|SMLiq_40_100cm|SMLiq_100_200cm|SMAvail_0_100cm|SMAvail_0_200cm|  PotEvap|    ECanop|     TVeg|     ESoil|SubSnow|    CanopInt|      ACond|       CCond|       RCS|       RCT|       RCQ|     RCSOL|    RSmin|      RSMacr|      LAI|      GVEG|Streamflow|\n",
            "+---------+-------+------+---------+---------+---------+---------+---------+---------+----------+---+-----+-----+---------+---+----------+---+---------+---------+---+---------+--------+------------+-------------+--------------+---------------+------------+-------------+--------------+---------------+-------------+-------------+----------+------------+-------------+--------------+---------------+---------------+---------------+---------+----------+---------+----------+-------+------------+-----------+------------+----------+----------+----------+----------+---------+------------+---------+----------+----------+\n",
            "|-112.0625|25.0625|200001|204.96333| 312.3388|142.34848|-79.38684|4.0884414|60.853363|-1.0944891|0.0|  0.0|  0.0|   4.3807|0.0|       0.0|0.0| 288.0707| 41.47715|0.0|      0.0|     0.0|   288.16504|    288.54617|     289.00714|      289.58118|    12.89713|    40.709217|      80.87555|      108.76931|    134.48306|    243.25247|  243.2525|   12.897395|     40.70972|      80.87607|      108.76945|      14.985342|      27.705273|139.13737| 1.0491934| 5.008604| 3.3424733|    0.0| 0.013812637|0.020544387|0.0018493001|0.29177997|0.92080206| 0.9198521|0.16886948|     70.0|  0.02467066|3.3421633|0.19712792|      NULL|\n",
            "|-111.9375|25.0625|200001|202.94218|306.12143|  140.832|-82.56643| 4.357929|56.398518|-1.5567192|0.0|  0.0|  0.0|4.6673994|0.0|       0.0|0.0|287.39276|41.509407|0.0|      0.0|     0.0|   287.54395|    288.12088|      288.8017|       289.7478|   11.615492|     40.14989|     78.334175|       90.67495|    130.09966|    220.77449| 220.77466|   11.615603|     40.15009|      78.33402|       90.67476|       11.97606|      25.147991|162.25638| 0.7321236| 4.863981| 2.4353497|    0.0| 0.009291933| 0.01856994|0.0013284235|0.29177707| 0.8985194|0.89268667| 0.1348082|     70.0| 0.016704414|3.2925992|0.19860405|      NULL|\n",
            "|-111.8125|25.0625|200001|203.27449| 303.2381|141.06544|-87.69759|5.4638424| 51.09166|-1.9299734|0.0|  0.0|  0.0|5.8487973|0.0|       0.0|0.0| 287.6554|41.505375|0.0|      0.0|     0.0|   287.84473|    288.59302|     289.55984|       291.0862|    9.950655|    33.016888|     60.982506|      161.94794|    103.95008|    265.89853| 103.95005|    9.950759|    33.017178|     60.982143|      161.94843|      10.250145|      30.286282|121.55404|0.26465052|5.9029574| 0.8350811|    0.0|0.0031448924|0.009581985|0.0015826927|0.28187105| 0.8914246| 0.9112068|0.11508878|     35.0| 0.007892415| 2.272067|0.17118543|      NULL|\n",
            "|-111.6875|25.0625|200001|204.13232|301.05048|141.65108|-89.49369|6.0123606| 49.63968|-2.0993278|0.0|  0.0|  0.0|6.4366016|0.0|       0.0|0.0| 287.5386|41.501343|0.0|      0.0|     0.0|   287.75275|    288.58203|     289.61142|      291.25577|    9.597857|    33.778393|     62.656994|      163.44402|    106.03301|    269.47733|106.032845|    9.597921|    33.778442|      62.65654|      163.44409|      10.808873|      30.691833|127.63407|0.22688179|6.3983865|0.70120984|    0.0|0.0025833342|0.009341394|0.0016092625|0.28229982| 0.8899329|  0.887931|0.12143098|     35.0|0.0064906063| 2.272067|0.17118543|      NULL|\n",
            "|-111.5625|25.0625|200001|205.44482| 299.2597|142.54315|-89.47336| 3.222715|53.475708| -2.327957|0.0|  0.0|  0.0|3.4506986|0.0|0.14880137|0.0| 287.2394|41.509407|0.0|      0.0|     0.0|   287.46533|    288.33078|      289.2371|       290.5583|    9.848745|     49.15142|    102.429855|      187.07886|    161.43011|    348.50867| 161.43001|    9.848877|    49.151302|     102.43015|      187.07864|      25.649096|      39.697018|179.37668|0.22432795|3.3587356| 1.1965054|    0.0| 0.002467338|0.014541673|9.7257685E-4| 0.2501108|0.88808286| 0.8399929| 0.2850619|225.00002|0.0077566737| 4.485856| 0.1429876|      NULL|\n",
            "+---------+-------+------+---------+---------+---------+---------+---------+---------+----------+---+-----+-----+---------+---+----------+---+---------+---------+---+---------+--------+------------+-------------+--------------+---------------+------------+-------------+--------------+---------------+-------------+-------------+----------+------------+-------------+--------------+---------------+---------------+---------------+---------+----------+---------+----------+-------+------------+-----------+------------+----------+----------+----------+----------+---------+------------+---------+----------+----------+\n",
            "only showing top 5 rows\n",
            "\n"
          ]
        }
      ],
      "source": [
        "nasa = spark.read.format('csv').option(\"header\", True).schema(schema).load('/content/drive/MyDrive/BigMess/NASA/NASA.csv')\n",
        "nasa.show(5)"
      ]
    },
    {
      "cell_type": "markdown",
      "metadata": {
        "id": "-t4yvSWtJKOv"
      },
      "source": [
        "## 2. Użycie funkcji"
      ]
    },
    {
      "cell_type": "markdown",
      "metadata": {
        "id": "AUxDq8EV66w8"
      },
      "source": [
        "Stworzenie obiektu będącego realizacją klasy City_Geolocalization_Data."
      ]
    },
    {
      "cell_type": "code",
      "execution_count": 12,
      "metadata": {
        "id": "mbCBx3dq665p"
      },
      "outputs": [],
      "source": [
        "geodata_file = \"/content/drive/MyDrive/BigMess/NASA/geolokalizacja_wsp_NASA.csv\"\n",
        "\n",
        "geo = City_Geolocalization_Data(geodata_file)"
      ]
    },
    {
      "cell_type": "markdown",
      "metadata": {
        "id": "XmkFZ9IAh-pJ"
      },
      "source": [
        "Użycie funkcji *get_cityname*."
      ]
    },
    {
      "cell_type": "code",
      "execution_count": 13,
      "metadata": {
        "colab": {
          "base_uri": "https://localhost:8080/",
          "height": 36
        },
        "id": "P-KaHs2Q76M5",
        "outputId": "1d5082b1-0864-42de-d7c7-a427f2d17b7b"
      },
      "outputs": [
        {
          "data": {
            "application/vnd.google.colaboratory.intrinsic+json": {
              "type": "string"
            },
            "text/plain": [
              "'North Andros'"
            ]
          },
          "execution_count": 13,
          "metadata": {},
          "output_type": "execute_result"
        }
      ],
      "source": [
        "geo.get_cityname(-78.0625, 25.0625)"
      ]
    },
    {
      "cell_type": "markdown",
      "metadata": {
        "id": "tCghici58dho"
      },
      "source": [
        "Użycie funkcji *spark_add_geodata*."
      ]
    },
    {
      "cell_type": "code",
      "execution_count": 21,
      "metadata": {
        "colab": {
          "base_uri": "https://localhost:8080/"
        },
        "id": "mMcB7WIB8fWH",
        "outputId": "01b3ca99-d91a-4bee-b1b8-278c55367307"
      },
      "outputs": [
        {
          "name": "stderr",
          "output_type": "stream",
          "text": [
            "/content/spark-3.5.0-bin-hadoop3/python/pyspark/sql/dataframe.py:168: UserWarning: DataFrame.sql_ctx is an internal property, and will be removed in future releases. Use DataFrame.sparkSession instead.\n",
            "  warnings.warn(\n"
          ]
        },
        {
          "name": "stdout",
          "output_type": "stream",
          "text": [
            "+---------+-------+------+---------+---------+---------+----------+---------+---------+----------+---+-----+-----+---------+---+----------+---+---------+---------+---+---------+--------+------------+-------------+--------------+---------------+------------+-------------+--------------+---------------+-------------+-------------+----------+------------+-------------+--------------+---------------+---------------+---------------+---------+----------+---------+----------+-------+------------+------------+------------+----------+----------+---------+----------+---------+------------+---------+----------+----------+-------------------+-------------------+-------+\n",
            "|      lon|    lat|  Date|   SWdown|   LWdown|    SWnet|     LWnet|      Qle|       Qh|        Qg| Qf|Snowf|Rainf|     Evap| Qs|       Qsb|Qsm| AvgSurfT|   Albedo|SWE|SnowDepth|SnowFrac|SoilT_0_10cm|SoilT_10_40cm|SoilT_40_100cm|SoilT_100_200cm|SoilM_0_10cm|SoilM_10_40cm|SoilM_40_100cm|SoilM_100_200cm|SoilM_0_100cm|SoilM_0_200cm| RootMoist|SMLiq_0_10cm|SMLiq_10_40cm|SMLiq_40_100cm|SMLiq_100_200cm|SMAvail_0_100cm|SMAvail_0_200cm|  PotEvap|    ECanop|     TVeg|     ESoil|SubSnow|    CanopInt|       ACond|       CCond|       RCS|       RCT|      RCQ|     RCSOL|    RSmin|      RSMacr|      LAI|      GVEG|Streamflow|               City|              State|Country|\n",
            "+---------+-------+------+---------+---------+---------+----------+---------+---------+----------+---+-----+-----+---------+---+----------+---+---------+---------+---+---------+--------+------------+-------------+--------------+---------------+------------+-------------+--------------+---------------+-------------+-------------+----------+------------+-------------+--------------+---------------+---------------+---------------+---------+----------+---------+----------+-------+------------+------------+------------+----------+----------+---------+----------+---------+------------+---------+----------+----------+-------------------+-------------------+-------+\n",
            "|-111.4375|25.0625|200001|207.30942|297.84116|143.83508|-90.345024|2.9943523|54.166893|-2.3108883|0.0|  0.0|  0.0|3.2056007|0.0|0.19540082|0.0|287.11676| 41.51344|0.0|      0.0|     0.0|   287.34244|    288.20337|     289.10333|      290.41437|    9.570533|     48.60167|     101.41621|      188.15038|    159.58896|     347.7397| 159.58896|   9.5705185|     48.60212|      101.4165|       188.1505|       25.15366|       39.60486| 182.2559|0.17177416|3.1137092| 1.0327955|    0.0|0.0018098127|0.0141612915|9.7363937E-4|0.24458781| 0.8846812|0.8295458|0.27829608|225.00002|0.0064650676| 4.800464|0.12975849|      NULL|                NaN|Baja California Sur| México|\n",
            "|-111.6875|25.0625|200001|204.13232|301.05048|141.65108| -89.49369|6.0123606| 49.63968|-2.0993278|0.0|  0.0|  0.0|6.4366016|0.0|       0.0|0.0| 287.5386|41.501343|0.0|      0.0|     0.0|   287.75275|    288.58203|     289.61142|      291.25577|    9.597857|    33.778393|     62.656994|      163.44402|    106.03301|    269.47733|106.032845|    9.597921|    33.778442|      62.65654|      163.44409|      10.808873|      30.691833|127.63407|0.22688179|6.3983865|0.70120984|    0.0|0.0025833342| 0.009341394|0.0016092625|0.28229982| 0.8899329| 0.887931|0.12143098|     35.0|0.0064906063| 2.272067|0.17118543|      NULL|Ciudad Constitución|Baja California Sur| México|\n",
            "|-112.0625|25.0625|200001|204.96333| 312.3388|142.34848| -79.38684|4.0884414|60.853363|-1.0944891|0.0|  0.0|  0.0|   4.3807|0.0|       0.0|0.0| 288.0707| 41.47715|0.0|      0.0|     0.0|   288.16504|    288.54617|     289.00714|      289.58118|    12.89713|    40.709217|      80.87555|      108.76931|    134.48306|    243.25247|  243.2525|   12.897395|     40.70972|      80.87607|      108.76945|      14.985342|      27.705273|139.13737| 1.0491934| 5.008604| 3.3424733|    0.0| 0.013812637| 0.020544387|0.0018493001|0.29177997|0.92080206|0.9198521|0.16886948|     70.0|  0.02467066|3.3421633|0.19712792|      NULL|                NaN|Baja California Sur| México|\n",
            "|-111.8125|25.0625|200001|203.27449| 303.2381|141.06544| -87.69759|5.4638424| 51.09166|-1.9299734|0.0|  0.0|  0.0|5.8487973|0.0|       0.0|0.0| 287.6554|41.505375|0.0|      0.0|     0.0|   287.84473|    288.59302|     289.55984|       291.0862|    9.950655|    33.016888|     60.982506|      161.94794|    103.95008|    265.89853| 103.95005|    9.950759|    33.017178|     60.982143|      161.94843|      10.250145|      30.286282|121.55404|0.26465052|5.9029574| 0.8350811|    0.0|0.0031448924| 0.009581985|0.0015826927|0.28187105| 0.8914246|0.9112068|0.11508878|     35.0| 0.007892415| 2.272067|0.17118543|      NULL|Ciudad Constitución|Baja California Sur| México|\n",
            "|-111.5625|25.0625|200001|205.44482| 299.2597|142.54315| -89.47336| 3.222715|53.475708| -2.327957|0.0|  0.0|  0.0|3.4506986|0.0|0.14880137|0.0| 287.2394|41.509407|0.0|      0.0|     0.0|   287.46533|    288.33078|      289.2371|       290.5583|    9.848745|     49.15142|    102.429855|      187.07886|    161.43011|    348.50867| 161.43001|    9.848877|    49.151302|     102.43015|      187.07864|      25.649096|      39.697018|179.37668|0.22432795|3.3587356| 1.1965054|    0.0| 0.002467338| 0.014541673|9.7257685E-4| 0.2501108|0.88808286|0.8399929| 0.2850619|225.00002|0.0077566737| 4.485856| 0.1429876|      NULL|                NaN|Baja California Sur| México|\n",
            "+---------+-------+------+---------+---------+---------+----------+---------+---------+----------+---+-----+-----+---------+---+----------+---+---------+---------+---+---------+--------+------------+-------------+--------------+---------------+------------+-------------+--------------+---------------+-------------+-------------+----------+------------+-------------+--------------+---------------+---------------+---------------+---------+----------+---------+----------+-------+------------+------------+------------+----------+----------+---------+----------+---------+------------+---------+----------+----------+-------------------+-------------------+-------+\n",
            "only showing top 5 rows\n",
            "\n"
          ]
        }
      ],
      "source": [
        "result = geo.spark_add_geodata(nasa, city=True, state=True, country=True)\n",
        "result.show(5)"
      ]
    },
    {
      "cell_type": "code",
      "execution_count": 22,
      "metadata": {
        "colab": {
          "base_uri": "https://localhost:8080/",
          "height": 363
        },
        "id": "kTq2CmOVdgq_",
        "outputId": "dc9a7d45-489c-47e8-8caa-61f83f83681b"
      },
      "outputs": [
        {
          "data": {
            "text/html": [
              "\n",
              "  <div id=\"df-7ef7aab5-4317-41da-89f5-435387eb7b45\" class=\"colab-df-container\">\n",
              "    <div>\n",
              "<style scoped>\n",
              "    .dataframe tbody tr th:only-of-type {\n",
              "        vertical-align: middle;\n",
              "    }\n",
              "\n",
              "    .dataframe tbody tr th {\n",
              "        vertical-align: top;\n",
              "    }\n",
              "\n",
              "    .dataframe thead th {\n",
              "        text-align: right;\n",
              "    }\n",
              "</style>\n",
              "<table border=\"1\" class=\"dataframe\">\n",
              "  <thead>\n",
              "    <tr style=\"text-align: right;\">\n",
              "      <th></th>\n",
              "      <th>lon</th>\n",
              "      <th>lat</th>\n",
              "      <th>City</th>\n",
              "      <th>State</th>\n",
              "      <th>Country</th>\n",
              "    </tr>\n",
              "  </thead>\n",
              "  <tbody>\n",
              "    <tr>\n",
              "      <th>0</th>\n",
              "      <td>-86.4375</td>\n",
              "      <td>34.6875</td>\n",
              "      <td>Huntsville</td>\n",
              "      <td>Alabama</td>\n",
              "      <td>United States</td>\n",
              "    </tr>\n",
              "    <tr>\n",
              "      <th>1</th>\n",
              "      <td>-92.4375</td>\n",
              "      <td>38.9375</td>\n",
              "      <td>Columbia</td>\n",
              "      <td>Missouri</td>\n",
              "      <td>United States</td>\n",
              "    </tr>\n",
              "    <tr>\n",
              "      <th>2</th>\n",
              "      <td>-89.5625</td>\n",
              "      <td>39.8125</td>\n",
              "      <td>Springfield</td>\n",
              "      <td>Illinois</td>\n",
              "      <td>United States</td>\n",
              "    </tr>\n",
              "    <tr>\n",
              "      <th>3</th>\n",
              "      <td>-77.3125</td>\n",
              "      <td>40.1875</td>\n",
              "      <td>West Pennsboro Township</td>\n",
              "      <td>Pennsylvania</td>\n",
              "      <td>United States</td>\n",
              "    </tr>\n",
              "    <tr>\n",
              "      <th>4</th>\n",
              "      <td>-79.4375</td>\n",
              "      <td>40.3125</td>\n",
              "      <td>Unity Township</td>\n",
              "      <td>Pennsylvania</td>\n",
              "      <td>United States</td>\n",
              "    </tr>\n",
              "    <tr>\n",
              "      <th>5</th>\n",
              "      <td>-77.6875</td>\n",
              "      <td>41.3125</td>\n",
              "      <td>Noyes Township</td>\n",
              "      <td>Pennsylvania</td>\n",
              "      <td>United States</td>\n",
              "    </tr>\n",
              "    <tr>\n",
              "      <th>6</th>\n",
              "      <td>-82.3125</td>\n",
              "      <td>42.8125</td>\n",
              "      <td>St. Clair</td>\n",
              "      <td>Ontario</td>\n",
              "      <td>Canada</td>\n",
              "    </tr>\n",
              "    <tr>\n",
              "      <th>7</th>\n",
              "      <td>-79.8125</td>\n",
              "      <td>43.1875</td>\n",
              "      <td>Hamilton</td>\n",
              "      <td>Ontario</td>\n",
              "      <td>Canada</td>\n",
              "    </tr>\n",
              "    <tr>\n",
              "      <th>8</th>\n",
              "      <td>-78.1875</td>\n",
              "      <td>44.9375</td>\n",
              "      <td>Highlands East</td>\n",
              "      <td>Ontario</td>\n",
              "      <td>Canada</td>\n",
              "    </tr>\n",
              "    <tr>\n",
              "      <th>9</th>\n",
              "      <td>-80.0625</td>\n",
              "      <td>45.1875</td>\n",
              "      <td>The Archipelago Township</td>\n",
              "      <td>Ontario</td>\n",
              "      <td>Canada</td>\n",
              "    </tr>\n",
              "  </tbody>\n",
              "</table>\n",
              "</div>\n",
              "    <div class=\"colab-df-buttons\">\n",
              "\n",
              "  <div class=\"colab-df-container\">\n",
              "    <button class=\"colab-df-convert\" onclick=\"convertToInteractive('df-7ef7aab5-4317-41da-89f5-435387eb7b45')\"\n",
              "            title=\"Convert this dataframe to an interactive table.\"\n",
              "            style=\"display:none;\">\n",
              "\n",
              "  <svg xmlns=\"http://www.w3.org/2000/svg\" height=\"24px\" viewBox=\"0 -960 960 960\">\n",
              "    <path d=\"M120-120v-720h720v720H120Zm60-500h600v-160H180v160Zm220 220h160v-160H400v160Zm0 220h160v-160H400v160ZM180-400h160v-160H180v160Zm440 0h160v-160H620v160ZM180-180h160v-160H180v160Zm440 0h160v-160H620v160Z\"/>\n",
              "  </svg>\n",
              "    </button>\n",
              "\n",
              "  <style>\n",
              "    .colab-df-container {\n",
              "      display:flex;\n",
              "      gap: 12px;\n",
              "    }\n",
              "\n",
              "    .colab-df-convert {\n",
              "      background-color: #E8F0FE;\n",
              "      border: none;\n",
              "      border-radius: 50%;\n",
              "      cursor: pointer;\n",
              "      display: none;\n",
              "      fill: #1967D2;\n",
              "      height: 32px;\n",
              "      padding: 0 0 0 0;\n",
              "      width: 32px;\n",
              "    }\n",
              "\n",
              "    .colab-df-convert:hover {\n",
              "      background-color: #E2EBFA;\n",
              "      box-shadow: 0px 1px 2px rgba(60, 64, 67, 0.3), 0px 1px 3px 1px rgba(60, 64, 67, 0.15);\n",
              "      fill: #174EA6;\n",
              "    }\n",
              "\n",
              "    .colab-df-buttons div {\n",
              "      margin-bottom: 4px;\n",
              "    }\n",
              "\n",
              "    [theme=dark] .colab-df-convert {\n",
              "      background-color: #3B4455;\n",
              "      fill: #D2E3FC;\n",
              "    }\n",
              "\n",
              "    [theme=dark] .colab-df-convert:hover {\n",
              "      background-color: #434B5C;\n",
              "      box-shadow: 0px 1px 3px 1px rgba(0, 0, 0, 0.15);\n",
              "      filter: drop-shadow(0px 1px 2px rgba(0, 0, 0, 0.3));\n",
              "      fill: #FFFFFF;\n",
              "    }\n",
              "  </style>\n",
              "\n",
              "    <script>\n",
              "      const buttonEl =\n",
              "        document.querySelector('#df-7ef7aab5-4317-41da-89f5-435387eb7b45 button.colab-df-convert');\n",
              "      buttonEl.style.display =\n",
              "        google.colab.kernel.accessAllowed ? 'block' : 'none';\n",
              "\n",
              "      async function convertToInteractive(key) {\n",
              "        const element = document.querySelector('#df-7ef7aab5-4317-41da-89f5-435387eb7b45');\n",
              "        const dataTable =\n",
              "          await google.colab.kernel.invokeFunction('convertToInteractive',\n",
              "                                                    [key], {});\n",
              "        if (!dataTable) return;\n",
              "\n",
              "        const docLinkHtml = 'Like what you see? Visit the ' +\n",
              "          '<a target=\"_blank\" href=https://colab.research.google.com/notebooks/data_table.ipynb>data table notebook</a>'\n",
              "          + ' to learn more about interactive tables.';\n",
              "        element.innerHTML = '';\n",
              "        dataTable['output_type'] = 'display_data';\n",
              "        await google.colab.output.renderOutput(dataTable, element);\n",
              "        const docLink = document.createElement('div');\n",
              "        docLink.innerHTML = docLinkHtml;\n",
              "        element.appendChild(docLink);\n",
              "      }\n",
              "    </script>\n",
              "  </div>\n",
              "\n",
              "\n",
              "<div id=\"df-ee19eb2a-c435-4600-bf66-b2a228f7f876\">\n",
              "  <button class=\"colab-df-quickchart\" onclick=\"quickchart('df-ee19eb2a-c435-4600-bf66-b2a228f7f876')\"\n",
              "            title=\"Suggest charts\"\n",
              "            style=\"display:none;\">\n",
              "\n",
              "<svg xmlns=\"http://www.w3.org/2000/svg\" height=\"24px\"viewBox=\"0 0 24 24\"\n",
              "     width=\"24px\">\n",
              "    <g>\n",
              "        <path d=\"M19 3H5c-1.1 0-2 .9-2 2v14c0 1.1.9 2 2 2h14c1.1 0 2-.9 2-2V5c0-1.1-.9-2-2-2zM9 17H7v-7h2v7zm4 0h-2V7h2v10zm4 0h-2v-4h2v4z\"/>\n",
              "    </g>\n",
              "</svg>\n",
              "  </button>\n",
              "\n",
              "<style>\n",
              "  .colab-df-quickchart {\n",
              "      --bg-color: #E8F0FE;\n",
              "      --fill-color: #1967D2;\n",
              "      --hover-bg-color: #E2EBFA;\n",
              "      --hover-fill-color: #174EA6;\n",
              "      --disabled-fill-color: #AAA;\n",
              "      --disabled-bg-color: #DDD;\n",
              "  }\n",
              "\n",
              "  [theme=dark] .colab-df-quickchart {\n",
              "      --bg-color: #3B4455;\n",
              "      --fill-color: #D2E3FC;\n",
              "      --hover-bg-color: #434B5C;\n",
              "      --hover-fill-color: #FFFFFF;\n",
              "      --disabled-bg-color: #3B4455;\n",
              "      --disabled-fill-color: #666;\n",
              "  }\n",
              "\n",
              "  .colab-df-quickchart {\n",
              "    background-color: var(--bg-color);\n",
              "    border: none;\n",
              "    border-radius: 50%;\n",
              "    cursor: pointer;\n",
              "    display: none;\n",
              "    fill: var(--fill-color);\n",
              "    height: 32px;\n",
              "    padding: 0;\n",
              "    width: 32px;\n",
              "  }\n",
              "\n",
              "  .colab-df-quickchart:hover {\n",
              "    background-color: var(--hover-bg-color);\n",
              "    box-shadow: 0 1px 2px rgba(60, 64, 67, 0.3), 0 1px 3px 1px rgba(60, 64, 67, 0.15);\n",
              "    fill: var(--button-hover-fill-color);\n",
              "  }\n",
              "\n",
              "  .colab-df-quickchart-complete:disabled,\n",
              "  .colab-df-quickchart-complete:disabled:hover {\n",
              "    background-color: var(--disabled-bg-color);\n",
              "    fill: var(--disabled-fill-color);\n",
              "    box-shadow: none;\n",
              "  }\n",
              "\n",
              "  .colab-df-spinner {\n",
              "    border: 2px solid var(--fill-color);\n",
              "    border-color: transparent;\n",
              "    border-bottom-color: var(--fill-color);\n",
              "    animation:\n",
              "      spin 1s steps(1) infinite;\n",
              "  }\n",
              "\n",
              "  @keyframes spin {\n",
              "    0% {\n",
              "      border-color: transparent;\n",
              "      border-bottom-color: var(--fill-color);\n",
              "      border-left-color: var(--fill-color);\n",
              "    }\n",
              "    20% {\n",
              "      border-color: transparent;\n",
              "      border-left-color: var(--fill-color);\n",
              "      border-top-color: var(--fill-color);\n",
              "    }\n",
              "    30% {\n",
              "      border-color: transparent;\n",
              "      border-left-color: var(--fill-color);\n",
              "      border-top-color: var(--fill-color);\n",
              "      border-right-color: var(--fill-color);\n",
              "    }\n",
              "    40% {\n",
              "      border-color: transparent;\n",
              "      border-right-color: var(--fill-color);\n",
              "      border-top-color: var(--fill-color);\n",
              "    }\n",
              "    60% {\n",
              "      border-color: transparent;\n",
              "      border-right-color: var(--fill-color);\n",
              "    }\n",
              "    80% {\n",
              "      border-color: transparent;\n",
              "      border-right-color: var(--fill-color);\n",
              "      border-bottom-color: var(--fill-color);\n",
              "    }\n",
              "    90% {\n",
              "      border-color: transparent;\n",
              "      border-bottom-color: var(--fill-color);\n",
              "    }\n",
              "  }\n",
              "</style>\n",
              "\n",
              "  <script>\n",
              "    async function quickchart(key) {\n",
              "      const quickchartButtonEl =\n",
              "        document.querySelector('#' + key + ' button');\n",
              "      quickchartButtonEl.disabled = true;  // To prevent multiple clicks.\n",
              "      quickchartButtonEl.classList.add('colab-df-spinner');\n",
              "      try {\n",
              "        const charts = await google.colab.kernel.invokeFunction(\n",
              "            'suggestCharts', [key], {});\n",
              "      } catch (error) {\n",
              "        console.error('Error during call to suggestCharts:', error);\n",
              "      }\n",
              "      quickchartButtonEl.classList.remove('colab-df-spinner');\n",
              "      quickchartButtonEl.classList.add('colab-df-quickchart-complete');\n",
              "    }\n",
              "    (() => {\n",
              "      let quickchartButtonEl =\n",
              "        document.querySelector('#df-ee19eb2a-c435-4600-bf66-b2a228f7f876 button');\n",
              "      quickchartButtonEl.style.display =\n",
              "        google.colab.kernel.accessAllowed ? 'block' : 'none';\n",
              "    })();\n",
              "  </script>\n",
              "</div>\n",
              "    </div>\n",
              "  </div>\n"
            ],
            "text/plain": [
              "       lon      lat                      City         State        Country\n",
              "0 -86.4375  34.6875                Huntsville       Alabama  United States\n",
              "1 -92.4375  38.9375                  Columbia      Missouri  United States\n",
              "2 -89.5625  39.8125               Springfield      Illinois  United States\n",
              "3 -77.3125  40.1875   West Pennsboro Township  Pennsylvania  United States\n",
              "4 -79.4375  40.3125            Unity Township  Pennsylvania  United States\n",
              "5 -77.6875  41.3125            Noyes Township  Pennsylvania  United States\n",
              "6 -82.3125  42.8125                 St. Clair       Ontario         Canada\n",
              "7 -79.8125  43.1875                  Hamilton       Ontario         Canada\n",
              "8 -78.1875  44.9375            Highlands East       Ontario         Canada\n",
              "9 -80.0625  45.1875  The Archipelago Township       Ontario         Canada"
            ]
          },
          "execution_count": 22,
          "metadata": {},
          "output_type": "execute_result"
        }
      ],
      "source": [
        "result.select('lon','lat','City','State','Country').filter(result.City != 'NaN').limit(10).toPandas()"
      ]
    },
    {
      "cell_type": "code",
      "execution_count": null,
      "metadata": {},
      "outputs": [],
      "source": []
    }
  ],
  "metadata": {
    "colab": {
      "include_colab_link": true,
      "provenance": []
    },
    "kernelspec": {
      "display_name": "Python 3",
      "name": "python3"
    },
    "language_info": {
      "name": "python"
    }
  },
  "nbformat": 4,
  "nbformat_minor": 0
}
