{
  "cells": [
    {
      "cell_type": "markdown",
      "metadata": {
        "colab_type": "text",
        "id": "view-in-github"
      },
      "source": [
        "<a href=\"https://colab.research.google.com/github/PiotrMaciejKowalski/BigData2024Project/blob/refactoring-sprint2/colabs/Setup_environment_in_cloud.ipynb\" target=\"_parent\"><img src=\"https://colab.research.google.com/assets/colab-badge.svg\" alt=\"Open In Colab\"/></a>"
      ]
    },
    {
      "cell_type": "markdown",
      "metadata": {
        "id": "S67JiSCHfgMc"
      },
      "source": [
        "# Cel notatnika\n",
        "\n",
        "Celem notatnika jest utworzenie w przestrzeni osobistej chmury googla składowych umożliwiających szybką inicjalizację eksperymentów.\n",
        "\n",
        "W szczególności\n",
        "* instalację sparka w pamięci chmury google\n",
        "* setup kodu z repozytorium\n",
        "* ustawienie branchy z kodem"
      ]
    },
    {
      "cell_type": "code",
      "execution_count": 1,
      "metadata": {
        "colab": {
          "base_uri": "https://localhost:8080/"
        },
        "id": "P90FluJDhG4g",
        "outputId": "67a726b4-5617-4ac5-8961-b66b4aed5c9a"
      },
      "outputs": [
        {
          "name": "stdout",
          "output_type": "stream",
          "text": [
            "Mounted at /content/drive\n"
          ]
        }
      ],
      "source": [
        "from google.colab import drive\n",
        "drive.mount('/content/drive')"
      ]
    },
    {
      "cell_type": "code",
      "execution_count": 2,
      "metadata": {
        "colab": {
          "base_uri": "https://localhost:8080/"
        },
        "id": "6wqf7dANhJIo",
        "outputId": "7d2de9f9-356c-4b33-f273-b14b95a169af"
      },
      "outputs": [
        {
          "name": "stdout",
          "output_type": "stream",
          "text": [
            "/content/drive/MyDrive\n"
          ]
        }
      ],
      "source": [
        "%cd drive/MyDrive"
      ]
    },
    {
      "cell_type": "markdown",
      "metadata": {
        "id": "S7bJWMC0rbNS"
      },
      "source": [
        "# Clone repository"
      ]
    },
    {
      "cell_type": "code",
      "execution_count": 5,
      "metadata": {
        "colab": {
          "base_uri": "https://localhost:8080/"
        },
        "id": "x_YpbLzOjqp_",
        "outputId": "f7913220-4346-408e-fbc8-30cc8e87ede5"
      },
      "outputs": [
        {
          "name": "stdout",
          "output_type": "stream",
          "text": [
            "Cloning into 'BigData2024Project'...\n",
            "remote: Enumerating objects: 1186, done.\u001b[K\n",
            "remote: Counting objects: 100% (532/532), done.\u001b[K\n",
            "remote: Compressing objects: 100% (325/325), done.\u001b[K\n",
            "remote: Total 1186 (delta 361), reused 295 (delta 199), pack-reused 654\u001b[K\n",
            "Receiving objects: 100% (1186/1186), 54.20 MiB | 12.95 MiB/s, done.\n",
            "Resolving deltas: 100% (624/624), done.\n",
            "Updating files: 100% (114/114), done.\n"
          ]
        }
      ],
      "source": [
        "!git clone https://github.com/PiotrMaciejKowalski/BigData2024Project.git"
      ]
    },
    {
      "cell_type": "code",
      "execution_count": 6,
      "metadata": {
        "colab": {
          "base_uri": "https://localhost:8080/"
        },
        "id": "WIWhaX1hkQjW",
        "outputId": "33bf7ad6-91e4-4539-e660-069afa944f9e"
      },
      "outputs": [
        {
          "name": "stdout",
          "output_type": "stream",
          "text": [
            "/content/drive/MyDrive/BigData2024Project\n"
          ]
        }
      ],
      "source": [
        "%cd BigData2024Project"
      ]
    },
    {
      "cell_type": "code",
      "execution_count": 16,
      "metadata": {
        "colab": {
          "base_uri": "https://localhost:8080/"
        },
        "id": "XEoyp6xgkEnC",
        "outputId": "04bc3808-4b5d-4584-c6af-6950d483e1bd"
      },
      "outputs": [
        {
          "name": "stdout",
          "output_type": "stream",
          "text": [
            "Branch 'refactoring-sprint2' set up to track remote branch 'refactoring-sprint2' from 'origin'.\n",
            "Switched to a new branch 'refactoring-sprint2'\n"
          ]
        }
      ],
      "source": [
        "!git checkout refactoring-sprint2"
      ]
    },
    {
      "cell_type": "code",
      "execution_count": null,
      "metadata": {
        "id": "tPEz-BKftSNN"
      },
      "outputs": [],
      "source": []
    }
  ],
  "metadata": {
    "colab": {
      "authorship_tag": "ABX9TyO1LFg7dnR9vc4fK5tcEcnt",
      "include_colab_link": true,
      "provenance": []
    },
    "kernelspec": {
      "display_name": "Python 3",
      "name": "python3"
    },
    "language_info": {
      "name": "python"
    }
  },
  "nbformat": 4,
  "nbformat_minor": 0
}
