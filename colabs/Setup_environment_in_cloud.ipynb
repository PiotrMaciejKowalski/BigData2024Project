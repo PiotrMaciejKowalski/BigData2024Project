{
  "nbformat": 4,
  "nbformat_minor": 0,
  "metadata": {
    "colab": {
      "provenance": [],
      "authorship_tag": "ABX9TyO1LFg7dnR9vc4fK5tcEcnt",
      "include_colab_link": true
    },
    "kernelspec": {
      "name": "python3",
      "display_name": "Python 3"
    },
    "language_info": {
      "name": "python"
    }
  },
  "cells": [
    {
      "cell_type": "markdown",
      "metadata": {
        "id": "view-in-github",
        "colab_type": "text"
      },
      "source": [
        "<a href=\"https://colab.research.google.com/github/PiotrMaciejKowalski/BigData2024Project/blob/refactoring-sprint2/colabs/Setup_environment_in_cloud.ipynb\" target=\"_parent\"><img src=\"https://colab.research.google.com/assets/colab-badge.svg\" alt=\"Open In Colab\"/></a>"
      ]
    },
    {
      "cell_type": "markdown",
      "source": [
        "# Cel notatnika\n",
        "\n",
        "Celem notatnika jest utworzenie w przestrzeni osobistej chmury googla składowych umożliwiających szybką inicjalizację eksperymentów.\n",
        "\n",
        "W szczególności\n",
        "* instalację sparka w pamięci chmury google\n",
        "* setup kodu z repozytorium\n",
        "* ustawienie branchy z kodem"
      ],
      "metadata": {
        "id": "S67JiSCHfgMc"
      }
    },
    {
      "cell_type": "code",
      "source": [
        "from google.colab import drive\n",
        "drive.mount('/content/drive')"
      ],
      "metadata": {
        "colab": {
          "base_uri": "https://localhost:8080/"
        },
        "id": "P90FluJDhG4g",
        "outputId": "67a726b4-5617-4ac5-8961-b66b4aed5c9a"
      },
      "execution_count": 1,
      "outputs": [
        {
          "output_type": "stream",
          "name": "stdout",
          "text": [
            "Mounted at /content/drive\n"
          ]
        }
      ]
    },
    {
      "cell_type": "code",
      "source": [
        "%cd drive/MyDrive\n"
      ],
      "metadata": {
        "colab": {
          "base_uri": "https://localhost:8080/"
        },
        "id": "6wqf7dANhJIo",
        "outputId": "7d2de9f9-356c-4b33-f273-b14b95a169af"
      },
      "execution_count": 2,
      "outputs": [
        {
          "output_type": "stream",
          "name": "stdout",
          "text": [
            "/content/drive/MyDrive\n"
          ]
        }
      ]
    },
    {
      "cell_type": "markdown",
      "source": [
        "Install spark in cloud directory"
      ],
      "metadata": {
        "id": "fQqFEJhFrW5B"
      }
    },
    {
      "cell_type": "code",
      "execution_count": null,
      "metadata": {
        "id": "mpMVeYpifcF9"
      },
      "outputs": [],
      "source": [
        "%mkdir spark\n",
        "%cd spark\n",
        "!wget -q dlcdn.apache.org/spark/spark-3.5.0/spark-3.5.0-bin-hadoop3.tgz\n",
        "!tar xf spark-3.5.0-bin-hadoop3.tgz\n",
        "%cd .."
      ]
    },
    {
      "cell_type": "markdown",
      "source": [
        "# Clone repository"
      ],
      "metadata": {
        "id": "S7bJWMC0rbNS"
      }
    },
    {
      "cell_type": "code",
      "source": [
        "!git clone https://github.com/PiotrMaciejKowalski/BigData2024Project.git"
      ],
      "metadata": {
        "colab": {
          "base_uri": "https://localhost:8080/"
        },
        "id": "x_YpbLzOjqp_",
        "outputId": "f7913220-4346-408e-fbc8-30cc8e87ede5"
      },
      "execution_count": 5,
      "outputs": [
        {
          "output_type": "stream",
          "name": "stdout",
          "text": [
            "Cloning into 'BigData2024Project'...\n",
            "remote: Enumerating objects: 1186, done.\u001b[K\n",
            "remote: Counting objects: 100% (532/532), done.\u001b[K\n",
            "remote: Compressing objects: 100% (325/325), done.\u001b[K\n",
            "remote: Total 1186 (delta 361), reused 295 (delta 199), pack-reused 654\u001b[K\n",
            "Receiving objects: 100% (1186/1186), 54.20 MiB | 12.95 MiB/s, done.\n",
            "Resolving deltas: 100% (624/624), done.\n",
            "Updating files: 100% (114/114), done.\n"
          ]
        }
      ]
    },
    {
      "cell_type": "code",
      "source": [
        "%cd BigData2024Project"
      ],
      "metadata": {
        "colab": {
          "base_uri": "https://localhost:8080/"
        },
        "id": "WIWhaX1hkQjW",
        "outputId": "33bf7ad6-91e4-4539-e660-069afa944f9e"
      },
      "execution_count": 6,
      "outputs": [
        {
          "output_type": "stream",
          "name": "stdout",
          "text": [
            "/content/drive/MyDrive/BigData2024Project\n"
          ]
        }
      ]
    },
    {
      "cell_type": "code",
      "source": [
        "!git checkout refactoring-sprint2"
      ],
      "metadata": {
        "colab": {
          "base_uri": "https://localhost:8080/"
        },
        "id": "XEoyp6xgkEnC",
        "outputId": "04bc3808-4b5d-4584-c6af-6950d483e1bd"
      },
      "execution_count": 16,
      "outputs": [
        {
          "output_type": "stream",
          "name": "stdout",
          "text": [
            "Branch 'refactoring-sprint2' set up to track remote branch 'refactoring-sprint2' from 'origin'.\n",
            "Switched to a new branch 'refactoring-sprint2'\n"
          ]
        }
      ]
    },
    {
      "cell_type": "code",
      "source": [],
      "metadata": {
        "id": "tPEz-BKftSNN"
      },
      "execution_count": null,
      "outputs": []
    }
  ]
}