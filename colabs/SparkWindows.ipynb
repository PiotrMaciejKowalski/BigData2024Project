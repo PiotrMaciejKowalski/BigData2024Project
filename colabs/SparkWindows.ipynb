{
  "cells": [
    {
      "cell_type": "code",
      "execution_count": 1,
      "metadata": {
        "colab": {
          "base_uri": "https://localhost:8080/"
        },
        "id": "uJdUA-yPkXst",
        "outputId": "ca806a4e-371a-48f5-96c5-9f9bf5039fdb"
      },
      "outputs": [
        {
          "name": "stdout",
          "output_type": "stream",
          "text": [
            "Collecting pyspark\n",
            "  Downloading pyspark-3.5.0.tar.gz (316.9 MB)\n",
            "\u001b[2K     \u001b[90m━━━━━━━━━━━━━━━━━━━━━━━━━━━━━━━━━━━━━━━━\u001b[0m \u001b[32m316.9/316.9 MB\u001b[0m \u001b[31m3.8 MB/s\u001b[0m eta \u001b[36m0:00:00\u001b[0m\n",
            "\u001b[?25h  Preparing metadata (setup.py) ... \u001b[?25l\u001b[?25hdone\n",
            "Requirement already satisfied: py4j==0.10.9.7 in /usr/local/lib/python3.10/dist-packages (from pyspark) (0.10.9.7)\n",
            "Building wheels for collected packages: pyspark\n",
            "  Building wheel for pyspark (setup.py) ... \u001b[?25l\u001b[?25hdone\n",
            "  Created wheel for pyspark: filename=pyspark-3.5.0-py2.py3-none-any.whl size=317425345 sha256=f02a59412f706a0ec63e0f938809c651241acfb3f8f0a24ee1852059b5e1562f\n",
            "  Stored in directory: /root/.cache/pip/wheels/41/4e/10/c2cf2467f71c678cfc8a6b9ac9241e5e44a01940da8fbb17fc\n",
            "Successfully built pyspark\n",
            "Installing collected packages: pyspark\n",
            "Successfully installed pyspark-3.5.0\n"
          ]
        }
      ],
      "source": [
        "!pip install pyspark\n",
        "\n",
        "from google.colab import drive\n",
        "from pyspark.sql.functions import col\n",
        "from pyspark.sql import SparkSession\n",
        "from pyspark.sql.types import IntegerType, FloatType, StringType, StructType\n",
        "from pyspark.sql import Window\n",
        "\n",
        "import pyspark\n",
        "import pyspark.sql.functions as F\n",
        "import pyspark.sql.types as T"
      ]
    },
    {
      "cell_type": "code",
      "execution_count": 2,
      "metadata": {
        "id": "QbLADY13kjBr"
      },
      "outputs": [],
      "source": [
        "# tworzenie sesji w Sparku\n",
        "spark = SparkSession.builder.appName('SparkWindows').getOrCreate()"
      ]
    },
    {
      "cell_type": "code",
      "execution_count": 3,
      "metadata": {
        "colab": {
          "base_uri": "https://localhost:8080/"
        },
        "id": "C4-zbxnhkrVw",
        "outputId": "8f083e77-c348-4425-e7a4-456df40f4c43"
      },
      "outputs": [
        {
          "name": "stdout",
          "output_type": "stream",
          "text": [
            "Mounted at /content/drive\n",
            "+---------+-------+------+-----+---------+---------+---------+-------------+----------+---------+----------+---------------+\n",
            "|      lon|    lat|  Date|Rainf|     Evap| AvgSurfT|   Albedo|SoilT_10_40cm|      GVEG|  PotEvap| RootMoist|SoilM_100_200cm|\n",
            "+---------+-------+------+-----+---------+---------+---------+-------------+----------+---------+----------+---------------+\n",
            "|-112.0625|25.0625|200001|  0.0|   4.3807| 288.0707| 41.47715|    289.00714|0.19712792|139.13737|  243.2525|      108.76931|\n",
            "|-111.9375|25.0625|200001|  0.0|4.6673994|287.39276|41.509407|     288.8017|0.19860405|162.25638| 220.77466|       90.67495|\n",
            "|-111.8125|25.0625|200001|  0.0|5.8487973| 287.6554|41.505375|    289.55984|0.17118543|121.55404| 103.95005|      161.94794|\n",
            "|-111.6875|25.0625|200001|  0.0|6.4366016| 287.5386|41.501343|    289.61142|0.17118543|127.63407|106.032845|      163.44402|\n",
            "|-111.5625|25.0625|200001|  0.0|3.4506986| 287.2394|41.509407|     289.2371| 0.1429876|179.37668| 161.43001|      187.07886|\n",
            "+---------+-------+------+-----+---------+---------+---------+-------------+----------+---------+----------+---------------+\n",
            "only showing top 5 rows\n",
            "\n"
          ]
        }
      ],
      "source": [
        "# wczytanie danych z google drive\n",
        "drive.mount('/content/drive')\n",
        "\n",
        "columns = ['lon', 'lat', 'Date', 'Rainf', 'Evap', 'AvgSurfT', 'Albedo','SoilT_10_40cm', 'GVEG', 'PotEvap', 'RootMoist', 'SoilM_100_200cm']\n",
        "\n",
        "# Utworzenie schematu określającego typ zmiennych\n",
        "schema = StructType()\n",
        "for i in columns:\n",
        "  if i == \"Date\":\n",
        "    schema = schema.add(i, IntegerType(), True)\n",
        "  else:\n",
        "    schema = schema.add(i, FloatType(), True)\n",
        "\n",
        "nasa = spark.read.format('csv').option(\"header\", True).schema(schema).load('/content/drive/MyDrive/BigMess/NASA/NASA.csv')\n",
        "nasa.show(5)"
      ]
    },
    {
      "cell_type": "code",
      "execution_count": 4,
      "metadata": {
        "colab": {
          "base_uri": "https://localhost:8080/"
        },
        "id": "5wvmZ5_isGZe",
        "outputId": "0f990ee5-b017-4d6d-b44e-93858f356619"
      },
      "outputs": [
        {
          "name": "stdout",
          "output_type": "stream",
          "text": [
            "+----+-----+---------+-------+-----+---------+---------+---------+-------------+----------+---------+----------+---------------+\n",
            "|Year|Month|      lon|    lat|Rainf|     Evap| AvgSurfT|   Albedo|SoilT_10_40cm|      GVEG|  PotEvap| RootMoist|SoilM_100_200cm|\n",
            "+----+-----+---------+-------+-----+---------+---------+---------+-------------+----------+---------+----------+---------------+\n",
            "|2000|    1|-112.0625|25.0625|  0.0|   4.3807| 288.0707| 41.47715|    289.00714|0.19712792|139.13737|  243.2525|      108.76931|\n",
            "|2000|    1|-111.9375|25.0625|  0.0|4.6673994|287.39276|41.509407|     288.8017|0.19860405|162.25638| 220.77466|       90.67495|\n",
            "|2000|    1|-111.8125|25.0625|  0.0|5.8487973| 287.6554|41.505375|    289.55984|0.17118543|121.55404| 103.95005|      161.94794|\n",
            "|2000|    1|-111.6875|25.0625|  0.0|6.4366016| 287.5386|41.501343|    289.61142|0.17118543|127.63407|106.032845|      163.44402|\n",
            "|2000|    1|-111.5625|25.0625|  0.0|3.4506986| 287.2394|41.509407|     289.2371| 0.1429876|179.37668| 161.43001|      187.07886|\n",
            "+----+-----+---------+-------+-----+---------+---------+---------+-------------+----------+---------+----------+---------------+\n",
            "only showing top 5 rows\n",
            "\n"
          ]
        }
      ],
      "source": [
        "# rozdzielenie kolumny Date na Year i Month\n",
        "nasa.createOrReplaceTempView(\"nasa\")\n",
        "nasa = spark.sql(\"\"\"\n",
        "          SELECT\n",
        "          CAST(SUBSTRING(CAST(Date AS STRING), 1, 4) AS INT) AS Year,\n",
        "          CAST(SUBSTRING(CAST(Date AS STRING), 5, 2) AS INT) AS Month,\n",
        "          n.*\n",
        "          FROM nasa n\n",
        "          \"\"\")\n",
        "\n",
        "nasa = nasa.drop(\"Date\")\n",
        "nasa.show(5)"
      ]
    },
    {
      "cell_type": "code",
      "execution_count": 20,
      "metadata": {
        "id": "ugIA--SdlFkC"
      },
      "outputs": [],
      "source": [
        "# Funkcja do tworzenia cech czasowych z wykorzsytaniem funkcji window w Sparku\n",
        "def overYearStats(column: str, n: int):\n",
        "  \"\"\"\n",
        "    Funkcja liczaca statystyki minimum, maximum, srednia i mediane dla wybranej zmiennej z zakresu n miesiecy wstecz i n miesiecy w przod dla danych wspolrzednych geograficznych\n",
        "\n",
        "    :param column: zmienna, dla ktorej liczymy min, max itd.\n",
        "    :param n: liczba dni w przod i w tyl z ktorych liczymy statystyki\n",
        "  \"\"\"\n",
        "  windowSpec = Window.partitionBy(\"lon\", \"lat\").orderBy(\"Year\", \"Month\").rowsBetween(-n, n)\n",
        "\n",
        "  nasa_window = (nasa.withColumn(\"average_\" + column, F.avg(F.col(column)).over(windowSpec))\n",
        "                .withColumn(\"min_\" + column, F.min(F.col(column)).over(windowSpec))\n",
        "                .withColumn(\"max_\" + column, F.max(F.col(column)).over(windowSpec))\n",
        "                .withColumn(\"median_\" + column, F.expr(\"percentile_approx(\" + column + \", 0.5)\").over(windowSpec))\n",
        "                )\n",
        "  return nasa_window"
      ]
    },
    {
      "cell_type": "code",
      "execution_count": 21,
      "metadata": {
        "id": "9qY5ROTpai6i"
      },
      "outputs": [],
      "source": [
        "result = overYearStats(\"Evap\", 5)"
      ]
    },
    {
      "cell_type": "code",
      "execution_count": 22,
      "metadata": {
        "colab": {
          "base_uri": "https://localhost:8080/"
        },
        "id": "JFNsAohqya6_",
        "outputId": "0fbf7af3-932e-4b1b-c1bd-02fb994a96c7"
      },
      "outputs": [
        {
          "name": "stdout",
          "output_type": "stream",
          "text": [
            "+----+-----+---------+-------+----------+---------+---------+---------+-------------+----------+---------+---------+---------------+------------------+---------+---------+-----------+\n",
            "|Year|Month|      lon|    lat|     Rainf|     Evap| AvgSurfT|   Albedo|SoilT_10_40cm|      GVEG|  PotEvap|RootMoist|SoilM_100_200cm|      average_Evap| min_Evap| max_Evap|median_Evap|\n",
            "+----+-----+---------+-------+----------+---------+---------+---------+-------------+----------+---------+---------+---------------+------------------+---------+---------+-----------+\n",
            "|1979|    1|-124.5625|47.9375| 102.24292|10.942404|274.84088| 19.94993|    277.61047|0.51115257|37.040825| 632.6485|      323.77112| 31.97905158996582|10.942404|45.125782|  30.352905|\n",
            "|1979|    2|-124.5625|47.9375| 512.05865|30.025711|277.54193| 19.33631|     277.1021|0.52497137|48.730946| 684.1061|      347.15833|33.174666268484934|10.942404|45.125782|  30.520498|\n",
            "|1979|    3|-124.5625|47.9375|  186.3494|30.520498| 279.1123|18.885754|     278.0162|0.56353873|109.74138| 645.7304|       332.0991| 32.94568347930908|10.942404|45.125782|  30.520498|\n",
            "|1979|    4|-124.5625|47.9375|   165.152| 44.90701| 281.1038|  18.5875|    278.68564|0.64292705|136.05423| 630.4567|      319.79108| 33.71119520399306|10.942404|45.125782|  31.342804|\n",
            "|1979|    5|-124.5625|47.9375|120.077156|45.125782|284.00424|18.926075|    280.21417|0.81023866|156.17096| 612.5531|       312.0563| 33.26064510345459|10.942404|45.125782|  30.520498|\n",
            "+----+-----+---------+-------+----------+---------+---------+---------+-------------+----------+---------+---------+---------------+------------------+---------+---------+-----------+\n",
            "only showing top 5 rows\n",
            "\n"
          ]
        }
      ],
      "source": [
        "result.show(5)"
      ]
    }
  ],
  "metadata": {
    "colab": {
      "provenance": []
    },
    "kernelspec": {
      "display_name": "Python 3",
      "name": "python3"
    },
    "language_info": {
      "name": "python"
    }
  },
  "nbformat": 4,
  "nbformat_minor": 0
}
