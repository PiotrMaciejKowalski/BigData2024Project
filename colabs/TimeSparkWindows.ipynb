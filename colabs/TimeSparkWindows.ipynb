{
  "cells": [
    {
      "cell_type": "code",
      "execution_count": 1,
      "metadata": {
        "colab": {
          "base_uri": "https://localhost:8080/"
        },
        "id": "uJdUA-yPkXst",
        "outputId": "151249a8-1107-47e2-b7a0-fb5dfaa9012b"
      },
      "outputs": [
        {
          "output_type": "stream",
          "name": "stdout",
          "text": [
            "Collecting pyspark\n",
            "  Downloading pyspark-3.5.0.tar.gz (316.9 MB)\n",
            "\u001b[2K     \u001b[90m━━━━━━━━━━━━━━━━━━━━━━━━━━━━━━━━━━━━━━━━\u001b[0m \u001b[32m316.9/316.9 MB\u001b[0m \u001b[31m4.5 MB/s\u001b[0m eta \u001b[36m0:00:00\u001b[0m\n",
            "\u001b[?25h  Preparing metadata (setup.py) ... \u001b[?25l\u001b[?25hdone\n",
            "Requirement already satisfied: py4j==0.10.9.7 in /usr/local/lib/python3.10/dist-packages (from pyspark) (0.10.9.7)\n",
            "Building wheels for collected packages: pyspark\n",
            "  Building wheel for pyspark (setup.py) ... \u001b[?25l\u001b[?25hdone\n",
            "  Created wheel for pyspark: filename=pyspark-3.5.0-py2.py3-none-any.whl size=317425345 sha256=fedb60dbe8acb485f86e6b564e4030e0fc8d601a1d3213cfb6ea21a345da1432\n",
            "  Stored in directory: /root/.cache/pip/wheels/41/4e/10/c2cf2467f71c678cfc8a6b9ac9241e5e44a01940da8fbb17fc\n",
            "Successfully built pyspark\n",
            "Installing collected packages: pyspark\n",
            "Successfully installed pyspark-3.5.0\n"
          ]
        }
      ],
      "source": [
        "!pip install pyspark\n",
        "\n",
        "from google.colab import drive\n",
        "from pyspark.sql.functions import col\n",
        "from pyspark.sql.functions import size\n",
        "from pyspark.sql import SparkSession\n",
        "from pyspark.sql.types import IntegerType, FloatType, StringType, StructType\n",
        "from pyspark.sql import Window\n",
        "\n",
        "import pyspark\n",
        "import pyspark.sql.functions as F\n",
        "import pyspark.sql.types as T"
      ]
    },
    {
      "cell_type": "code",
      "execution_count": 2,
      "metadata": {
        "id": "QbLADY13kjBr"
      },
      "outputs": [],
      "source": [
        "# tworzenie sesji w Sparku\n",
        "spark = SparkSession.builder.appName('SparkWindows').getOrCreate()"
      ]
    },
    {
      "cell_type": "code",
      "execution_count": 3,
      "metadata": {
        "id": "C4-zbxnhkrVw",
        "colab": {
          "base_uri": "https://localhost:8080/"
        },
        "outputId": "8e6b888c-a010-4315-9050-9efa3b76aa27"
      },
      "outputs": [
        {
          "output_type": "stream",
          "name": "stdout",
          "text": [
            "Mounted at /content/drive\n",
            "+---------+-------+------+-----+---------+---------+---------+-------------+----------+---------+----------+---------------+\n",
            "|      lon|    lat|  Date|Rainf|     Evap| AvgSurfT|   Albedo|SoilT_10_40cm|      GVEG|  PotEvap| RootMoist|SoilM_100_200cm|\n",
            "+---------+-------+------+-----+---------+---------+---------+-------------+----------+---------+----------+---------------+\n",
            "|-112.0625|25.0625|200001|  0.0|   4.3807| 288.0707| 41.47715|    289.00714|0.19712792|139.13737|  243.2525|      108.76931|\n",
            "|-111.9375|25.0625|200001|  0.0|4.6673994|287.39276|41.509407|     288.8017|0.19860405|162.25638| 220.77466|       90.67495|\n",
            "|-111.8125|25.0625|200001|  0.0|5.8487973| 287.6554|41.505375|    289.55984|0.17118543|121.55404| 103.95005|      161.94794|\n",
            "|-111.6875|25.0625|200001|  0.0|6.4366016| 287.5386|41.501343|    289.61142|0.17118543|127.63407|106.032845|      163.44402|\n",
            "|-111.5625|25.0625|200001|  0.0|3.4506986| 287.2394|41.509407|     289.2371| 0.1429876|179.37668| 161.43001|      187.07886|\n",
            "+---------+-------+------+-----+---------+---------+---------+-------------+----------+---------+----------+---------------+\n",
            "only showing top 5 rows\n",
            "\n"
          ]
        }
      ],
      "source": [
        "# wczytanie danych z google drive\n",
        "drive.mount('/content/drive')\n",
        "\n",
        "columns = ['lon', 'lat', 'Date', 'Rainf', 'Evap', 'AvgSurfT', 'Albedo','SoilT_10_40cm', 'GVEG', 'PotEvap', 'RootMoist', 'SoilM_100_200cm']\n",
        "\n",
        "# Utworzenie schematu okreslajacego typ zmiennych\n",
        "schema = StructType()\n",
        "for i in columns:\n",
        "  if i == \"Date\":\n",
        "    schema = schema.add(i, IntegerType(), True)\n",
        "  else:\n",
        "    schema = schema.add(i, FloatType(), True)\n",
        "\n",
        "nasa = spark.read.format('csv').option(\"header\", True).schema(schema).load('/content/drive/MyDrive/BigMess/NASA/NASA.csv')\n",
        "nasa.show(5)"
      ]
    },
    {
      "cell_type": "code",
      "execution_count": 4,
      "metadata": {
        "id": "5wvmZ5_isGZe",
        "colab": {
          "base_uri": "https://localhost:8080/"
        },
        "outputId": "b74a1dff-3eca-429a-e56d-3a73b6d4aa77"
      },
      "outputs": [
        {
          "output_type": "stream",
          "name": "stdout",
          "text": [
            "+----+-----+---------+-------+-----+---------+---------+---------+-------------+----------+---------+----------+---------------+\n",
            "|Year|Month|      lon|    lat|Rainf|     Evap| AvgSurfT|   Albedo|SoilT_10_40cm|      GVEG|  PotEvap| RootMoist|SoilM_100_200cm|\n",
            "+----+-----+---------+-------+-----+---------+---------+---------+-------------+----------+---------+----------+---------------+\n",
            "|2000|    1|-112.0625|25.0625|  0.0|   4.3807| 288.0707| 41.47715|    289.00714|0.19712792|139.13737|  243.2525|      108.76931|\n",
            "|2000|    1|-111.9375|25.0625|  0.0|4.6673994|287.39276|41.509407|     288.8017|0.19860405|162.25638| 220.77466|       90.67495|\n",
            "|2000|    1|-111.8125|25.0625|  0.0|5.8487973| 287.6554|41.505375|    289.55984|0.17118543|121.55404| 103.95005|      161.94794|\n",
            "|2000|    1|-111.6875|25.0625|  0.0|6.4366016| 287.5386|41.501343|    289.61142|0.17118543|127.63407|106.032845|      163.44402|\n",
            "|2000|    1|-111.5625|25.0625|  0.0|3.4506986| 287.2394|41.509407|     289.2371| 0.1429876|179.37668| 161.43001|      187.07886|\n",
            "+----+-----+---------+-------+-----+---------+---------+---------+-------------+----------+---------+----------+---------------+\n",
            "only showing top 5 rows\n",
            "\n"
          ]
        }
      ],
      "source": [
        "# rozdzielenie kolumny Date na Year i Month\n",
        "nasa.createOrReplaceTempView(\"nasa\")\n",
        "nasa = spark.sql(\"\"\"\n",
        "          SELECT\n",
        "          CAST(SUBSTRING(CAST(Date AS STRING), 1, 4) AS INT) AS Year,\n",
        "          CAST(SUBSTRING(CAST(Date AS STRING), 5, 2) AS INT) AS Month,\n",
        "          n.*\n",
        "          FROM nasa n\n",
        "          \"\"\")\n",
        "\n",
        "nasa = nasa.drop(\"Date\")\n",
        "nasa.show(5)"
      ]
    },
    {
      "cell_type": "code",
      "execution_count": 5,
      "metadata": {
        "id": "ugIA--SdlFkC"
      },
      "outputs": [],
      "source": [
        "# Funkcja do tworzenia cech czasowych z wykorzystaniem funkcji window w Sparku\n",
        "def overYearStats(column: str, n: int):\n",
        "  \"\"\"\n",
        "    Funkcja liczaca statystyki srednia i mediane dla wybranej zmiennej z zakresu n miesiecy wstecz i n miesiecy w przod dla danych wspolrzednych geograficznych\n",
        "\n",
        "    :param column: zmienna, dla ktorej liczymy min, max itd.\n",
        "    :param n: liczba dni w przod i w tyl z ktorych liczymy statystyki\n",
        "  \"\"\"\n",
        "  windowSpec = Window.partitionBy(\"lon\", \"lat\").orderBy(\"Year\", \"Month\").rowsBetween(-n, n)\n",
        "\n",
        "  nasa_window = (nasa.withColumn(\"average_\" + column, F.avg(F.col(column)).over(windowSpec))\n",
        "                .withColumn(\"median_\" + column, F.expr(\"percentile_approx(\" + column + \", 0.5)\").over(windowSpec))\n",
        "                )\n",
        "  return nasa_window"
      ]
    },
    {
      "cell_type": "code",
      "execution_count": 6,
      "metadata": {
        "id": "9qY5ROTpai6i"
      },
      "outputs": [],
      "source": [
        "result = overYearStats(\"GVEG\", 5)"
      ]
    },
    {
      "cell_type": "code",
      "execution_count": 7,
      "metadata": {
        "id": "JFNsAohqya6_",
        "colab": {
          "base_uri": "https://localhost:8080/"
        },
        "outputId": "1c81f877-d270-44ca-bbc6-8988bb95ce19"
      },
      "outputs": [
        {
          "output_type": "stream",
          "name": "stdout",
          "text": [
            "+----+-----+---------+-------+----------+---------+---------+---------+-------------+----------+---------+---------+---------------+------------------+-----------+\n",
            "|Year|Month|      lon|    lat|     Rainf|     Evap| AvgSurfT|   Albedo|SoilT_10_40cm|      GVEG|  PotEvap|RootMoist|SoilM_100_200cm|      average_GVEG|median_GVEG|\n",
            "+----+-----+---------+-------+----------+---------+---------+---------+-------------+----------+---------+---------+---------------+------------------+-----------+\n",
            "|1979|    1|-124.5625|47.9375| 102.24292|10.942404|274.84088| 19.94993|    277.61047|0.51115257|37.040825| 632.6485|      323.77112| 0.662685622771581| 0.56353873|\n",
            "|1979|    2|-124.5625|47.9375| 512.05865|30.025711|277.54193| 19.33631|     277.1021|0.52497137|48.730946| 684.1061|      347.15833|0.7008754355566842| 0.64292705|\n",
            "|1979|    3|-124.5625|47.9375|  186.3494|30.520498| 279.1123|18.885754|     278.0162|0.56353873|109.74138| 645.7304|       332.0991|0.7268796861171722| 0.64292705|\n",
            "|1979|    4|-124.5625|47.9375|   165.152| 44.90701| 281.1038|  18.5875|    278.68564|0.64292705|136.05423| 630.4567|      319.79108| 0.735827750629849| 0.80741227|\n",
            "|1979|    5|-124.5625|47.9375|120.077156|45.125782|284.00424|18.926075|    280.21417|0.81023866|156.17096| 612.5531|       312.0563|0.7231161177158356| 0.64292705|\n",
            "+----+-----+---------+-------+----------+---------+---------+---------+-------------+----------+---------+---------+---------------+------------------+-----------+\n",
            "only showing top 5 rows\n",
            "\n"
          ]
        }
      ],
      "source": [
        "result.show(5)"
      ]
    },
    {
      "cell_type": "code",
      "source": [
        "# jako ze korzystamy z funkcji rangeBetween musimy sprawdzic czy dla kazdej pary wspolrzednych jest zapis z 12 miesiecy kazdego roku. Najpierw stworzymy dodatkowe kolumy \"allyears\" i \"allmonths\"\n",
        "# ktore zawierac beda listy wszystkich lat i miesiecy dla danej pary wspolrzednych\n",
        "windowSpec = Window.partitionBy('lon', 'lat')\n",
        "\n",
        "test = (result.withColumn('AllYears', F.collect_list(F.col('Year')).over(windowSpec))\n",
        "       .withColumn('AllMonths', F.collect_list(F.col('Month')).over(windowSpec))\n",
        "       )\n",
        "\n",
        "# usuwamy z naszej tabeli pomocniczej duplikaty lat i miesiecy z list w wyzej utworzonych kolumnach\n",
        "test = (test.withColumn('AllYears', F.array_distinct('AllYears'))\n",
        "       .withColumn('AllMonths', F.array_distinct('AllMonths'))\n",
        "       )\n",
        "\n",
        "test.show()"
      ],
      "metadata": {
        "id": "LmLGTUYiGr0A",
        "colab": {
          "base_uri": "https://localhost:8080/"
        },
        "outputId": "6965b996-dc41-4b7e-842c-6c5a63cf7e54"
      },
      "execution_count": 20,
      "outputs": [
        {
          "output_type": "stream",
          "name": "stdout",
          "text": [
            "+----+-----+---------+-------+----------+---------+---------+---------+-------------+----------+---------+---------+---------------+------------------+-----------+--------------------+--------------------+\n",
            "|Year|Month|      lon|    lat|     Rainf|     Evap| AvgSurfT|   Albedo|SoilT_10_40cm|      GVEG|  PotEvap|RootMoist|SoilM_100_200cm|      average_GVEG|median_GVEG|            AllYears|           AllMonths|\n",
            "+----+-----+---------+-------+----------+---------+---------+---------+-------------+----------+---------+---------+---------------+------------------+-----------+--------------------+--------------------+\n",
            "|1979|    1|-124.5625|47.9375| 102.24292|10.942404|274.84088| 19.94993|    277.61047|0.51115257|37.040825| 632.6485|      323.77112| 0.662685622771581| 0.56353873|[1979, 1980, 1981...|[1, 2, 3, 4, 5, 6...|\n",
            "|1979|    2|-124.5625|47.9375| 512.05865|30.025711|277.54193| 19.33631|     277.1021|0.52497137|48.730946| 684.1061|      347.15833|0.7008754355566842| 0.64292705|[1979, 1980, 1981...|[1, 2, 3, 4, 5, 6...|\n",
            "|1979|    3|-124.5625|47.9375|  186.3494|30.520498| 279.1123|18.885754|     278.0162|0.56353873|109.74138| 645.7304|       332.0991|0.7268796861171722| 0.64292705|[1979, 1980, 1981...|[1, 2, 3, 4, 5, 6...|\n",
            "|1979|    4|-124.5625|47.9375|   165.152| 44.90701| 281.1038|  18.5875|    278.68564|0.64292705|136.05423| 630.4567|      319.79108| 0.735827750629849| 0.80741227|[1979, 1980, 1981...|[1, 2, 3, 4, 5, 6...|\n",
            "|1979|    5|-124.5625|47.9375|120.077156|45.125782|284.00424|18.926075|    280.21417|0.81023866|156.17096| 612.5531|       312.0563|0.7231161177158356| 0.64292705|[1979, 1980, 1981...|[1, 2, 3, 4, 5, 6...|\n",
            "|1979|    6|-124.5625|47.9375|  67.76799|30.352905| 285.5606|19.884722|    281.36044|0.92328537|188.08902|587.37286|      297.70544|0.6991562247276306| 0.64292705|[1979, 1980, 1981...|[1, 2, 3, 4, 5, 6...|\n",
            "|1979|    7|-124.5625|47.9375|   69.3766|40.348354|287.00394|21.119623|    282.43982| 0.9300143|190.26703| 590.8648|      298.70416|0.6929176287217573| 0.64292705|[1979, 1980, 1981...|[1, 2, 3, 4, 5, 6...|\n",
            "|1979|    8|-124.5625|47.9375| 23.074396|31.342804|287.15137| 21.70027|    283.31564|0.90890944| 143.5749| 550.9782|      280.39777|0.6915625008669767| 0.64292705|[1979, 1980, 1981...|[1, 2, 3, 4, 5, 6...|\n",
            "|1979|    9|-124.5625|47.9375| 203.09384| 39.83529|286.31638|21.334723|     283.9073|0.80741227|116.28496|615.09424|      309.37668|0.6881033832376654| 0.64292705|[1979, 1980, 1981...|[1, 2, 3, 4, 5, 6...|\n",
            "|1979|   10|-124.5625|47.9375| 261.60184|29.205694|283.13205|20.842741|     283.4075| 0.6087114|  74.9266| 621.2168|      313.57944|0.6810504035516218|  0.6087114|[1979, 1980, 1981...|[1, 2, 3, 4, 5, 6...|\n",
            "|1979|   11|-124.5625|47.9375| 177.28139|15.571599|278.81067|20.686111|    281.52505| 0.4595573|41.144028| 645.6787|      329.19165|0.6662306731397455|  0.6087114|[1979, 1980, 1981...|[1, 2, 3, 4, 5, 6...|\n",
            "|1979|   12|-124.5625|47.9375|   736.245|17.705898| 279.9289|20.392473|    280.25974|  0.442528|25.246765|702.32416|      356.87332|0.6564144004474987|  0.6087114|[1979, 1980, 1981...|[1, 2, 3, 4, 5, 6...|\n",
            "|1980|    1|-124.5625|47.9375| 176.43929|14.859409|275.02353|19.646505|     278.8353|0.51006496|41.884117|647.73376|        333.326|0.6559637622399763|  0.6087114|[1979, 1980, 1981...|[1, 2, 3, 4, 5, 6...|\n",
            "|1980|    2|-124.5625|47.9375|  388.6466|18.379997|278.28738|19.408047|    277.34314|0.52548844|45.960358|665.19183|      338.35565|0.6578530344096097|  0.6087114|[1979, 1980, 1981...|[1, 2, 3, 4, 5, 6...|\n",
            "|1980|    3|-124.5625|47.9375|  282.0054|43.080486| 279.2559| 18.84543|    278.40573| 0.5653443| 90.21548| 667.9642|      341.20154|0.6669134226712313|  0.6087114|[1979, 1980, 1981...|[1, 2, 3, 4, 5, 6...|\n",
            "|1980|    4|-124.5625|47.9375| 212.19626|44.037704|281.62946|18.588888|    279.19897| 0.6472216|145.86139|649.45514|      330.91925|0.6844988465309143|  0.6472216|[1979, 1980, 1981...|[1, 2, 3, 4, 5, 6...|\n",
            "|1980|    5|-124.5625|47.9375|  86.34559| 35.50318|  283.448|18.952957|    280.28546|0.81530637|152.63393| 607.0871|      308.82285|0.6974922039292075|  0.6472216|[1979, 1980, 1981...|[1, 2, 3, 4, 5, 6...|\n",
            "|1980|    6|-124.5625|47.9375|   60.6814|35.617725| 285.5395|19.919445|    281.30295| 0.9250573|154.08344| 592.8586|       301.2766|0.6987910487435081|  0.6472216|[1979, 1980, 1981...|[1, 2, 3, 4, 5, 6...|\n",
            "|1980|    7|-124.5625|47.9375| 94.528694|31.093393|286.83157|21.153225|    282.39975|0.92969143|160.59496|603.16754|      305.83652|0.6927713426676664|  0.6472216|[1979, 1980, 1981...|[1, 2, 3, 4, 5, 6...|\n",
            "|1980|    8|-124.5625|47.9375|  55.11761|32.725693|285.97818|21.698925|    283.12012|0.90707654| 145.2187| 564.6985|      285.82498|0.6913694522597573|  0.6472216|[1979, 1980, 1981...|[1, 2, 3, 4, 5, 6...|\n",
            "+----+-----+---------+-------+----------+---------+---------+---------+-------------+----------+---------+---------+---------------+------------------+-----------+--------------------+--------------------+\n",
            "only showing top 20 rows\n",
            "\n"
          ]
        }
      ]
    },
    {
      "cell_type": "code",
      "source": [
        "test_checked_years = test.withColumn(\"are_years_valid\", size(col(\"AllYears\")) == 45) # sprawdzamy czy dla kazdej pary wspolrzednych w kolumnie allYears mamy wszystkie 45 lat\n",
        "test_checked_months = test.withColumn(\"are_months_valid\", size(col(\"AllMonths\")) == 12) # sprawdzamy czy dla kazdej pary wspolrzednych w kolumnie allMonths mamy wszystkie 12 miesiecy\n",
        "\n",
        "# Sprawdzenie, czy istnieja jakiekolwiek niewlasciwe tablice w kolumnie \"AllYears\" i \"AllMonths\"\n",
        "invalid_years_count = test_checked_years.filter(col(\"are_years_valid\") == False).count()\n",
        "invalid_months_count = test_checked_months.filter(col(\"are_months_valid\") == False).count()"
      ],
      "metadata": {
        "id": "0hQ51Am0JyAL"
      },
      "execution_count": 25,
      "outputs": []
    },
    {
      "cell_type": "code",
      "source": [
        "# sprwadzamy czy wszedzie mamy 45 lat i 12 miesiecy\n",
        "print(invalid_years_count, \"and\", invalid_months_count)"
      ],
      "metadata": {
        "colab": {
          "base_uri": "https://localhost:8080/"
        },
        "id": "HshXeOLtNQ3c",
        "outputId": "07a18a8a-81a2-4e54-ff8d-74230712707e"
      },
      "execution_count": 29,
      "outputs": [
        {
          "output_type": "stream",
          "name": "stdout",
          "text": [
            "0 and 0\n"
          ]
        }
      ]
    }
  ],
  "metadata": {
    "colab": {
      "provenance": []
    },
    "kernelspec": {
      "display_name": "Python 3",
      "name": "python3"
    },
    "language_info": {
      "name": "python"
    }
  },
  "nbformat": 4,
  "nbformat_minor": 0
}