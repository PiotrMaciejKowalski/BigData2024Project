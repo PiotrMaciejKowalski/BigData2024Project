{
  "cells": [
    {
      "cell_type": "markdown",
      "source": [
        "#Pobieranie danych z Wikipedii"
      ],
      "metadata": {
        "id": "GChxpyV20gEe"
      }
    },
    {
      "cell_type": "markdown",
      "source": [
        "Program powstał w celu zaimportowania danych z Polskiej Wikipedii i zapisaniu ich w pliku csv. \\\\\n",
        "Źródło danych: https://dumps.wikimedia.org/plwiki/20231001/ \\\\\n",
        "Z powyższej strony pobrano 7 plików w formacie XML (siedem, a nie jeden, bo colab nie był w stanie go przetworzyć) w formacie bz2. Pliki zostały rozpakowane i wrzucone na Google Driva i kolejno przetwarzane zgodnie z poniższym kodem. \\\\\n",
        "Poniższe kody dotyczą przetworzenia pierwszego z siedmiu plików. Kolene pliki przetworzoneo analogicznie."
      ],
      "metadata": {
        "id": "PwjXCKmh00il"
      }
    },
    {
      "cell_type": "markdown",
      "metadata": {
        "id": "LYl0DMHj5Vgp"
      },
      "source": [
        "Import bibliotek"
      ]
    },
    {
      "cell_type": "code",
      "execution_count": 1,
      "metadata": {
        "id": "uxzvvq765PI_"
      },
      "outputs": [],
      "source": [
        "import xml.dom.pulldom as pull\n",
        "import xml.etree.ElementTree as ET\n",
        "import re\n",
        "import pandas as pd\n",
        "import time"
      ]
    },
    {
      "cell_type": "markdown",
      "metadata": {
        "id": "s1qU1zJ45b7o"
      },
      "source": [
        "Łączenie z dyskiem"
      ]
    },
    {
      "cell_type": "code",
      "execution_count": 2,
      "metadata": {
        "colab": {
          "base_uri": "https://localhost:8080/"
        },
        "id": "B3Zqvkhh5aOR",
        "outputId": "c438bbb2-6054-4e3f-bb31-f568763f3a36"
      },
      "outputs": [
        {
          "output_type": "stream",
          "name": "stdout",
          "text": [
            "Drive already mounted at /content/drive; to attempt to forcibly remount, call drive.mount(\"/content/drive\", force_remount=True).\n"
          ]
        }
      ],
      "source": [
        "from google.colab import drive\n",
        "drive.mount('/content/drive')"
      ]
    },
    {
      "cell_type": "markdown",
      "metadata": {
        "id": "pptqnhpA5p4O"
      },
      "source": [
        "Ścieżka do pliku"
      ]
    },
    {
      "cell_type": "code",
      "execution_count": 3,
      "metadata": {
        "id": "aUHMtzKm5rpc"
      },
      "outputs": [],
      "source": [
        "file_path = '/content/drive/MyDrive/Colab Notebooks/Analiza BIG DATA/Wikipedia/PLwiki_czesci/plwiki-20231001-pages-articles-multistream1.xml-p1p187037'"
      ]
    },
    {
      "cell_type": "markdown",
      "metadata": {
        "id": "QpsqwEFG8y0a"
      },
      "source": [
        "Definiowanie funkcji"
      ]
    },
    {
      "cell_type": "code",
      "execution_count": null,
      "metadata": {
        "id": "zXUE_Xmv80pj"
      },
      "outputs": [],
      "source": [
        "def extract_text_value(text: str) -> str:\n",
        "    return ET.fromstring(text).text\n",
        "\n",
        "pattern = r\"(?s)(?:''')(.*?)(?:''')(.*?)(==.*)\"\n",
        "matcher = re.compile(pattern)\n",
        "\n",
        "def extract_1st_acapit(text: str) -> str:\n",
        "    try :\n",
        "        return matcher.search(text).groups()[:2]\n",
        "    except:\n",
        "        return None, None\n",
        "\n",
        "\n",
        "def process_counter_generator():\n",
        "\n",
        "    last = time.time() #liczba sekund od 1 stycznia 1970 roku\n",
        "    i = 0\n",
        "\n",
        "    def process_counter():\n",
        "        nonlocal i, last\n",
        "        i += 1\n",
        "        if i % 250 ==0:\n",
        "            current = time.time()\n",
        "            print(f'Processed {i} texts {current - last}')\n",
        "            last = current\n",
        "\n",
        "    return process_counter\n",
        "\n",
        "def saver_generator(filepath, count):\n",
        "\n",
        "    counter = 0\n",
        "\n",
        "    def saver(dataset : dict):\n",
        "        nonlocal counter\n",
        "        counter += 1\n",
        "        if counter % count == 0:\n",
        "            df = pd.DataFrame.from_dict(dataset, orient='index',dtype=object)\n",
        "            df.to_pickle(f'{filepath}_{counter}.pk')\n",
        "            print(f'Saved after {counter} processed')\n",
        "\n",
        "    return saver"
      ]
    },
    {
      "cell_type": "markdown",
      "metadata": {
        "id": "ym2n1hlw5qwK"
      },
      "source": [
        "Odczytanie pliku XML"
      ]
    },
    {
      "cell_type": "code",
      "execution_count": null,
      "metadata": {
        "id": "e2dqG3rZ589j"
      },
      "outputs": [],
      "source": [
        "full_doc = pull.parse(file_path) #zwraca obiekt DOMEventStream\n",
        "#This function will change the document handler of the parser and activate namespace support;"
      ]
    },
    {
      "cell_type": "code",
      "execution_count": null,
      "metadata": {
        "colab": {
          "base_uri": "https://localhost:8080/"
        },
        "id": "nuFUD-ys8df7",
        "outputId": "39c2af73-c847-4b5d-d0df-e117a3cc67eb"
      },
      "outputs": [
        {
          "output_type": "execute_result",
          "data": {
            "text/plain": [
              "xml.dom.pulldom.DOMEventStream"
            ]
          },
          "metadata": {},
          "execution_count": 6
        }
      ],
      "source": [
        "type(full_doc)"
      ]
    },
    {
      "cell_type": "code",
      "execution_count": null,
      "metadata": {
        "id": "5HnmB3XZ9Xwv"
      },
      "outputs": [],
      "source": [
        "pc = process_counter_generator()"
      ]
    },
    {
      "cell_type": "markdown",
      "source": [
        "Zrezygnowano z zapisu plików w formacie pickle. Format pickle zapisuje Dataframe jako strumień bajtów."
      ],
      "metadata": {
        "id": "ea2Ikabd7gqN"
      }
    },
    {
      "cell_type": "code",
      "execution_count": null,
      "metadata": {
        "id": "HKIbGhN79jwX"
      },
      "outputs": [],
      "source": [
        "#sv = saver_generator('/content/drive/MyDrive/Colab Notebooks/Analiza BIG DATA/Wikipedia/plwiki/PLwiki', 250000)"
      ]
    },
    {
      "cell_type": "code",
      "execution_count": null,
      "metadata": {
        "id": "XrWU713NAAtb"
      },
      "outputs": [],
      "source": [
        "dataset = {}"
      ]
    },
    {
      "cell_type": "markdown",
      "source": [
        "Przetwarzanie pliku"
      ],
      "metadata": {
        "id": "puGpBPGF7p1O"
      }
    },
    {
      "cell_type": "code",
      "execution_count": null,
      "metadata": {
        "id": "pFnnwCZpADo1"
      },
      "outputs": [],
      "source": [
        "for event, node in full_doc:\n",
        "    if event == pull.START_ELEMENT and node.tagName == 'title':\n",
        "        full_doc.expandNode(node)\n",
        "        title = extract_text_value(node.toxml())\n",
        "    if event == pull.START_ELEMENT and node.tagName == 'text':\n",
        "        full_doc.expandNode(node)\n",
        "        page = extract_text_value(node.toxml())\n",
        "        dataset[title] = page\n",
        "        pc()\n",
        "        #sv(dataset)"
      ]
    },
    {
      "cell_type": "markdown",
      "source": [
        "Tworzenie dataframu"
      ],
      "metadata": {
        "id": "4bBxLeiB7zFu"
      }
    },
    {
      "cell_type": "code",
      "execution_count": null,
      "metadata": {
        "id": "eJrjBNq56JqM"
      },
      "outputs": [],
      "source": [
        "print(f'Length of dataset {len(dataset)}')\n",
        "df = pd.DataFrame.from_dict(dataset, orient='index',dtype=object)\n",
        "print(df.head())\n",
        "#df.to_pickle('/content/drive/MyDrive/Colab Notebooks/Analiza BIG DATA/Wikipedia/plwiki/PLwiki_all.pk')"
      ]
    },
    {
      "cell_type": "markdown",
      "metadata": {
        "id": "rdrohLpqLApc"
      },
      "source": [
        "Eksport danych do pliku csv"
      ]
    },
    {
      "cell_type": "code",
      "execution_count": null,
      "metadata": {
        "id": "i0JmMoOgMGJF"
      },
      "outputs": [],
      "source": [
        "df.to_csv('/content/drive/MyDrive/Colab Notebooks/Analiza BIG DATA/Wikipedia/PLwiki_czesci/PLwiki_1.csv')"
      ]
    },
    {
      "cell_type": "markdown",
      "metadata": {
        "id": "o2czx8-jouFe"
      },
      "source": [
        "Tym samym kodem przetworzyłem 7 plików i utworzyłem 7 plików csv."
      ]
    },
    {
      "cell_type": "markdown",
      "metadata": {
        "id": "WCRNNq31pbOw"
      },
      "source": [
        "#Łączenie plików CSV"
      ]
    },
    {
      "cell_type": "markdown",
      "source": [
        "Z powodu dużego rozmiaru plików ich połącznie wykonano na komputerze osobistym. Fragmenty użytych poleceń znajdziemy niżej."
      ],
      "metadata": {
        "id": "YLne-IVa8HhO"
      }
    },
    {
      "cell_type": "markdown",
      "source": [
        "Rozmiary plików:"
      ],
      "metadata": {
        "id": "1F_jJ4CX8ftv"
      }
    },
    {
      "cell_type": "markdown",
      "source": [
        "\n",
        "\n",
        "```\n",
        "7. 872,9 MB\n",
        "6. 1,89 GB\n",
        "5. 2,19 GB\n",
        "4. 1,28 GB\n",
        "3. 970,8 MB\n",
        "2. 789,1 MB\n",
        "1. 696,5 MB\n",
        "```\n",
        "\n",
        "\n"
      ],
      "metadata": {
        "id": "nPz2IBTDvR3B"
      }
    },
    {
      "cell_type": "code",
      "source": [
        "import pandas as pd\n",
        "\n",
        "df1 = pd.read_csv('D:/Analiza BIG DATA/Zadanie_wikipedia/csv/Laczenie/PLwiki_1.csv')\n",
        "df2 = pd.read_csv('D:/Analiza BIG DATA/Zadanie_wikipedia/csv/Laczenie/PLwiki_2.csv')\n",
        "frames = [df1, df2]\n",
        "result = pd.concat(frames)\n",
        "\n",
        "result.to_csv('D:/Analiza BIG DATA/Zadanie_wikipedia/csv/Laczenie/PLwiki_1_2.csv')"
      ],
      "metadata": {
        "id": "CQCsKHZJ8v0O"
      },
      "execution_count": null,
      "outputs": []
    },
    {
      "cell_type": "markdown",
      "source": [
        "Finalny plik csv na dysku:https://drive.google.com/drive/folders/1BOLoAhgkEwRROaTHjCInhxWYAsXVQZtP?usp=share_link\n",
        "Dodano również plik PLwiki_1, bo dużo mniejszy."
      ],
      "metadata": {
        "id": "YqfcmPPr9C9-"
      }
    }
  ],
  "metadata": {
    "colab": {
      "provenance": []
    },
    "kernelspec": {
      "display_name": "Python 3",
      "name": "python3"
    },
    "language_info": {
      "name": "python"
    }
  },
  "nbformat": 4,
  "nbformat_minor": 0
}